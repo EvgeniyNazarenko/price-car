{
 "cells": [
  {
   "cell_type": "markdown",
   "metadata": {},
   "source": [
    "# Определение стоимости автомобилей"
   ]
  },
  {
   "cell_type": "markdown",
   "metadata": {},
   "source": [
    "Сервис по продаже автомобилей с пробегом «Не бит, не крашен» разрабатывает приложение для привлечения новых клиентов. В нём можно быстро узнать рыночную стоимость своего автомобиля. В вашем распоряжении исторические данные: технические характеристики, комплектации и цены автомобилей. Вам нужно построить модель для определения стоимости. \n",
    "\n",
    "Заказчику важны:\n",
    "\n",
    "- качество предсказания;\n",
    "- скорость предсказания;\n",
    "- время обучения.\n",
    "\n",
    "Для оценки качества моделей применяйте метрику RMSE.\n",
    "Значение метрики RMSE должно быть меньше 2500.\n",
    "\n",
    "В нашем распоряжении следущие признаки:\n",
    "\n",
    "DateCrawled — дата скачивания анкеты из базы\n",
    "\n",
    "VehicleType — тип автомобильного кузова\n",
    "\n",
    "RegistrationYear — год регистрации автомобиля\n",
    "\n",
    "Gearbox — тип коробки передач\n",
    "\n",
    "Power — мощность (л. с.)\n",
    "\n",
    "Model — модель автомобиля\n",
    "\n",
    "Kilometer — пробег (км)\n",
    "\n",
    "RegistrationMonth — месяц регистрации автомобиля\n",
    "\n",
    "FuelType — тип топлива\n",
    "\n",
    "Brand — марка автомобиля\n",
    "\n",
    "Repaired — была машина в ремонте или нет\n",
    "\n",
    "DateCreated — дата создания анкеты\n",
    "\n",
    "NumberOfPictures — количество фотографий автомобиля\n",
    "\n",
    "PostalCode — почтовый индекс владельца анкеты (пользователя)\n",
    "\n",
    "LastSeen — дата последней активности пользователя"
   ]
  },
  {
   "cell_type": "markdown",
   "metadata": {},
   "source": [
    "## Подготовка данных"
   ]
  },
  {
   "cell_type": "markdown",
   "metadata": {},
   "source": [
    "### Загрузка данных."
   ]
  },
  {
   "cell_type": "code",
   "execution_count": 1,
   "metadata": {},
   "outputs": [
    {
     "name": "stdout",
     "output_type": "stream",
     "text": [
      "Requirement already satisfied: optuna in /opt/conda/lib/python3.9/site-packages (3.2.0)\n",
      "Requirement already satisfied: alembic>=1.5.0 in /opt/conda/lib/python3.9/site-packages (from optuna) (1.6.5)\n",
      "Requirement already satisfied: sqlalchemy>=1.3.0 in /opt/conda/lib/python3.9/site-packages (from optuna) (1.4.20)\n",
      "Requirement already satisfied: tqdm in /opt/conda/lib/python3.9/site-packages (from optuna) (4.61.2)\n",
      "Requirement already satisfied: packaging>=20.0 in /opt/conda/lib/python3.9/site-packages (from optuna) (21.3)\n",
      "Requirement already satisfied: PyYAML in /opt/conda/lib/python3.9/site-packages (from optuna) (6.0)\n",
      "Requirement already satisfied: colorlog in /opt/conda/lib/python3.9/site-packages (from optuna) (6.7.0)\n",
      "Requirement already satisfied: numpy in /opt/conda/lib/python3.9/site-packages (from optuna) (1.21.1)\n",
      "Requirement already satisfied: cmaes>=0.9.1 in /opt/conda/lib/python3.9/site-packages (from optuna) (0.9.1)\n",
      "Requirement already satisfied: Mako in /opt/conda/lib/python3.9/site-packages (from alembic>=1.5.0->optuna) (1.1.4)\n",
      "Requirement already satisfied: python-editor>=0.3 in /opt/conda/lib/python3.9/site-packages (from alembic>=1.5.0->optuna) (1.0.4)\n",
      "Requirement already satisfied: python-dateutil in /opt/conda/lib/python3.9/site-packages (from alembic>=1.5.0->optuna) (2.8.1)\n",
      "Requirement already satisfied: pyparsing!=3.0.5,>=2.0.2 in /opt/conda/lib/python3.9/site-packages (from packaging>=20.0->optuna) (2.4.7)\n",
      "Requirement already satisfied: greenlet!=0.4.17 in /opt/conda/lib/python3.9/site-packages (from sqlalchemy>=1.3.0->optuna) (1.1.0)\n",
      "Requirement already satisfied: MarkupSafe>=0.9.2 in /opt/conda/lib/python3.9/site-packages (from Mako->alembic>=1.5.0->optuna) (2.1.1)\n",
      "Requirement already satisfied: six>=1.5 in /opt/conda/lib/python3.9/site-packages (from python-dateutil->alembic>=1.5.0->optuna) (1.16.0)\n"
     ]
    }
   ],
   "source": [
    "import pandas as pd\n",
    "import matplotlib.pyplot as plt\n",
    "import time\n",
    "from sklearn.preprocessing import OrdinalEncoder \n",
    "from sklearn.model_selection import RandomizedSearchCV\n",
    "from sklearn.metrics import mean_squared_error as mse \n",
    "from sklearn.model_selection import train_test_split\n",
    "from sklearn.preprocessing import StandardScaler\n",
    "from catboost import CatBoostRegressor \n",
    "from lightgbm import LGBMRegressor\n",
    "import lightgbm as lgb\n",
    "from sklearn.linear_model import LinearRegression\n",
    "from sklearn.compose import ColumnTransformer\n",
    "from sklearn.pipeline import  make_pipeline\n",
    "from sklearn.ensemble import RandomForestRegressor\n",
    "!pip install optuna\n",
    "import optuna\n",
    "import warnings\n",
    "warnings.filterwarnings(\"ignore\")\n"
   ]
  },
  {
   "cell_type": "code",
   "execution_count": 2,
   "metadata": {},
   "outputs": [
    {
     "name": "stdout",
     "output_type": "stream",
     "text": [
      "<class 'pandas.core.frame.DataFrame'>\n",
      "RangeIndex: 354369 entries, 0 to 354368\n",
      "Data columns (total 16 columns):\n",
      " #   Column             Non-Null Count   Dtype \n",
      "---  ------             --------------   ----- \n",
      " 0   DateCrawled        354369 non-null  object\n",
      " 1   Price              354369 non-null  int64 \n",
      " 2   VehicleType        316879 non-null  object\n",
      " 3   RegistrationYear   354369 non-null  int64 \n",
      " 4   Gearbox            334536 non-null  object\n",
      " 5   Power              354369 non-null  int64 \n",
      " 6   Model              334664 non-null  object\n",
      " 7   Kilometer          354369 non-null  int64 \n",
      " 8   RegistrationMonth  354369 non-null  int64 \n",
      " 9   FuelType           321474 non-null  object\n",
      " 10  Brand              354369 non-null  object\n",
      " 11  Repaired           283215 non-null  object\n",
      " 12  DateCreated        354369 non-null  object\n",
      " 13  NumberOfPictures   354369 non-null  int64 \n",
      " 14  PostalCode         354369 non-null  int64 \n",
      " 15  LastSeen           354369 non-null  object\n",
      "dtypes: int64(7), object(9)\n",
      "memory usage: 43.3+ MB\n",
      "None\n"
     ]
    },
    {
     "data": {
      "text/html": [
       "<div>\n",
       "<style scoped>\n",
       "    .dataframe tbody tr th:only-of-type {\n",
       "        vertical-align: middle;\n",
       "    }\n",
       "\n",
       "    .dataframe tbody tr th {\n",
       "        vertical-align: top;\n",
       "    }\n",
       "\n",
       "    .dataframe thead th {\n",
       "        text-align: right;\n",
       "    }\n",
       "</style>\n",
       "<table border=\"1\" class=\"dataframe\">\n",
       "  <thead>\n",
       "    <tr style=\"text-align: right;\">\n",
       "      <th></th>\n",
       "      <th>DateCrawled</th>\n",
       "      <th>Price</th>\n",
       "      <th>VehicleType</th>\n",
       "      <th>RegistrationYear</th>\n",
       "      <th>Gearbox</th>\n",
       "      <th>Power</th>\n",
       "      <th>Model</th>\n",
       "      <th>Kilometer</th>\n",
       "      <th>RegistrationMonth</th>\n",
       "      <th>FuelType</th>\n",
       "      <th>Brand</th>\n",
       "      <th>Repaired</th>\n",
       "      <th>DateCreated</th>\n",
       "      <th>NumberOfPictures</th>\n",
       "      <th>PostalCode</th>\n",
       "      <th>LastSeen</th>\n",
       "    </tr>\n",
       "  </thead>\n",
       "  <tbody>\n",
       "    <tr>\n",
       "      <th>0</th>\n",
       "      <td>2016-03-24 11:52:17</td>\n",
       "      <td>480</td>\n",
       "      <td>NaN</td>\n",
       "      <td>1993</td>\n",
       "      <td>manual</td>\n",
       "      <td>0</td>\n",
       "      <td>golf</td>\n",
       "      <td>150000</td>\n",
       "      <td>0</td>\n",
       "      <td>petrol</td>\n",
       "      <td>volkswagen</td>\n",
       "      <td>NaN</td>\n",
       "      <td>2016-03-24 00:00:00</td>\n",
       "      <td>0</td>\n",
       "      <td>70435</td>\n",
       "      <td>2016-04-07 03:16:57</td>\n",
       "    </tr>\n",
       "    <tr>\n",
       "      <th>1</th>\n",
       "      <td>2016-03-24 10:58:45</td>\n",
       "      <td>18300</td>\n",
       "      <td>coupe</td>\n",
       "      <td>2011</td>\n",
       "      <td>manual</td>\n",
       "      <td>190</td>\n",
       "      <td>NaN</td>\n",
       "      <td>125000</td>\n",
       "      <td>5</td>\n",
       "      <td>gasoline</td>\n",
       "      <td>audi</td>\n",
       "      <td>yes</td>\n",
       "      <td>2016-03-24 00:00:00</td>\n",
       "      <td>0</td>\n",
       "      <td>66954</td>\n",
       "      <td>2016-04-07 01:46:50</td>\n",
       "    </tr>\n",
       "    <tr>\n",
       "      <th>2</th>\n",
       "      <td>2016-03-14 12:52:21</td>\n",
       "      <td>9800</td>\n",
       "      <td>suv</td>\n",
       "      <td>2004</td>\n",
       "      <td>auto</td>\n",
       "      <td>163</td>\n",
       "      <td>grand</td>\n",
       "      <td>125000</td>\n",
       "      <td>8</td>\n",
       "      <td>gasoline</td>\n",
       "      <td>jeep</td>\n",
       "      <td>NaN</td>\n",
       "      <td>2016-03-14 00:00:00</td>\n",
       "      <td>0</td>\n",
       "      <td>90480</td>\n",
       "      <td>2016-04-05 12:47:46</td>\n",
       "    </tr>\n",
       "  </tbody>\n",
       "</table>\n",
       "</div>"
      ],
      "text/plain": [
       "           DateCrawled  Price VehicleType  RegistrationYear Gearbox  Power  \\\n",
       "0  2016-03-24 11:52:17    480         NaN              1993  manual      0   \n",
       "1  2016-03-24 10:58:45  18300       coupe              2011  manual    190   \n",
       "2  2016-03-14 12:52:21   9800         suv              2004    auto    163   \n",
       "\n",
       "   Model  Kilometer  RegistrationMonth  FuelType       Brand Repaired  \\\n",
       "0   golf     150000                  0    petrol  volkswagen      NaN   \n",
       "1    NaN     125000                  5  gasoline        audi      yes   \n",
       "2  grand     125000                  8  gasoline        jeep      NaN   \n",
       "\n",
       "           DateCreated  NumberOfPictures  PostalCode             LastSeen  \n",
       "0  2016-03-24 00:00:00                 0       70435  2016-04-07 03:16:57  \n",
       "1  2016-03-24 00:00:00                 0       66954  2016-04-07 01:46:50  \n",
       "2  2016-03-14 00:00:00                 0       90480  2016-04-05 12:47:46  "
      ]
     },
     "execution_count": 2,
     "metadata": {},
     "output_type": "execute_result"
    }
   ],
   "source": [
    "#Загрузим данные\n",
    "data=pd.read_csv('/datasets/autos.csv')\n",
    "print(data.info())\n",
    "data.head(3)"
   ]
  },
  {
   "cell_type": "code",
   "execution_count": 3,
   "metadata": {},
   "outputs": [
    {
     "data": {
      "text/html": [
       "<div>\n",
       "<style scoped>\n",
       "    .dataframe tbody tr th:only-of-type {\n",
       "        vertical-align: middle;\n",
       "    }\n",
       "\n",
       "    .dataframe tbody tr th {\n",
       "        vertical-align: top;\n",
       "    }\n",
       "\n",
       "    .dataframe thead th {\n",
       "        text-align: right;\n",
       "    }\n",
       "</style>\n",
       "<table border=\"1\" class=\"dataframe\">\n",
       "  <thead>\n",
       "    <tr style=\"text-align: right;\">\n",
       "      <th></th>\n",
       "      <th>datecrawled</th>\n",
       "      <th>price</th>\n",
       "      <th>vehicletype</th>\n",
       "      <th>registrationyear</th>\n",
       "      <th>gearbox</th>\n",
       "      <th>power</th>\n",
       "      <th>model</th>\n",
       "      <th>kilometer</th>\n",
       "      <th>registrationmonth</th>\n",
       "      <th>fueltype</th>\n",
       "      <th>brand</th>\n",
       "      <th>repaired</th>\n",
       "      <th>datecreated</th>\n",
       "      <th>numberofpictures</th>\n",
       "      <th>postalcode</th>\n",
       "      <th>lastseen</th>\n",
       "    </tr>\n",
       "  </thead>\n",
       "  <tbody>\n",
       "    <tr>\n",
       "      <th>0</th>\n",
       "      <td>2016-03-24 11:52:17</td>\n",
       "      <td>480</td>\n",
       "      <td>NaN</td>\n",
       "      <td>1993</td>\n",
       "      <td>manual</td>\n",
       "      <td>0</td>\n",
       "      <td>golf</td>\n",
       "      <td>150000</td>\n",
       "      <td>0</td>\n",
       "      <td>petrol</td>\n",
       "      <td>volkswagen</td>\n",
       "      <td>NaN</td>\n",
       "      <td>2016-03-24 00:00:00</td>\n",
       "      <td>0</td>\n",
       "      <td>70435</td>\n",
       "      <td>2016-04-07 03:16:57</td>\n",
       "    </tr>\n",
       "  </tbody>\n",
       "</table>\n",
       "</div>"
      ],
      "text/plain": [
       "           datecrawled  price vehicletype  registrationyear gearbox  power  \\\n",
       "0  2016-03-24 11:52:17    480         NaN              1993  manual      0   \n",
       "\n",
       "  model  kilometer  registrationmonth fueltype       brand repaired  \\\n",
       "0  golf     150000                  0   petrol  volkswagen      NaN   \n",
       "\n",
       "           datecreated  numberofpictures  postalcode             lastseen  \n",
       "0  2016-03-24 00:00:00                 0       70435  2016-04-07 03:16:57  "
      ]
     },
     "execution_count": 3,
     "metadata": {},
     "output_type": "execute_result"
    }
   ],
   "source": [
    "# Приведем название столбцов к нижнему регистру.\n",
    "data.rename(columns=lambda x:x.lower(),inplace = True )\n",
    "data.head(1)"
   ]
  },
  {
   "cell_type": "markdown",
   "metadata": {},
   "source": [
    "### Работа с дубликатами и пропусками"
   ]
  },
  {
   "cell_type": "code",
   "execution_count": 4,
   "metadata": {},
   "outputs": [
    {
     "name": "stdout",
     "output_type": "stream",
     "text": [
      "4\n"
     ]
    }
   ],
   "source": [
    "#Проверим на количество дубликатов\n",
    "print(data.duplicated().sum())"
   ]
  },
  {
   "cell_type": "code",
   "execution_count": 5,
   "metadata": {},
   "outputs": [
    {
     "data": {
      "text/html": [
       "<div>\n",
       "<style scoped>\n",
       "    .dataframe tbody tr th:only-of-type {\n",
       "        vertical-align: middle;\n",
       "    }\n",
       "\n",
       "    .dataframe tbody tr th {\n",
       "        vertical-align: top;\n",
       "    }\n",
       "\n",
       "    .dataframe thead th {\n",
       "        text-align: right;\n",
       "    }\n",
       "</style>\n",
       "<table border=\"1\" class=\"dataframe\">\n",
       "  <thead>\n",
       "    <tr style=\"text-align: right;\">\n",
       "      <th></th>\n",
       "      <th>datecrawled</th>\n",
       "      <th>price</th>\n",
       "      <th>vehicletype</th>\n",
       "      <th>registrationyear</th>\n",
       "      <th>gearbox</th>\n",
       "      <th>power</th>\n",
       "      <th>model</th>\n",
       "      <th>kilometer</th>\n",
       "      <th>registrationmonth</th>\n",
       "      <th>fueltype</th>\n",
       "      <th>brand</th>\n",
       "      <th>repaired</th>\n",
       "      <th>datecreated</th>\n",
       "      <th>numberofpictures</th>\n",
       "      <th>postalcode</th>\n",
       "      <th>lastseen</th>\n",
       "    </tr>\n",
       "  </thead>\n",
       "  <tbody>\n",
       "    <tr>\n",
       "      <th>0</th>\n",
       "      <td>2016-03-24 11:52:17</td>\n",
       "      <td>480</td>\n",
       "      <td>NaN</td>\n",
       "      <td>1993</td>\n",
       "      <td>manual</td>\n",
       "      <td>0</td>\n",
       "      <td>golf</td>\n",
       "      <td>150000</td>\n",
       "      <td>0</td>\n",
       "      <td>petrol</td>\n",
       "      <td>volkswagen</td>\n",
       "      <td>NaN</td>\n",
       "      <td>2016-03-24 00:00:00</td>\n",
       "      <td>0</td>\n",
       "      <td>70435</td>\n",
       "      <td>2016-04-07 03:16:57</td>\n",
       "    </tr>\n",
       "    <tr>\n",
       "      <th>1</th>\n",
       "      <td>2016-03-24 10:58:45</td>\n",
       "      <td>18300</td>\n",
       "      <td>coupe</td>\n",
       "      <td>2011</td>\n",
       "      <td>manual</td>\n",
       "      <td>190</td>\n",
       "      <td>NaN</td>\n",
       "      <td>125000</td>\n",
       "      <td>5</td>\n",
       "      <td>gasoline</td>\n",
       "      <td>audi</td>\n",
       "      <td>yes</td>\n",
       "      <td>2016-03-24 00:00:00</td>\n",
       "      <td>0</td>\n",
       "      <td>66954</td>\n",
       "      <td>2016-04-07 01:46:50</td>\n",
       "    </tr>\n",
       "    <tr>\n",
       "      <th>2</th>\n",
       "      <td>2016-03-14 12:52:21</td>\n",
       "      <td>9800</td>\n",
       "      <td>suv</td>\n",
       "      <td>2004</td>\n",
       "      <td>auto</td>\n",
       "      <td>163</td>\n",
       "      <td>grand</td>\n",
       "      <td>125000</td>\n",
       "      <td>8</td>\n",
       "      <td>gasoline</td>\n",
       "      <td>jeep</td>\n",
       "      <td>NaN</td>\n",
       "      <td>2016-03-14 00:00:00</td>\n",
       "      <td>0</td>\n",
       "      <td>90480</td>\n",
       "      <td>2016-04-05 12:47:46</td>\n",
       "    </tr>\n",
       "    <tr>\n",
       "      <th>3</th>\n",
       "      <td>2016-03-17 16:54:04</td>\n",
       "      <td>1500</td>\n",
       "      <td>small</td>\n",
       "      <td>2001</td>\n",
       "      <td>manual</td>\n",
       "      <td>75</td>\n",
       "      <td>golf</td>\n",
       "      <td>150000</td>\n",
       "      <td>6</td>\n",
       "      <td>petrol</td>\n",
       "      <td>volkswagen</td>\n",
       "      <td>no</td>\n",
       "      <td>2016-03-17 00:00:00</td>\n",
       "      <td>0</td>\n",
       "      <td>91074</td>\n",
       "      <td>2016-03-17 17:40:17</td>\n",
       "    </tr>\n",
       "    <tr>\n",
       "      <th>4</th>\n",
       "      <td>2016-03-31 17:25:20</td>\n",
       "      <td>3600</td>\n",
       "      <td>small</td>\n",
       "      <td>2008</td>\n",
       "      <td>manual</td>\n",
       "      <td>69</td>\n",
       "      <td>fabia</td>\n",
       "      <td>90000</td>\n",
       "      <td>7</td>\n",
       "      <td>gasoline</td>\n",
       "      <td>skoda</td>\n",
       "      <td>no</td>\n",
       "      <td>2016-03-31 00:00:00</td>\n",
       "      <td>0</td>\n",
       "      <td>60437</td>\n",
       "      <td>2016-04-06 10:17:21</td>\n",
       "    </tr>\n",
       "    <tr>\n",
       "      <th>...</th>\n",
       "      <td>...</td>\n",
       "      <td>...</td>\n",
       "      <td>...</td>\n",
       "      <td>...</td>\n",
       "      <td>...</td>\n",
       "      <td>...</td>\n",
       "      <td>...</td>\n",
       "      <td>...</td>\n",
       "      <td>...</td>\n",
       "      <td>...</td>\n",
       "      <td>...</td>\n",
       "      <td>...</td>\n",
       "      <td>...</td>\n",
       "      <td>...</td>\n",
       "      <td>...</td>\n",
       "      <td>...</td>\n",
       "    </tr>\n",
       "    <tr>\n",
       "      <th>354364</th>\n",
       "      <td>2016-03-21 09:50:58</td>\n",
       "      <td>0</td>\n",
       "      <td>NaN</td>\n",
       "      <td>2005</td>\n",
       "      <td>manual</td>\n",
       "      <td>0</td>\n",
       "      <td>colt</td>\n",
       "      <td>150000</td>\n",
       "      <td>7</td>\n",
       "      <td>petrol</td>\n",
       "      <td>mitsubishi</td>\n",
       "      <td>yes</td>\n",
       "      <td>2016-03-21 00:00:00</td>\n",
       "      <td>0</td>\n",
       "      <td>2694</td>\n",
       "      <td>2016-03-21 10:42:49</td>\n",
       "    </tr>\n",
       "    <tr>\n",
       "      <th>354365</th>\n",
       "      <td>2016-03-14 17:48:27</td>\n",
       "      <td>2200</td>\n",
       "      <td>NaN</td>\n",
       "      <td>2005</td>\n",
       "      <td>NaN</td>\n",
       "      <td>0</td>\n",
       "      <td>NaN</td>\n",
       "      <td>20000</td>\n",
       "      <td>1</td>\n",
       "      <td>NaN</td>\n",
       "      <td>sonstige_autos</td>\n",
       "      <td>NaN</td>\n",
       "      <td>2016-03-14 00:00:00</td>\n",
       "      <td>0</td>\n",
       "      <td>39576</td>\n",
       "      <td>2016-04-06 00:46:52</td>\n",
       "    </tr>\n",
       "    <tr>\n",
       "      <th>354366</th>\n",
       "      <td>2016-03-05 19:56:21</td>\n",
       "      <td>1199</td>\n",
       "      <td>convertible</td>\n",
       "      <td>2000</td>\n",
       "      <td>auto</td>\n",
       "      <td>101</td>\n",
       "      <td>fortwo</td>\n",
       "      <td>125000</td>\n",
       "      <td>3</td>\n",
       "      <td>petrol</td>\n",
       "      <td>smart</td>\n",
       "      <td>no</td>\n",
       "      <td>2016-03-05 00:00:00</td>\n",
       "      <td>0</td>\n",
       "      <td>26135</td>\n",
       "      <td>2016-03-11 18:17:12</td>\n",
       "    </tr>\n",
       "    <tr>\n",
       "      <th>354367</th>\n",
       "      <td>2016-03-19 18:57:12</td>\n",
       "      <td>9200</td>\n",
       "      <td>bus</td>\n",
       "      <td>1996</td>\n",
       "      <td>manual</td>\n",
       "      <td>102</td>\n",
       "      <td>transporter</td>\n",
       "      <td>150000</td>\n",
       "      <td>3</td>\n",
       "      <td>gasoline</td>\n",
       "      <td>volkswagen</td>\n",
       "      <td>no</td>\n",
       "      <td>2016-03-19 00:00:00</td>\n",
       "      <td>0</td>\n",
       "      <td>87439</td>\n",
       "      <td>2016-04-07 07:15:26</td>\n",
       "    </tr>\n",
       "    <tr>\n",
       "      <th>354368</th>\n",
       "      <td>2016-03-20 19:41:08</td>\n",
       "      <td>3400</td>\n",
       "      <td>wagon</td>\n",
       "      <td>2002</td>\n",
       "      <td>manual</td>\n",
       "      <td>100</td>\n",
       "      <td>golf</td>\n",
       "      <td>150000</td>\n",
       "      <td>6</td>\n",
       "      <td>gasoline</td>\n",
       "      <td>volkswagen</td>\n",
       "      <td>NaN</td>\n",
       "      <td>2016-03-20 00:00:00</td>\n",
       "      <td>0</td>\n",
       "      <td>40764</td>\n",
       "      <td>2016-03-24 12:45:21</td>\n",
       "    </tr>\n",
       "  </tbody>\n",
       "</table>\n",
       "<p>354365 rows × 16 columns</p>\n",
       "</div>"
      ],
      "text/plain": [
       "                datecrawled  price  vehicletype  registrationyear gearbox  \\\n",
       "0       2016-03-24 11:52:17    480          NaN              1993  manual   \n",
       "1       2016-03-24 10:58:45  18300        coupe              2011  manual   \n",
       "2       2016-03-14 12:52:21   9800          suv              2004    auto   \n",
       "3       2016-03-17 16:54:04   1500        small              2001  manual   \n",
       "4       2016-03-31 17:25:20   3600        small              2008  manual   \n",
       "...                     ...    ...          ...               ...     ...   \n",
       "354364  2016-03-21 09:50:58      0          NaN              2005  manual   \n",
       "354365  2016-03-14 17:48:27   2200          NaN              2005     NaN   \n",
       "354366  2016-03-05 19:56:21   1199  convertible              2000    auto   \n",
       "354367  2016-03-19 18:57:12   9200          bus              1996  manual   \n",
       "354368  2016-03-20 19:41:08   3400        wagon              2002  manual   \n",
       "\n",
       "        power        model  kilometer  registrationmonth  fueltype  \\\n",
       "0           0         golf     150000                  0    petrol   \n",
       "1         190          NaN     125000                  5  gasoline   \n",
       "2         163        grand     125000                  8  gasoline   \n",
       "3          75         golf     150000                  6    petrol   \n",
       "4          69        fabia      90000                  7  gasoline   \n",
       "...       ...          ...        ...                ...       ...   \n",
       "354364      0         colt     150000                  7    petrol   \n",
       "354365      0          NaN      20000                  1       NaN   \n",
       "354366    101       fortwo     125000                  3    petrol   \n",
       "354367    102  transporter     150000                  3  gasoline   \n",
       "354368    100         golf     150000                  6  gasoline   \n",
       "\n",
       "                 brand repaired          datecreated  numberofpictures  \\\n",
       "0           volkswagen      NaN  2016-03-24 00:00:00                 0   \n",
       "1                 audi      yes  2016-03-24 00:00:00                 0   \n",
       "2                 jeep      NaN  2016-03-14 00:00:00                 0   \n",
       "3           volkswagen       no  2016-03-17 00:00:00                 0   \n",
       "4                skoda       no  2016-03-31 00:00:00                 0   \n",
       "...                ...      ...                  ...               ...   \n",
       "354364      mitsubishi      yes  2016-03-21 00:00:00                 0   \n",
       "354365  sonstige_autos      NaN  2016-03-14 00:00:00                 0   \n",
       "354366           smart       no  2016-03-05 00:00:00                 0   \n",
       "354367      volkswagen       no  2016-03-19 00:00:00                 0   \n",
       "354368      volkswagen      NaN  2016-03-20 00:00:00                 0   \n",
       "\n",
       "        postalcode             lastseen  \n",
       "0            70435  2016-04-07 03:16:57  \n",
       "1            66954  2016-04-07 01:46:50  \n",
       "2            90480  2016-04-05 12:47:46  \n",
       "3            91074  2016-03-17 17:40:17  \n",
       "4            60437  2016-04-06 10:17:21  \n",
       "...            ...                  ...  \n",
       "354364        2694  2016-03-21 10:42:49  \n",
       "354365       39576  2016-04-06 00:46:52  \n",
       "354366       26135  2016-03-11 18:17:12  \n",
       "354367       87439  2016-04-07 07:15:26  \n",
       "354368       40764  2016-03-24 12:45:21  \n",
       "\n",
       "[354365 rows x 16 columns]"
      ]
     },
     "execution_count": 5,
     "metadata": {},
     "output_type": "execute_result"
    }
   ],
   "source": [
    "#Удалим\n",
    "data.drop_duplicates()"
   ]
  },
  {
   "cell_type": "markdown",
   "metadata": {},
   "source": [
    "Займемся пропусками. В числовых фичах пропусков нет,а вот в категориальных есть почти во всех. Проверим поочередно."
   ]
  },
  {
   "cell_type": "code",
   "execution_count": 6,
   "metadata": {},
   "outputs": [
    {
     "name": "stdout",
     "output_type": "stream",
     "text": [
      "[nan 'coupe' 'suv' 'small' 'sedan' 'convertible' 'bus' 'wagon' 'other']\n",
      "количество пропущенных значений 37490\n"
     ]
    }
   ],
   "source": [
    "data_new=data\n",
    "#Тип кузова\n",
    "print(data_new['vehicletype'].unique())\n",
    "print('количество пропущенных значений',data_new['vehicletype'].isna().sum())"
   ]
  },
  {
   "cell_type": "code",
   "execution_count": 7,
   "metadata": {},
   "outputs": [],
   "source": [
    "# Поставим заглушку \"other\"\n",
    "data_new['vehicletype']=data_new['vehicletype'].fillna('other')"
   ]
  },
  {
   "cell_type": "code",
   "execution_count": 8,
   "metadata": {},
   "outputs": [
    {
     "name": "stdout",
     "output_type": "stream",
     "text": [
      "['manual' 'auto' nan]\n",
      "количество пропущенных значений 19833\n"
     ]
    }
   ],
   "source": [
    "#Коробка передач\n",
    "print(data_new['gearbox'].unique())\n",
    "print('количество пропущенных значений',data_new['gearbox'].isna().sum())"
   ]
  },
  {
   "cell_type": "code",
   "execution_count": 9,
   "metadata": {},
   "outputs": [],
   "source": [
    "data_new['gearbox']=data_new['gearbox'].fillna('unknown')"
   ]
  },
  {
   "cell_type": "code",
   "execution_count": 10,
   "metadata": {
    "scrolled": false
   },
   "outputs": [
    {
     "name": "stdout",
     "output_type": "stream",
     "text": [
      "['golf' nan 'grand' 'fabia' '3er' '2_reihe' 'other' 'c_max' '3_reihe'\n",
      " 'passat' 'navara' 'ka' 'polo' 'twingo' 'a_klasse' 'scirocco' '5er'\n",
      " 'meriva' 'arosa' 'c4' 'civic' 'transporter' 'punto' 'e_klasse' 'clio'\n",
      " 'kadett' 'kangoo' 'corsa' 'one' 'fortwo' '1er' 'b_klasse' 'signum'\n",
      " 'astra' 'a8' 'jetta' 'fiesta' 'c_klasse' 'micra' 'vito' 'sprinter' '156'\n",
      " 'escort' 'forester' 'xc_reihe' 'scenic' 'a4' 'a1' 'insignia' 'combo'\n",
      " 'focus' 'tt' 'a6' 'jazz' 'omega' 'slk' '7er' '80' '147' '100' 'z_reihe'\n",
      " 'sportage' 'sorento' 'v40' 'ibiza' 'mustang' 'eos' 'touran' 'getz' 'a3'\n",
      " 'almera' 'megane' 'lupo' 'r19' 'zafira' 'caddy' 'mondeo' 'cordoba' 'colt'\n",
      " 'impreza' 'vectra' 'berlingo' 'tiguan' 'i_reihe' 'espace' 'sharan'\n",
      " '6_reihe' 'panda' 'up' 'seicento' 'ceed' '5_reihe' 'yeti' 'octavia' 'mii'\n",
      " 'rx_reihe' '6er' 'modus' 'fox' 'matiz' 'beetle' 'c1' 'rio' 'touareg'\n",
      " 'logan' 'spider' 'cuore' 's_max' 'a2' 'galaxy' 'c3' 'viano' 's_klasse'\n",
      " '1_reihe' 'avensis' 'roomster' 'sl' 'kaefer' 'santa' 'cooper' 'leon'\n",
      " '4_reihe' 'a5' '500' 'laguna' 'ptcruiser' 'clk' 'primera' 'x_reihe'\n",
      " 'exeo' '159' 'transit' 'juke' 'qashqai' 'carisma' 'accord' 'corolla'\n",
      " 'lanos' 'phaeton' 'verso' 'swift' 'rav' 'picanto' 'boxster' 'kalos'\n",
      " 'superb' 'stilo' 'alhambra' 'mx_reihe' 'roadster' 'ypsilon' 'cayenne'\n",
      " 'galant' 'justy' '90' 'sirion' 'crossfire' 'agila' 'duster' 'cr_reihe'\n",
      " 'v50' 'c_reihe' 'v_klasse' 'm_klasse' 'yaris' 'c5' 'aygo' 'cc' 'carnival'\n",
      " 'fusion' '911' 'bora' 'forfour' 'm_reihe' 'cl' 'tigra' '300c' 'spark'\n",
      " 'v70' 'kuga' 'x_type' 'ducato' 's_type' 'x_trail' 'toledo' 'altea'\n",
      " 'voyager' 'calibra' 'bravo' 'antara' 'tucson' 'citigo' 'jimny' 'wrangler'\n",
      " 'lybra' 'q7' 'lancer' 'captiva' 'c2' 'discovery' 'freelander' 'sandero'\n",
      " 'note' '900' 'cherokee' 'clubman' 'samara' 'defender' '601' 'cx_reihe'\n",
      " 'legacy' 'pajero' 'auris' 'niva' 's60' 'nubira' 'vivaro' 'g_klasse'\n",
      " 'lodgy' '850' 'range_rover' 'q3' 'serie_2' 'glk' 'charade' 'croma'\n",
      " 'outlander' 'doblo' 'musa' 'move' '9000' 'v60' '145' 'aveo' '200' 'b_max'\n",
      " 'range_rover_sport' 'terios' 'rangerover' 'q5' 'range_rover_evoque'\n",
      " 'materia' 'delta' 'gl' 'kalina' 'amarok' 'elefantino' 'i3' 'kappa'\n",
      " 'serie_3' 'serie_1']\n",
      "количество пропущенных значений 19705\n"
     ]
    }
   ],
   "source": [
    "# Модель\n",
    "print(data_new['model'].unique())\n",
    "print('количество пропущенных значений',data_new['model'].isna().sum())"
   ]
  },
  {
   "cell_type": "code",
   "execution_count": 11,
   "metadata": {},
   "outputs": [],
   "source": [
    "# Поставим заглушку \"other\"\n",
    "data_new['model']=data_new['model'].fillna('other')"
   ]
  },
  {
   "cell_type": "code",
   "execution_count": 12,
   "metadata": {},
   "outputs": [
    {
     "name": "stdout",
     "output_type": "stream",
     "text": [
      "[nan 'yes' 'no']\n",
      "количество пропущенных значений 71154\n"
     ]
    }
   ],
   "source": [
    "#был ли восстановлен(ремонт)\n",
    "print(data_new['repaired'].unique())\n",
    "print('количество пропущенных значений',data_new['repaired'].isna().sum())"
   ]
  },
  {
   "cell_type": "code",
   "execution_count": 13,
   "metadata": {},
   "outputs": [],
   "source": [
    "# Поставим заглушку \"other\"\n",
    "data_new['repaired']=data_new['repaired'].fillna('other')"
   ]
  },
  {
   "cell_type": "code",
   "execution_count": 14,
   "metadata": {},
   "outputs": [
    {
     "name": "stdout",
     "output_type": "stream",
     "text": [
      "['petrol' 'gasoline' nan 'lpg' 'other' 'hybrid' 'cng' 'electric']\n",
      "количество пропущенных значений 32895\n"
     ]
    }
   ],
   "source": [
    "# Тип двигателя\n",
    "print(data_new['fueltype'].unique())\n",
    "print('количество пропущенных значений',data_new['fueltype'].isna().sum())"
   ]
  },
  {
   "cell_type": "code",
   "execution_count": 15,
   "metadata": {},
   "outputs": [],
   "source": [
    "# Поставим заглушку \"other\"\n",
    "data_new['fueltype']=data_new['fueltype'].fillna('other')"
   ]
  },
  {
   "cell_type": "code",
   "execution_count": 16,
   "metadata": {},
   "outputs": [
    {
     "name": "stdout",
     "output_type": "stream",
     "text": [
      "<class 'pandas.core.frame.DataFrame'>\n",
      "RangeIndex: 354369 entries, 0 to 354368\n",
      "Data columns (total 16 columns):\n",
      " #   Column             Non-Null Count   Dtype \n",
      "---  ------             --------------   ----- \n",
      " 0   datecrawled        354369 non-null  object\n",
      " 1   price              354369 non-null  int64 \n",
      " 2   vehicletype        354369 non-null  object\n",
      " 3   registrationyear   354369 non-null  int64 \n",
      " 4   gearbox            354369 non-null  object\n",
      " 5   power              354369 non-null  int64 \n",
      " 6   model              354369 non-null  object\n",
      " 7   kilometer          354369 non-null  int64 \n",
      " 8   registrationmonth  354369 non-null  int64 \n",
      " 9   fueltype           354369 non-null  object\n",
      " 10  brand              354369 non-null  object\n",
      " 11  repaired           354369 non-null  object\n",
      " 12  datecreated        354369 non-null  object\n",
      " 13  numberofpictures   354369 non-null  int64 \n",
      " 14  postalcode         354369 non-null  int64 \n",
      " 15  lastseen           354369 non-null  object\n",
      "dtypes: int64(7), object(9)\n",
      "memory usage: 43.3+ MB\n"
     ]
    }
   ],
   "source": [
    "data_new.info()"
   ]
  },
  {
   "cell_type": "markdown",
   "metadata": {},
   "source": [
    "*** Все пропуски заполнены. ***"
   ]
  },
  {
   "cell_type": "markdown",
   "metadata": {},
   "source": [
    "### Обработка аномалий."
   ]
  },
  {
   "cell_type": "markdown",
   "metadata": {},
   "source": [
    "*** Проанализируем числовые признаки.***"
   ]
  },
  {
   "cell_type": "code",
   "execution_count": 17,
   "metadata": {},
   "outputs": [
    {
     "name": "stdout",
     "output_type": "stream",
     "text": [
      "count    354369.000000\n",
      "mean       4416.656776\n",
      "std        4514.158514\n",
      "min           0.000000\n",
      "25%        1050.000000\n",
      "50%        2700.000000\n",
      "75%        6400.000000\n",
      "max       20000.000000\n",
      "Name: price, dtype: float64\n",
      "AxesSubplot(0.125,0.125;0.775x0.755)\n"
     ]
    },
    {
     "data": {
      "image/png": "[encoded data removed]",
      "text/plain": [
       "<Figure size 432x288 with 1 Axes>"
      ]
     },
     "metadata": {
      "needs_background": "light"
     },
     "output_type": "display_data"
    }
   ],
   "source": [
    "# Для начала целевое значение.\n",
    "print(data_new['price'].describe())\n",
    "print(data_new.boxplot(column=['price'], grid=True))\n"
   ]
  },
  {
   "cell_type": "markdown",
   "metadata": {},
   "source": [
    "***Здесь критических выбросов нет,т.к все данные лежат в пределах 20000(возможно премиальные или дорогостоящие ретрокары).Здесь достаточно удалить нулевые цены.***"
   ]
  },
  {
   "cell_type": "code",
   "execution_count": 18,
   "metadata": {},
   "outputs": [
    {
     "data": {
      "text/plain": [
       "(343597, 16)"
      ]
     },
     "execution_count": 18,
     "metadata": {},
     "output_type": "execute_result"
    }
   ],
   "source": [
    "#Подрежем нулевые цены.\n",
    "data_new=data_new.query('price !=0')\n",
    "data_new.shape"
   ]
  },
  {
   "cell_type": "code",
   "execution_count": 19,
   "metadata": {},
   "outputs": [
    {
     "name": "stdout",
     "output_type": "stream",
     "text": [
      "[1000, 1001, 1039, 1111, 1234, 1255, 1300, 1400, 1500, 1600, 1602, 1800, 1910, 1923, 1925, 1927, 1928, 1929, 1930, 1931, 1932, 1933, 1934, 1935, 1936, 1937, 1938, 1940, 1941, 1942, 1943, 1944, 1945, 1946, 1947, 1948, 1949, 1950, 1951, 1952, 1953, 1954, 1955, 1956, 1957, 1958, 1959, 1960, 1961, 1962, 1963, 1964, 1965, 1966, 1967, 1968, 1969, 1970, 1971, 1972, 1973, 1974, 1975, 1976, 1977, 1978, 1979, 1980, 1981, 1982, 1983, 1984, 1985, 1986, 1987, 1988, 1989, 1990, 1991, 1992, 1993, 1994, 1995, 1996, 1997, 1998, 1999, 2000, 2001, 2002, 2003, 2004, 2005, 2006, 2007, 2008, 2009, 2010, 2011, 2012, 2013, 2014, 2015, 2016, 2017, 2018, 2019, 2066, 2200, 2222, 2290, 2500, 2800, 2900, 3000, 3200, 3700, 3800, 4000, 4100, 4500, 4800, 5000, 5300, 5555, 5600, 5900, 5911, 6000, 6500, 7000, 7100, 7800, 8000, 8200, 8500, 8888, 9000, 9450, 9999]\n"
     ]
    }
   ],
   "source": [
    "# Год выпуска.\n",
    "print(sorted(data_new['registrationyear'].unique()))\n"
   ]
  },
  {
   "cell_type": "markdown",
   "metadata": {},
   "source": [
    "***Год выпуска одна из важнейших характеристик прямо влияющих на стоимость автомобилей. Здесь,как мы видим,достаточно много \"кривых\" значений. Неизвестно,что стало причиной. ***\n",
    "\n",
    "***В качестве верхней границы возьмем дату последней загруженной анкеты(столбец DateCrawled)***"
   ]
  },
  {
   "cell_type": "code",
   "execution_count": 20,
   "metadata": {},
   "outputs": [
    {
     "data": {
      "text/plain": [
       "'2016-04-07 14:36:58'"
      ]
     },
     "execution_count": 20,
     "metadata": {},
     "output_type": "execute_result"
    }
   ],
   "source": [
    "data_new['datecrawled'].max()"
   ]
  },
  {
   "cell_type": "markdown",
   "metadata": {},
   "source": [
    "***Поскольку последняя скачанная анкета для этой базы датирована  2016г,то все регистрации после этой даты по логике задачи не должны были попасть в скаченную базу.***"
   ]
  },
  {
   "cell_type": "markdown",
   "metadata": {},
   "source": [
    "**С верхней границей определились. Теперь необходимо определить нижнюю. Воспользуемся сводной таблицей и посмотрим количество авто по году регистрации.**"
   ]
  },
  {
   "cell_type": "code",
   "execution_count": 21,
   "metadata": {},
   "outputs": [
    {
     "data": {
      "text/plain": [
       "<AxesSubplot:xlabel='registrationyear'>"
      ]
     },
     "execution_count": 21,
     "metadata": {},
     "output_type": "execute_result"
    },
    {
     "data": {
      "image/png": "[encoded data removed]",
      "text/plain": [
       "<Figure size 1440x360 with 1 Axes>"
      ]
     },
     "metadata": {
      "needs_background": "light"
     },
     "output_type": "display_data"
    }
   ],
   "source": [
    "pivot=pd.pivot_table(data_new,index='registrationyear',values='brand',aggfunc='count')\n",
    "pivot.plot.bar(figsize = (20,5))"
   ]
  },
  {
   "cell_type": "markdown",
   "metadata": {},
   "source": [
    "**Здесь к нормальному распределению можно отнести авто с годом регистрации 1980 и старше.**"
   ]
  },
  {
   "cell_type": "code",
   "execution_count": 22,
   "metadata": {},
   "outputs": [
    {
     "data": {
      "text/plain": [
       "(326652, 16)"
      ]
     },
     "execution_count": 22,
     "metadata": {},
     "output_type": "execute_result"
    }
   ],
   "source": [
    "#Подрежем по году регистрации.\n",
    "data_new=data_new.query('1980 <= registrationyear <= 2016 ')\n",
    "data_new.shape"
   ]
  },
  {
   "cell_type": "code",
   "execution_count": 23,
   "metadata": {},
   "outputs": [
    {
     "name": "stdout",
     "output_type": "stream",
     "text": [
      "count    326652.000000\n",
      "mean        112.221186\n",
      "std         183.348304\n",
      "min           0.000000\n",
      "25%          71.000000\n",
      "50%         105.000000\n",
      "75%         143.000000\n",
      "max       20000.000000\n",
      "Name: power, dtype: float64\n",
      "AxesSubplot(0.125,0.125;0.775x0.755)\n"
     ]
    },
    {
     "data": {
      "image/png": "[encoded data removed]",
      "text/plain": [
       "<Figure size 432x288 with 1 Axes>"
      ]
     },
     "metadata": {
      "needs_background": "light"
     },
     "output_type": "display_data"
    }
   ],
   "source": [
    "# Мощность двигателя.\n",
    "print(data_new['power'].describe())\n",
    "print(data_new.boxplot(column=['power'], grid=True))\n"
   ]
  },
  {
   "cell_type": "markdown",
   "metadata": {},
   "source": [
    "***Как мы видим очень много выбросов по значению мощности двигателя. Трудно выявить конкретную причину. Возможно это ошибка размерности при заполнении данных в анкете,возможно что-то с выгрузкой. Предлагаю ограничить мощность двигателя по наименьшим и наибольшим значениям серийных автомобилей (15 л.с наименьшее 1600 л.с наибольшее)***\n"
   ]
  },
  {
   "cell_type": "code",
   "execution_count": 24,
   "metadata": {},
   "outputs": [
    {
     "data": {
      "text/plain": [
       "(294274, 16)"
      ]
     },
     "execution_count": 24,
     "metadata": {},
     "output_type": "execute_result"
    }
   ],
   "source": [
    "data_new=data_new.query('15 <= power <= 1600 ')\n",
    "data_new.shape"
   ]
  },
  {
   "cell_type": "code",
   "execution_count": 25,
   "metadata": {},
   "outputs": [
    {
     "name": "stdout",
     "output_type": "stream",
     "text": [
      "count    294274.000000\n",
      "mean     128603.359454\n",
      "std       36478.515553\n",
      "min        5000.000000\n",
      "25%      125000.000000\n",
      "50%      150000.000000\n",
      "75%      150000.000000\n",
      "max      150000.000000\n",
      "Name: kilometer, dtype: float64\n",
      "AxesSubplot(0.125,0.125;0.775x0.755)\n"
     ]
    },
    {
     "data": {
      "image/png": "[encoded data removed]",
      "text/plain": [
       "<Figure size 432x288 with 1 Axes>"
      ]
     },
     "metadata": {
      "needs_background": "light"
     },
     "output_type": "display_data"
    }
   ],
   "source": [
    "# Пробег\n",
    "print(data_new['kilometer'].describe())\n",
    "print(data_new.boxplot(column=['kilometer'], grid=True))"
   ]
  },
  {
   "cell_type": "markdown",
   "metadata": {},
   "source": [
    "***С километражом в целом порядок,нижний хвост скорее всего относится к свежим моделям.***"
   ]
  },
  {
   "cell_type": "markdown",
   "metadata": {},
   "source": [
    "### Удаление неиформативных признаков"
   ]
  },
  {
   "cell_type": "markdown",
   "metadata": {},
   "source": [
    "Удалим признаки,которые однозначно не несут смысловой нагрузки на цену автомобиля. К таким я бы отнес:\n",
    "\n",
    "NumberOfPictures — количество фотографий автомобиля\n",
    "\n",
    "PostalCode — почтовый индекс владельца анкеты (пользователя).\n",
    "\n",
    "LastSeen — дата последней активности пользователя\n",
    "\n",
    "datecrawled - дата скачивания анкеты \n",
    "\n",
    "datecreated - дата создания анкеты\n",
    "\n",
    "registrationmonth - месяц регистрации\n"
   ]
  },
  {
   "cell_type": "code",
   "execution_count": 26,
   "metadata": {},
   "outputs": [
    {
     "data": {
      "text/html": [
       "<div>\n",
       "<style scoped>\n",
       "    .dataframe tbody tr th:only-of-type {\n",
       "        vertical-align: middle;\n",
       "    }\n",
       "\n",
       "    .dataframe tbody tr th {\n",
       "        vertical-align: top;\n",
       "    }\n",
       "\n",
       "    .dataframe thead th {\n",
       "        text-align: right;\n",
       "    }\n",
       "</style>\n",
       "<table border=\"1\" class=\"dataframe\">\n",
       "  <thead>\n",
       "    <tr style=\"text-align: right;\">\n",
       "      <th></th>\n",
       "      <th>price</th>\n",
       "      <th>vehicletype</th>\n",
       "      <th>registrationyear</th>\n",
       "      <th>gearbox</th>\n",
       "      <th>power</th>\n",
       "      <th>model</th>\n",
       "      <th>kilometer</th>\n",
       "      <th>fueltype</th>\n",
       "      <th>brand</th>\n",
       "      <th>repaired</th>\n",
       "    </tr>\n",
       "  </thead>\n",
       "  <tbody>\n",
       "    <tr>\n",
       "      <th>1</th>\n",
       "      <td>18300</td>\n",
       "      <td>coupe</td>\n",
       "      <td>2011</td>\n",
       "      <td>manual</td>\n",
       "      <td>190</td>\n",
       "      <td>other</td>\n",
       "      <td>125000</td>\n",
       "      <td>gasoline</td>\n",
       "      <td>audi</td>\n",
       "      <td>yes</td>\n",
       "    </tr>\n",
       "    <tr>\n",
       "      <th>2</th>\n",
       "      <td>9800</td>\n",
       "      <td>suv</td>\n",
       "      <td>2004</td>\n",
       "      <td>auto</td>\n",
       "      <td>163</td>\n",
       "      <td>grand</td>\n",
       "      <td>125000</td>\n",
       "      <td>gasoline</td>\n",
       "      <td>jeep</td>\n",
       "      <td>other</td>\n",
       "    </tr>\n",
       "    <tr>\n",
       "      <th>3</th>\n",
       "      <td>1500</td>\n",
       "      <td>small</td>\n",
       "      <td>2001</td>\n",
       "      <td>manual</td>\n",
       "      <td>75</td>\n",
       "      <td>golf</td>\n",
       "      <td>150000</td>\n",
       "      <td>petrol</td>\n",
       "      <td>volkswagen</td>\n",
       "      <td>no</td>\n",
       "    </tr>\n",
       "    <tr>\n",
       "      <th>4</th>\n",
       "      <td>3600</td>\n",
       "      <td>small</td>\n",
       "      <td>2008</td>\n",
       "      <td>manual</td>\n",
       "      <td>69</td>\n",
       "      <td>fabia</td>\n",
       "      <td>90000</td>\n",
       "      <td>gasoline</td>\n",
       "      <td>skoda</td>\n",
       "      <td>no</td>\n",
       "    </tr>\n",
       "    <tr>\n",
       "      <th>5</th>\n",
       "      <td>650</td>\n",
       "      <td>sedan</td>\n",
       "      <td>1995</td>\n",
       "      <td>manual</td>\n",
       "      <td>102</td>\n",
       "      <td>3er</td>\n",
       "      <td>150000</td>\n",
       "      <td>petrol</td>\n",
       "      <td>bmw</td>\n",
       "      <td>yes</td>\n",
       "    </tr>\n",
       "  </tbody>\n",
       "</table>\n",
       "</div>"
      ],
      "text/plain": [
       "   price vehicletype  registrationyear gearbox  power  model  kilometer  \\\n",
       "1  18300       coupe              2011  manual    190  other     125000   \n",
       "2   9800         suv              2004    auto    163  grand     125000   \n",
       "3   1500       small              2001  manual     75   golf     150000   \n",
       "4   3600       small              2008  manual     69  fabia      90000   \n",
       "5    650       sedan              1995  manual    102    3er     150000   \n",
       "\n",
       "   fueltype       brand repaired  \n",
       "1  gasoline        audi      yes  \n",
       "2  gasoline        jeep    other  \n",
       "3    petrol  volkswagen       no  \n",
       "4  gasoline       skoda       no  \n",
       "5    petrol         bmw      yes  "
      ]
     },
     "execution_count": 26,
     "metadata": {},
     "output_type": "execute_result"
    }
   ],
   "source": [
    "data_new=data_new.drop(['lastseen','postalcode','numberofpictures','registrationmonth','datecrawled','datecreated'],axis=1)\n",
    "\n",
    "data_new.head()"
   ]
  },
  {
   "cell_type": "markdown",
   "metadata": {},
   "source": [
    "### Проверка корреляции и общие выводы после предобработки."
   ]
  },
  {
   "cell_type": "code",
   "execution_count": 27,
   "metadata": {},
   "outputs": [
    {
     "name": "stdout",
     "output_type": "stream",
     "text": [
      "                     price  registrationyear     power  kilometer\n",
      "price             1.000000          0.569541  0.461375  -0.388203\n",
      "registrationyear  0.569541          1.000000  0.122110  -0.366107\n",
      "power             0.461375          0.122110  1.000000   0.089112\n",
      "kilometer        -0.388203         -0.366107  0.089112   1.000000\n",
      "<class 'pandas.core.frame.DataFrame'>\n",
      "Int64Index: 294274 entries, 1 to 354368\n",
      "Data columns (total 10 columns):\n",
      " #   Column            Non-Null Count   Dtype \n",
      "---  ------            --------------   ----- \n",
      " 0   price             294274 non-null  int64 \n",
      " 1   vehicletype       294274 non-null  object\n",
      " 2   registrationyear  294274 non-null  int64 \n",
      " 3   gearbox           294274 non-null  object\n",
      " 4   power             294274 non-null  int64 \n",
      " 5   model             294274 non-null  object\n",
      " 6   kilometer         294274 non-null  int64 \n",
      " 7   fueltype          294274 non-null  object\n",
      " 8   brand             294274 non-null  object\n",
      " 9   repaired          294274 non-null  object\n",
      "dtypes: int64(4), object(6)\n",
      "memory usage: 24.7+ MB\n",
      "None\n",
      "(294274, 10)\n"
     ]
    }
   ],
   "source": [
    "print(data_new.corr())\n",
    "print(data_new.info())\n",
    "print(data_new.shape)"
   ]
  },
  {
   "cell_type": "markdown",
   "metadata": {},
   "source": [
    "Наюлюдается достаточно сильная положительная связь между таргетом и мощностью двигателя, а также таргетом с годом регистрации."
   ]
  },
  {
   "cell_type": "markdown",
   "metadata": {},
   "source": [
    "#### Выводы\n",
    "\n",
    "После загрузки данных была сделана следущая предобработка.\n",
    "\n",
    "-Удалены дубликаты.\n",
    "\n",
    "-Заполнены пропуски.\n",
    "\n",
    "-Удалены аномальные данные и выбросы из данных. Наш исходник потерял около 17% данных,но они стали намного чище в информационном плане и остается достаточно большим (290000+) для построения эффективной модели прогнозирования.\n",
    "\n",
    "-Удалены неиформативные для ценообразования признаки(дата скачивания и создания анкет ,количество картинок и т.д.)\n",
    "\n",
    "-Обнаружена корреляционная зависимость между таргетом и 2мя признаками."
   ]
  },
  {
   "cell_type": "markdown",
   "metadata": {},
   "source": [
    "## Обучение моделей"
   ]
  },
  {
   "cell_type": "markdown",
   "metadata": {},
   "source": [
    "Для моделей обучения выберем модель линейной регрессии,модель Random Forrest,CatBoost,LGB. Для каждой модели необходимо будет по разному готовить данные,поэтому каждую модель будем рассматривать отдельно."
   ]
  },
  {
   "cell_type": "markdown",
   "metadata": {},
   "source": [
    "### Модель линейной регрессии."
   ]
  },
  {
   "cell_type": "markdown",
   "metadata": {},
   "source": [
    "*** Поскольку в нашей модели много категориальных признаков ,необходимо преобразовать их с помощью OHE (остальные не подойдут)***"
   ]
  },
  {
   "cell_type": "code",
   "execution_count": 28,
   "metadata": {},
   "outputs": [],
   "source": [
    "data_lr = data_new\n",
    "#выделяю признаки и целевой признак:\n",
    "features_lr = data_lr.drop('price', axis=1)\n",
    "target_lr = data_lr.price"
   ]
  },
  {
   "cell_type": "code",
   "execution_count": 29,
   "metadata": {},
   "outputs": [],
   "source": [
    "# Разбиваем на выборки\n",
    "features_train, features_test, target_train, target_test = train_test_split(features_lr,\n",
    "                                                                            target_lr, \n",
    "                                                                            test_size=.25,\n",
    "                                                                            random_state=12345)"
   ]
  },
  {
   "cell_type": "code",
   "execution_count": 30,
   "metadata": {},
   "outputs": [],
   "source": [
    "# Кодируем фичи в трейне с помощью OHE\n",
    "features_train_lr= pd.get_dummies(features_train, drop_first=True)\n",
    "features_test_lr= pd.get_dummies(features_test, drop_first=True)"
   ]
  },
  {
   "cell_type": "code",
   "execution_count": 31,
   "metadata": {},
   "outputs": [],
   "source": [
    "# Также необходим стандартизировать числовые признаки\n",
    "scaler = StandardScaler()\n",
    "quanti_columns = ['registrationyear', 'power', 'kilometer']\n",
    "scaler.fit(features_train_lr[quanti_columns])\n",
    "features_train_lr[quanti_columns] = scaler.transform(features_train_lr[quanti_columns])\n",
    "features_test_lr[quanti_columns] = scaler.transform(features_test_lr[quanti_columns])"
   ]
  },
  {
   "cell_type": "code",
   "execution_count": 32,
   "metadata": {},
   "outputs": [
    {
     "name": "stdout",
     "output_type": "stream",
     "text": [
      "Время обучения 84 секунд\n"
     ]
    }
   ],
   "source": [
    "#Запустим таймер\n",
    "st=time.time()\n",
    "# Запускаем модель\n",
    "model_lr = LinearRegression()\n",
    "model_lr.fit(features_train_lr, target_train)\n",
    "et=time.time()\n",
    "print('Время обучения',round(et-st),'секунд')"
   ]
  },
  {
   "cell_type": "code",
   "execution_count": 33,
   "metadata": {},
   "outputs": [
    {
     "name": "stdout",
     "output_type": "stream",
     "text": [
      "Время время предсказния 0 секунд\n"
     ]
    }
   ],
   "source": [
    "st=time.time()\n",
    "target_predict = model_lr.predict(features_test_lr)\n",
    "et=time.time()\n",
    "print('Время время предсказния',round(et-st),'секунд')"
   ]
  },
  {
   "cell_type": "code",
   "execution_count": 34,
   "metadata": {},
   "outputs": [
    {
     "name": "stdout",
     "output_type": "stream",
     "text": [
      "Метрика на модели линейной регресии 2754.705801765118\n"
     ]
    }
   ],
   "source": [
    "rmse_lr = mse(target_test,target_predict) ** 0.5\n",
    "print(\"Метрика на модели линейной регресии\",rmse_lr)"
   ]
  },
  {
   "cell_type": "markdown",
   "metadata": {},
   "source": [
    "*** Модель довольно быстро обучилась, но метрика качества неудовлетворительная. ***"
   ]
  },
  {
   "cell_type": "markdown",
   "metadata": {},
   "source": [
    "### Модель случайного леса."
   ]
  },
  {
   "cell_type": "code",
   "execution_count": 35,
   "metadata": {},
   "outputs": [],
   "source": [
    "data_rfr = data_new\n",
    "#выделяю признаки и целевой признак:\n",
    "features_rfr = data_rfr.drop('price', axis=1)\n",
    "target_rfr = data_rfr.price"
   ]
  },
  {
   "cell_type": "code",
   "execution_count": 36,
   "metadata": {},
   "outputs": [],
   "source": [
    "features_train_rfr, features_test_rfr, target_train_rfr, target_test_rfr = train_test_split(features_rfr,\n",
    "                                                                            target_rfr, \n",
    "                                                                            test_size=.25,\n",
    "                                                                            random_state=12345)"
   ]
  },
  {
   "cell_type": "markdown",
   "metadata": {},
   "source": [
    "*** Здесь нам также предстоит убрать категориальные признаки,однако метод OHE здесь не подойдет,т.к. количество признаков станет 300+ и работа модели сильно усложниться. Воспользуемся Ordinal encoder. ***"
   ]
  },
  {
   "cell_type": "code",
   "execution_count": 37,
   "metadata": {},
   "outputs": [],
   "source": [
    "#\n",
    "ct = ColumnTransformer(transformers=[('encoder',OrdinalEncoder(),['vehicletype','gearbox','model','fueltype','brand','repaired'])],remainder='passthrough')\n",
    "features_train_rfr_oe=ct.fit_transform(features_train_rfr)\n",
    "features_test_rfr_oe=ct.fit_transform(features_test_rfr)\n"
   ]
  },
  {
   "cell_type": "code",
   "execution_count": 38,
   "metadata": {
    "tags": [
     "\"no_restart\""
    ]
   },
   "outputs": [],
   "source": [
    "# Данные готовы.Можно запускать модель.\n",
    "\n",
    "rfr=make_pipeline(StandardScaler(), RandomForestRegressor())\n",
    "parametrs={'randomforestregressor__n_estimators':[1,100],\n",
    "            'randomforestregressor__max_depth':[1,5],\n",
    "            'randomforestregressor__random_state':[12345]}\n",
    "price_rfr = RandomizedSearchCV(rfr,parametrs, cv=5,scoring ='neg_root_mean_squared_error')"
   ]
  },
  {
   "cell_type": "code",
   "execution_count": 39,
   "metadata": {
    "tags": [
     "\"no_restart\""
    ]
   },
   "outputs": [
    {
     "name": "stdout",
     "output_type": "stream",
     "text": [
      "Время обучения 133 секунд\n"
     ]
    }
   ],
   "source": [
    "st=time.time()\n",
    "price_rfr.fit(features_train_rfr_oe,target_train_rfr)\n",
    "et=time.time()\n",
    "print('Время обучения',round(et-st),'секунд')"
   ]
  },
  {
   "cell_type": "code",
   "execution_count": 40,
   "metadata": {},
   "outputs": [
    {
     "name": "stdout",
     "output_type": "stream",
     "text": [
      "Время предсказания 0 секунд\n",
      "Метрика на модели линейной регресии 2334.7841263285777\n"
     ]
    }
   ],
   "source": [
    "st=time.time()\n",
    "test_pred=price_rfr.predict(features_test_rfr_oe)\n",
    "et=time.time()\n",
    "print('Время предсказания',round(et-st),'секунд')\n",
    "rmse=mse(target_test_rfr,test_pred)**0.5\n",
    "print(\"Метрика на модели линейной регресии\",rmse)"
   ]
  },
  {
   "cell_type": "markdown",
   "metadata": {},
   "source": [
    "**Здесь метрика улучшила значение и проходит по условиям задачи, и заметно увеличилось время обучения**"
   ]
  },
  {
   "cell_type": "markdown",
   "metadata": {},
   "source": [
    "### Модель CatBoost"
   ]
  },
  {
   "cell_type": "markdown",
   "metadata": {},
   "source": [
    "**Одно из главных преимуществ этой модели в том,что никакой предобработки данных признаков не требуется.**"
   ]
  },
  {
   "cell_type": "code",
   "execution_count": 41,
   "metadata": {},
   "outputs": [],
   "source": [
    "data_cat = data_new\n",
    "#выделяю признаки и целевой признак:\n",
    "features_cat = data_cat.drop('price', axis=1)\n",
    "target_cat = data_cat.price"
   ]
  },
  {
   "cell_type": "code",
   "execution_count": 42,
   "metadata": {},
   "outputs": [],
   "source": [
    "# Разбиваем на выборки\n",
    "features_train, features_test, target_train, target_test = train_test_split(features_cat,\n",
    "                                                                            target_cat, \n",
    "                                                                            test_size=.25,\n",
    "                                                                            random_state=12345)"
   ]
  },
  {
   "cell_type": "code",
   "execution_count": 43,
   "metadata": {},
   "outputs": [],
   "source": [
    "#Выделим категориальные признаки\n",
    "cat_list=['vehicletype','gearbox','model','brand','repaired','fueltype']"
   ]
  },
  {
   "cell_type": "code",
   "execution_count": 44,
   "metadata": {},
   "outputs": [],
   "source": [
    "#Для перебора гиперпараметров в градиентных функциях воспользуемся Optuna\n",
    "#определим функцию оптимизации\n",
    "def objective(trial):\n",
    "    params = {'iterations':30,\n",
    "             'depth':trial.suggest_int('depth',2,5),\n",
    "             'cat_features':cat_list}\n",
    "    model=CatBoostRegressor(**params,verbose=False)\n",
    "    model.fit(features_train,target_train)\n",
    "    pred_train=model.predict(features_train)\n",
    "    rmse=mse(target_train,pred_train)**0.5\n",
    "    return rmse"
   ]
  },
  {
   "cell_type": "code",
   "execution_count": 45,
   "metadata": {
    "scrolled": true,
    "tags": [
     "\"no_restart\""
    ]
   },
   "outputs": [
    {
     "name": "stderr",
     "output_type": "stream",
     "text": [
      "[I 2023-06-29 19:52:29,168] A new study created in memory with name: no-name-d3fdf88c-202f-4d7d-8025-10974b8e512e\n",
      "Custom logger is already specified. Specify more than one logger at same time is not thread safe.Custom logger is already specified. Specify more than one logger at same time is not thread safe.Custom logger is already specified. Specify more than one logger at same time is not thread safe.Custom logger is already specified. Specify more than one logger at same time is not thread safe.Custom logger is already specified. Specify more than one logger at same time is not thread safe.Custom logger is already specified. Specify more than one logger at same time is not thread safe.Custom logger is already specified. Specify more than one logger at same time is not thread safe.[I 2023-06-29 19:52:56,073] Trial 2 finished with value: 1991.8923181918199 and parameters: {'depth': 2}. Best is trial 2 with value: 1991.8923181918199.\n",
      "[I 2023-06-29 19:53:03,188] Trial 4 finished with value: 1807.646014283718 and parameters: {'depth': 4}. Best is trial 4 with value: 1807.646014283718.\n",
      "[I 2023-06-29 19:53:03,192] Trial 6 finished with value: 1862.8434655931912 and parameters: {'depth': 3}. Best is trial 4 with value: 1807.646014283718.\n",
      "[I 2023-06-29 19:53:04,188] Trial 5 finished with value: 1807.646014283718 and parameters: {'depth': 4}. Best is trial 4 with value: 1807.646014283718.\n",
      "[I 2023-06-29 19:53:04,498] Trial 1 finished with value: 1807.646014283718 and parameters: {'depth': 4}. Best is trial 4 with value: 1807.646014283718.\n",
      "[I 2023-06-29 19:53:05,768] Trial 0 finished with value: 1741.8518353654135 and parameters: {'depth': 5}. Best is trial 0 with value: 1741.8518353654135.\n",
      "Custom logger is already specified. Specify more than one logger at same time is not thread safe.[I 2023-06-29 19:53:05,976] Trial 3 finished with value: 1741.8518353654135 and parameters: {'depth': 5}. Best is trial 0 with value: 1741.8518353654135.\n",
      "[I 2023-06-29 19:53:06,830] Trial 7 finished with value: 1862.8434655931912 and parameters: {'depth': 3}. Best is trial 0 with value: 1741.8518353654135.\n",
      "Custom logger is already specified. Specify more than one logger at same time is not thread safe.[I 2023-06-29 19:53:07,804] Trial 8 finished with value: 1991.8923181918199 and parameters: {'depth': 2}. Best is trial 0 with value: 1741.8518353654135.\n",
      "Custom logger is already specified. Specify more than one logger at same time is not thread safe.Custom logger is already specified. Specify more than one logger at same time is not thread safe.Custom logger is already specified. Specify more than one logger at same time is not thread safe.Custom logger is already specified. Specify more than one logger at same time is not thread safe.[I 2023-06-29 19:53:36,955] Trial 16 finished with value: 1991.8923181918199 and parameters: {'depth': 2}. Best is trial 0 with value: 1741.8518353654135.\n",
      "[I 2023-06-29 19:53:37,543] Trial 12 finished with value: 1862.8434655931912 and parameters: {'depth': 3}. Best is trial 0 with value: 1741.8518353654135.\n",
      "[I 2023-06-29 19:53:38,387] Trial 10 finished with value: 1807.646014283718 and parameters: {'depth': 4}. Best is trial 0 with value: 1741.8518353654135.\n",
      "[I 2023-06-29 19:53:38,480] Trial 13 finished with value: 1741.8518353654135 and parameters: {'depth': 5}. Best is trial 0 with value: 1741.8518353654135.\n",
      "[I 2023-06-29 19:53:39,814] Trial 11 finished with value: 1807.646014283718 and parameters: {'depth': 4}. Best is trial 0 with value: 1741.8518353654135.\n",
      "Custom logger is already specified. Specify more than one logger at same time is not thread safe.Custom logger is already specified. Specify more than one logger at same time is not thread safe.[I 2023-06-29 19:53:39,876] Trial 9 finished with value: 1741.8518353654135 and parameters: {'depth': 5}. Best is trial 0 with value: 1741.8518353654135.\n",
      "[I 2023-06-29 19:53:39,943] Trial 14 finished with value: 1741.8518353654135 and parameters: {'depth': 5}. Best is trial 0 with value: 1741.8518353654135.\n",
      "Custom logger is already specified. Specify more than one logger at same time is not thread safe.[I 2023-06-29 19:53:39,944] Trial 15 finished with value: 1807.646014283718 and parameters: {'depth': 4}. Best is trial 0 with value: 1741.8518353654135.\n",
      "Custom logger is already specified. Specify more than one logger at same time is not thread safe.Custom logger is already specified. Specify more than one logger at same time is not thread safe.Custom logger is already specified. Specify more than one logger at same time is not thread safe.Custom logger is already specified. Specify more than one logger at same time is not thread safe.[I 2023-06-29 19:54:15,285] Trial 18 finished with value: 1741.8518353654135 and parameters: {'depth': 5}. Best is trial 0 with value: 1741.8518353654135.\n",
      "[I 2023-06-29 19:54:16,672] Trial 20 finished with value: 1741.8518353654135 and parameters: {'depth': 5}. Best is trial 0 with value: 1741.8518353654135.\n",
      "[I 2023-06-29 19:54:16,685] Trial 22 finished with value: 1741.8518353654135 and parameters: {'depth': 5}. Best is trial 0 with value: 1741.8518353654135.\n",
      "[I 2023-06-29 19:54:17,567] Trial 17 finished with value: 1741.8518353654135 and parameters: {'depth': 5}. Best is trial 0 with value: 1741.8518353654135.\n",
      "[I 2023-06-29 19:54:17,636] Trial 21 finished with value: 1741.8518353654135 and parameters: {'depth': 5}. Best is trial 0 with value: 1741.8518353654135.\n",
      "[I 2023-06-29 19:54:17,726] Trial 19 finished with value: 1741.8518353654135 and parameters: {'depth': 5}. Best is trial 0 with value: 1741.8518353654135.\n",
      "[I 2023-06-29 19:54:17,727] Trial 23 finished with value: 1741.8518353654135 and parameters: {'depth': 5}. Best is trial 0 with value: 1741.8518353654135.\n",
      "Custom logger is already specified. Specify more than one logger at same time is not thread safe.[I 2023-06-29 19:54:18,087] Trial 24 finished with value: 1741.8518353654135 and parameters: {'depth': 5}. Best is trial 0 with value: 1741.8518353654135.\n",
      "Custom logger is already specified. Specify more than one logger at same time is not thread safe.Custom logger is already specified. Specify more than one logger at same time is not thread safe.Custom logger is already specified. Specify more than one logger at same time is not thread safe.[I 2023-06-29 19:54:39,570] Trial 29 finished with value: 1807.646014283718 and parameters: {'depth': 4}. Best is trial 0 with value: 1741.8518353654135.\n",
      "[I 2023-06-29 19:54:40,061] Trial 25 finished with value: 1741.8518353654135 and parameters: {'depth': 5}. Best is trial 0 with value: 1741.8518353654135.\n",
      "[I 2023-06-29 19:54:40,093] Trial 26 finished with value: 1741.8518353654135 and parameters: {'depth': 5}. Best is trial 0 with value: 1741.8518353654135.\n",
      "[I 2023-06-29 19:54:40,094] Trial 27 finished with value: 1741.8518353654135 and parameters: {'depth': 5}. Best is trial 0 with value: 1741.8518353654135.\n",
      "[I 2023-06-29 19:54:40,147] Trial 28 finished with value: 1741.8518353654135 and parameters: {'depth': 5}. Best is trial 0 with value: 1741.8518353654135.\n"
     ]
    },
    {
     "name": "stdout",
     "output_type": "stream",
     "text": [
      "Время обучения 131 секунд\n"
     ]
    }
   ],
   "source": [
    "st=time.time()\n",
    "#Создадим объект study и запустим оптимизацию\n",
    "study=optuna.create_study(direction='minimize')\n",
    "study.optimize(objective,n_trials=30,n_jobs=-1)\n",
    "et=time.time()\n",
    "print('Время обучения',round(et-st),'секунд')"
   ]
  },
  {
   "cell_type": "code",
   "execution_count": 46,
   "metadata": {},
   "outputs": [
    {
     "name": "stdout",
     "output_type": "stream",
     "text": [
      "{'depth': 5}\n"
     ]
    }
   ],
   "source": [
    "##Вытащим лучшие гиперпараметры и обучим модель \n",
    "best_params=study.best_params\n",
    "print(best_params)\n"
   ]
  },
  {
   "cell_type": "code",
   "execution_count": 47,
   "metadata": {
    "tags": [
     "\"no_restart\""
    ]
   },
   "outputs": [
    {
     "name": "stdout",
     "output_type": "stream",
     "text": [
      "Время предсказания 4 секунд\n",
      "Метрика на лучших параметрах 1739.3568299433452\n"
     ]
    }
   ],
   "source": [
    "st=time.time()\n",
    "params = {'iterations':30,\n",
    "             'depth':5,\n",
    "             'cat_features':cat_list}\n",
    "model=CatBoostRegressor(**params,verbose=False)\n",
    "model.fit(features_train,target_train)\n",
    "pred_test=model.predict(features_test)\n",
    "et=time.time()\n",
    "print('Время предсказания',round(et-st),'секунд')\n",
    "rmse=mse(target_test,pred_test)**0.5\n",
    "print('Метрика на лучших параметрах',rmse)"
   ]
  },
  {
   "cell_type": "markdown",
   "metadata": {},
   "source": [
    "*** Достаточно большое время получения прогноза,но показатель метрики значительно улучшился по сравнению с предыдущими моделями.***"
   ]
  },
  {
   "cell_type": "markdown",
   "metadata": {},
   "source": [
    "###  Модель LightGBM"
   ]
  },
  {
   "cell_type": "markdown",
   "metadata": {},
   "source": [
    "*** В данной модели также не требуется преобразование категориальных признаков. Параметры также подберем через Optune ***"
   ]
  },
  {
   "cell_type": "code",
   "execution_count": 48,
   "metadata": {},
   "outputs": [],
   "source": [
    "data_gbm = data_new\n",
    "#выделяю признаки и целевой признак:\n",
    "features_gbm = data_gbm.drop('price', axis=1)\n",
    "target_gbm = data_gbm.price\n",
    "cat_list=['vehicletype','gearbox','model','brand','repaired','fueltype']\n",
    "#Переведем категориальные данные к типу category,которые необходимы по условию модели lgb.\n",
    "features_gbm[cat_list] = features_gbm[cat_list].astype('category')\n"
   ]
  },
  {
   "cell_type": "code",
   "execution_count": 49,
   "metadata": {},
   "outputs": [],
   "source": [
    "# Разбиваем на выборки\n",
    "#features_train, features_test, target_train, target_test = train_test_split(features_gbm,\n",
    "#                                                                            target_gbm, \n",
    "#                                                                            test_size=.25,\n",
    "#                                                                            random_state=12345)"
   ]
  },
  {
   "cell_type": "code",
   "execution_count": 50,
   "metadata": {},
   "outputs": [
    {
     "name": "stdout",
     "output_type": "stream",
     "text": [
      "(176564, 9)\n",
      "(58855, 9)\n",
      "(58855, 9)\n"
     ]
    }
   ],
   "source": [
    "X_train, X_test, y_train, y_test = train_test_split(features_gbm,target_gbm, test_size=0.2, random_state=42)\n",
    "X_train, X_val, y_train, y_val = train_test_split(X_train, y_train, test_size=0.25, random_state=42)\n",
    "print(X_train.shape)\n",
    "print(X_val.shape)\n",
    "print(X_test.shape)"
   ]
  },
  {
   "cell_type": "markdown",
   "metadata": {},
   "source": [
    "<div class=\"alert alert-block alert-success\">\n",
    "<b>✔️ Успех:</b> \n",
    "\n",
    "Данные поделены верно, пропорции выбраны адекватные 👍\n",
    "</div>"
   ]
  },
  {
   "cell_type": "code",
   "execution_count": 51,
   "metadata": {},
   "outputs": [],
   "source": [
    "def trial(trial):\n",
    "    # Определение гиперпараметров для оптимизации\n",
    "        params = {\n",
    "        'objective': 'regression',\n",
    "        'metric': 'mse',\n",
    "        'verbosity': -1,\n",
    "        'boosting_type': 'gbdt',\n",
    "        'num_leaves': trial.suggest_int('num_leaves', 10, 100),\n",
    "        #'learning_rate': trial.suggest_loguniform('learning_rate', 0.001, 0.1),\n",
    "        #'feature_fraction': trial.suggest_uniform('feature_fraction', 0.1, 1.0),\n",
    "        #'bagging_fraction': trial.suggest_uniform('bagging_fraction', 0.1, 1.0),\n",
    "        #'bagging_freq': trial.suggest_int('bagging_freq', 1, 10),\n",
    "        'min_child_samples': trial.suggest_int('min_child_samples', 1, 50)}\n",
    "        # Создание модели LightGBM\n",
    "        model = lgb.LGBMRegressor(**params)\n",
    "        # Обучение модели\n",
    "        model.fit(X_train,y_train, eval_set=[(X_val,y_val)],categorical_feature=cat_list)\n",
    "        pred_val = model.predict(X_val)\n",
    "        rmse=mse(y_val,pred_val)**0.5\n",
    "        return rmse\n"
   ]
  },
  {
   "cell_type": "code",
   "execution_count": 52,
   "metadata": {},
   "outputs": [
    {
     "name": "stderr",
     "output_type": "stream",
     "text": [
      "[I 2023-06-29 19:54:44,577] A new study created in memory with name: no-name-1254fe5b-1232-4ebf-aaad-5e108e42f25b\n"
     ]
    },
    {
     "name": "stdout",
     "output_type": "stream",
     "text": [
      "[1]\tvalid_0's l2: 1.80782e+07\n",
      "[1]\tvalid_0's l2: 1.78004e+07\n",
      "[1]\tvalid_0's l2: 1.78089e+07\n",
      "[2]\tvalid_0's l2: 1.57299e+07\n",
      "[1]\tvalid_0's l2: 1.78665e+07\n",
      "[1]\tvalid_0's l2: 1.78066e+07\n",
      "[1]\tvalid_0's l2: 1.80197e+07\n",
      "[3]\tvalid_0's l2: 1.37573e+07\n",
      "[1]\tvalid_0's l2: 1.78856e+07\n",
      "[4]\tvalid_0's l2: 1.21276e+07\n",
      "[1]\tvalid_0's l2: 1.79184e+07\n",
      "[2]\tvalid_0's l2: 1.56201e+07\n",
      "[5]\tvalid_0's l2: 1.07311e+07\n",
      "[2]\tvalid_0's l2: 1.53458e+07\n",
      "[2]\tvalid_0's l2: 1.52011e+07\n",
      "[2]\tvalid_0's l2: 1.53132e+07\n",
      "[2]\tvalid_0's l2: 1.54215e+07\n",
      "[6]\tvalid_0's l2: 9.57217e+06\n",
      "[2]\tvalid_0's l2: 1.52047e+07\n",
      "[2]\tvalid_0's l2: 1.51916e+07\n",
      "[3]\tvalid_0's l2: 1.36043e+07\n",
      "[7]\tvalid_0's l2: 8.59921e+06\n",
      "[3]\tvalid_0's l2: 1.32656e+07\n",
      "[8]\tvalid_0's l2: 7.78964e+06\n",
      "[4]\tvalid_0's l2: 1.19799e+07\n",
      "[3]\tvalid_0's l2: 1.33688e+07\n",
      "[3]\tvalid_0's l2: 1.30598e+07\n",
      "[3]\tvalid_0's l2: 1.32121e+07\n",
      "[9]\tvalid_0's l2: 7.10711e+06\n",
      "[3]\tvalid_0's l2: 1.30494e+07\n",
      "[3]\tvalid_0's l2: 1.30678e+07\n",
      "[4]\tvalid_0's l2: 1.15565e+07\n",
      "[5]\tvalid_0's l2: 1.05531e+07\n",
      "[10]\tvalid_0's l2: 6.52692e+06\n",
      "[4]\tvalid_0's l2: 1.16892e+07\n",
      "[6]\tvalid_0's l2: 9.39128e+06\n",
      "[4]\tvalid_0's l2: 1.13076e+07\n",
      "[4]\tvalid_0's l2: 1.12987e+07\n",
      "[11]\tvalid_0's l2: 6.03287e+06\n",
      "[4]\tvalid_0's l2: 1.14974e+07\n",
      "[5]\tvalid_0's l2: 1.02651e+07\n",
      "[4]\tvalid_0's l2: 1.13182e+07\n",
      "[7]\tvalid_0's l2: 8.42466e+06\n",
      "[5]\tvalid_0's l2: 1.01266e+07\n",
      "[12]\tvalid_0's l2: 5.61469e+06\n",
      "[13]\tvalid_0's l2: 5.24343e+06\n",
      "[5]\tvalid_0's l2: 9.87685e+06\n",
      "[8]\tvalid_0's l2: 7.60792e+06\n",
      "[5]\tvalid_0's l2: 1.00623e+07\n",
      "[6]\tvalid_0's l2: 9.07649e+06\n",
      "[14]\tvalid_0's l2: 4.93135e+06\n",
      "[6]\tvalid_0's l2: 8.96751e+06\n",
      "[9]\tvalid_0's l2: 6.92825e+06\n",
      "[5]\tvalid_0's l2: 9.86351e+06\n",
      "[5]\tvalid_0's l2: 9.8871e+06\n",
      "[15]\tvalid_0's l2: 4.6738e+06\n",
      "[7]\tvalid_0's l2: 8.09612e+06\n",
      "[6]\tvalid_0's l2: 8.67617e+06\n",
      "[7]\tvalid_0's l2: 7.96957e+06\n",
      "[6]\tvalid_0's l2: 8.87621e+06\n",
      "[10]\tvalid_0's l2: 6.35902e+06\n",
      "[16]\tvalid_0's l2: 4.45132e+06\n",
      "[11]\tvalid_0's l2: 5.87119e+06\n",
      "[8]\tvalid_0's l2: 7.144e+06\n",
      "[17]\tvalid_0's l2: 4.2497e+06\n",
      "[6]\tvalid_0's l2: 8.65933e+06\n",
      "[8]\tvalid_0's l2: 7.28019e+06\n",
      "[12]\tvalid_0's l2: 5.44902e+06\n",
      "[7]\tvalid_0's l2: 7.6748e+06\n",
      "[7]\tvalid_0's l2: 7.87888e+06\n",
      "[6]\tvalid_0's l2: 8.68606e+06\n",
      "[18]\tvalid_0's l2: 4.07815e+06\n",
      "[7]\tvalid_0's l2: 7.67902e+06\n",
      "[9]\tvalid_0's l2: 6.45155e+06\n",
      "[13]\tvalid_0's l2: 5.09122e+06\n",
      "[10]\tvalid_0's l2: 5.87896e+06\n",
      "[19]\tvalid_0's l2: 3.92135e+06\n",
      "[9]\tvalid_0's l2: 6.59246e+06\n",
      "[7]\tvalid_0's l2: 7.68459e+06\n",
      "[20]\tvalid_0's l2: 3.7891e+06\n",
      "[8]\tvalid_0's l2: 6.85678e+06\n",
      "[14]\tvalid_0's l2: 4.77814e+06\n",
      "[8]\tvalid_0's l2: 7.06549e+06\n",
      "[11]\tvalid_0's l2: 5.39588e+06\n",
      "[10]\tvalid_0's l2: 6.01938e+06\n",
      "[21]\tvalid_0's l2: 3.67429e+06\n",
      "[15]\tvalid_0's l2: 4.52145e+06[8]\tvalid_0's l2: 6.84812e+06\n",
      "\n",
      "[16]\tvalid_0's l2: 4.28656e+06\n",
      "[12]\tvalid_0's l2: 4.98496e+06\n",
      "[22]\tvalid_0's l2: 3.57189e+06\n",
      "[9]\tvalid_0's l2: 6.3844e+06\n",
      "[8]\tvalid_0's l2: 6.87018e+06\n",
      "[23]\tvalid_0's l2: 3.47738e+06[9]\tvalid_0's l2: 6.17785e+06\n",
      "\n",
      "[17]\tvalid_0's l2: 4.10013e+06\n",
      "[11]\tvalid_0's l2: 5.53833e+06\n",
      "[24]\tvalid_0's l2: 3.39954e+06\n",
      "[9]\tvalid_0's l2: 6.16581e+06\n",
      "[13]\tvalid_0's l2: 4.64579e+06\n",
      "[18]\tvalid_0's l2: 3.9315e+06\n",
      "[10]\tvalid_0's l2: 5.60571e+06\n",
      "[10]\tvalid_0's l2: 5.80978e+06\n",
      "[25]\tvalid_0's l2: 3.33001e+06\n",
      "[12]\tvalid_0's l2: 5.1321e+06\n",
      "[26]\tvalid_0's l2: 3.26228e+06\n",
      "[19]\tvalid_0's l2: 3.7918e+06\n",
      "[14]\tvalid_0's l2: 4.35623e+06\n",
      "[9]\tvalid_0's l2: 6.1868e+06\n",
      "[20]\tvalid_0's l2: 3.65888e+06\n",
      "[27]\tvalid_0's l2: 3.20506e+06\n",
      "[10]\tvalid_0's l2: 5.59261e+06\n",
      "[13]\tvalid_0's l2: 4.79008e+06\n",
      "[11]\tvalid_0's l2: 5.3317e+06\n",
      "[28]\tvalid_0's l2: 3.15658e+06\n",
      "[15]\tvalid_0's l2: 4.11265e+06\n",
      "[11]\tvalid_0's l2: 5.12808e+06\n",
      "[21]\tvalid_0's l2: 3.55103e+06\n",
      "[29]\tvalid_0's l2: 3.10848e+06\n",
      "[12]\tvalid_0's l2: 4.93161e+06[14]\tvalid_0's l2: 4.49616e+06\n",
      "\n",
      "[11]\tvalid_0's l2: 5.11548e+06\n",
      "[30]\tvalid_0's l2: 3.06773e+06\n",
      "[12]\tvalid_0's l2: 4.72985e+06\n",
      "[22]\tvalid_0's l2: 3.44716e+06\n",
      "[16]\tvalid_0's l2: 3.90388e+06\n",
      "[10]\tvalid_0's l2: 5.62042e+06\n",
      "[31]\tvalid_0's l2: 3.03155e+06\n",
      "[15]\tvalid_0's l2: 4.25006e+06\n",
      "[23]\tvalid_0's l2: 3.36835e+06\n",
      "[32]\tvalid_0's l2: 3.00133e+06\n",
      "[17]\tvalid_0's l2: 3.72485e+06\n",
      "[13]\tvalid_0's l2: 4.59272e+06\n",
      "[24]\tvalid_0's l2: 3.29175e+06\n",
      "[12]\tvalid_0's l2: 4.71244e+06\n",
      "[33]\tvalid_0's l2: 2.97246e+06\n",
      "[13]\tvalid_0's l2: 4.39071e+06\n",
      "[16]\tvalid_0's l2: 4.04026e+06\n",
      "[11]\tvalid_0's l2: 5.13891e+06\n",
      "[34]\tvalid_0's l2: 2.94623e+06\n",
      "[17]\tvalid_0's l2: 3.85445e+06\n",
      "[25]\tvalid_0's l2: 3.22754e+06\n",
      "[14]\tvalid_0's l2: 4.30244e+06\n",
      "[18]\tvalid_0's l2: 3.5739e+06\n",
      "[35]\tvalid_0's l2: 2.91998e+06\n",
      "[26]\tvalid_0's l2: 3.1666e+06\n",
      "[13]\tvalid_0's l2: 4.38032e+06\n",
      "[12]\tvalid_0's l2: 4.74318e+06\n",
      "[18]\tvalid_0's l2: 3.69385e+06\n",
      "[27]\tvalid_0's l2: 3.11351e+06\n",
      "[36]\tvalid_0's l2: 2.89465e+06\n",
      "[14]\tvalid_0's l2: 4.10889e+06\n",
      "[19]\tvalid_0's l2: 3.43916e+06\n",
      "[37]\tvalid_0's l2: 2.87745e+06\n",
      "[28]\tvalid_0's l2: 3.06503e+06\n",
      "[38]\tvalid_0's l2: 2.85753e+06\n",
      "[14]\tvalid_0's l2: 4.10453e+06\n",
      "[15]\tvalid_0's l2: 4.05439e+06\n",
      "[19]\tvalid_0's l2: 3.55812e+06\n",
      "[39]\tvalid_0's l2: 2.84169e+06\n",
      "[20]\tvalid_0's l2: 3.32559e+06\n",
      "[15]\tvalid_0's l2: 3.87378e+06\n",
      "[29]\tvalid_0's l2: 3.02299e+06\n",
      "[13]\tvalid_0's l2: 4.405e+06\n",
      "[40]\tvalid_0's l2: 2.82674e+06\n",
      "[20]\tvalid_0's l2: 3.43611e+06\n",
      "[30]\tvalid_0's l2: 2.98617e+06[16]\tvalid_0's l2: 3.85029e+06\n",
      "\n",
      "[41]\tvalid_0's l2: 2.81387e+06\n",
      "[21]\tvalid_0's l2: 3.22314e+06\n",
      "[16]\tvalid_0's l2: 3.67518e+06\n",
      "[14]\tvalid_0's l2: 4.12795e+06\n",
      "[15]\tvalid_0's l2: 3.87068e+06\n",
      "[42]\tvalid_0's l2: 2.79873e+06\n",
      "[22]\tvalid_0's l2: 3.14213e+06\n",
      "[31]\tvalid_0's l2: 2.9548e+06\n",
      "[21]\tvalid_0's l2: 3.33742e+06\n",
      "[43]\tvalid_0's l2: 2.78469e+06\n",
      "[44]\tvalid_0's l2: 2.77283e+06\n",
      "[32]\tvalid_0's l2: 2.92548e+06\n",
      "[17]\tvalid_0's l2: 3.67344e+06\n",
      "[17]\tvalid_0's l2: 3.50927e+06\n",
      "[23]\tvalid_0's l2: 3.07089e+06\n",
      "[22]\tvalid_0's l2: 3.25197e+06\n",
      "[15]\tvalid_0's l2: 3.89222e+06\n",
      "[33]\tvalid_0's l2: 2.90038e+06\n",
      "[16]\tvalid_0's l2: 3.66965e+06\n",
      "[45]\tvalid_0's l2: 2.76053e+06\n",
      "[24]\tvalid_0's l2: 3.00623e+06\n",
      "[46]\tvalid_0's l2: 2.75147e+06\n",
      "[23]\tvalid_0's l2: 3.17525e+06\n",
      "[34]\tvalid_0's l2: 2.87717e+06\n",
      "[47]\tvalid_0's l2: 2.73861e+06\n",
      "[17]\tvalid_0's l2: 3.50257e+06\n",
      "[18]\tvalid_0's l2: 3.52549e+06\n",
      "[16]\tvalid_0's l2: 3.69091e+06\n",
      "[48]\tvalid_0's l2: 2.72911e+06\n",
      "[25]\tvalid_0's l2: 2.94933e+06\n",
      "[35]\tvalid_0's l2: 2.85499e+06\n",
      "[18]\tvalid_0's l2: 3.36768e+06\n",
      "[24]\tvalid_0's l2: 3.1082e+06\n",
      "[49]\tvalid_0's l2: 2.72114e+06\n",
      "[19]\tvalid_0's l2: 3.39815e+06\n",
      "[36]\tvalid_0's l2: 2.83589e+06\n",
      "[50]\tvalid_0's l2: 2.71051e+06\n",
      "[26]\tvalid_0's l2: 2.90311e+06\n",
      "[18]\tvalid_0's l2: 3.35717e+06\n",
      "[51]\tvalid_0's l2: 2.70188e+06\n",
      "[37]\tvalid_0's l2: 2.81369e+06\n",
      "[17]\tvalid_0's l2: 3.5234e+06\n",
      "[19]\tvalid_0's l2: 3.24869e+06\n",
      "[25]\tvalid_0's l2: 3.04857e+06\n",
      "[52]\tvalid_0's l2: 2.69376e+06\n",
      "[27]\tvalid_0's l2: 2.85974e+06\n",
      "[20]\tvalid_0's l2: 3.28856e+06\n",
      "[38]\tvalid_0's l2: 2.79725e+06\n",
      "[53]\tvalid_0's l2: 2.68582e+06\n",
      "[28]\tvalid_0's l2: 2.81795e+06\n",
      "[54]\tvalid_0's l2: 2.67817e+06\n",
      "[18]\tvalid_0's l2: 3.37806e+06\n",
      "[21]\tvalid_0's l2: 3.19567e+06\n",
      "[39]\tvalid_0's l2: 2.78039e+06\n",
      "[19]\tvalid_0's l2: 3.23856e+06\n",
      "[20]\tvalid_0's l2: 3.14196e+06\n",
      "[26]\tvalid_0's l2: 2.99397e+06\n",
      "[55]\tvalid_0's l2: 2.67231e+06\n",
      "[29]\tvalid_0's l2: 2.785e+06\n",
      "[40]\tvalid_0's l2: 2.76554e+06\n",
      "[22]\tvalid_0's l2: 3.10907e+06\n",
      "[21]\tvalid_0's l2: 3.04952e+06\n",
      "[19]\tvalid_0's l2: 3.25146e+06\n",
      "[56]\tvalid_0's l2: 2.66565e+06\n",
      "[57]\tvalid_0's l2: 2.65755e+06\n",
      "[58]\tvalid_0's l2: 2.64851e+06\n",
      "[20]\tvalid_0's l2: 3.13667e+06\n",
      "[41]\tvalid_0's l2: 2.75279e+06\n",
      "[30]\tvalid_0's l2: 2.75493e+06\n",
      "[27]\tvalid_0's l2: 2.94959e+06\n",
      "[22]\tvalid_0's l2: 2.97228e+06\n",
      "[59]\tvalid_0's l2: 2.64107e+06\n",
      "[23]\tvalid_0's l2: 3.03512e+06\n",
      "[31]\tvalid_0's l2: 2.72254e+06\n",
      "[42]\tvalid_0's l2: 2.74039e+06\n",
      "[28]\tvalid_0's l2: 2.90741e+06\n",
      "[60]\tvalid_0's l2: 2.63597e+06\n",
      "[20]\tvalid_0's l2: 3.14765e+06\n",
      "[61]\tvalid_0's l2: 2.63035e+06\n",
      "[21]\tvalid_0's l2: 3.04952e+06\n",
      "[43]\tvalid_0's l2: 2.72717e+06\n",
      "[62]\tvalid_0's l2: 2.62514e+06\n",
      "[23]\tvalid_0's l2: 2.90598e+06\n",
      "[63]\tvalid_0's l2: 2.61919e+06\n",
      "[32]\tvalid_0's l2: 2.6971e+06\n",
      "[29]\tvalid_0's l2: 2.86515e+06\n",
      "[44]\tvalid_0's l2: 2.71629e+06\n",
      "[64]\tvalid_0's l2: 2.61513e+06\n",
      "[24]\tvalid_0's l2: 2.97425e+06\n",
      "[24]\tvalid_0's l2: 2.84752e+06\n",
      "[22]\tvalid_0's l2: 2.97253e+06\n",
      "[65]\tvalid_0's l2: 2.61122e+06\n",
      "[33]\tvalid_0's l2: 2.67336e+06\n",
      "[45]\tvalid_0's l2: 2.70431e+06\n",
      "[66]\tvalid_0's l2: 2.60611e+06\n",
      "[30]\tvalid_0's l2: 2.82955e+06\n",
      "[21]\tvalid_0's l2: 3.05792e+06\n",
      "[25]\tvalid_0's l2: 2.91453e+06\n",
      "[25]\tvalid_0's l2: 2.79714e+06\n",
      "[67]\tvalid_0's l2: 2.5989e+06\n",
      "[46]\tvalid_0's l2: 2.69424e+06\n",
      "[34]\tvalid_0's l2: 2.65152e+06\n",
      "[31]\tvalid_0's l2: 2.79618e+06\n",
      "[23]\tvalid_0's l2: 2.90723e+06\n",
      "[68]\tvalid_0's l2: 2.59488e+06\n",
      "[47]\tvalid_0's l2: 2.68454e+06\n",
      "[26]\tvalid_0's l2: 2.86805e+06\n",
      "[35]\tvalid_0's l2: 2.63348e+06\n",
      "[69]\tvalid_0's l2: 2.58984e+06\n",
      "[32]\tvalid_0's l2: 2.76697e+06\n",
      "[26]\tvalid_0's l2: 2.75016e+06\n",
      "[22]\tvalid_0's l2: 2.98047e+06\n",
      "[24]\tvalid_0's l2: 2.84982e+06\n",
      "[70]\tvalid_0's l2: 2.58559e+06\n",
      "[48]\tvalid_0's l2: 2.67488e+06\n",
      "[36]\tvalid_0's l2: 2.61254e+06\n",
      "[33]\tvalid_0's l2: 2.74473e+06\n",
      "[71]\tvalid_0's l2: 2.58161e+06\n",
      "[27]\tvalid_0's l2: 2.82429e+06\n",
      "[49]\tvalid_0's l2: 2.6667e+06\n",
      "[37]\tvalid_0's l2: 2.59871e+06\n",
      "[27]\tvalid_0's l2: 2.71098e+06\n",
      "[72]\tvalid_0's l2: 2.57761e+06\n",
      "[25]\tvalid_0's l2: 2.80068e+06\n",
      "[73]\tvalid_0's l2: 2.57369e+06\n",
      "[23]\tvalid_0's l2: 2.91493e+06\n",
      "[28]\tvalid_0's l2: 2.78482e+06[50]\tvalid_0's l2: 2.65749e+06\n",
      "\n",
      "[34]\tvalid_0's l2: 2.72057e+06\n",
      "[74]\tvalid_0's l2: 2.5689e+06\n",
      "[38]\tvalid_0's l2: 2.58331e+06\n",
      "[51]\tvalid_0's l2: 2.65043e+06\n",
      "[28]\tvalid_0's l2: 2.67718e+06\n",
      "[24]\tvalid_0's l2: 2.86056e+06\n",
      "[75]\tvalid_0's l2: 2.56428e+06\n",
      "[26]\tvalid_0's l2: 2.7541e+06\n",
      "[29]\tvalid_0's l2: 2.75098e+06\n",
      "[35]\tvalid_0's l2: 2.69875e+06\n",
      "[52]\tvalid_0's l2: 2.64414e+06\n",
      "[76]\tvalid_0's l2: 2.55993e+06\n",
      "[77]\tvalid_0's l2: 2.55775e+06\n",
      "[29]\tvalid_0's l2: 2.64575e+06\n",
      "[53]\tvalid_0's l2: 2.63805e+06\n",
      "[39]\tvalid_0's l2: 2.5722e+06\n",
      "[36]\tvalid_0's l2: 2.67965e+06\n",
      "[30]\tvalid_0's l2: 2.724e+06\n",
      "[27]\tvalid_0's l2: 2.71577e+06\n",
      "[40]\tvalid_0's l2: 2.55773e+06\n",
      "[54]\tvalid_0's l2: 2.63032e+06\n",
      "[78]\tvalid_0's l2: 2.55421e+06\n",
      "[25]\tvalid_0's l2: 2.81023e+06\n",
      "[30]\tvalid_0's l2: 2.61921e+06\n",
      "[37]\tvalid_0's l2: 2.66374e+06\n",
      "[79]\tvalid_0's l2: 2.55099e+06\n",
      "[55]\tvalid_0's l2: 2.62372e+06\n",
      "[80]\tvalid_0's l2: 2.54751e+06\n",
      "[31]\tvalid_0's l2: 2.69446e+06\n",
      "[41]\tvalid_0's l2: 2.5471e+06\n",
      "[38]\tvalid_0's l2: 2.64821e+06\n",
      "[56]\tvalid_0's l2: 2.61775e+06\n",
      "[31]\tvalid_0's l2: 2.59601e+06\n",
      "[81]\tvalid_0's l2: 2.54446e+06\n",
      "[26]\tvalid_0's l2: 2.76687e+06\n",
      "[28]\tvalid_0's l2: 2.67887e+06\n",
      "[82]\tvalid_0's l2: 2.5407e+06\n",
      "[42]\tvalid_0's l2: 2.53664e+06\n",
      "[39]\tvalid_0's l2: 2.63293e+06\n",
      "[57]\tvalid_0's l2: 2.60988e+06\n",
      "[83]\tvalid_0's l2: 2.53823e+06\n",
      "[32]\tvalid_0's l2: 2.66519e+06\n",
      "[32]\tvalid_0's l2: 2.57189e+06\n",
      "[84]\tvalid_0's l2: 2.53394e+06\n",
      "[58]\tvalid_0's l2: 2.60365e+06\n",
      "[43]\tvalid_0's l2: 2.52624e+06\n",
      "[29]\tvalid_0's l2: 2.64559e+06\n",
      "[27]\tvalid_0's l2: 2.7243e+06\n",
      "[40]\tvalid_0's l2: 2.62211e+06\n",
      "[85]\tvalid_0's l2: 2.53088e+06\n",
      "[33]\tvalid_0's l2: 2.63866e+06\n",
      "[44]\tvalid_0's l2: 2.51595e+06\n",
      "[59]\tvalid_0's l2: 2.59808e+06\n",
      "[86]\tvalid_0's l2: 2.52949e+06\n",
      "[33]\tvalid_0's l2: 2.54775e+06\n",
      "[87]\tvalid_0's l2: 2.52746e+06\n",
      "[28]\tvalid_0's l2: 2.69181e+06\n",
      "[41]\tvalid_0's l2: 2.60629e+06\n",
      "[60]\tvalid_0's l2: 2.59194e+06\n",
      "[88]\tvalid_0's l2: 2.52474e+06\n",
      "[30]\tvalid_0's l2: 2.6181e+06\n",
      "[34]\tvalid_0's l2: 2.61899e+06\n",
      "[89]\tvalid_0's l2: 2.52287e+06\n",
      "[45]\tvalid_0's l2: 2.50713e+06\n",
      "[61]\tvalid_0's l2: 2.5845e+06\n",
      "[42]\tvalid_0's l2: 2.59604e+06\n",
      "[34]\tvalid_0's l2: 2.53112e+06\n",
      "[90]\tvalid_0's l2: 2.51878e+06\n",
      "[62]\tvalid_0's l2: 2.58101e+06\n",
      "[91]\tvalid_0's l2: 2.51713e+06\n",
      "[29]\tvalid_0's l2: 2.66073e+06\n",
      "[46]\tvalid_0's l2: 2.49868e+06\n",
      "[43]\tvalid_0's l2: 2.58602e+06\n",
      "[35]\tvalid_0's l2: 2.51062e+06\n",
      "[31]\tvalid_0's l2: 2.59409e+06\n",
      "[63]\tvalid_0's l2: 2.57698e+06\n",
      "[35]\tvalid_0's l2: 2.59818e+06\n",
      "[92]\tvalid_0's l2: 2.51439e+06\n",
      "[64]\tvalid_0's l2: 2.57219e+06\n",
      "[93]\tvalid_0's l2: 2.51229e+06[47]\tvalid_0's l2: 2.48917e+06\n",
      "\n",
      "[44]\tvalid_0's l2: 2.57476e+06\n",
      "[36]\tvalid_0's l2: 2.49417e+06\n",
      "[36]\tvalid_0's l2: 2.5813e+06\n",
      "[94]\tvalid_0's l2: 2.51028e+06\n",
      "[65]\tvalid_0's l2: 2.56721e+06\n",
      "[30]\tvalid_0's l2: 2.63318e+06\n",
      "[95]\tvalid_0's l2: 2.50845e+06\n",
      "[96]\tvalid_0's l2: 2.50758e+06\n",
      "[37]\tvalid_0's l2: 2.47837e+06[32]\tvalid_0's l2: 2.56966e+06\n",
      "\n",
      "[45]\tvalid_0's l2: 2.56528e+06\n",
      "[48]\tvalid_0's l2: 2.48048e+06\n",
      "[97]\tvalid_0's l2: 2.50642e+06\n",
      "[66]\tvalid_0's l2: 2.56467e+06\n",
      "[37]\tvalid_0's l2: 2.56583e+06\n",
      "[67]\tvalid_0's l2: 2.559e+06\n",
      "[31]\tvalid_0's l2: 2.60962e+06\n",
      "[98]\tvalid_0's l2: 2.50517e+06\n",
      "[38]\tvalid_0's l2: 2.46608e+06\n",
      "[46]\tvalid_0's l2: 2.55671e+06\n",
      "[49]\tvalid_0's l2: 2.4737e+06\n",
      "[68]\tvalid_0's l2: 2.55598e+06\n",
      "[99]\tvalid_0's l2: 2.50382e+06\n",
      "[33]\tvalid_0's l2: 2.55076e+06\n",
      "[69]\tvalid_0's l2: 2.55048e+06\n",
      "[100]\tvalid_0's l2: 2.50035e+06\n",
      "[38]\tvalid_0's l2: 2.55453e+06\n",
      "[39]\tvalid_0's l2: 2.45148e+06\n",
      "[47]\tvalid_0's l2: 2.5459e+06\n",
      "[50]\tvalid_0's l2: 2.46664e+06\n",
      "[70]\tvalid_0's l2: 2.54616e+06[34]\tvalid_0's l2: 2.53191e+06\n",
      "[39]\tvalid_0's l2: 2.54105e+06\n",
      "\n",
      "[32]\tvalid_0's l2: 2.58712e+06\n",
      "[48]\tvalid_0's l2: 2.53774e+06\n",
      "[51]\tvalid_0's l2: 2.46019e+06\n",
      "[40]\tvalid_0's l2: 2.44268e+06\n",
      "[71]\tvalid_0's l2: 2.54282e+06\n",
      "[40]\tvalid_0's l2: 2.52827e+06\n",
      "[72]\tvalid_0's l2: 2.53905e+06\n",
      "[35]\tvalid_0's l2: 2.51092e+06\n",
      "[52]\tvalid_0's l2: 2.45547e+06\n"
     ]
    },
    {
     "name": "stderr",
     "output_type": "stream",
     "text": [
      "[I 2023-06-29 19:55:18,155] Trial 0 finished with value: 1581.2492938517855 and parameters: {'num_leaves': 21, 'min_child_samples': 18}. Best is trial 0 with value: 1581.2492938517855.\n"
     ]
    },
    {
     "name": "stdout",
     "output_type": "stream",
     "text": [
      "[73]\tvalid_0's l2: 2.53509e+06\n",
      "[49]\tvalid_0's l2: 2.5309e+06\n",
      "[74]\tvalid_0's l2: 2.53244e+06\n",
      "[41]\tvalid_0's l2: 2.51762e+06\n",
      "[53]\tvalid_0's l2: 2.45095e+06\n",
      "[41]\tvalid_0's l2: 2.43379e+06\n",
      "[75]\tvalid_0's l2: 2.52811e+06\n",
      "[33]\tvalid_0's l2: 2.5664e+06\n",
      "[36]\tvalid_0's l2: 2.49512e+06\n",
      "[50]\tvalid_0's l2: 2.52363e+06\n",
      "[76]\tvalid_0's l2: 2.52505e+06\n",
      "[54]\tvalid_0's l2: 2.44504e+06\n",
      "[42]\tvalid_0's l2: 2.50659e+06\n",
      "[77]\tvalid_0's l2: 2.5228e+06\n",
      "[42]\tvalid_0's l2: 2.42299e+06\n",
      "[78]\tvalid_0's l2: 2.52043e+06\n",
      "[34]\tvalid_0's l2: 2.54332e+06\n",
      "[51]\tvalid_0's l2: 2.51644e+06\n",
      "[37]\tvalid_0's l2: 2.47884e+06\n",
      "[52]\tvalid_0's l2: 2.51063e+06\n",
      "[79]\tvalid_0's l2: 2.51705e+06\n",
      "[55]\tvalid_0's l2: 2.4398e+06\n",
      "[43]\tvalid_0's l2: 2.49767e+06\n",
      "[53]\tvalid_0's l2: 2.50348e+06\n",
      "[35]\tvalid_0's l2: 2.52755e+06\n",
      "[1]\tvalid_0's l2: 1.79121e+07\n",
      "[43]\tvalid_0's l2: 2.41512e+06\n",
      "[80]\tvalid_0's l2: 2.51351e+06\n",
      "[38]\tvalid_0's l2: 2.46519e+06\n",
      "[2]\tvalid_0's l2: 1.54031e+07\n",
      "[81]\tvalid_0's l2: 2.51148e+06\n",
      "[56]\tvalid_0's l2: 2.43266e+06\n",
      "[44]\tvalid_0's l2: 2.48948e+06\n",
      "[44]\tvalid_0's l2: 2.40843e+06\n",
      "[57]\tvalid_0's l2: 2.42932e+06\n",
      "[82]\tvalid_0's l2: 2.50883e+06\n",
      "[54]\tvalid_0's l2: 2.49579e+06\n",
      "[45]\tvalid_0's l2: 2.48017e+06\n",
      "[36]\tvalid_0's l2: 2.50924e+06\n",
      "[3]\tvalid_0's l2: 1.33394e+07\n",
      "[83]\tvalid_0's l2: 2.5046e+06\n",
      "[55]\tvalid_0's l2: 2.49013e+06\n",
      "[58]\tvalid_0's l2: 2.42441e+06\n",
      "[4]\tvalid_0's l2: 1.16499e+07\n",
      "[39]\tvalid_0's l2: 2.45403e+06\n",
      "[84]\tvalid_0's l2: 2.50254e+06\n",
      "[56]\tvalid_0's l2: 2.48625e+06\n",
      "[46]\tvalid_0's l2: 2.47079e+06\n",
      "[45]\tvalid_0's l2: 2.40211e+06\n",
      "[85]\tvalid_0's l2: 2.49898e+06\n",
      "[59]\tvalid_0's l2: 2.41989e+06\n",
      "[86]\tvalid_0's l2: 2.49773e+06\n",
      "[37]\tvalid_0's l2: 2.49475e+06\n",
      "[5]\tvalid_0's l2: 1.02197e+07\n",
      "[40]\tvalid_0's l2: 2.44113e+06\n",
      "[57]\tvalid_0's l2: 2.48127e+06\n",
      "[60]\tvalid_0's l2: 2.41659e+06\n",
      "[87]\tvalid_0's l2: 2.49676e+06\n",
      "[47]\tvalid_0's l2: 2.46329e+06\n",
      "[46]\tvalid_0's l2: 2.39503e+06\n",
      "[6]\tvalid_0's l2: 9.02894e+06\n",
      "[58]\tvalid_0's l2: 2.47635e+06\n",
      "[88]\tvalid_0's l2: 2.49541e+06\n",
      "[61]\tvalid_0's l2: 2.41327e+06\n",
      "[38]\tvalid_0's l2: 2.48155e+06\n",
      "[41]\tvalid_0's l2: 2.43152e+06\n",
      "[59]\tvalid_0's l2: 2.47081e+06\n",
      "[7]\tvalid_0's l2: 8.04685e+06\n",
      "[89]\tvalid_0's l2: 2.49396e+06\n",
      "[47]\tvalid_0's l2: 2.38939e+06\n",
      "[48]\tvalid_0's l2: 2.45684e+06\n",
      "[90]\tvalid_0's l2: 2.49235e+06\n",
      "[62]\tvalid_0's l2: 2.40996e+06\n",
      "[60]\tvalid_0's l2: 2.46612e+06\n",
      "[8]\tvalid_0's l2: 7.23332e+06\n",
      "[42]\tvalid_0's l2: 2.42168e+06\n",
      "[91]\tvalid_0's l2: 2.48933e+06\n",
      "[63]\tvalid_0's l2: 2.40685e+06\n",
      "[39]\tvalid_0's l2: 2.46893e+06\n",
      "[92]\tvalid_0's l2: 2.48669e+06\n",
      "[61]\tvalid_0's l2: 2.46098e+06\n",
      "[49]\tvalid_0's l2: 2.44955e+06\n",
      "[48]\tvalid_0's l2: 2.38259e+06\n",
      "[93]\tvalid_0's l2: 2.48483e+06\n",
      "[9]\tvalid_0's l2: 6.55634e+06\n",
      "[62]\tvalid_0's l2: 2.45713e+06\n",
      "[64]\tvalid_0's l2: 2.40258e+06\n",
      "[43]\tvalid_0's l2: 2.41217e+06\n",
      "[94]\tvalid_0's l2: 2.48336e+06\n",
      "[10]\tvalid_0's l2: 5.98085e+06\n",
      "[49]\tvalid_0's l2: 2.37753e+06\n",
      "[63]\tvalid_0's l2: 2.45359e+06\n",
      "[95]\tvalid_0's l2: 2.48121e+06\n",
      "[50]\tvalid_0's l2: 2.44426e+06\n",
      "[44]\tvalid_0's l2: 2.40406e+06\n",
      "[65]\tvalid_0's l2: 2.39954e+06\n",
      "[40]\tvalid_0's l2: 2.45601e+06\n",
      "[96]\tvalid_0's l2: 2.48042e+06\n",
      "[11]\tvalid_0's l2: 5.50422e+06\n",
      "[64]\tvalid_0's l2: 2.44929e+06\n",
      "[66]\tvalid_0's l2: 2.39762e+06\n",
      "[97]\tvalid_0's l2: 2.47938e+06\n",
      "[51]\tvalid_0's l2: 2.438e+06\n",
      "[67]\tvalid_0's l2: 2.39498e+06\n",
      "[41]\tvalid_0's l2: 2.44655e+06\n",
      "[98]\tvalid_0's l2: 2.47624e+06\n",
      "[50]\tvalid_0's l2: 2.37256e+06\n",
      "[12]\tvalid_0's l2: 5.09581e+06\n",
      "[45]\tvalid_0's l2: 2.39546e+06\n",
      "[99]\tvalid_0's l2: 2.47489e+06\n",
      "[68]\tvalid_0's l2: 2.39243e+06\n",
      "[65]\tvalid_0's l2: 2.44518e+06\n",
      "[100]\tvalid_0's l2: 2.47416e+06\n",
      "[13]\tvalid_0's l2: 4.75148e+06\n",
      "[42]\tvalid_0's l2: 2.43724e+06\n",
      "[52]\tvalid_0's l2: 2.43255e+06\n",
      "[46]\tvalid_0's l2: 2.38808e+06\n",
      "[69]\tvalid_0's l2: 2.39017e+06\n",
      "[53]\tvalid_0's l2: 2.42689e+06\n",
      "[14]\tvalid_0's l2: 4.463e+06\n",
      "[66]\tvalid_0's l2: 2.44297e+06\n",
      "[51]\tvalid_0's l2: 2.36769e+06\n",
      "[15]\tvalid_0's l2: 4.20733e+06\n",
      "[70]\tvalid_0's l2: 2.38761e+06\n"
     ]
    },
    {
     "name": "stderr",
     "output_type": "stream",
     "text": [
      "[I 2023-06-29 19:55:27,563] Trial 6 finished with value: 1572.9454963613293 and parameters: {'num_leaves': 26, 'min_child_samples': 29}. Best is trial 6 with value: 1572.9454963613293.\n"
     ]
    },
    {
     "name": "stdout",
     "output_type": "stream",
     "text": [
      "[67]\tvalid_0's l2: 2.43994e+06\n",
      "[47]\tvalid_0's l2: 2.38221e+06\n",
      "[43]\tvalid_0's l2: 2.42927e+06\n",
      "[68]\tvalid_0's l2: 2.43627e+06\n",
      "[16]\tvalid_0's l2: 3.98945e+06\n",
      "[71]\tvalid_0's l2: 2.38613e+06\n",
      "[54]\tvalid_0's l2: 2.42141e+06\n",
      "[17]\tvalid_0's l2: 3.81141e+06\n",
      "[69]\tvalid_0's l2: 2.43417e+06\n",
      "[44]\tvalid_0's l2: 2.42275e+06\n",
      "[18]\tvalid_0's l2: 3.65458e+06\n",
      "[48]\tvalid_0's l2: 2.37598e+06\n",
      "[52]\tvalid_0's l2: 2.36375e+06\n",
      "[55]\tvalid_0's l2: 2.41681e+06\n",
      "[72]\tvalid_0's l2: 2.38389e+06\n",
      "[19]\tvalid_0's l2: 3.52209e+06\n",
      "[70]\tvalid_0's l2: 2.43048e+06\n",
      "[49]\tvalid_0's l2: 2.36877e+06\n",
      "[73]\tvalid_0's l2: 2.38181e+06\n",
      "[56]\tvalid_0's l2: 2.41211e+06\n",
      "[53]\tvalid_0's l2: 2.3587e+06\n",
      "[45]\tvalid_0's l2: 2.41532e+06\n",
      "[74]\tvalid_0's l2: 2.37963e+06\n",
      "[20]\tvalid_0's l2: 3.40762e+06\n",
      "[1]\tvalid_0's l2: 1.79546e+07\n",
      "[50]\tvalid_0's l2: 2.3645e+06\n",
      "[57]\tvalid_0's l2: 2.40837e+06\n",
      "[75]\tvalid_0's l2: 2.37754e+06\n",
      "[71]\tvalid_0's l2: 2.42764e+06\n",
      "[21]\tvalid_0's l2: 3.30792e+06\n",
      "[54]\tvalid_0's l2: 2.35559e+06\n",
      "[2]\tvalid_0's l2: 1.54858e+07\n",
      "[76]\tvalid_0's l2: 2.37599e+06\n",
      "[3]\tvalid_0's l2: 1.34593e+07\n",
      "[72]\tvalid_0's l2: 2.42417e+06\n",
      "[46]\tvalid_0's l2: 2.40843e+06\n",
      "[22]\tvalid_0's l2: 3.21831e+06[58]\tvalid_0's l2: 2.4037e+06\n",
      "\n",
      "[51]\tvalid_0's l2: 2.36e+06\n",
      "[77]\tvalid_0's l2: 2.37404e+06\n",
      "[73]\tvalid_0's l2: 2.42211e+06\n",
      "[4]\tvalid_0's l2: 1.17747e+07\n",
      "[23]\tvalid_0's l2: 3.13709e+06[55]\tvalid_0's l2: 2.35189e+06\n",
      "\n",
      "[78]\tvalid_0's l2: 2.37335e+06\n",
      "[5]\tvalid_0's l2: 1.03754e+07\n",
      "[24]\tvalid_0's l2: 3.07068e+06\n",
      "[59]\tvalid_0's l2: 2.40086e+06\n",
      "[47]\tvalid_0's l2: 2.40096e+06\n",
      "[6]\tvalid_0's l2: 9.19222e+06\n",
      "[74]\tvalid_0's l2: 2.41954e+06\n",
      "[79]\tvalid_0's l2: 2.37226e+06\n",
      "[52]\tvalid_0's l2: 2.35658e+06\n",
      "[25]\tvalid_0's l2: 3.01456e+06\n",
      "[75]\tvalid_0's l2: 2.41753e+06\n",
      "[56]\tvalid_0's l2: 2.34834e+06\n",
      "[7]\tvalid_0's l2: 8.22261e+06\n",
      "[80]\tvalid_0's l2: 2.37106e+06\n",
      "[76]\tvalid_0's l2: 2.41419e+06\n",
      "[60]\tvalid_0's l2: 2.39788e+06\n",
      "[81]\tvalid_0's l2: 2.37041e+06\n",
      "[53]\tvalid_0's l2: 2.35289e+06\n",
      "[8]\tvalid_0's l2: 7.40279e+06\n",
      "[26]\tvalid_0's l2: 2.96513e+06\n",
      "[48]\tvalid_0's l2: 2.39564e+06\n",
      "[77]\tvalid_0's l2: 2.41342e+06\n",
      "[9]\tvalid_0's l2: 6.731e+06\n",
      "[61]\tvalid_0's l2: 2.39501e+06\n",
      "[82]\tvalid_0's l2: 2.36687e+06\n",
      "[57]\tvalid_0's l2: 2.34385e+06\n",
      "[27]\tvalid_0's l2: 2.91819e+06\n",
      "[78]\tvalid_0's l2: 2.41118e+06\n",
      "[83]\tvalid_0's l2: 2.36548e+06\n",
      "[54]\tvalid_0's l2: 2.34794e+06\n",
      "[10]\tvalid_0's l2: 6.14999e+06\n",
      "[62]\tvalid_0's l2: 2.39238e+06\n",
      "[28]\tvalid_0's l2: 2.87678e+06\n",
      "[11]\tvalid_0's l2: 5.66228e+06\n",
      "[79]\tvalid_0's l2: 2.41019e+06\n",
      "[49]\tvalid_0's l2: 2.38898e+06\n",
      "[84]\tvalid_0's l2: 2.36454e+06\n",
      "[85]\tvalid_0's l2: 2.36346e+06\n",
      "[58]\tvalid_0's l2: 2.34077e+06\n",
      "[29]\tvalid_0's l2: 2.83836e+06\n",
      "[12]\tvalid_0's l2: 5.25369e+06\n",
      "[80]\tvalid_0's l2: 2.40718e+06\n",
      "[63]\tvalid_0's l2: 2.38952e+06\n",
      "[86]\tvalid_0's l2: 2.36215e+06\n",
      "[55]\tvalid_0's l2: 2.34377e+06\n",
      "[87]\tvalid_0's l2: 2.36165e+06\n",
      "[81]\tvalid_0's l2: 2.40574e+06\n",
      "[30]\tvalid_0's l2: 2.80911e+06\n",
      "[50]\tvalid_0's l2: 2.38297e+06\n",
      "[13]\tvalid_0's l2: 4.91263e+06\n",
      "[82]\tvalid_0's l2: 2.40348e+06\n",
      "[64]\tvalid_0's l2: 2.38682e+06\n",
      "[88]\tvalid_0's l2: 2.35986e+06\n",
      "[83]\tvalid_0's l2: 2.40093e+06\n",
      "[31]\tvalid_0's l2: 2.77746e+06\n",
      "[56]\tvalid_0's l2: 2.34096e+06\n",
      "[14]\tvalid_0's l2: 4.61477e+06\n",
      "[59]\tvalid_0's l2: 2.33747e+06\n",
      "[51]\tvalid_0's l2: 2.37845e+06\n",
      "[84]\tvalid_0's l2: 2.3996e+06\n",
      "[32]\tvalid_0's l2: 2.7469e+06\n",
      "[89]\tvalid_0's l2: 2.3581e+06\n",
      "[15]\tvalid_0's l2: 4.35859e+06\n",
      "[65]\tvalid_0's l2: 2.38276e+06\n",
      "[33]\tvalid_0's l2: 2.7229e+06\n",
      "[85]\tvalid_0's l2: 2.39844e+06\n",
      "[90]\tvalid_0's l2: 2.35736e+06\n",
      "[57]\tvalid_0's l2: 2.33566e+06\n",
      "[60]\tvalid_0's l2: 2.33439e+06\n",
      "[91]\tvalid_0's l2: 2.3538e+06\n",
      "[34]\tvalid_0's l2: 2.70069e+06\n",
      "[86]\tvalid_0's l2: 2.39726e+06\n",
      "[16]\tvalid_0's l2: 4.1367e+06\n",
      "[87]\tvalid_0's l2: 2.39557e+06\n",
      "[66]\tvalid_0's l2: 2.37944e+06\n",
      "[17]\tvalid_0's l2: 3.94582e+06\n",
      "[52]\tvalid_0's l2: 2.37363e+06\n",
      "[18]\tvalid_0's l2: 3.78153e+06\n",
      "[92]\tvalid_0's l2: 2.35215e+06\n",
      "[61]\tvalid_0's l2: 2.33043e+06\n",
      "[35]\tvalid_0's l2: 2.68093e+06\n",
      "[58]\tvalid_0's l2: 2.3316e+06\n",
      "[93]\tvalid_0's l2: 2.35134e+06\n",
      "[88]\tvalid_0's l2: 2.39493e+06\n",
      "[19]\tvalid_0's l2: 3.64849e+06\n",
      "[62]\tvalid_0's l2: 2.32841e+06\n",
      "[94]\tvalid_0's l2: 2.34971e+06\n",
      "[53]\tvalid_0's l2: 2.36863e+06\n",
      "[20]\tvalid_0's l2: 3.52621e+06\n",
      "[36]\tvalid_0's l2: 2.66453e+06\n",
      "[67]\tvalid_0's l2: 2.3765e+06\n",
      "[89]\tvalid_0's l2: 2.39363e+06\n",
      "[21]\tvalid_0's l2: 3.42529e+06\n",
      "[95]\tvalid_0's l2: 2.34743e+06\n",
      "[22]\tvalid_0's l2: 3.3301e+06\n",
      "[37]\tvalid_0's l2: 2.64805e+06\n",
      "[59]\tvalid_0's l2: 2.32802e+06\n",
      "[63]\tvalid_0's l2: 2.32659e+06\n",
      "[96]\tvalid_0's l2: 2.34643e+06\n",
      "[54]\tvalid_0's l2: 2.36433e+06\n",
      "[68]\tvalid_0's l2: 2.37391e+06\n",
      "[90]\tvalid_0's l2: 2.39296e+06\n",
      "[38]\tvalid_0's l2: 2.63499e+06\n",
      "[23]\tvalid_0's l2: 3.2549e+06\n",
      "[97]\tvalid_0's l2: 2.34346e+06\n",
      "[60]\tvalid_0's l2: 2.32538e+06\n",
      "[91]\tvalid_0's l2: 2.39179e+06\n",
      "[39]\tvalid_0's l2: 2.62087e+06\n",
      "[64]\tvalid_0's l2: 2.32397e+06\n",
      "[24]\tvalid_0's l2: 3.18377e+06\n",
      "[92]\tvalid_0's l2: 2.3913e+06\n",
      "[69]\tvalid_0's l2: 2.37167e+06\n",
      "[98]\tvalid_0's l2: 2.34198e+06\n",
      "[25]\tvalid_0's l2: 3.12525e+06\n",
      "[55]\tvalid_0's l2: 2.36077e+06\n",
      "[93]\tvalid_0's l2: 2.39045e+06\n",
      "[99]\tvalid_0's l2: 2.33985e+06\n",
      "[26]\tvalid_0's l2: 3.06871e+06\n",
      "[40]\tvalid_0's l2: 2.60595e+06\n",
      "[100]\tvalid_0's l2: 2.33836e+06\n",
      "[65]\tvalid_0's l2: 2.32054e+06\n",
      "[27]\tvalid_0's l2: 3.01628e+06\n",
      "[70]\tvalid_0's l2: 2.36926e+06\n",
      "[61]\tvalid_0's l2: 2.32233e+06\n",
      "[94]\tvalid_0's l2: 2.38998e+06\n",
      "[41]\tvalid_0's l2: 2.59072e+06\n",
      "[71]\tvalid_0's l2: 2.368e+06\n",
      "[28]\tvalid_0's l2: 2.9713e+06\n",
      "[56]\tvalid_0's l2: 2.35647e+06\n",
      "[72]\tvalid_0's l2: 2.36446e+06\n",
      "[95]\tvalid_0's l2: 2.38733e+06\n",
      "[66]\tvalid_0's l2: 2.3169e+06\n",
      "[42]\tvalid_0's l2: 2.58057e+06\n",
      "[96]\tvalid_0's l2: 2.38732e+06\n",
      "[62]\tvalid_0's l2: 2.31928e+06\n",
      "[29]\tvalid_0's l2: 2.93055e+06\n"
     ]
    },
    {
     "name": "stderr",
     "output_type": "stream",
     "text": [
      "[I 2023-06-29 19:55:40,693] Trial 5 finished with value: 1529.16827562683 and parameters: {'num_leaves': 52, 'min_child_samples': 28}. Best is trial 5 with value: 1529.16827562683.\n"
     ]
    },
    {
     "name": "stdout",
     "output_type": "stream",
     "text": [
      "[67]\tvalid_0's l2: 2.31469e+06[43]\tvalid_0's l2: 2.56907e+06\n",
      "\n",
      "[73]\tvalid_0's l2: 2.36194e+06\n",
      "[63]\tvalid_0's l2: 2.3154e+06\n",
      "[57]\tvalid_0's l2: 2.353e+06\n",
      "[97]\tvalid_0's l2: 2.38662e+06\n",
      "[74]\tvalid_0's l2: 2.35889e+06\n",
      "[30]\tvalid_0's l2: 2.89253e+06\n",
      "[44]\tvalid_0's l2: 2.55855e+06\n",
      "[98]\tvalid_0's l2: 2.38591e+06\n",
      "[58]\tvalid_0's l2: 2.34981e+06\n",
      "[68]\tvalid_0's l2: 2.31291e+06\n",
      "[31]\tvalid_0's l2: 2.86234e+06\n",
      "[64]\tvalid_0's l2: 2.31283e+06\n",
      "[75]\tvalid_0's l2: 2.35689e+06\n",
      "[32]\tvalid_0's l2: 2.83359e+06\n",
      "[76]\tvalid_0's l2: 2.35489e+06\n",
      "[99]\tvalid_0's l2: 2.38462e+06\n",
      "[45]\tvalid_0's l2: 2.54929e+06\n",
      "[100]\tvalid_0's l2: 2.38427e+06\n",
      "[33]\tvalid_0's l2: 2.81074e+06\n",
      "[69]\tvalid_0's l2: 2.31078e+06\n",
      "[65]\tvalid_0's l2: 2.30967e+06\n",
      "[34]\tvalid_0's l2: 2.78807e+06\n",
      "[77]\tvalid_0's l2: 2.3533e+06\n",
      "[46]\tvalid_0's l2: 2.53508e+06\n",
      "[59]\tvalid_0's l2: 2.34538e+06\n",
      "[35]\tvalid_0's l2: 2.77029e+06\n",
      "[47]\tvalid_0's l2: 2.52799e+06\n",
      "[36]\tvalid_0's l2: 2.74969e+06\n",
      "[1]\tvalid_0's l2: 1.7839e+07\n",
      "[70]\tvalid_0's l2: 2.30869e+06\n",
      "[60]\tvalid_0's l2: 2.34325e+06\n",
      "[78]\tvalid_0's l2: 2.3524e+06\n",
      "[71]\tvalid_0's l2: 2.30686e+06\n",
      "[66]\tvalid_0's l2: 2.30789e+06\n",
      "[79]\tvalid_0's l2: 2.35109e+06\n",
      "[37]\tvalid_0's l2: 2.73195e+06\n",
      "[48]\tvalid_0's l2: 2.52004e+06\n",
      "[2]\tvalid_0's l2: 1.52623e+07\n",
      "[80]\tvalid_0's l2: 2.34825e+06\n",
      "[61]\tvalid_0's l2: 2.34052e+06\n",
      "[38]\tvalid_0's l2: 2.71489e+06\n",
      "[3]\tvalid_0's l2: 1.315e+07\n",
      "[49]\tvalid_0's l2: 2.51336e+06\n",
      "[72]\tvalid_0's l2: 2.30621e+06\n"
     ]
    },
    {
     "name": "stderr",
     "output_type": "stream",
     "text": [
      "[I 2023-06-29 19:55:44,903] Trial 7 finished with value: 1544.1083263803148 and parameters: {'num_leaves': 41, 'min_child_samples': 3}. Best is trial 5 with value: 1529.16827562683.\n"
     ]
    },
    {
     "name": "stdout",
     "output_type": "stream",
     "text": [
      "[39]\tvalid_0's l2: 2.69987e+06\n",
      "[50]\tvalid_0's l2: 2.50557e+06\n",
      "[67]\tvalid_0's l2: 2.3063e+06\n",
      "[81]\tvalid_0's l2: 2.34737e+06\n",
      "[4]\tvalid_0's l2: 1.14087e+07\n",
      "[51]\tvalid_0's l2: 2.49697e+06\n",
      "[62]\tvalid_0's l2: 2.33822e+06\n",
      "[82]\tvalid_0's l2: 2.34546e+06\n",
      "[73]\tvalid_0's l2: 2.30505e+06\n",
      "[40]\tvalid_0's l2: 2.68617e+06\n",
      "[41]\tvalid_0's l2: 2.67334e+06\n",
      "[68]\tvalid_0's l2: 2.30413e+06\n",
      "[5]\tvalid_0's l2: 9.99023e+06\n",
      "[83]\tvalid_0's l2: 2.34367e+06\n",
      "[74]\tvalid_0's l2: 2.30327e+06\n",
      "[52]\tvalid_0's l2: 2.49223e+06\n",
      "[42]\tvalid_0's l2: 2.66137e+06\n",
      "[53]\tvalid_0's l2: 2.48774e+06\n",
      "[63]\tvalid_0's l2: 2.33645e+06\n",
      "[69]\tvalid_0's l2: 2.30212e+06\n",
      "[84]\tvalid_0's l2: 2.34245e+06\n",
      "[43]\tvalid_0's l2: 2.64946e+06\n",
      "[54]\tvalid_0's l2: 2.48379e+06\n",
      "[6]\tvalid_0's l2: 8.79115e+06\n",
      "[75]\tvalid_0's l2: 2.30203e+06\n",
      "[44]\tvalid_0's l2: 2.6388e+06\n",
      "[55]\tvalid_0's l2: 2.47688e+06\n",
      "[85]\tvalid_0's l2: 2.33974e+06\n",
      "[70]\tvalid_0's l2: 2.30046e+06\n",
      "[76]\tvalid_0's l2: 2.29983e+06\n",
      "[64]\tvalid_0's l2: 2.33384e+06\n",
      "[56]\tvalid_0's l2: 2.47152e+06\n",
      "[71]\tvalid_0's l2: 2.29835e+06\n",
      "[86]\tvalid_0's l2: 2.33719e+06\n",
      "[7]\tvalid_0's l2: 7.79313e+06\n",
      "[45]\tvalid_0's l2: 2.62693e+06\n",
      "[77]\tvalid_0's l2: 2.29812e+06\n",
      "[46]\tvalid_0's l2: 2.61796e+06\n",
      "[87]\tvalid_0's l2: 2.33628e+06\n",
      "[57]\tvalid_0's l2: 2.46627e+06[1]\tvalid_0's l2: 1.79614e+07\n",
      "\n",
      "[88]\tvalid_0's l2: 2.33483e+06\n",
      "[47]\tvalid_0's l2: 2.60812e+06\n",
      "[72]\tvalid_0's l2: 2.29674e+06\n",
      "[8]\tvalid_0's l2: 6.96863e+06\n",
      "[65]\tvalid_0's l2: 2.33195e+06\n",
      "[78]\tvalid_0's l2: 2.29718e+06\n",
      "[2]\tvalid_0's l2: 1.54985e+07\n",
      "[89]\tvalid_0's l2: 2.33338e+06\n",
      "[58]\tvalid_0's l2: 2.46001e+06\n",
      "[48]\tvalid_0's l2: 2.59946e+06\n",
      "[73]\tvalid_0's l2: 2.29538e+06\n",
      "[3]\tvalid_0's l2: 1.3475e+07\n",
      "[59]\tvalid_0's l2: 2.45492e+06\n",
      "[90]\tvalid_0's l2: 2.33322e+06\n",
      "[9]\tvalid_0's l2: 6.28685e+06\n",
      "[79]\tvalid_0's l2: 2.29608e+06\n",
      "[4]\tvalid_0's l2: 1.17934e+07\n",
      "[66]\tvalid_0's l2: 2.32871e+06\n",
      "[5]\tvalid_0's l2: 1.03887e+07\n",
      "[49]\tvalid_0's l2: 2.59099e+06\n",
      "[60]\tvalid_0's l2: 2.45152e+06\n",
      "[74]\tvalid_0's l2: 2.29478e+06\n",
      "[91]\tvalid_0's l2: 2.33157e+06\n",
      "[6]\tvalid_0's l2: 9.21027e+06\n",
      "[80]\tvalid_0's l2: 2.29568e+06\n",
      "[10]\tvalid_0's l2: 5.72023e+06\n",
      "[67]\tvalid_0's l2: 2.3272e+06[50]\tvalid_0's l2: 2.58466e+06\n",
      "\n",
      "[7]\tvalid_0's l2: 8.23892e+06\n",
      "[61]\tvalid_0's l2: 2.44815e+06\n",
      "[81]\tvalid_0's l2: 2.29401e+06\n",
      "[51]\tvalid_0's l2: 2.57871e+06\n",
      "[92]\tvalid_0's l2: 2.33034e+06\n",
      "[62]\tvalid_0's l2: 2.44501e+06\n",
      "[75]\tvalid_0's l2: 2.29256e+06\n",
      "[8]\tvalid_0's l2: 7.42467e+06\n",
      "[68]\tvalid_0's l2: 2.32578e+06\n",
      "[52]\tvalid_0's l2: 2.57184e+06\n",
      "[11]\tvalid_0's l2: 5.24172e+06\n",
      "[63]\tvalid_0's l2: 2.44113e+06\n",
      "[93]\tvalid_0's l2: 2.32885e+06\n",
      "[82]\tvalid_0's l2: 2.29154e+06\n",
      "[9]\tvalid_0's l2: 6.75686e+06\n",
      "[76]\tvalid_0's l2: 2.2915e+06\n",
      "[53]\tvalid_0's l2: 2.56403e+06\n",
      "[94]\tvalid_0's l2: 2.32746e+06\n",
      "[69]\tvalid_0's l2: 2.32289e+06\n",
      "[64]\tvalid_0's l2: 2.4387e+06\n",
      "[10]\tvalid_0's l2: 6.17571e+06\n",
      "[54]\tvalid_0's l2: 2.55991e+06\n",
      "[83]\tvalid_0's l2: 2.29024e+06\n",
      "[12]\tvalid_0's l2: 4.84192e+06\n",
      "[55]\tvalid_0's l2: 2.55329e+06\n",
      "[11]\tvalid_0's l2: 5.69445e+06\n",
      "[95]\tvalid_0's l2: 2.32539e+06\n",
      "[56]\tvalid_0's l2: 2.54702e+06\n",
      "[65]\tvalid_0's l2: 2.43503e+06\n",
      "[77]\tvalid_0's l2: 2.28913e+06\n",
      "[12]\tvalid_0's l2: 5.27818e+06\n",
      "[70]\tvalid_0's l2: 2.32081e+06\n",
      "[13]\tvalid_0's l2: 4.50979e+06\n",
      "[13]\tvalid_0's l2: 4.94172e+06\n",
      "[96]\tvalid_0's l2: 2.32433e+06\n",
      "[84]\tvalid_0's l2: 2.28796e+06\n",
      "[57]\tvalid_0's l2: 2.53852e+06\n",
      "[14]\tvalid_0's l2: 4.63165e+06\n",
      "[66]\tvalid_0's l2: 2.43184e+06\n",
      "[78]\tvalid_0's l2: 2.28743e+06\n",
      "[71]\tvalid_0's l2: 2.31954e+06\n",
      "[58]\tvalid_0's l2: 2.53375e+06\n",
      "[97]\tvalid_0's l2: 2.32289e+06\n",
      "[15]\tvalid_0's l2: 4.37269e+06\n",
      "[67]\tvalid_0's l2: 2.42868e+06\n",
      "[85]\tvalid_0's l2: 2.28539e+06\n",
      "[14]\tvalid_0's l2: 4.22622e+06\n",
      "[59]\tvalid_0's l2: 2.52948e+06\n",
      "[16]\tvalid_0's l2: 4.15851e+06\n",
      "[60]\tvalid_0's l2: 2.52346e+06\n",
      "[98]\tvalid_0's l2: 2.32026e+06\n",
      "[86]\tvalid_0's l2: 2.28353e+06\n",
      "[72]\tvalid_0's l2: 2.31751e+06\n",
      "[17]\tvalid_0's l2: 3.96282e+06\n",
      "[79]\tvalid_0's l2: 2.2864e+06\n",
      "[68]\tvalid_0's l2: 2.4239e+06\n",
      "[99]\tvalid_0's l2: 2.31961e+06\n",
      "[15]\tvalid_0's l2: 3.98635e+06\n",
      "[18]\tvalid_0's l2: 3.79418e+06\n",
      "[61]\tvalid_0's l2: 2.519e+06\n",
      "[69]\tvalid_0's l2: 2.4216e+06\n",
      "[19]\tvalid_0's l2: 3.66034e+06\n",
      "[87]\tvalid_0's l2: 2.28167e+06\n",
      "[62]\tvalid_0's l2: 2.51574e+06\n",
      "[20]\tvalid_0's l2: 3.53826e+06\n",
      "[100]\tvalid_0's l2: 2.31851e+06\n",
      "[80]\tvalid_0's l2: 2.28392e+06\n",
      "[73]\tvalid_0's l2: 2.31567e+06\n",
      "[21]\tvalid_0's l2: 3.43352e+06\n",
      "[70]\tvalid_0's l2: 2.41866e+06\n",
      "[63]\tvalid_0's l2: 2.51216e+06\n",
      "[16]\tvalid_0's l2: 3.78382e+06\n",
      "[71]\tvalid_0's l2: 2.4154e+06\n",
      "[88]\tvalid_0's l2: 2.28021e+06\n",
      "[74]\tvalid_0's l2: 2.31438e+06\n",
      "[22]\tvalid_0's l2: 3.33958e+06\n",
      "[72]\tvalid_0's l2: 2.4134e+06\n",
      "[81]\tvalid_0's l2: 2.28118e+06\n",
      "[64]\tvalid_0's l2: 2.50749e+06\n",
      "[65]\tvalid_0's l2: 2.50339e+06\n",
      "[17]\tvalid_0's l2: 3.60971e+06\n",
      "[66]\tvalid_0's l2: 2.49994e+06\n",
      "[23]\tvalid_0's l2: 3.25957e+06\n",
      "[73]\tvalid_0's l2: 2.41201e+06\n",
      "[75]\tvalid_0's l2: 2.31224e+06\n",
      "[82]\tvalid_0's l2: 2.27874e+06\n",
      "[67]\tvalid_0's l2: 2.49677e+06\n",
      "[24]\tvalid_0's l2: 3.19299e+06\n",
      "[89]\tvalid_0's l2: 2.27874e+06\n"
     ]
    },
    {
     "name": "stderr",
     "output_type": "stream",
     "text": [
      "[I 2023-06-29 19:55:56,403] Trial 2 finished with value: 1522.6649112752982 and parameters: {'num_leaves': 59, 'min_child_samples': 20}. Best is trial 2 with value: 1522.6649112752982.\n"
     ]
    },
    {
     "name": "stdout",
     "output_type": "stream",
     "text": [
      "[74]\tvalid_0's l2: 2.41052e+06\n",
      "[25]\tvalid_0's l2: 3.12686e+06\n",
      "[18]\tvalid_0's l2: 3.46232e+06\n",
      "[68]\tvalid_0's l2: 2.49362e+06\n",
      "[69]\tvalid_0's l2: 2.49058e+06\n",
      "[26]\tvalid_0's l2: 3.06855e+06\n",
      "[76]\tvalid_0's l2: 2.3104e+06\n",
      "[70]\tvalid_0's l2: 2.48835e+06\n",
      "[75]\tvalid_0's l2: 2.40872e+06\n",
      "[90]\tvalid_0's l2: 2.27754e+06\n",
      "[83]\tvalid_0's l2: 2.27805e+06\n",
      "[76]\tvalid_0's l2: 2.40773e+06\n",
      "[71]\tvalid_0's l2: 2.48517e+06\n",
      "[27]\tvalid_0's l2: 3.02039e+06\n",
      "[77]\tvalid_0's l2: 2.31016e+06\n",
      "[77]\tvalid_0's l2: 2.4064e+06\n",
      "[72]\tvalid_0's l2: 2.48308e+06\n",
      "[19]\tvalid_0's l2: 3.34119e+06\n",
      "[91]\tvalid_0's l2: 2.27693e+06\n",
      "[78]\tvalid_0's l2: 2.40328e+06\n",
      "[73]\tvalid_0's l2: 2.48075e+06\n",
      "[28]\tvalid_0's l2: 2.97335e+06\n",
      "[84]\tvalid_0's l2: 2.27625e+06\n",
      "[78]\tvalid_0's l2: 2.30808e+06\n",
      "[29]\tvalid_0's l2: 2.93119e+06\n",
      "[79]\tvalid_0's l2: 2.40061e+06\n",
      "[85]\tvalid_0's l2: 2.27492e+06\n",
      "[74]\tvalid_0's l2: 2.47955e+06\n",
      "[92]\tvalid_0's l2: 2.27586e+06\n",
      "[79]\tvalid_0's l2: 2.30629e+06\n",
      "[75]\tvalid_0's l2: 2.47541e+06\n",
      "[30]\tvalid_0's l2: 2.89618e+06\n",
      "[86]\tvalid_0's l2: 2.27262e+06\n",
      "[31]\tvalid_0's l2: 2.86525e+06\n",
      "[80]\tvalid_0's l2: 2.39888e+06\n",
      "[76]\tvalid_0's l2: 2.46915e+06\n",
      "[80]\tvalid_0's l2: 2.30448e+06\n",
      "[93]\tvalid_0's l2: 2.27449e+06\n",
      "[20]\tvalid_0's l2: 3.23194e+06\n",
      "[77]\tvalid_0's l2: 2.4658e+06\n",
      "[78]\tvalid_0's l2: 2.46282e+06\n",
      "[32]\tvalid_0's l2: 2.83693e+06\n",
      "[87]\tvalid_0's l2: 2.2718e+06\n",
      "[1]\tvalid_0's l2: 1.78018e+07\n",
      "[81]\tvalid_0's l2: 2.30351e+06\n",
      "[79]\tvalid_0's l2: 2.46072e+06\n",
      "[94]\tvalid_0's l2: 2.27135e+06\n",
      "[81]\tvalid_0's l2: 2.39684e+06\n",
      "[80]\tvalid_0's l2: 2.45892e+06\n",
      "[33]\tvalid_0's l2: 2.80976e+06\n",
      "[88]\tvalid_0's l2: 2.27089e+06\n",
      "[82]\tvalid_0's l2: 2.39519e+06\n",
      "[81]\tvalid_0's l2: 2.45666e+06\n",
      "[82]\tvalid_0's l2: 2.30259e+06\n",
      "[83]\tvalid_0's l2: 2.39409e+06\n",
      "[34]\tvalid_0's l2: 2.78898e+06\n",
      "[82]\tvalid_0's l2: 2.45411e+06\n",
      "[21]\tvalid_0's l2: 3.1385e+06\n",
      "[89]\tvalid_0's l2: 2.27034e+06\n",
      "[84]\tvalid_0's l2: 2.39073e+06\n",
      "[35]\tvalid_0's l2: 2.76549e+06\n",
      "[83]\tvalid_0's l2: 2.45263e+06\n",
      "[85]\tvalid_0's l2: 2.38919e+06\n",
      "[95]\tvalid_0's l2: 2.26971e+06\n",
      "[2]\tvalid_0's l2: 1.51935e+07\n",
      "[22]\tvalid_0's l2: 3.05569e+06\n",
      "[84]\tvalid_0's l2: 2.45153e+06\n",
      "[36]\tvalid_0's l2: 2.74708e+06\n",
      "[86]\tvalid_0's l2: 2.38867e+06\n",
      "[37]\tvalid_0's l2: 2.73024e+06\n",
      "[85]\tvalid_0's l2: 2.44904e+06\n",
      "[96]\tvalid_0's l2: 2.26869e+06\n",
      "[83]\tvalid_0's l2: 2.30142e+06\n",
      "[90]\tvalid_0's l2: 2.26989e+06\n",
      "[3]\tvalid_0's l2: 1.30524e+07\n",
      "[86]\tvalid_0's l2: 2.44666e+06\n",
      "[38]\tvalid_0's l2: 2.7134e+06\n",
      "[97]\tvalid_0's l2: 2.26652e+06\n",
      "[87]\tvalid_0's l2: 2.44515e+06\n",
      "[39]\tvalid_0's l2: 2.69729e+06\n",
      "[87]\tvalid_0's l2: 2.38754e+06\n",
      "[40]\tvalid_0's l2: 2.68452e+06\n",
      "[91]\tvalid_0's l2: 2.26862e+06\n",
      "[23]\tvalid_0's l2: 2.98675e+06\n",
      "[88]\tvalid_0's l2: 2.44266e+06\n",
      "[84]\tvalid_0's l2: 2.29747e+06\n",
      "[88]\tvalid_0's l2: 2.38476e+06\n",
      "[98]\tvalid_0's l2: 2.26468e+06\n",
      "[41]\tvalid_0's l2: 2.67359e+06\n",
      "[89]\tvalid_0's l2: 2.44056e+06\n",
      "[4]\tvalid_0's l2: 1.13002e+07\n",
      "[24]\tvalid_0's l2: 2.92274e+06\n",
      "[89]\tvalid_0's l2: 2.38254e+06\n",
      "[42]\tvalid_0's l2: 2.66212e+06\n",
      "[90]\tvalid_0's l2: 2.4389e+06\n",
      "[92]\tvalid_0's l2: 2.26608e+06\n",
      "[90]\tvalid_0's l2: 2.38075e+06\n",
      "[25]\tvalid_0's l2: 2.86863e+06\n",
      "[85]\tvalid_0's l2: 2.29652e+06\n",
      "[91]\tvalid_0's l2: 2.43597e+06\n",
      "[99]\tvalid_0's l2: 2.26367e+06\n",
      "[92]\tvalid_0's l2: 2.43509e+06\n",
      "[43]\tvalid_0's l2: 2.65126e+06\n",
      "[91]\tvalid_0's l2: 2.37884e+06\n",
      "[5]\tvalid_0's l2: 9.86679e+06\n",
      "[44]\tvalid_0's l2: 2.63816e+06\n",
      "[92]\tvalid_0's l2: 2.37551e+06\n",
      "[93]\tvalid_0's l2: 2.43068e+06\n",
      "[86]\tvalid_0's l2: 2.29502e+06\n",
      "[100]\tvalid_0's l2: 2.26219e+06\n",
      "[26]\tvalid_0's l2: 2.82058e+06\n",
      "[93]\tvalid_0's l2: 2.26493e+06\n",
      "[93]\tvalid_0's l2: 2.37462e+06\n",
      "[45]\tvalid_0's l2: 2.62918e+06\n",
      "[94]\tvalid_0's l2: 2.42748e+06\n",
      "[94]\tvalid_0's l2: 2.37452e+06\n",
      "[95]\tvalid_0's l2: 2.37251e+06\n",
      "[46]\tvalid_0's l2: 2.61708e+06\n",
      "[6]\tvalid_0's l2: 8.66424e+06\n",
      "[95]\tvalid_0's l2: 2.42427e+06\n",
      "[27]\tvalid_0's l2: 2.7812e+06\n",
      "[96]\tvalid_0's l2: 2.42306e+06\n",
      "[94]\tvalid_0's l2: 2.26435e+06\n",
      "[87]\tvalid_0's l2: 2.29423e+06\n",
      "[96]\tvalid_0's l2: 2.3697e+06\n",
      "[47]\tvalid_0's l2: 2.60279e+06\n",
      "[97]\tvalid_0's l2: 2.42064e+06\n",
      "[98]\tvalid_0's l2: 2.41884e+06\n",
      "[97]\tvalid_0's l2: 2.36862e+06\n",
      "[28]\tvalid_0's l2: 2.7457e+06\n",
      "[98]\tvalid_0's l2: 2.36628e+06\n",
      "[48]\tvalid_0's l2: 2.59337e+06\n",
      "[7]\tvalid_0's l2: 7.66047e+06\n",
      "[29]\tvalid_0's l2: 2.71518e+06\n",
      "[95]\tvalid_0's l2: 2.26214e+06\n",
      "[99]\tvalid_0's l2: 2.41786e+06\n",
      "[88]\tvalid_0's l2: 2.29329e+06\n",
      "[99]\tvalid_0's l2: 2.36505e+06\n",
      "[49]\tvalid_0's l2: 2.58537e+06\n",
      "[8]\tvalid_0's l2: 6.84167e+06\n",
      "[89]\tvalid_0's l2: 2.29281e+06\n",
      "[30]\tvalid_0's l2: 2.68526e+06\n",
      "[100]\tvalid_0's l2: 2.41459e+06\n",
      "[96]\tvalid_0's l2: 2.26122e+06\n",
      "[100]\tvalid_0's l2: 2.36438e+06\n",
      "[31]\tvalid_0's l2: 2.65904e+06\n",
      "[9]\tvalid_0's l2: 6.15944e+06\n",
      "[50]\tvalid_0's l2: 2.57549e+06\n",
      "[51]\tvalid_0's l2: 2.56911e+06\n",
      "[52]\tvalid_0's l2: 2.56108e+06\n",
      "[90]\tvalid_0's l2: 2.29261e+06\n",
      "[53]\tvalid_0's l2: 2.55345e+06\n",
      "[97]\tvalid_0's l2: 2.2595e+06\n",
      "[10]\tvalid_0's l2: 5.58499e+06\n",
      "[32]\tvalid_0's l2: 2.63715e+06\n",
      "[54]\tvalid_0's l2: 2.54616e+06\n",
      "[91]\tvalid_0's l2: 2.2909e+06\n"
     ]
    },
    {
     "name": "stderr",
     "output_type": "stream",
     "text": [
      "[I 2023-06-29 19:56:08,803] Trial 1 finished with value: 1504.056416857472 and parameters: {'num_leaves': 90, 'min_child_samples': 23}. Best is trial 1 with value: 1504.056416857472.\n"
     ]
    },
    {
     "name": "stdout",
     "output_type": "stream",
     "text": [
      "[55]\tvalid_0's l2: 2.53885e+06\n",
      "[11]\tvalid_0's l2: 5.11208e+06\n",
      "[98]\tvalid_0's l2: 2.25813e+06\n",
      "[33]\tvalid_0's l2: 2.6134e+06\n",
      "[92]\tvalid_0's l2: 2.28913e+06\n",
      "[34]\tvalid_0's l2: 2.59443e+06\n",
      "[56]\tvalid_0's l2: 2.53443e+06\n",
      "[93]\tvalid_0's l2: 2.28886e+06\n"
     ]
    },
    {
     "name": "stderr",
     "output_type": "stream",
     "text": [
      "[I 2023-06-29 19:56:10,067] Trial 9 finished with value: 1553.8938275318555 and parameters: {'num_leaves': 34, 'min_child_samples': 44}. Best is trial 1 with value: 1504.056416857472.\n"
     ]
    },
    {
     "name": "stdout",
     "output_type": "stream",
     "text": [
      "[99]\tvalid_0's l2: 2.25615e+06\n",
      "[57]\tvalid_0's l2: 2.52867e+06\n",
      "[35]\tvalid_0's l2: 2.57205e+06\n",
      "[58]\tvalid_0's l2: 2.5228e+06\n",
      "[94]\tvalid_0's l2: 2.28727e+06\n"
     ]
    },
    {
     "name": "stderr",
     "output_type": "stream",
     "text": [
      "[I 2023-06-29 19:56:10,598] Trial 8 finished with value: 1537.652646705579 and parameters: {'num_leaves': 44, 'min_child_samples': 24}. Best is trial 1 with value: 1504.056416857472.\n"
     ]
    },
    {
     "name": "stdout",
     "output_type": "stream",
     "text": [
      "[12]\tvalid_0's l2: 4.71688e+06\n",
      "[100]\tvalid_0's l2: 2.25554e+06\n",
      "[36]\tvalid_0's l2: 2.55495e+06\n",
      "[59]\tvalid_0's l2: 2.51565e+06\n",
      "[1]\tvalid_0's l2: 1.83554e+07\n",
      "[37]\tvalid_0's l2: 2.5411e+06\n",
      "[2]\tvalid_0's l2: 1.6204e+07\n",
      "[95]\tvalid_0's l2: 2.28655e+06\n",
      "[13]\tvalid_0's l2: 4.38596e+06\n",
      "[60]\tvalid_0's l2: 2.51181e+06\n",
      "[3]\tvalid_0's l2: 1.43137e+07\n",
      "[4]\tvalid_0's l2: 1.27822e+07\n",
      "[5]\tvalid_0's l2: 1.14527e+07\n",
      "[61]\tvalid_0's l2: 2.50866e+06\n",
      "[38]\tvalid_0's l2: 2.52723e+06\n",
      "[62]\tvalid_0's l2: 2.50379e+06\n",
      "[6]\tvalid_0's l2: 1.0333e+07\n",
      "[14]\tvalid_0's l2: 4.10308e+06\n",
      "[63]\tvalid_0's l2: 2.49911e+06\n",
      "[7]\tvalid_0's l2: 9.38777e+06\n",
      "[96]\tvalid_0's l2: 2.28328e+06\n",
      "[64]\tvalid_0's l2: 2.49522e+06\n",
      "[8]\tvalid_0's l2: 8.57736e+06\n",
      "[39]\tvalid_0's l2: 2.51637e+06\n",
      "[1]\tvalid_0's l2: 1.80782e+07\n",
      "[9]\tvalid_0's l2: 7.88438e+06\n",
      "[65]\tvalid_0's l2: 2.4918e+06\n",
      "[2]\tvalid_0's l2: 1.57299e+07\n",
      "[66]\tvalid_0's l2: 2.48691e+06\n",
      "[10]\tvalid_0's l2: 7.30752e+06\n"
     ]
    },
    {
     "name": "stderr",
     "output_type": "stream",
     "text": [
      "[I 2023-06-29 19:56:14,234] Trial 3 finished with value: 1501.8447203415867 and parameters: {'num_leaves': 93, 'min_child_samples': 33}. Best is trial 3 with value: 1501.8447203415867.\n"
     ]
    },
    {
     "name": "stdout",
     "output_type": "stream",
     "text": [
      "[15]\tvalid_0's l2: 3.86822e+06\n",
      "[67]\tvalid_0's l2: 2.48331e+06\n",
      "[3]\tvalid_0's l2: 1.37573e+07\n",
      "[40]\tvalid_0's l2: 2.5033e+06\n",
      "[11]\tvalid_0's l2: 6.81124e+06\n",
      "[68]\tvalid_0's l2: 2.48104e+06\n",
      "[4]\tvalid_0's l2: 1.21276e+07\n",
      "[97]\tvalid_0's l2: 2.28267e+06\n",
      "[1]\tvalid_0's l2: 1.79284e+07\n",
      "[69]\tvalid_0's l2: 2.47656e+06\n",
      "[12]\tvalid_0's l2: 6.37018e+06\n",
      "[41]\tvalid_0's l2: 2.49329e+06\n",
      "[70]\tvalid_0's l2: 2.47306e+06\n",
      "[5]\tvalid_0's l2: 1.07311e+07\n",
      "[71]\tvalid_0's l2: 2.47015e+06\n",
      "[13]\tvalid_0's l2: 6.00705e+06\n",
      "[14]\tvalid_0's l2: 5.66713e+06\n",
      "[72]\tvalid_0's l2: 2.46722e+06\n",
      "[2]\tvalid_0's l2: 1.5457e+07\n",
      "[15]\tvalid_0's l2: 5.37804e+06\n",
      "[98]\tvalid_0's l2: 2.28171e+06\n",
      "[16]\tvalid_0's l2: 3.67295e+06\n",
      "[6]\tvalid_0's l2: 9.57217e+06\n",
      "[73]\tvalid_0's l2: 2.4653e+06\n",
      "[7]\tvalid_0's l2: 8.59921e+06\n",
      "[17]\tvalid_0's l2: 3.50676e+06\n",
      "[16]\tvalid_0's l2: 5.13148e+06\n",
      "[74]\tvalid_0's l2: 2.46224e+06\n",
      "[17]\tvalid_0's l2: 4.89403e+06\n",
      "[3]\tvalid_0's l2: 1.33948e+07\n",
      "[8]\tvalid_0's l2: 7.78964e+06\n",
      "[18]\tvalid_0's l2: 4.70795e+06\n",
      "[42]\tvalid_0's l2: 2.48549e+06\n",
      "[19]\tvalid_0's l2: 4.51668e+06\n",
      "[20]\tvalid_0's l2: 4.3531e+06[99]\tvalid_0's l2: 2.28076e+06\n",
      "\n",
      "[21]\tvalid_0's l2: 4.19926e+06\n",
      "[9]\tvalid_0's l2: 7.10711e+06\n",
      "[75]\tvalid_0's l2: 2.4597e+06\n",
      "[22]\tvalid_0's l2: 4.07443e+06\n",
      "[10]\tvalid_0's l2: 6.52692e+06\n",
      "[43]\tvalid_0's l2: 2.47616e+06\n",
      "[11]\tvalid_0's l2: 6.03287e+06\n",
      "[23]\tvalid_0's l2: 3.95737e+06\n",
      "[4]\tvalid_0's l2: 1.17187e+07\n",
      "[24]\tvalid_0's l2: 3.86128e+06\n",
      "[100]\tvalid_0's l2: 2.27977e+06\n",
      "[76]\tvalid_0's l2: 2.45655e+06\n",
      "[12]\tvalid_0's l2: 5.61469e+06\n",
      "[77]\tvalid_0's l2: 2.45263e+06\n",
      "[18]\tvalid_0's l2: 3.36652e+06\n",
      "[5]\tvalid_0's l2: 1.03031e+07\n",
      "[78]\tvalid_0's l2: 2.45136e+06\n",
      "[25]\tvalid_0's l2: 3.77115e+06\n",
      "[1]\tvalid_0's l2: 1.77937e+07\n",
      "[13]\tvalid_0's l2: 5.24343e+06\n",
      "[44]\tvalid_0's l2: 2.46758e+06\n",
      "[79]\tvalid_0's l2: 2.44963e+06\n",
      "[6]\tvalid_0's l2: 9.11275e+06\n",
      "[26]\tvalid_0's l2: 3.68846e+06\n",
      "[27]\tvalid_0's l2: 3.61309e+06\n",
      "[2]\tvalid_0's l2: 1.51794e+07\n",
      "[14]\tvalid_0's l2: 4.93135e+06\n",
      "[80]\tvalid_0's l2: 2.44554e+06\n",
      "[28]\tvalid_0's l2: 3.54336e+06\n",
      "[19]\tvalid_0's l2: 3.24477e+06\n",
      "[7]\tvalid_0's l2: 8.1361e+06\n",
      "[29]\tvalid_0's l2: 3.48812e+06\n",
      "[45]\tvalid_0's l2: 2.45995e+06\n",
      "[81]\tvalid_0's l2: 2.44267e+06\n",
      "[30]\tvalid_0's l2: 3.43476e+06\n",
      "[15]\tvalid_0's l2: 4.6738e+06\n",
      "[31]\tvalid_0's l2: 3.39267e+06\n",
      "[8]\tvalid_0's l2: 7.32564e+06\n",
      "[82]\tvalid_0's l2: 2.44078e+06\n",
      "[16]\tvalid_0's l2: 4.45132e+06\n",
      "[32]\tvalid_0's l2: 3.35278e+06\n",
      "[3]\tvalid_0's l2: 1.30333e+07\n",
      "[17]\tvalid_0's l2: 4.2497e+06\n",
      "[46]\tvalid_0's l2: 2.45299e+06\n",
      "[9]\tvalid_0's l2: 6.64025e+06\n",
      "[33]\tvalid_0's l2: 3.31279e+06\n",
      "[83]\tvalid_0's l2: 2.43804e+06\n",
      "[18]\tvalid_0's l2: 4.07815e+06\n"
     ]
    },
    {
     "name": "stderr",
     "output_type": "stream",
     "text": [
      "[I 2023-06-29 19:56:19,864] Trial 4 finished with value: 1509.889362010054 and parameters: {'num_leaves': 88, 'min_child_samples': 37}. Best is trial 3 with value: 1501.8447203415867.\n"
     ]
    },
    {
     "name": "stdout",
     "output_type": "stream",
     "text": [
      "[19]\tvalid_0's l2: 3.92135e+06\n",
      "[34]\tvalid_0's l2: 3.2749e+06\n",
      "[20]\tvalid_0's l2: 3.7891e+06\n",
      "[20]\tvalid_0's l2: 3.14012e+06\n",
      "[10]\tvalid_0's l2: 6.06788e+06\n",
      "[35]\tvalid_0's l2: 3.24305e+06\n",
      "[84]\tvalid_0's l2: 2.436e+06\n",
      "[21]\tvalid_0's l2: 3.67429e+06\n",
      "[36]\tvalid_0's l2: 3.21121e+06\n",
      "[22]\tvalid_0's l2: 3.57189e+06\n",
      "[47]\tvalid_0's l2: 2.4443e+06\n",
      "[4]\tvalid_0's l2: 1.12805e+07\n",
      "[37]\tvalid_0's l2: 3.185e+06\n",
      "[11]\tvalid_0's l2: 5.58497e+06\n",
      "[38]\tvalid_0's l2: 3.15853e+06\n",
      "[85]\tvalid_0's l2: 2.43398e+06\n",
      "[23]\tvalid_0's l2: 3.47738e+06\n",
      "[39]\tvalid_0's l2: 3.13582e+06\n",
      "[24]\tvalid_0's l2: 3.39954e+06\n",
      "[25]\tvalid_0's l2: 3.33001e+06\n",
      "[40]\tvalid_0's l2: 3.11576e+06\n",
      "[21]\tvalid_0's l2: 3.05291e+06\n",
      "[86]\tvalid_0's l2: 2.43203e+06\n",
      "[12]\tvalid_0's l2: 5.17242e+06\n",
      "[41]\tvalid_0's l2: 3.0938e+06\n",
      "[26]\tvalid_0's l2: 3.26228e+06\n",
      "[87]\tvalid_0's l2: 2.42892e+06\n",
      "[48]\tvalid_0's l2: 2.4383e+06\n",
      "[42]\tvalid_0's l2: 3.07486e+06\n",
      "[5]\tvalid_0's l2: 9.83106e+06\n",
      "[88]\tvalid_0's l2: 2.42643e+06[27]\tvalid_0's l2: 3.20419e+06\n",
      "\n",
      "[43]\tvalid_0's l2: 3.05745e+06\n",
      "[89]\tvalid_0's l2: 2.42553e+06[44]\tvalid_0's l2: 3.04334e+06\n",
      "[13]\tvalid_0's l2: 4.82725e+06\n",
      "\n",
      "[45]\tvalid_0's l2: 3.02842e+06\n",
      "[46]\tvalid_0's l2: 3.01138e+06\n",
      "[22]\tvalid_0's l2: 2.97413e+06\n",
      "[28]\tvalid_0's l2: 3.15568e+06\n",
      "[47]\tvalid_0's l2: 2.99856e+06\n",
      "[90]\tvalid_0's l2: 2.42443e+06\n",
      "[48]\tvalid_0's l2: 2.98675e+06\n",
      "[14]\tvalid_0's l2: 4.53457e+06\n",
      "[29]\tvalid_0's l2: 3.11092e+06\n",
      "[49]\tvalid_0's l2: 2.97534e+06\n",
      "[49]\tvalid_0's l2: 2.43084e+06\n",
      "[91]\tvalid_0's l2: 2.42267e+06\n",
      "[50]\tvalid_0's l2: 2.96369e+06\n",
      "[30]\tvalid_0's l2: 3.06891e+06\n",
      "[6]\tvalid_0's l2: 8.64328e+06\n",
      "[51]\tvalid_0's l2: 2.95317e+06\n",
      "[15]\tvalid_0's l2: 4.29101e+06\n",
      "[52]\tvalid_0's l2: 2.9424e+06\n",
      "[53]\tvalid_0's l2: 2.9322e+06\n",
      "[23]\tvalid_0's l2: 2.90778e+06\n",
      "[1]\tvalid_0's l2: 1.78412e+07\n",
      "[31]\tvalid_0's l2: 3.03216e+06\n",
      "[54]\tvalid_0's l2: 2.92451e+06\n",
      "[50]\tvalid_0's l2: 2.42696e+06\n",
      "[32]\tvalid_0's l2: 2.9971e+06\n",
      "[92]\tvalid_0's l2: 2.42097e+06\n",
      "[51]\tvalid_0's l2: 2.41928e+06\n",
      "[16]\tvalid_0's l2: 4.07315e+06\n",
      "[55]\tvalid_0's l2: 2.91658e+06\n",
      "[17]\tvalid_0's l2: 3.88379e+06\n",
      "[56]\tvalid_0's l2: 2.90937e+06\n",
      "[33]\tvalid_0's l2: 2.96879e+06\n",
      "[93]\tvalid_0's l2: 2.42063e+06\n",
      "[57]\tvalid_0's l2: 2.90211e+06\n",
      "[34]\tvalid_0's l2: 2.94238e+06\n",
      "[7]\tvalid_0's l2: 7.64814e+06\n",
      "[2]\tvalid_0's l2: 1.52659e+07\n",
      "[18]\tvalid_0's l2: 3.7225e+06\n",
      "[58]\tvalid_0's l2: 2.89561e+06\n",
      "[35]\tvalid_0's l2: 2.91798e+06\n",
      "[24]\tvalid_0's l2: 2.84946e+06\n",
      "[94]\tvalid_0's l2: 2.4181e+06\n",
      "[52]\tvalid_0's l2: 2.41341e+06\n",
      "[59]\tvalid_0's l2: 2.88964e+06\n",
      "[36]\tvalid_0's l2: 2.89901e+06\n",
      "[60]\tvalid_0's l2: 2.88269e+06\n",
      "[95]\tvalid_0's l2: 2.4136e+06\n",
      "[19]\tvalid_0's l2: 3.58382e+06\n",
      "[61]\tvalid_0's l2: 2.87737e+06\n",
      "[37]\tvalid_0's l2: 2.88203e+06\n",
      "[3]\tvalid_0's l2: 1.31558e+07\n",
      "[62]\tvalid_0's l2: 2.86954e+06\n",
      "[38]\tvalid_0's l2: 2.86334e+06\n",
      "[20]\tvalid_0's l2: 3.46585e+06\n",
      "[39]\tvalid_0's l2: 2.84503e+06\n",
      "[25]\tvalid_0's l2: 2.79779e+06\n",
      "[8]\tvalid_0's l2: 6.8173e+06\n",
      "[63]\tvalid_0's l2: 2.86302e+06\n",
      "[96]\tvalid_0's l2: 2.4118e+06\n",
      "[64]\tvalid_0's l2: 2.85825e+06\n",
      "[4]\tvalid_0's l2: 1.14144e+07\n",
      "[40]\tvalid_0's l2: 2.82826e+06\n",
      "[21]\tvalid_0's l2: 3.36523e+06\n",
      "[53]\tvalid_0's l2: 2.40843e+06\n",
      "[65]\tvalid_0's l2: 2.85111e+06\n",
      "[97]\tvalid_0's l2: 2.4104e+06\n",
      "[98]\tvalid_0's l2: 2.40918e+06\n",
      "[41]\tvalid_0's l2: 2.8125e+06\n",
      "[99]\tvalid_0's l2: 2.40781e+06\n",
      "[9]\tvalid_0's l2: 6.13569e+06\n",
      "[66]\tvalid_0's l2: 2.84563e+06\n",
      "[42]\tvalid_0's l2: 2.79824e+06\n",
      "[54]\tvalid_0's l2: 2.40291e+06\n",
      "[22]\tvalid_0's l2: 3.27561e+06\n",
      "[67]\tvalid_0's l2: 2.84091e+06\n",
      "[43]\tvalid_0's l2: 2.7873e+06\n",
      "[68]\tvalid_0's l2: 2.83442e+06\n",
      "[100]\tvalid_0's l2: 2.40733e+06\n",
      "[5]\tvalid_0's l2: 9.99744e+06\n",
      "[44]\tvalid_0's l2: 2.77578e+06\n",
      "[69]\tvalid_0's l2: 2.8292e+06\n",
      "[45]\tvalid_0's l2: 2.76041e+06\n",
      "[70]\tvalid_0's l2: 2.82558e+06\n",
      "[26]\tvalid_0's l2: 2.75391e+06\n",
      "[71]\tvalid_0's l2: 2.82055e+06\n",
      "[72]\tvalid_0's l2: 2.81697e+06\n",
      "[46]\tvalid_0's l2: 2.74792e+06\n",
      "[73]\tvalid_0's l2: 2.81216e+06\n",
      "[23]\tvalid_0's l2: 3.1986e+06\n",
      "[74]\tvalid_0's l2: 2.80913e+06\n",
      "[75]\tvalid_0's l2: 2.80493e+06\n",
      "[10]\tvalid_0's l2: 5.57023e+06\n",
      "[76]\tvalid_0's l2: 2.79972e+06\n",
      "[24]\tvalid_0's l2: 3.1318e+06\n",
      "[55]\tvalid_0's l2: 2.39924e+06\n",
      "[6]\tvalid_0's l2: 8.79525e+06\n",
      "[77]\tvalid_0's l2: 2.79472e+06\n",
      "[47]\tvalid_0's l2: 2.73961e+06\n",
      "[78]\tvalid_0's l2: 2.78942e+06\n",
      "[7]\tvalid_0's l2: 7.79688e+06\n",
      "[48]\tvalid_0's l2: 2.72965e+06\n",
      "[25]\tvalid_0's l2: 3.06998e+06\n",
      "[79]\tvalid_0's l2: 2.78615e+06\n",
      "[11]\tvalid_0's l2: 5.09397e+06\n",
      "[80]\tvalid_0's l2: 2.78254e+06\n",
      "[8]\tvalid_0's l2: 6.97124e+06\n"
     ]
    },
    {
     "name": "stderr",
     "output_type": "stream",
     "text": [
      "[I 2023-06-29 19:56:28,089] Trial 11 finished with value: 1551.5585267489282 and parameters: {'num_leaves': 33, 'min_child_samples': 15}. Best is trial 3 with value: 1501.8447203415867.\n"
     ]
    },
    {
     "name": "stdout",
     "output_type": "stream",
     "text": [
      "[81]\tvalid_0's l2: 2.77975e+06\n",
      "[27]\tvalid_0's l2: 2.71095e+06\n",
      "[56]\tvalid_0's l2: 2.39527e+06\n",
      "[82]\tvalid_0's l2: 2.7759e+06\n",
      "[26]\tvalid_0's l2: 3.01927e+06\n",
      "[49]\tvalid_0's l2: 2.71751e+06\n",
      "[83]\tvalid_0's l2: 2.77113e+06\n",
      "[50]\tvalid_0's l2: 2.70688e+06\n",
      "[84]\tvalid_0's l2: 2.76563e+06\n",
      "[85]\tvalid_0's l2: 2.76297e+06\n",
      "[12]\tvalid_0's l2: 4.69913e+06\n",
      "[86]\tvalid_0's l2: 2.75981e+06\n",
      "[9]\tvalid_0's l2: 6.28579e+06\n",
      "[27]\tvalid_0's l2: 2.97058e+06\n",
      "[87]\tvalid_0's l2: 2.75759e+06\n",
      "[51]\tvalid_0's l2: 2.69814e+06\n",
      "[57]\tvalid_0's l2: 2.3903e+06\n",
      "[88]\tvalid_0's l2: 2.75254e+06\n",
      "[28]\tvalid_0's l2: 2.92544e+06\n",
      "[89]\tvalid_0's l2: 2.74966e+06\n",
      "[29]\tvalid_0's l2: 2.88649e+06\n",
      "[28]\tvalid_0's l2: 2.67625e+06\n",
      "[90]\tvalid_0's l2: 2.74662e+06\n",
      "[91]\tvalid_0's l2: 2.74295e+06\n",
      "[10]\tvalid_0's l2: 5.71954e+06\n",
      "[30]\tvalid_0's l2: 2.85295e+06\n",
      "[92]\tvalid_0's l2: 2.74045e+06\n",
      "[52]\tvalid_0's l2: 2.68875e+06\n",
      "[13]\tvalid_0's l2: 4.36976e+06\n",
      "[31]\tvalid_0's l2: 2.82188e+06\n",
      "[11]\tvalid_0's l2: 5.24611e+06\n",
      "[93]\tvalid_0's l2: 2.73754e+06\n",
      "[32]\tvalid_0's l2: 2.79451e+06\n",
      "[94]\tvalid_0's l2: 2.73684e+06\n",
      "[95]\tvalid_0's l2: 2.73387e+06\n",
      "[53]\tvalid_0's l2: 2.68156e+06\n",
      "[58]\tvalid_0's l2: 2.38727e+06\n",
      "[54]\tvalid_0's l2: 2.67293e+06\n",
      "[96]\tvalid_0's l2: 2.73075e+06\n",
      "[33]\tvalid_0's l2: 2.77218e+06\n",
      "[14]\tvalid_0's l2: 4.08752e+06\n",
      "[97]\tvalid_0's l2: 2.72663e+06\n",
      "[55]\tvalid_0's l2: 2.66619e+06\n",
      "[34]\tvalid_0's l2: 2.74956e+06\n",
      "[12]\tvalid_0's l2: 4.84525e+06\n",
      "[56]\tvalid_0's l2: 2.65996e+06\n",
      "[29]\tvalid_0's l2: 2.64534e+06\n",
      "[57]\tvalid_0's l2: 2.65198e+06\n",
      "[98]\tvalid_0's l2: 2.72492e+06\n",
      "[99]\tvalid_0's l2: 2.72324e+06\n",
      "[35]\tvalid_0's l2: 2.72664e+06\n",
      "[59]\tvalid_0's l2: 2.38412e+06\n",
      "[58]\tvalid_0's l2: 2.64483e+06\n",
      "[100]\tvalid_0's l2: 2.72132e+06\n",
      "[36]\tvalid_0's l2: 2.70922e+06\n",
      "[13]\tvalid_0's l2: 4.51091e+06\n",
      "[59]\tvalid_0's l2: 2.64067e+06\n",
      "[1]\tvalid_0's l2: 1.77921e+07\n",
      "[15]\tvalid_0's l2: 3.85264e+06\n",
      "[60]\tvalid_0's l2: 2.63448e+06\n",
      "[60]\tvalid_0's l2: 2.38006e+06\n",
      "[30]\tvalid_0's l2: 2.61611e+06\n",
      "[37]\tvalid_0's l2: 2.69598e+06\n",
      "[61]\tvalid_0's l2: 2.62815e+06\n",
      "[62]\tvalid_0's l2: 2.624e+06\n",
      "[38]\tvalid_0's l2: 2.67708e+06\n",
      "[14]\tvalid_0's l2: 4.22723e+06\n",
      "[16]\tvalid_0's l2: 3.65626e+06\n",
      "[63]\tvalid_0's l2: 2.61865e+06\n",
      "[2]\tvalid_0's l2: 1.51732e+07\n",
      "[64]\tvalid_0's l2: 2.61456e+06\n",
      "[61]\tvalid_0's l2: 2.37699e+06\n",
      "[39]\tvalid_0's l2: 2.66247e+06\n",
      "[65]\tvalid_0's l2: 2.61086e+06\n",
      "[15]\tvalid_0's l2: 3.99042e+06\n",
      "[31]\tvalid_0's l2: 2.59069e+06\n"
     ]
    },
    {
     "name": "stderr",
     "output_type": "stream",
     "text": [
      "[I 2023-06-29 19:56:33,170] Trial 13 finished with value: 1649.6421809620185 and parameters: {'num_leaves': 11, 'min_child_samples': 13}. Best is trial 3 with value: 1501.8447203415867.\n"
     ]
    },
    {
     "name": "stdout",
     "output_type": "stream",
     "text": [
      "[40]\tvalid_0's l2: 2.64975e+06\n",
      "[66]\tvalid_0's l2: 2.60652e+06\n",
      "[17]\tvalid_0's l2: 3.48957e+06\n",
      "[32]\tvalid_0's l2: 2.56948e+06\n",
      "[67]\tvalid_0's l2: 2.60356e+06\n",
      "[41]\tvalid_0's l2: 2.63642e+06\n",
      "[68]\tvalid_0's l2: 2.59871e+06\n",
      "[16]\tvalid_0's l2: 3.7895e+06\n",
      "[42]\tvalid_0's l2: 2.62447e+06\n",
      "[62]\tvalid_0's l2: 2.37318e+06\n",
      "[43]\tvalid_0's l2: 2.6128e+06\n",
      "[69]\tvalid_0's l2: 2.59282e+06\n",
      "[18]\tvalid_0's l2: 3.35008e+06[3]\tvalid_0's l2: 1.30267e+07\n",
      "\n",
      "[63]\tvalid_0's l2: 2.36975e+06\n",
      "[44]\tvalid_0's l2: 2.60177e+06\n",
      "[70]\tvalid_0's l2: 2.58582e+06\n",
      "[64]\tvalid_0's l2: 2.36809e+06\n",
      "[45]\tvalid_0's l2: 2.59105e+06\n",
      "[71]\tvalid_0's l2: 2.58289e+06\n",
      "[17]\tvalid_0's l2: 3.61362e+06\n",
      "[33]\tvalid_0's l2: 2.54766e+06\n",
      "[46]\tvalid_0's l2: 2.58184e+06\n",
      "[72]\tvalid_0's l2: 2.57832e+06\n",
      "[18]\tvalid_0's l2: 3.46723e+06\n",
      "[65]\tvalid_0's l2: 2.36512e+06\n",
      "[19]\tvalid_0's l2: 3.23105e+06\n",
      "[4]\tvalid_0's l2: 1.12743e+07\n",
      "[73]\tvalid_0's l2: 2.57407e+06\n",
      "[47]\tvalid_0's l2: 2.57279e+06\n",
      "[74]\tvalid_0's l2: 2.57072e+06\n",
      "[48]\tvalid_0's l2: 2.56517e+06\n",
      "[34]\tvalid_0's l2: 2.5291e+06\n",
      "[19]\tvalid_0's l2: 3.34215e+06\n",
      "[66]\tvalid_0's l2: 2.36206e+06\n",
      "[75]\tvalid_0's l2: 2.56763e+06\n",
      "[20]\tvalid_0's l2: 3.12642e+06\n",
      "[49]\tvalid_0's l2: 2.55629e+06\n",
      "[76]\tvalid_0's l2: 2.56428e+06\n",
      "[35]\tvalid_0's l2: 2.50902e+06\n",
      "[5]\tvalid_0's l2: 9.82587e+06\n",
      "[77]\tvalid_0's l2: 2.56033e+06\n",
      "[20]\tvalid_0's l2: 3.23482e+06\n",
      "[50]\tvalid_0's l2: 2.54918e+06\n",
      "[36]\tvalid_0's l2: 2.49387e+06\n",
      "[78]\tvalid_0's l2: 2.55679e+06\n",
      "[51]\tvalid_0's l2: 2.54025e+06\n",
      "[21]\tvalid_0's l2: 3.03688e+06\n",
      "[67]\tvalid_0's l2: 2.35951e+06\n",
      "[1]\tvalid_0's l2: 1.77909e+07\n",
      "[79]\tvalid_0's l2: 2.55339e+06\n",
      "[52]\tvalid_0's l2: 2.53477e+06\n",
      "[80]\tvalid_0's l2: 2.55039e+06\n",
      "[21]\tvalid_0's l2: 3.14175e+06\n",
      "[37]\tvalid_0's l2: 2.47641e+06\n",
      "[53]\tvalid_0's l2: 2.52802e+06\n",
      "[81]\tvalid_0's l2: 2.54629e+06\n",
      "[22]\tvalid_0's l2: 2.95943e+06\n",
      "[22]\tvalid_0's l2: 3.06049e+06\n",
      "[82]\tvalid_0's l2: 2.54317e+06\n",
      "[54]\tvalid_0's l2: 2.52273e+06\n",
      "[6]\tvalid_0's l2: 8.63349e+06\n",
      "[68]\tvalid_0's l2: 2.35702e+06\n",
      "[83]\tvalid_0's l2: 2.54078e+06\n",
      "[84]\tvalid_0's l2: 2.53914e+06\n",
      "[55]\tvalid_0's l2: 2.51613e+06\n",
      "[23]\tvalid_0's l2: 2.8925e+06\n",
      "[85]\tvalid_0's l2: 2.53652e+06\n",
      "[38]\tvalid_0's l2: 2.46406e+06\n",
      "[69]\tvalid_0's l2: 2.35449e+06\n",
      "[23]\tvalid_0's l2: 2.98984e+06\n",
      "[86]\tvalid_0's l2: 2.53483e+06\n",
      "[2]\tvalid_0's l2: 1.51712e+07\n",
      "[56]\tvalid_0's l2: 2.51068e+06\n",
      "[87]\tvalid_0's l2: 2.53377e+06\n",
      "[88]\tvalid_0's l2: 2.532e+06\n",
      "[57]\tvalid_0's l2: 2.50418e+06\n",
      "[89]\tvalid_0's l2: 2.52988e+06\n",
      "[90]\tvalid_0's l2: 2.52595e+06\n",
      "[24]\tvalid_0's l2: 2.92604e+06\n",
      "[58]\tvalid_0's l2: 2.49966e+06\n",
      "[24]\tvalid_0's l2: 2.83429e+06\n",
      "[7]\tvalid_0's l2: 7.63739e+06\n",
      "[70]\tvalid_0's l2: 2.3526e+06\n",
      "[59]\tvalid_0's l2: 2.49272e+06\n",
      "[91]\tvalid_0's l2: 2.52364e+06\n",
      "[3]\tvalid_0's l2: 1.30235e+07\n",
      "[39]\tvalid_0's l2: 2.45204e+06\n",
      "[92]\tvalid_0's l2: 2.52192e+06\n",
      "[8]\tvalid_0's l2: 6.8065e+06\n",
      "[93]\tvalid_0's l2: 2.51979e+06\n",
      "[60]\tvalid_0's l2: 2.48655e+06\n",
      "[25]\tvalid_0's l2: 2.78435e+06\n",
      "[94]\tvalid_0's l2: 2.51862e+06\n",
      "[25]\tvalid_0's l2: 2.87369e+06\n",
      "[71]\tvalid_0's l2: 2.35122e+06\n",
      "[95]\tvalid_0's l2: 2.51612e+06\n",
      "[96]\tvalid_0's l2: 2.51341e+06\n",
      "[61]\tvalid_0's l2: 2.48251e+06\n",
      "[4]\tvalid_0's l2: 1.12669e+07\n",
      "[97]\tvalid_0's l2: 2.51218e+06\n",
      "[26]\tvalid_0's l2: 2.74158e+06\n",
      "[72]\tvalid_0's l2: 2.34835e+06\n",
      "[9]\tvalid_0's l2: 6.12729e+06\n",
      "[40]\tvalid_0's l2: 2.44117e+06\n",
      "[26]\tvalid_0's l2: 2.82304e+06\n",
      "[98]\tvalid_0's l2: 2.51097e+06\n",
      "[62]\tvalid_0's l2: 2.47971e+06\n",
      "[99]\tvalid_0's l2: 2.50744e+06\n",
      "[100]\tvalid_0's l2: 2.50522e+06\n",
      "[63]\tvalid_0's l2: 2.47727e+06\n",
      "[27]\tvalid_0's l2: 2.70116e+06\n",
      "[64]\tvalid_0's l2: 2.47439e+06\n",
      "[73]\tvalid_0's l2: 2.34618e+06\n",
      "[10]\tvalid_0's l2: 5.55864e+06\n",
      "[41]\tvalid_0's l2: 2.43161e+06\n",
      "[27]\tvalid_0's l2: 2.78231e+06\n",
      "[65]\tvalid_0's l2: 2.47121e+06\n",
      "[11]\tvalid_0's l2: 5.08544e+06\n",
      "[5]\tvalid_0's l2: 9.82068e+06\n",
      "[74]\tvalid_0's l2: 2.34383e+06\n",
      "[28]\tvalid_0's l2: 2.7462e+06\n",
      "[42]\tvalid_0's l2: 2.42145e+06\n",
      "[66]\tvalid_0's l2: 2.4677e+06\n",
      "[28]\tvalid_0's l2: 2.66685e+06\n",
      "[12]\tvalid_0's l2: 4.68242e+06\n",
      "[75]\tvalid_0's l2: 2.34279e+06\n",
      "[6]\tvalid_0's l2: 8.63144e+06\n",
      "[29]\tvalid_0's l2: 2.71331e+06\n",
      "[67]\tvalid_0's l2: 2.46465e+06\n"
     ]
    },
    {
     "name": "stderr",
     "output_type": "stream",
     "text": [
      "[I 2023-06-29 19:56:43,071] Trial 14 finished with value: 1582.789087002934 and parameters: {'num_leaves': 21, 'min_child_samples': 10}. Best is trial 3 with value: 1501.8447203415867.\n"
     ]
    },
    {
     "name": "stdout",
     "output_type": "stream",
     "text": [
      "[68]\tvalid_0's l2: 2.46118e+06\n",
      "[76]\tvalid_0's l2: 2.34086e+06\n",
      "[29]\tvalid_0's l2: 2.63546e+06\n",
      "[43]\tvalid_0's l2: 2.41114e+06\n",
      "[69]\tvalid_0's l2: 2.45941e+06\n",
      "[30]\tvalid_0's l2: 2.68403e+06\n",
      "[77]\tvalid_0's l2: 2.33795e+06\n",
      "[70]\tvalid_0's l2: 2.45665e+06\n",
      "[71]\tvalid_0's l2: 2.45431e+06\n",
      "[7]\tvalid_0's l2: 7.64097e+06\n",
      "[13]\tvalid_0's l2: 4.35127e+06\n",
      "[72]\tvalid_0's l2: 2.45167e+06\n",
      "[44]\tvalid_0's l2: 2.40288e+06\n",
      "[73]\tvalid_0's l2: 2.44929e+06\n",
      "[30]\tvalid_0's l2: 2.60859e+06\n",
      "[31]\tvalid_0's l2: 2.6565e+06\n",
      "[78]\tvalid_0's l2: 2.33634e+06\n",
      "[32]\tvalid_0's l2: 2.62948e+06\n",
      "[74]\tvalid_0's l2: 2.44632e+06\n",
      "[8]\tvalid_0's l2: 6.81115e+06\n",
      "[79]\tvalid_0's l2: 2.3352e+06\n",
      "[14]\tvalid_0's l2: 4.07455e+06\n",
      "[45]\tvalid_0's l2: 2.3962e+06\n",
      "[33]\tvalid_0's l2: 2.61028e+06\n",
      "[31]\tvalid_0's l2: 2.58173e+06\n",
      "[75]\tvalid_0's l2: 2.44445e+06\n",
      "[76]\tvalid_0's l2: 2.44283e+06\n",
      "[32]\tvalid_0's l2: 2.56247e+06\n",
      "[15]\tvalid_0's l2: 3.8421e+06\n",
      "[34]\tvalid_0's l2: 2.58833e+06\n",
      "[80]\tvalid_0's l2: 2.3337e+06\n",
      "[46]\tvalid_0's l2: 2.39101e+06\n",
      "[77]\tvalid_0's l2: 2.44139e+06\n",
      "[81]\tvalid_0's l2: 2.33195e+06\n",
      "[9]\tvalid_0's l2: 6.12146e+06\n",
      "[35]\tvalid_0's l2: 2.57239e+06\n",
      "[78]\tvalid_0's l2: 2.43926e+06\n",
      "[33]\tvalid_0's l2: 2.541e+06\n",
      "[79]\tvalid_0's l2: 2.43584e+06\n",
      "[34]\tvalid_0's l2: 2.52243e+06\n",
      "[80]\tvalid_0's l2: 2.43336e+06\n",
      "[1]\tvalid_0's l2: 1.77921e+07\n",
      "[81]\tvalid_0's l2: 2.43199e+06\n",
      "[82]\tvalid_0's l2: 2.33069e+06\n",
      "[16]\tvalid_0's l2: 3.64394e+06[36]\tvalid_0's l2: 2.55498e+06\n",
      "\n",
      "[47]\tvalid_0's l2: 2.38347e+06\n",
      "[82]\tvalid_0's l2: 2.42848e+06\n",
      "[10]\tvalid_0's l2: 5.55547e+06\n",
      "[35]\tvalid_0's l2: 2.50166e+06\n",
      "[83]\tvalid_0's l2: 2.42669e+06\n",
      "[2]\tvalid_0's l2: 1.51732e+07[83]\tvalid_0's l2: 2.32835e+06\n",
      "\n",
      "[37]\tvalid_0's l2: 2.54238e+06\n",
      "[17]\tvalid_0's l2: 3.4776e+06\n",
      "[84]\tvalid_0's l2: 2.42547e+06\n",
      "[36]\tvalid_0's l2: 2.48727e+06\n",
      "[85]\tvalid_0's l2: 2.42447e+06\n",
      "[48]\tvalid_0's l2: 2.37825e+06\n",
      "[38]\tvalid_0's l2: 2.52549e+06\n",
      "[86]\tvalid_0's l2: 2.42034e+06\n",
      "[3]\tvalid_0's l2: 1.30267e+07\n",
      "[84]\tvalid_0's l2: 2.32588e+06\n",
      "[39]\tvalid_0's l2: 2.51357e+06\n",
      "[87]\tvalid_0's l2: 2.4183e+06\n",
      "[11]\tvalid_0's l2: 5.08086e+06\n",
      "[37]\tvalid_0's l2: 2.47113e+06\n",
      "[88]\tvalid_0's l2: 2.41687e+06\n",
      "[85]\tvalid_0's l2: 2.32471e+06\n",
      "[40]\tvalid_0's l2: 2.50225e+06\n",
      "[38]\tvalid_0's l2: 2.45617e+06\n",
      "[89]\tvalid_0's l2: 2.41586e+06\n",
      "[12]\tvalid_0's l2: 4.6822e+06\n",
      "[49]\tvalid_0's l2: 2.37222e+06\n",
      "[18]\tvalid_0's l2: 3.33923e+06\n",
      "[4]\tvalid_0's l2: 1.12743e+07\n",
      "[90]\tvalid_0's l2: 2.41459e+06\n",
      "[39]\tvalid_0's l2: 2.44665e+06\n",
      "[41]\tvalid_0's l2: 2.49328e+06\n",
      "[86]\tvalid_0's l2: 2.3229e+06\n",
      "[91]\tvalid_0's l2: 2.41258e+06\n",
      "[50]\tvalid_0's l2: 2.36711e+06\n",
      "[5]\tvalid_0's l2: 9.82587e+06\n",
      "[92]\tvalid_0's l2: 2.40838e+06\n",
      "[42]\tvalid_0's l2: 2.48155e+06\n",
      "[93]\tvalid_0's l2: 2.40734e+06\n",
      "[6]\tvalid_0's l2: 8.63349e+06\n",
      "[19]\tvalid_0's l2: 3.22254e+06\n",
      "[87]\tvalid_0's l2: 2.32107e+06\n",
      "[51]\tvalid_0's l2: 2.36238e+06\n",
      "[94]\tvalid_0's l2: 2.40428e+06\n",
      "[43]\tvalid_0's l2: 2.47352e+06\n",
      "[7]\tvalid_0's l2: 7.63739e+06\n",
      "[40]\tvalid_0's l2: 2.43558e+06\n",
      "[95]\tvalid_0's l2: 2.40223e+06\n",
      "[13]\tvalid_0's l2: 4.3484e+06\n",
      "[88]\tvalid_0's l2: 2.31965e+06\n",
      "[96]\tvalid_0's l2: 2.39859e+06\n",
      "[52]\tvalid_0's l2: 2.35786e+06\n",
      "[8]\tvalid_0's l2: 6.8065e+06\n",
      "[41]\tvalid_0's l2: 2.42593e+06\n",
      "[44]\tvalid_0's l2: 2.46557e+06\n",
      "[20]\tvalid_0's l2: 3.11927e+06\n",
      "[97]\tvalid_0's l2: 2.39797e+06\n",
      "[14]\tvalid_0's l2: 4.06689e+06\n",
      "[89]\tvalid_0's l2: 2.3189e+06\n",
      "[45]\tvalid_0's l2: 2.45686e+06\n",
      "[9]\tvalid_0's l2: 6.12729e+06\n",
      "[46]\tvalid_0's l2: 2.44917e+06\n",
      "[42]\tvalid_0's l2: 2.4148e+06\n",
      "[98]\tvalid_0's l2: 2.39596e+06\n",
      "[90]\tvalid_0's l2: 2.31679e+06\n",
      "[53]\tvalid_0's l2: 2.35412e+06\n",
      "[15]\tvalid_0's l2: 3.83244e+06\n",
      "[47]\tvalid_0's l2: 2.44276e+06\n",
      "[43]\tvalid_0's l2: 2.40633e+06\n",
      "[99]\tvalid_0's l2: 2.39496e+06\n",
      "[48]\tvalid_0's l2: 2.43754e+06\n",
      "[10]\tvalid_0's l2: 5.55864e+06\n",
      "[91]\tvalid_0's l2: 2.31318e+06\n",
      "[100]\tvalid_0's l2: 2.39366e+06\n",
      "[54]\tvalid_0's l2: 2.34985e+06\n",
      "[49]\tvalid_0's l2: 2.43199e+06\n",
      "[21]\tvalid_0's l2: 3.02988e+06\n",
      "[44]\tvalid_0's l2: 2.39932e+06\n",
      "[11]\tvalid_0's l2: 5.08544e+06\n",
      "[50]\tvalid_0's l2: 2.42609e+06\n",
      "[92]\tvalid_0's l2: 2.31197e+06\n",
      "[16]\tvalid_0's l2: 3.6383e+06\n",
      "[93]\tvalid_0's l2: 2.31005e+06\n",
      "[55]\tvalid_0's l2: 2.34578e+06\n",
      "[22]\tvalid_0's l2: 2.95544e+06\n",
      "[45]\tvalid_0's l2: 2.39486e+06\n",
      "[12]\tvalid_0's l2: 4.68242e+06\n",
      "[94]\tvalid_0's l2: 2.30909e+06\n",
      "[17]\tvalid_0's l2: 3.47235e+06\n",
      "[51]\tvalid_0's l2: 2.41954e+06\n",
      "[56]\tvalid_0's l2: 2.34171e+06\n",
      "[23]\tvalid_0's l2: 2.88838e+06\n",
      "[52]\tvalid_0's l2: 2.41545e+06\n",
      "[95]\tvalid_0's l2: 2.30625e+06\n",
      "[13]\tvalid_0's l2: 4.35127e+06\n",
      "[46]\tvalid_0's l2: 2.38839e+06\n"
     ]
    },
    {
     "name": "stderr",
     "output_type": "stream",
     "text": [
      "[I 2023-06-29 19:56:56,092] Trial 15 finished with value: 1547.1455083130272 and parameters: {'num_leaves': 39, 'min_child_samples': 35}. Best is trial 3 with value: 1501.8447203415867.\n"
     ]
    },
    {
     "name": "stdout",
     "output_type": "stream",
     "text": [
      "[53]\tvalid_0's l2: 2.40972e+06\n",
      "[18]\tvalid_0's l2: 3.3333e+06\n",
      "[14]\tvalid_0's l2: 4.07455e+06\n",
      "[96]\tvalid_0's l2: 2.30512e+06\n",
      "[57]\tvalid_0's l2: 2.33751e+06\n",
      "[54]\tvalid_0's l2: 2.40551e+06\n",
      "[24]\tvalid_0's l2: 2.83195e+06\n",
      "[47]\tvalid_0's l2: 2.38235e+06\n",
      "[25]\tvalid_0's l2: 2.78117e+06\n",
      "[97]\tvalid_0's l2: 2.30427e+06\n",
      "[58]\tvalid_0's l2: 2.33402e+06\n",
      "[15]\tvalid_0's l2: 3.8421e+06\n",
      "[55]\tvalid_0's l2: 2.40055e+06\n",
      "[19]\tvalid_0's l2: 3.20889e+06\n",
      "[56]\tvalid_0's l2: 2.39575e+06\n",
      "[98]\tvalid_0's l2: 2.30212e+06\n",
      "[48]\tvalid_0's l2: 2.3775e+06\n",
      "[16]\tvalid_0's l2: 3.64394e+06\n",
      "[99]\tvalid_0's l2: 2.30011e+06\n",
      "[20]\tvalid_0's l2: 3.10689e+06\n",
      "[59]\tvalid_0's l2: 2.3311e+06\n",
      "[26]\tvalid_0's l2: 2.73617e+06\n",
      "[57]\tvalid_0's l2: 2.39134e+06\n",
      "[49]\tvalid_0's l2: 2.37029e+06\n",
      "[17]\tvalid_0's l2: 3.4776e+06\n",
      "[21]\tvalid_0's l2: 3.01997e+06\n",
      "[58]\tvalid_0's l2: 2.38737e+06\n",
      "[60]\tvalid_0's l2: 2.32812e+06\n",
      "[27]\tvalid_0's l2: 2.69699e+06\n",
      "[50]\tvalid_0's l2: 2.36639e+06\n",
      "[100]\tvalid_0's l2: 2.29913e+06\n",
      "[59]\tvalid_0's l2: 2.38378e+06\n",
      "[1]\tvalid_0's l2: 1.77912e+07\n",
      "[18]\tvalid_0's l2: 3.33923e+06\n",
      "[28]\tvalid_0's l2: 2.66421e+06\n",
      "[22]\tvalid_0's l2: 2.94384e+06\n",
      "[2]\tvalid_0's l2: 1.5171e+07[19]\tvalid_0's l2: 3.22254e+06\n",
      "\n",
      "[61]\tvalid_0's l2: 2.32446e+06\n",
      "[60]\tvalid_0's l2: 2.38081e+06\n",
      "[51]\tvalid_0's l2: 2.36105e+06\n",
      "[23]\tvalid_0's l2: 2.87862e+06\n",
      "[20]\tvalid_0's l2: 3.11927e+06\n",
      "[29]\tvalid_0's l2: 2.63237e+06\n"
     ]
    },
    {
     "name": "stderr",
     "output_type": "stream",
     "text": [
      "[I 2023-06-29 19:57:01,564] Trial 10 finished with value: 1516.28892001892 and parameters: {'num_leaves': 71, 'min_child_samples': 33}. Best is trial 3 with value: 1501.8447203415867.\n"
     ]
    },
    {
     "name": "stdout",
     "output_type": "stream",
     "text": [
      "[62]\tvalid_0's l2: 2.32152e+06\n",
      "[61]\tvalid_0's l2: 2.37763e+06\n",
      "[24]\tvalid_0's l2: 2.82277e+06\n",
      "[52]\tvalid_0's l2: 2.35881e+06\n",
      "[3]\tvalid_0's l2: 1.30215e+07\n",
      "[63]\tvalid_0's l2: 2.31934e+06\n",
      "[53]\tvalid_0's l2: 2.35344e+06\n",
      "[25]\tvalid_0's l2: 2.77437e+06\n",
      "[62]\tvalid_0's l2: 2.37422e+06\n",
      "[21]\tvalid_0's l2: 3.02988e+06\n",
      "[4]\tvalid_0's l2: 1.1268e+07\n",
      "[64]\tvalid_0's l2: 2.3175e+06\n",
      "[30]\tvalid_0's l2: 2.60441e+06\n",
      "[54]\tvalid_0's l2: 2.34934e+06\n",
      "[65]\tvalid_0's l2: 2.31521e+06\n",
      "[63]\tvalid_0's l2: 2.37089e+06\n",
      "[55]\tvalid_0's l2: 2.34567e+06\n",
      "[26]\tvalid_0's l2: 2.73054e+06\n",
      "[5]\tvalid_0's l2: 9.82239e+06\n",
      "[31]\tvalid_0's l2: 2.57778e+06\n",
      "[64]\tvalid_0's l2: 2.36776e+06\n",
      "[22]\tvalid_0's l2: 2.95544e+06\n",
      "[66]\tvalid_0's l2: 2.31233e+06\n",
      "[1]\tvalid_0's l2: 1.77915e+07\n",
      "[56]\tvalid_0's l2: 2.34217e+06\n",
      "[23]\tvalid_0's l2: 2.88838e+06\n",
      "[32]\tvalid_0's l2: 2.55512e+06\n",
      "[65]\tvalid_0's l2: 2.36461e+06\n",
      "[6]\tvalid_0's l2: 8.63079e+06\n",
      "[66]\tvalid_0's l2: 2.36209e+06\n",
      "[2]\tvalid_0's l2: 1.51714e+07\n",
      "[67]\tvalid_0's l2: 2.30945e+06\n",
      "[27]\tvalid_0's l2: 2.69074e+06\n",
      "[57]\tvalid_0's l2: 2.33817e+06\n",
      "[67]\tvalid_0's l2: 2.3601e+06\n",
      "[24]\tvalid_0's l2: 2.83195e+06\n",
      "[68]\tvalid_0's l2: 2.35766e+06\n",
      "[33]\tvalid_0's l2: 2.5364e+06\n",
      "[7]\tvalid_0's l2: 7.63854e+06\n",
      "[68]\tvalid_0's l2: 2.30604e+06\n",
      "[28]\tvalid_0's l2: 2.65678e+06\n",
      "[3]\tvalid_0's l2: 1.30219e+07\n",
      "[69]\tvalid_0's l2: 2.35484e+06\n",
      "[25]\tvalid_0's l2: 2.78117e+06\n",
      "[58]\tvalid_0's l2: 2.33465e+06\n",
      "[34]\tvalid_0's l2: 2.51799e+06\n",
      "[69]\tvalid_0's l2: 2.30457e+06\n",
      "[26]\tvalid_0's l2: 2.73617e+06\n",
      "[8]\tvalid_0's l2: 6.80945e+06\n",
      "[59]\tvalid_0's l2: 2.33242e+06\n",
      "[70]\tvalid_0's l2: 2.35193e+06\n",
      "[70]\tvalid_0's l2: 2.30334e+06\n",
      "[35]\tvalid_0's l2: 2.49893e+06\n",
      "[29]\tvalid_0's l2: 2.62446e+06\n",
      "[9]\tvalid_0's l2: 6.12777e+06\n",
      "[4]\tvalid_0's l2: 1.12683e+07\n",
      "[27]\tvalid_0's l2: 2.69699e+06\n",
      "[60]\tvalid_0's l2: 2.32896e+06\n",
      "[71]\tvalid_0's l2: 2.34932e+06\n",
      "[71]\tvalid_0's l2: 2.3012e+06\n",
      "[30]\tvalid_0's l2: 2.60012e+06\n",
      "[72]\tvalid_0's l2: 2.347e+06\n",
      "[28]\tvalid_0's l2: 2.66421e+06\n",
      "[73]\tvalid_0's l2: 2.34323e+06\n",
      "[61]\tvalid_0's l2: 2.32619e+06\n",
      "[5]\tvalid_0's l2: 9.82273e+06\n",
      "[36]\tvalid_0's l2: 2.48046e+06\n",
      "[72]\tvalid_0's l2: 2.29942e+06\n",
      "[10]\tvalid_0's l2: 5.55674e+06\n",
      "[31]\tvalid_0's l2: 2.57599e+06\n",
      "[74]\tvalid_0's l2: 2.34267e+06\n",
      "[62]\tvalid_0's l2: 2.32288e+06\n",
      "[29]\tvalid_0's l2: 2.63237e+06\n",
      "[6]\tvalid_0's l2: 8.63112e+06\n",
      "[73]\tvalid_0's l2: 2.29752e+06\n",
      "[75]\tvalid_0's l2: 2.34168e+06\n",
      "[32]\tvalid_0's l2: 2.55447e+06\n",
      "[37]\tvalid_0's l2: 2.46815e+06\n",
      "[63]\tvalid_0's l2: 2.32084e+06\n",
      "[30]\tvalid_0's l2: 2.60441e+06\n",
      "[11]\tvalid_0's l2: 5.08735e+06\n",
      "[74]\tvalid_0's l2: 2.29523e+06\n",
      "[76]\tvalid_0's l2: 2.3383e+06\n",
      "[64]\tvalid_0's l2: 2.31797e+06\n",
      "[33]\tvalid_0's l2: 2.53666e+06\n",
      "[7]\tvalid_0's l2: 7.63886e+06\n",
      "[77]\tvalid_0's l2: 2.33738e+06\n",
      "[38]\tvalid_0's l2: 2.45405e+06\n",
      "[31]\tvalid_0's l2: 2.57778e+06\n",
      "[78]\tvalid_0's l2: 2.33561e+06\n",
      "[12]\tvalid_0's l2: 4.68731e+06\n",
      "[34]\tvalid_0's l2: 2.51776e+06\n",
      "[65]\tvalid_0's l2: 2.31505e+06\n",
      "[75]\tvalid_0's l2: 2.29412e+06\n",
      "[39]\tvalid_0's l2: 2.44299e+06\n",
      "[32]\tvalid_0's l2: 2.55512e+06\n",
      "[79]\tvalid_0's l2: 2.33352e+06\n",
      "[8]\tvalid_0's l2: 6.80976e+06\n",
      "[35]\tvalid_0's l2: 2.4998e+06\n",
      "[13]\tvalid_0's l2: 4.35596e+06\n",
      "[66]\tvalid_0's l2: 2.31299e+06\n",
      "[76]\tvalid_0's l2: 2.29283e+06\n",
      "[40]\tvalid_0's l2: 2.43262e+06\n",
      "[33]\tvalid_0's l2: 2.5364e+06\n",
      "[80]\tvalid_0's l2: 2.33217e+06\n",
      "[67]\tvalid_0's l2: 2.31097e+06\n",
      "[81]\tvalid_0's l2: 2.3313e+06\n",
      "[9]\tvalid_0's l2: 6.12805e+06\n",
      "[14]\tvalid_0's l2: 4.07259e+06\n",
      "[36]\tvalid_0's l2: 2.4805e+06\n",
      "[34]\tvalid_0's l2: 2.51799e+06\n",
      "[41]\tvalid_0's l2: 2.4232e+06\n",
      "[77]\tvalid_0's l2: 2.29126e+06\n",
      "[82]\tvalid_0's l2: 2.32812e+06\n",
      "[68]\tvalid_0's l2: 2.30987e+06\n",
      "[10]\tvalid_0's l2: 5.55702e+06\n",
      "[15]\tvalid_0's l2: 3.83868e+06\n",
      "[37]\tvalid_0's l2: 2.46788e+06\n",
      "[35]\tvalid_0's l2: 2.49893e+06\n",
      "[83]\tvalid_0's l2: 2.32688e+06\n",
      "[69]\tvalid_0's l2: 2.30847e+06\n",
      "[78]\tvalid_0's l2: 2.2896e+06\n",
      "[84]\tvalid_0's l2: 2.32609e+06\n",
      "[85]\tvalid_0's l2: 2.32494e+06\n",
      "[11]\tvalid_0's l2: 5.0876e+06\n",
      "[38]\tvalid_0's l2: 2.45238e+06\n",
      "[42]\tvalid_0's l2: 2.41229e+06\n",
      "[79]\tvalid_0's l2: 2.28799e+06\n",
      "[16]\tvalid_0's l2: 3.64509e+06\n",
      "[36]\tvalid_0's l2: 2.48046e+06\n",
      "[86]\tvalid_0's l2: 2.32289e+06\n",
      "[70]\tvalid_0's l2: 2.30604e+06\n",
      "[39]\tvalid_0's l2: 2.44088e+06\n",
      "[87]\tvalid_0's l2: 2.32209e+06\n",
      "[43]\tvalid_0's l2: 2.4032e+06\n",
      "[17]\tvalid_0's l2: 3.48053e+06\n",
      "[40]\tvalid_0's l2: 2.42911e+06\n",
      "[37]\tvalid_0's l2: 2.46815e+06\n",
      "[41]\tvalid_0's l2: 2.42085e+06\n",
      "[71]\tvalid_0's l2: 2.30377e+06\n",
      "[44]\tvalid_0's l2: 2.3955e+06\n",
      "[80]\tvalid_0's l2: 2.287e+06\n",
      "[72]\tvalid_0's l2: 2.30146e+06\n",
      "[12]\tvalid_0's l2: 4.68792e+06\n",
      "[88]\tvalid_0's l2: 2.31951e+06\n",
      "[38]\tvalid_0's l2: 2.45405e+06\n",
      "[13]\tvalid_0's l2: 4.35615e+06\n",
      "[42]\tvalid_0's l2: 2.41224e+06\n",
      "[89]\tvalid_0's l2: 2.31768e+06\n",
      "[81]\tvalid_0's l2: 2.2855e+06\n",
      "[18]\tvalid_0's l2: 3.33844e+06\n",
      "[39]\tvalid_0's l2: 2.44299e+06\n",
      "[73]\tvalid_0's l2: 2.29902e+06\n",
      "[45]\tvalid_0's l2: 2.38955e+06\n",
      "[82]\tvalid_0's l2: 2.28339e+06\n",
      "[14]\tvalid_0's l2: 4.07642e+06\n",
      "[43]\tvalid_0's l2: 2.40225e+06\n",
      "[90]\tvalid_0's l2: 2.3166e+06\n",
      "[46]\tvalid_0's l2: 2.38289e+06\n",
      "[40]\tvalid_0's l2: 2.43262e+06\n",
      "[41]\tvalid_0's l2: 2.4232e+06\n",
      "[74]\tvalid_0's l2: 2.29718e+06\n",
      "[19]\tvalid_0's l2: 3.2163e+06\n",
      "[91]\tvalid_0's l2: 2.31444e+06\n",
      "[47]\tvalid_0's l2: 2.3778e+06\n",
      "[83]\tvalid_0's l2: 2.2825e+06\n",
      "[15]\tvalid_0's l2: 3.84362e+06\n",
      "[92]\tvalid_0's l2: 2.31264e+06\n",
      "[44]\tvalid_0's l2: 2.39469e+06\n",
      "[42]\tvalid_0's l2: 2.41229e+06\n",
      "[93]\tvalid_0's l2: 2.30997e+06\n",
      "[48]\tvalid_0's l2: 2.37196e+06\n",
      "[20]\tvalid_0's l2: 3.11535e+06\n",
      "[75]\tvalid_0's l2: 2.29624e+06\n",
      "[84]\tvalid_0's l2: 2.28134e+06\n",
      "[16]\tvalid_0's l2: 3.64762e+06\n",
      "[94]\tvalid_0's l2: 2.30833e+06\n",
      "[45]\tvalid_0's l2: 2.38759e+06\n",
      "[43]\tvalid_0's l2: 2.4032e+06\n",
      "[95]\tvalid_0's l2: 2.30526e+06\n",
      "[21]\tvalid_0's l2: 3.02454e+06\n",
      "[17]\tvalid_0's l2: 3.4813e+06\n",
      "[85]\tvalid_0's l2: 2.28018e+06\n",
      "[44]\tvalid_0's l2: 2.3955e+06\n",
      "[76]\tvalid_0's l2: 2.29524e+06\n",
      "[96]\tvalid_0's l2: 2.30443e+06\n",
      "[49]\tvalid_0's l2: 2.36518e+06\n",
      "[46]\tvalid_0's l2: 2.38004e+06\n",
      "[18]\tvalid_0's l2: 3.33955e+06\n",
      "[86]\tvalid_0's l2: 2.2792e+06\n",
      "[97]\tvalid_0's l2: 2.30391e+06\n",
      "[45]\tvalid_0's l2: 2.38955e+06\n",
      "[77]\tvalid_0's l2: 2.29359e+06\n",
      "[98]\tvalid_0's l2: 2.30267e+06\n",
      "[22]\tvalid_0's l2: 2.94952e+06\n",
      "[50]\tvalid_0's l2: 2.3612e+06\n",
      "[19]\tvalid_0's l2: 3.21789e+06\n",
      "[46]\tvalid_0's l2: 2.38289e+06\n",
      "[47]\tvalid_0's l2: 2.37376e+06\n",
      "[99]\tvalid_0's l2: 2.30129e+06\n",
      "[78]\tvalid_0's l2: 2.29235e+06\n",
      "[47]\tvalid_0's l2: 2.3778e+06\n",
      "[87]\tvalid_0's l2: 2.27681e+06\n",
      "[20]\tvalid_0's l2: 3.11322e+06\n",
      "[23]\tvalid_0's l2: 2.88067e+06\n",
      "[100]\tvalid_0's l2: 2.29907e+06\n",
      "[51]\tvalid_0's l2: 2.35636e+06\n",
      "[48]\tvalid_0's l2: 2.368e+06\n",
      "[79]\tvalid_0's l2: 2.29105e+06\n",
      "[88]\tvalid_0's l2: 2.27478e+06\n",
      "[24]\tvalid_0's l2: 2.82388e+06\n",
      "[52]\tvalid_0's l2: 2.35221e+06\n",
      "[53]\tvalid_0's l2: 2.34774e+06\n",
      "[21]\tvalid_0's l2: 3.02699e+06\n",
      "[48]\tvalid_0's l2: 2.37196e+06\n",
      "[25]\tvalid_0's l2: 2.77442e+06\n",
      "[89]\tvalid_0's l2: 2.27319e+06\n",
      "[80]\tvalid_0's l2: 2.28846e+06\n",
      "[49]\tvalid_0's l2: 2.36221e+06\n",
      "[54]\tvalid_0's l2: 2.34375e+06\n",
      "[49]\tvalid_0's l2: 2.36518e+06\n",
      "[22]\tvalid_0's l2: 2.94886e+06\n",
      "[50]\tvalid_0's l2: 2.3612e+06\n",
      "[90]\tvalid_0's l2: 2.27082e+06\n"
     ]
    },
    {
     "name": "stderr",
     "output_type": "stream",
     "text": [
      "[I 2023-06-29 19:57:24,404] Trial 17 finished with value: 1516.269368058273 and parameters: {'num_leaves': 70, 'min_child_samples': 49}. Best is trial 3 with value: 1501.8447203415867.\n"
     ]
    },
    {
     "name": "stdout",
     "output_type": "stream",
     "text": [
      "[81]\tvalid_0's l2: 2.28722e+06\n",
      "[26]\tvalid_0's l2: 2.73058e+06\n",
      "[23]\tvalid_0's l2: 2.88259e+06\n",
      "[50]\tvalid_0's l2: 2.35629e+06\n",
      "[55]\tvalid_0's l2: 2.33916e+06\n",
      "[82]\tvalid_0's l2: 2.28447e+06\n",
      "[51]\tvalid_0's l2: 2.35636e+06\n",
      "[24]\tvalid_0's l2: 2.82819e+06\n",
      "[91]\tvalid_0's l2: 2.26924e+06\n",
      "[27]\tvalid_0's l2: 2.69084e+06\n",
      "[83]\tvalid_0's l2: 2.28378e+06\n",
      "[84]\tvalid_0's l2: 2.28177e+06\n",
      "[51]\tvalid_0's l2: 2.35203e+06\n",
      "[92]\tvalid_0's l2: 2.26819e+06\n",
      "[25]\tvalid_0's l2: 2.77787e+06\n",
      "[28]\tvalid_0's l2: 2.66024e+06\n",
      "[56]\tvalid_0's l2: 2.33457e+06\n",
      "[52]\tvalid_0's l2: 2.35221e+06\n",
      "[85]\tvalid_0's l2: 2.28061e+06\n",
      "[26]\tvalid_0's l2: 2.73289e+06\n",
      "[93]\tvalid_0's l2: 2.26701e+06\n",
      "[52]\tvalid_0's l2: 2.34774e+06\n",
      "[53]\tvalid_0's l2: 2.34774e+06\n",
      "[86]\tvalid_0's l2: 2.27961e+06\n",
      "[57]\tvalid_0's l2: 2.332e+06\n",
      "[1]\tvalid_0's l2: 1.77909e+07\n",
      "[29]\tvalid_0's l2: 2.63113e+06\n",
      "[94]\tvalid_0's l2: 2.26534e+06\n",
      "[53]\tvalid_0's l2: 2.34308e+06\n",
      "[27]\tvalid_0's l2: 2.69509e+06\n",
      "[87]\tvalid_0's l2: 2.2784e+06\n",
      "[2]\tvalid_0's l2: 1.51708e+07\n",
      "[58]\tvalid_0's l2: 2.32782e+06\n",
      "[54]\tvalid_0's l2: 2.34375e+06\n",
      "[59]\tvalid_0's l2: 2.32511e+06\n",
      "[95]\tvalid_0's l2: 2.26417e+06\n",
      "[88]\tvalid_0's l2: 2.27718e+06\n",
      "[30]\tvalid_0's l2: 2.60571e+06\n",
      "[28]\tvalid_0's l2: 2.66188e+06\n",
      "[54]\tvalid_0's l2: 2.33906e+06\n",
      "[3]\tvalid_0's l2: 1.30228e+07\n",
      "[89]\tvalid_0's l2: 2.27654e+06\n",
      "[55]\tvalid_0's l2: 2.33916e+06\n",
      "[60]\tvalid_0's l2: 2.32284e+06\n",
      "[29]\tvalid_0's l2: 2.63109e+06\n",
      "[96]\tvalid_0's l2: 2.26306e+06\n",
      "[90]\tvalid_0's l2: 2.27403e+06\n",
      "[31]\tvalid_0's l2: 2.5811e+06\n",
      "[30]\tvalid_0's l2: 2.60573e+06\n",
      "[4]\tvalid_0's l2: 1.12695e+07\n",
      "[55]\tvalid_0's l2: 2.33544e+06\n",
      "[61]\tvalid_0's l2: 2.32081e+06\n",
      "[91]\tvalid_0's l2: 2.27139e+06\n",
      "[56]\tvalid_0's l2: 2.33457e+06\n",
      "[5]\tvalid_0's l2: 9.82302e+06\n",
      "[31]\tvalid_0's l2: 2.58152e+06\n",
      "[32]\tvalid_0's l2: 2.55989e+06\n",
      "[92]\tvalid_0's l2: 2.27063e+06\n",
      "[57]\tvalid_0's l2: 2.332e+06\n",
      "[97]\tvalid_0's l2: 2.2628e+06\n",
      "[62]\tvalid_0's l2: 2.31747e+06\n",
      "[33]\tvalid_0's l2: 2.53872e+06\n",
      "[6]\tvalid_0's l2: 8.63184e+06\n",
      "[32]\tvalid_0's l2: 2.56068e+06\n",
      "[93]\tvalid_0's l2: 2.26878e+06\n",
      "[98]\tvalid_0's l2: 2.26241e+06\n",
      "[7]\tvalid_0's l2: 7.63573e+06\n",
      "[56]\tvalid_0's l2: 2.33195e+06\n",
      "[94]\tvalid_0's l2: 2.26765e+06\n",
      "[63]\tvalid_0's l2: 2.31389e+06\n",
      "[34]\tvalid_0's l2: 2.5208e+06\n",
      "[58]\tvalid_0's l2: 2.32782e+06\n",
      "[99]\tvalid_0's l2: 2.26159e+06\n",
      "[64]\tvalid_0's l2: 2.31162e+06\n",
      "[33]\tvalid_0's l2: 2.54175e+06\n",
      "[57]\tvalid_0's l2: 2.32793e+06\n",
      "[35]\tvalid_0's l2: 2.50613e+06\n",
      "[59]\tvalid_0's l2: 2.32511e+06\n",
      "[95]\tvalid_0's l2: 2.26569e+06\n",
      "[65]\tvalid_0's l2: 2.30911e+06\n",
      "[8]\tvalid_0's l2: 6.8065e+06\n",
      "[34]\tvalid_0's l2: 2.52484e+06\n",
      "[36]\tvalid_0's l2: 2.49104e+06\n",
      "[100]\tvalid_0's l2: 2.26129e+06\n",
      "[96]\tvalid_0's l2: 2.2643e+06\n",
      "[60]\tvalid_0's l2: 2.32284e+06\n",
      "[58]\tvalid_0's l2: 2.32503e+06\n",
      "[9]\tvalid_0's l2: 6.11956e+06\n",
      "[37]\tvalid_0's l2: 2.47393e+06\n",
      "[59]\tvalid_0's l2: 2.32296e+06\n",
      "[97]\tvalid_0's l2: 2.26334e+06\n",
      "[66]\tvalid_0's l2: 2.30701e+06\n",
      "[60]\tvalid_0's l2: 2.32043e+06\n",
      "[35]\tvalid_0's l2: 2.50317e+06\n",
      "[10]\tvalid_0's l2: 5.55604e+06\n",
      "[61]\tvalid_0's l2: 2.32081e+06\n",
      "[38]\tvalid_0's l2: 2.46366e+06\n",
      "[98]\tvalid_0's l2: 2.26279e+06\n",
      "[61]\tvalid_0's l2: 2.31766e+06\n",
      "[11]\tvalid_0's l2: 5.08162e+06\n",
      "[67]\tvalid_0's l2: 2.30428e+06\n",
      "[62]\tvalid_0's l2: 2.31747e+06\n",
      "[99]\tvalid_0's l2: 2.26145e+06\n",
      "[36]\tvalid_0's l2: 2.4894e+06\n"
     ]
    },
    {
     "name": "stderr",
     "output_type": "stream",
     "text": [
      "[I 2023-06-29 19:57:35,712] Trial 12 finished with value: 1503.760112612644 and parameters: {'num_leaves': 92, 'min_child_samples': 43}. Best is trial 3 with value: 1501.8447203415867.\n"
     ]
    },
    {
     "name": "stdout",
     "output_type": "stream",
     "text": [
      "[39]\tvalid_0's l2: 2.44969e+06\n",
      "[12]\tvalid_0's l2: 4.6826e+06[68]\tvalid_0's l2: 2.30213e+06\n",
      "[62]\tvalid_0's l2: 2.31575e+06\n",
      "\n",
      "[100]\tvalid_0's l2: 2.26027e+06\n",
      "[37]\tvalid_0's l2: 2.47308e+06\n",
      "[63]\tvalid_0's l2: 2.31389e+06\n",
      "[69]\tvalid_0's l2: 2.30085e+06\n",
      "[40]\tvalid_0's l2: 2.44128e+06\n",
      "[38]\tvalid_0's l2: 2.45825e+06\n",
      "[63]\tvalid_0's l2: 2.3146e+06\n",
      "[13]\tvalid_0's l2: 4.35289e+06\n",
      "[70]\tvalid_0's l2: 2.30053e+06\n",
      "[64]\tvalid_0's l2: 2.31162e+06\n",
      "[14]\tvalid_0's l2: 4.07441e+06\n",
      "[65]\tvalid_0's l2: 2.30911e+06\n",
      "[39]\tvalid_0's l2: 2.44667e+06\n",
      "[64]\tvalid_0's l2: 2.31242e+06\n",
      "[41]\tvalid_0's l2: 2.43002e+06\n",
      "[1]\tvalid_0's l2: 1.77909e+07\n",
      "[71]\tvalid_0's l2: 2.29957e+06\n",
      "[66]\tvalid_0's l2: 2.30701e+06\n"
     ]
    },
    {
     "name": "stderr",
     "output_type": "stream",
     "text": [
      "[I 2023-06-29 19:57:39,255] Trial 16 finished with value: 1503.4191549361776 and parameters: {'num_leaves': 98, 'min_child_samples': 35}. Best is trial 3 with value: 1501.8447203415867.\n"
     ]
    },
    {
     "name": "stdout",
     "output_type": "stream",
     "text": [
      "[40]\tvalid_0's l2: 2.4354e+06\n",
      "[15]\tvalid_0's l2: 3.84424e+06\n",
      "[67]\tvalid_0's l2: 2.30428e+06\n",
      "[65]\tvalid_0's l2: 2.30965e+06\n",
      "[72]\tvalid_0's l2: 2.29659e+06\n",
      "[41]\tvalid_0's l2: 2.42492e+06\n",
      "[2]\tvalid_0's l2: 1.51712e+07\n",
      "[42]\tvalid_0's l2: 2.42212e+06\n",
      "[68]\tvalid_0's l2: 2.30213e+06\n",
      "[73]\tvalid_0's l2: 2.29491e+06\n",
      "[16]\tvalid_0's l2: 3.64475e+06\n",
      "[66]\tvalid_0's l2: 2.30708e+06\n",
      "[42]\tvalid_0's l2: 2.414e+06\n",
      "[3]\tvalid_0's l2: 1.30235e+07\n",
      "[69]\tvalid_0's l2: 2.30085e+06\n",
      "[17]\tvalid_0's l2: 3.47744e+06\n",
      "[74]\tvalid_0's l2: 2.29377e+06\n",
      "[43]\tvalid_0's l2: 2.41216e+06\n",
      "[67]\tvalid_0's l2: 2.30455e+06\n",
      "[70]\tvalid_0's l2: 2.30053e+06\n",
      "[43]\tvalid_0's l2: 2.40587e+06\n",
      "[4]\tvalid_0's l2: 1.12669e+07\n",
      "[18]\tvalid_0's l2: 3.33667e+06\n",
      "[75]\tvalid_0's l2: 2.29216e+06\n",
      "[44]\tvalid_0's l2: 2.40584e+06\n",
      "[5]\tvalid_0's l2: 9.82068e+06\n",
      "[71]\tvalid_0's l2: 2.29957e+06\n",
      "[44]\tvalid_0's l2: 2.39859e+06\n",
      "[19]\tvalid_0's l2: 3.21572e+06\n",
      "[68]\tvalid_0's l2: 2.3019e+06\n",
      "[76]\tvalid_0's l2: 2.2903e+06\n",
      "[6]\tvalid_0's l2: 8.63144e+06\n",
      "[72]\tvalid_0's l2: 2.29659e+06\n",
      "[1]\tvalid_0's l2: 1.78209e+07\n",
      "[69]\tvalid_0's l2: 2.30051e+06\n",
      "[20]\tvalid_0's l2: 3.11353e+06\n",
      "[45]\tvalid_0's l2: 2.39307e+06\n",
      "[45]\tvalid_0's l2: 2.39792e+06\n",
      "[7]\tvalid_0's l2: 7.64097e+06\n",
      "[77]\tvalid_0's l2: 2.28851e+06\n",
      "[2]\tvalid_0's l2: 1.52306e+07\n",
      "[73]\tvalid_0's l2: 2.29491e+06\n",
      "[21]\tvalid_0's l2: 3.02519e+06\n",
      "[46]\tvalid_0's l2: 2.38565e+06\n",
      "[70]\tvalid_0's l2: 2.29897e+06\n",
      "[74]\tvalid_0's l2: 2.29377e+06\n",
      "[46]\tvalid_0's l2: 2.39084e+06\n",
      "[78]\tvalid_0's l2: 2.28707e+06\n",
      "[3]\tvalid_0's l2: 1.31039e+07\n",
      "[8]\tvalid_0's l2: 6.8117e+06\n",
      "[22]\tvalid_0's l2: 2.94762e+06\n",
      "[79]\tvalid_0's l2: 2.28466e+06\n",
      "[71]\tvalid_0's l2: 2.29732e+06\n",
      "[9]\tvalid_0's l2: 6.12209e+06\n",
      "[4]\tvalid_0's l2: 1.13585e+07\n",
      "[47]\tvalid_0's l2: 2.37978e+06\n",
      "[75]\tvalid_0's l2: 2.29216e+06\n",
      "[72]\tvalid_0's l2: 2.29461e+06\n",
      "[80]\tvalid_0's l2: 2.28298e+06\n",
      "[5]\tvalid_0's l2: 9.93277e+06\n",
      "[10]\tvalid_0's l2: 5.55658e+06\n",
      "[48]\tvalid_0's l2: 2.37448e+06\n",
      "[23]\tvalid_0's l2: 2.88254e+06\n",
      "[47]\tvalid_0's l2: 2.38443e+06\n",
      "[76]\tvalid_0's l2: 2.2903e+06\n",
      "[6]\tvalid_0's l2: 8.72935e+06\n",
      "[73]\tvalid_0's l2: 2.29318e+06\n",
      "[81]\tvalid_0's l2: 2.28141e+06\n",
      "[11]\tvalid_0's l2: 5.08197e+06\n",
      "[24]\tvalid_0's l2: 2.82419e+06\n",
      "[77]\tvalid_0's l2: 2.28851e+06\n",
      "[49]\tvalid_0's l2: 2.36957e+06\n",
      "[48]\tvalid_0's l2: 2.37853e+06\n",
      "[78]\tvalid_0's l2: 2.28707e+06\n",
      "[74]\tvalid_0's l2: 2.29127e+06\n",
      "[82]\tvalid_0's l2: 2.28012e+06\n",
      "[7]\tvalid_0's l2: 7.72488e+06\n",
      "[49]\tvalid_0's l2: 2.37393e+06\n",
      "[12]\tvalid_0's l2: 4.67973e+06\n",
      "[25]\tvalid_0's l2: 2.77665e+06\n",
      "[79]\tvalid_0's l2: 2.28466e+06\n",
      "[50]\tvalid_0's l2: 2.36459e+06\n",
      "[75]\tvalid_0's l2: 2.28894e+06\n",
      "[83]\tvalid_0's l2: 2.27927e+06\n",
      "[13]\tvalid_0's l2: 4.34867e+06\n",
      "[8]\tvalid_0's l2: 6.91085e+06\n",
      "[50]\tvalid_0's l2: 2.36821e+06\n",
      "[76]\tvalid_0's l2: 2.28744e+06\n",
      "[80]\tvalid_0's l2: 2.28298e+06\n",
      "[26]\tvalid_0's l2: 2.73436e+06\n",
      "[51]\tvalid_0's l2: 2.36037e+06\n",
      "[84]\tvalid_0's l2: 2.27877e+06\n",
      "[14]\tvalid_0's l2: 4.07183e+06\n",
      "[9]\tvalid_0's l2: 6.22776e+06\n",
      "[81]\tvalid_0's l2: 2.28141e+06\n",
      "[27]\tvalid_0's l2: 2.69471e+06\n",
      "[10]\tvalid_0's l2: 5.66289e+06\n",
      "[52]\tvalid_0's l2: 2.35601e+06\n",
      "[15]\tvalid_0's l2: 3.83949e+06\n",
      "[82]\tvalid_0's l2: 2.28012e+06\n",
      "[77]\tvalid_0's l2: 2.28687e+06\n",
      "[51]\tvalid_0's l2: 2.36388e+06\n",
      "[85]\tvalid_0's l2: 2.27788e+06\n",
      "[83]\tvalid_0's l2: 2.27927e+06\n",
      "[78]\tvalid_0's l2: 2.2861e+06\n",
      "[16]\tvalid_0's l2: 3.6419e+06\n",
      "[28]\tvalid_0's l2: 2.66283e+06\n",
      "[53]\tvalid_0's l2: 2.35093e+06\n",
      "[11]\tvalid_0's l2: 5.18898e+06\n",
      "[86]\tvalid_0's l2: 2.27411e+06\n",
      "[84]\tvalid_0's l2: 2.27877e+06\n",
      "[52]\tvalid_0's l2: 2.35885e+06\n",
      "[79]\tvalid_0's l2: 2.28439e+06\n",
      "[29]\tvalid_0's l2: 2.63287e+06\n",
      "[17]\tvalid_0's l2: 3.47629e+06\n",
      "[54]\tvalid_0's l2: 2.34616e+06\n",
      "[12]\tvalid_0's l2: 4.78685e+06\n",
      "[87]\tvalid_0's l2: 2.27312e+06\n",
      "[18]\tvalid_0's l2: 3.33898e+06\n",
      "[80]\tvalid_0's l2: 2.28306e+06\n",
      "[53]\tvalid_0's l2: 2.3557e+06[85]\tvalid_0's l2: 2.27788e+06\n",
      "\n",
      "[30]\tvalid_0's l2: 2.60592e+06\n",
      "[13]\tvalid_0's l2: 4.45353e+06\n",
      "[55]\tvalid_0's l2: 2.34239e+06\n",
      "[81]\tvalid_0's l2: 2.28152e+06\n",
      "[54]\tvalid_0's l2: 2.35134e+06\n",
      "[19]\tvalid_0's l2: 3.21823e+06\n",
      "[86]\tvalid_0's l2: 2.27411e+06\n",
      "[88]\tvalid_0's l2: 2.27082e+06\n",
      "[31]\tvalid_0's l2: 2.58321e+06\n",
      "[82]\tvalid_0's l2: 2.27911e+06\n",
      "[14]\tvalid_0's l2: 4.17319e+06\n",
      "[56]\tvalid_0's l2: 2.33815e+06\n",
      "[87]\tvalid_0's l2: 2.27312e+06\n",
      "[55]\tvalid_0's l2: 2.34798e+06\n",
      "[89]\tvalid_0's l2: 2.26946e+06\n",
      "[32]\tvalid_0's l2: 2.56159e+06\n",
      "[88]\tvalid_0's l2: 2.27082e+06\n",
      "[57]\tvalid_0's l2: 2.33419e+06\n",
      "[83]\tvalid_0's l2: 2.27675e+06\n",
      "[20]\tvalid_0's l2: 3.11669e+06\n",
      "[15]\tvalid_0's l2: 3.93684e+06\n",
      "[58]\tvalid_0's l2: 2.32966e+06\n",
      "[33]\tvalid_0's l2: 2.54202e+06\n",
      "[21]\tvalid_0's l2: 3.0288e+06\n",
      "[16]\tvalid_0's l2: 3.73484e+06\n",
      "[84]\tvalid_0's l2: 2.27452e+06\n",
      "[89]\tvalid_0's l2: 2.26946e+06\n",
      "[90]\tvalid_0's l2: 2.26791e+06\n",
      "[56]\tvalid_0's l2: 2.34413e+06\n",
      "[22]\tvalid_0's l2: 2.95225e+06\n",
      "[59]\tvalid_0's l2: 2.3276e+06\n",
      "[57]\tvalid_0's l2: 2.34207e+06\n",
      "[17]\tvalid_0's l2: 3.56778e+06\n",
      "[90]\tvalid_0's l2: 2.26791e+06\n",
      "[34]\tvalid_0's l2: 2.52067e+06\n",
      "[23]\tvalid_0's l2: 2.88648e+06\n",
      "[85]\tvalid_0's l2: 2.27326e+06\n",
      "[91]\tvalid_0's l2: 2.26554e+06\n",
      "[91]\tvalid_0's l2: 2.26554e+06\n",
      "[60]\tvalid_0's l2: 2.32453e+06\n",
      "[35]\tvalid_0's l2: 2.5002e+06\n",
      "[18]\tvalid_0's l2: 3.42358e+06\n",
      "[24]\tvalid_0's l2: 2.82852e+06\n",
      "[92]\tvalid_0's l2: 2.26458e+06\n",
      "[92]\tvalid_0's l2: 2.26458e+06\n",
      "[36]\tvalid_0's l2: 2.48304e+06\n",
      "[58]\tvalid_0's l2: 2.33889e+06\n",
      "[93]\tvalid_0's l2: 2.26337e+06\n",
      "[19]\tvalid_0's l2: 3.29808e+06\n",
      "[86]\tvalid_0's l2: 2.27252e+06\n",
      "[93]\tvalid_0's l2: 2.26337e+06\n",
      "[94]\tvalid_0's l2: 2.26185e+06\n",
      "[20]\tvalid_0's l2: 3.19285e+06\n",
      "[37]\tvalid_0's l2: 2.46817e+06\n",
      "[25]\tvalid_0's l2: 2.77812e+06\n",
      "[61]\tvalid_0's l2: 2.32117e+06\n",
      "[87]\tvalid_0's l2: 2.27188e+06\n",
      "[94]\tvalid_0's l2: 2.26185e+06\n",
      "[21]\tvalid_0's l2: 3.10073e+06\n",
      "[38]\tvalid_0's l2: 2.45458e+06\n",
      "[95]\tvalid_0's l2: 2.261e+06\n",
      "[59]\tvalid_0's l2: 2.33608e+06\n",
      "[95]\tvalid_0's l2: 2.261e+06\n",
      "[88]\tvalid_0's l2: 2.27043e+06\n",
      "[62]\tvalid_0's l2: 2.31759e+06\n",
      "[63]\tvalid_0's l2: 2.31431e+06\n",
      "[26]\tvalid_0's l2: 2.73562e+06\n",
      "[39]\tvalid_0's l2: 2.44365e+06\n",
      "[22]\tvalid_0's l2: 3.02008e+06\n",
      "[89]\tvalid_0's l2: 2.26924e+06\n",
      "[60]\tvalid_0's l2: 2.33276e+06\n",
      "[96]\tvalid_0's l2: 2.2589e+06\n",
      "[96]\tvalid_0's l2: 2.2589e+06\n",
      "[64]\tvalid_0's l2: 2.31133e+06\n",
      "[27]\tvalid_0's l2: 2.69809e+06\n",
      "[65]\tvalid_0's l2: 2.30952e+06\n",
      "[40]\tvalid_0's l2: 2.4329e+06\n",
      "[90]\tvalid_0's l2: 2.26879e+06\n",
      "[23]\tvalid_0's l2: 2.9519e+06\n",
      "[28]\tvalid_0's l2: 2.66109e+06\n",
      "[97]\tvalid_0's l2: 2.25859e+06\n",
      "[61]\tvalid_0's l2: 2.32974e+06\n",
      "[66]\tvalid_0's l2: 2.3068e+06\n",
      "[24]\tvalid_0's l2: 2.89055e+06\n",
      "[97]\tvalid_0's l2: 2.25859e+06\n",
      "[29]\tvalid_0's l2: 2.63353e+06\n",
      "[91]\tvalid_0's l2: 2.26766e+06\n",
      "[41]\tvalid_0's l2: 2.424e+06\n",
      "[98]\tvalid_0's l2: 2.25711e+06\n",
      "[67]\tvalid_0's l2: 2.30561e+06\n",
      "[25]\tvalid_0's l2: 2.8383e+06\n",
      "[42]\tvalid_0's l2: 2.4147e+06\n",
      "[30]\tvalid_0's l2: 2.6057e+06\n",
      "[68]\tvalid_0's l2: 2.30411e+06\n",
      "[62]\tvalid_0's l2: 2.32604e+06\n",
      "[92]\tvalid_0's l2: 2.26662e+06\n",
      "[43]\tvalid_0's l2: 2.40554e+06\n",
      "[99]\tvalid_0's l2: 2.25621e+06\n",
      "[98]\tvalid_0's l2: 2.25711e+06\n",
      "[31]\tvalid_0's l2: 2.58146e+06\n",
      "[63]\tvalid_0's l2: 2.32424e+06\n",
      "[26]\tvalid_0's l2: 2.7949e+06\n",
      "[69]\tvalid_0's l2: 2.30285e+06\n",
      "[100]\tvalid_0's l2: 2.25571e+06\n",
      "[93]\tvalid_0's l2: 2.26486e+06\n",
      "[44]\tvalid_0's l2: 2.39775e+06\n",
      "[32]\tvalid_0's l2: 2.56056e+06\n",
      "[64]\tvalid_0's l2: 2.3223e+06\n",
      "[27]\tvalid_0's l2: 2.75414e+06\n",
      "[45]\tvalid_0's l2: 2.39111e+06\n",
      "[33]\tvalid_0's l2: 2.54045e+06\n",
      "[99]\tvalid_0's l2: 2.25621e+06\n",
      "[70]\tvalid_0's l2: 2.301e+06\n",
      "[28]\tvalid_0's l2: 2.71768e+06\n",
      "[46]\tvalid_0's l2: 2.38544e+06\n",
      "[65]\tvalid_0's l2: 2.319e+06\n",
      "[94]\tvalid_0's l2: 2.26387e+06\n",
      "[71]\tvalid_0's l2: 2.29961e+06\n",
      "[34]\tvalid_0's l2: 2.52114e+06\n",
      "[29]\tvalid_0's l2: 2.68563e+06\n",
      "[35]\tvalid_0's l2: 2.5012e+06\n",
      "[100]\tvalid_0's l2: 2.25571e+06\n",
      "[66]\tvalid_0's l2: 2.31645e+06\n",
      "[72]\tvalid_0's l2: 2.29711e+06\n",
      "[36]\tvalid_0's l2: 2.48496e+06\n",
      "[47]\tvalid_0's l2: 2.37915e+06\n",
      "[30]\tvalid_0's l2: 2.65629e+06\n"
     ]
    },
    {
     "name": "stderr",
     "output_type": "stream",
     "text": [
      "[I 2023-06-29 19:58:04,616] Trial 20 finished with value: 1501.9009209294961 and parameters: {'num_leaves': 99, 'min_child_samples': 36}. Best is trial 3 with value: 1501.8447203415867.\n"
     ]
    },
    {
     "name": "stdout",
     "output_type": "stream",
     "text": [
      "[95]\tvalid_0's l2: 2.26365e+06\n",
      "[37]\tvalid_0's l2: 2.47027e+06\n",
      "[48]\tvalid_0's l2: 2.37319e+06\n",
      "[31]\tvalid_0's l2: 2.63061e+06\n",
      "[67]\tvalid_0's l2: 2.31332e+06\n",
      "[73]\tvalid_0's l2: 2.29589e+06\n",
      "[96]\tvalid_0's l2: 2.2619e+06\n",
      "[38]\tvalid_0's l2: 2.45652e+06\n",
      "[74]\tvalid_0's l2: 2.29375e+06\n",
      "[49]\tvalid_0's l2: 2.36805e+06\n",
      "[75]\tvalid_0's l2: 2.2917e+06\n",
      "[97]\tvalid_0's l2: 2.26133e+06\n",
      "[68]\tvalid_0's l2: 2.31192e+06\n",
      "[39]\tvalid_0's l2: 2.44396e+06\n",
      "[32]\tvalid_0's l2: 2.60612e+06\n",
      "[98]\tvalid_0's l2: 2.26053e+06\n",
      "[40]\tvalid_0's l2: 2.43268e+06\n",
      "[76]\tvalid_0's l2: 2.29187e+06\n"
     ]
    },
    {
     "name": "stderr",
     "output_type": "stream",
     "text": [
      "[I 2023-06-29 19:58:07,678] Trial 18 finished with value: 1501.9009209294961 and parameters: {'num_leaves': 99, 'min_child_samples': 36}. Best is trial 3 with value: 1501.8447203415867.\n"
     ]
    },
    {
     "name": "stdout",
     "output_type": "stream",
     "text": [
      "[50]\tvalid_0's l2: 2.36303e+06\n",
      "[99]\tvalid_0's l2: 2.2596e+06\n",
      "[69]\tvalid_0's l2: 2.3099e+06\n",
      "[51]\tvalid_0's l2: 2.35797e+06\n",
      "[33]\tvalid_0's l2: 2.58615e+06\n",
      "[52]\tvalid_0's l2: 2.3537e+06\n",
      "[100]\tvalid_0's l2: 2.25859e+06\n",
      "[77]\tvalid_0's l2: 2.29049e+06\n",
      "[34]\tvalid_0's l2: 2.56785e+06\n",
      "[70]\tvalid_0's l2: 2.30818e+06\n",
      "[41]\tvalid_0's l2: 2.4227e+06\n",
      "[53]\tvalid_0's l2: 2.34894e+06\n",
      "[42]\tvalid_0's l2: 2.41268e+06\n",
      "[78]\tvalid_0's l2: 2.28873e+06\n",
      "[71]\tvalid_0's l2: 2.30632e+06\n",
      "[35]\tvalid_0's l2: 2.54806e+06\n",
      "[1]\tvalid_0's l2: 1.78209e+07\n",
      "[79]\tvalid_0's l2: 2.28842e+06\n",
      "[43]\tvalid_0's l2: 2.40458e+06\n",
      "[54]\tvalid_0's l2: 2.34525e+06\n",
      "[72]\tvalid_0's l2: 2.30419e+06\n",
      "[36]\tvalid_0's l2: 2.5289e+06\n",
      "[2]\tvalid_0's l2: 1.52306e+07\n",
      "[80]\tvalid_0's l2: 2.2872e+06\n",
      "[44]\tvalid_0's l2: 2.39608e+06\n",
      "[55]\tvalid_0's l2: 2.34162e+06\n",
      "[37]\tvalid_0's l2: 2.51676e+06\n",
      "[45]\tvalid_0's l2: 2.38818e+06\n",
      "[73]\tvalid_0's l2: 2.30197e+06\n"
     ]
    },
    {
     "name": "stderr",
     "output_type": "stream",
     "text": [
      "[I 2023-06-29 19:58:11,890] Trial 19 finished with value: 1502.860038464719 and parameters: {'num_leaves': 100, 'min_child_samples': 34}. Best is trial 3 with value: 1501.8447203415867.\n"
     ]
    },
    {
     "name": "stdout",
     "output_type": "stream",
     "text": [
      "[38]\tvalid_0's l2: 2.50365e+06\n",
      "[81]\tvalid_0's l2: 2.28669e+06\n",
      "[1]\tvalid_0's l2: 1.78239e+07\n",
      "[3]\tvalid_0's l2: 1.31039e+07\n",
      "[56]\tvalid_0's l2: 2.33735e+06\n",
      "[39]\tvalid_0's l2: 2.4932e+06\n",
      "[46]\tvalid_0's l2: 2.38179e+06\n",
      "[2]\tvalid_0's l2: 1.52372e+07\n",
      "[57]\tvalid_0's l2: 2.33351e+06\n",
      "[74]\tvalid_0's l2: 2.30043e+06\n",
      "[82]\tvalid_0's l2: 2.28496e+06\n",
      "[3]\tvalid_0's l2: 1.31111e+07\n",
      "[47]\tvalid_0's l2: 2.3761e+06\n",
      "[40]\tvalid_0's l2: 2.48139e+06\n",
      "[75]\tvalid_0's l2: 2.29868e+06\n",
      "[58]\tvalid_0's l2: 2.32896e+06\n",
      "[4]\tvalid_0's l2: 1.13581e+07\n",
      "[83]\tvalid_0's l2: 2.2832e+06\n",
      "[4]\tvalid_0's l2: 1.13665e+07\n",
      "[84]\tvalid_0's l2: 2.28209e+06\n",
      "[48]\tvalid_0's l2: 2.37063e+06\n",
      "[5]\tvalid_0's l2: 9.93174e+06\n",
      "[1]\tvalid_0's l2: 1.78223e+07\n",
      "[59]\tvalid_0's l2: 2.32558e+06\n",
      "[41]\tvalid_0's l2: 2.46874e+06\n",
      "[6]\tvalid_0's l2: 8.72845e+06\n",
      "[5]\tvalid_0's l2: 9.9455e+06\n",
      "[76]\tvalid_0's l2: 2.2979e+06\n",
      "[85]\tvalid_0's l2: 2.28109e+06\n",
      "[49]\tvalid_0's l2: 2.36512e+06\n",
      "[2]\tvalid_0's l2: 1.52336e+07\n",
      "[42]\tvalid_0's l2: 2.45733e+06\n",
      "[60]\tvalid_0's l2: 2.32261e+06\n",
      "[3]\tvalid_0's l2: 1.31076e+07\n",
      "[7]\tvalid_0's l2: 7.72449e+06\n",
      "[77]\tvalid_0's l2: 2.29597e+06\n",
      "[50]\tvalid_0's l2: 2.36063e+06\n",
      "[86]\tvalid_0's l2: 2.27952e+06\n",
      "[6]\tvalid_0's l2: 8.74008e+06\n",
      "[61]\tvalid_0's l2: 2.319e+06\n",
      "[51]\tvalid_0's l2: 2.35566e+06\n",
      "[8]\tvalid_0's l2: 6.91066e+06\n",
      "[4]\tvalid_0's l2: 1.13607e+07\n",
      "[9]\tvalid_0's l2: 6.22711e+06\n",
      "[87]\tvalid_0's l2: 2.27845e+06\n",
      "[78]\tvalid_0's l2: 2.29529e+06\n",
      "[62]\tvalid_0's l2: 2.31648e+06\n",
      "[43]\tvalid_0's l2: 2.4465e+06\n",
      "[10]\tvalid_0's l2: 5.66729e+06\n",
      "[88]\tvalid_0's l2: 2.27696e+06\n",
      "[52]\tvalid_0's l2: 2.35135e+06\n",
      "[7]\tvalid_0's l2: 7.73973e+06\n",
      "[89]\tvalid_0's l2: 2.27495e+06\n",
      "[5]\tvalid_0's l2: 9.9384e+06\n",
      "[79]\tvalid_0's l2: 2.2941e+06\n",
      "[63]\tvalid_0's l2: 2.31403e+06\n",
      "[11]\tvalid_0's l2: 5.18842e+06\n",
      "[53]\tvalid_0's l2: 2.34713e+06\n",
      "[44]\tvalid_0's l2: 2.43937e+06\n",
      "[6]\tvalid_0's l2: 8.73695e+06\n",
      "[90]\tvalid_0's l2: 2.27355e+06\n",
      "[54]\tvalid_0's l2: 2.34281e+06\n",
      "[64]\tvalid_0's l2: 2.3123e+06\n",
      "[80]\tvalid_0's l2: 2.29253e+06\n",
      "[8]\tvalid_0's l2: 6.92331e+06\n",
      "[12]\tvalid_0's l2: 4.78715e+06\n",
      "[55]\tvalid_0's l2: 2.33955e+06\n",
      "[91]\tvalid_0's l2: 2.27267e+06\n",
      "[45]\tvalid_0's l2: 2.43001e+06\n",
      "[81]\tvalid_0's l2: 2.29158e+06\n",
      "[65]\tvalid_0's l2: 2.30957e+06\n",
      "[7]\tvalid_0's l2: 7.73158e+06\n",
      "[92]\tvalid_0's l2: 2.27235e+06\n",
      "[56]\tvalid_0's l2: 2.33531e+06\n",
      "[13]\tvalid_0's l2: 4.45397e+06\n",
      "[82]\tvalid_0's l2: 2.289e+06\n",
      "[57]\tvalid_0's l2: 2.33209e+06[66]\tvalid_0's l2: 2.30693e+06\n",
      "\n",
      "[46]\tvalid_0's l2: 2.42458e+06\n",
      "[9]\tvalid_0's l2: 6.23766e+06\n",
      "[8]\tvalid_0's l2: 6.91547e+06\n",
      "[14]\tvalid_0's l2: 4.1734e+06\n",
      "[93]\tvalid_0's l2: 2.27115e+06\n",
      "[58]\tvalid_0's l2: 2.32865e+06\n",
      "[83]\tvalid_0's l2: 2.28734e+06\n",
      "[67]\tvalid_0's l2: 2.30437e+06\n",
      "[10]\tvalid_0's l2: 5.67565e+06\n",
      "[94]\tvalid_0's l2: 2.26998e+06\n",
      "[47]\tvalid_0's l2: 2.41727e+06\n",
      "[9]\tvalid_0's l2: 6.23202e+06\n",
      "[59]\tvalid_0's l2: 2.32591e+06\n",
      "[48]\tvalid_0's l2: 2.41154e+06\n",
      "[15]\tvalid_0's l2: 3.93555e+06\n",
      "[95]\tvalid_0's l2: 2.26763e+06\n",
      "[60]\tvalid_0's l2: 2.32298e+06\n",
      "[11]\tvalid_0's l2: 5.19426e+06\n",
      "[68]\tvalid_0's l2: 2.30283e+06\n",
      "[84]\tvalid_0's l2: 2.28655e+06\n",
      "[96]\tvalid_0's l2: 2.26692e+06\n",
      "[49]\tvalid_0's l2: 2.40593e+06\n",
      "[10]\tvalid_0's l2: 5.66642e+06\n",
      "[61]\tvalid_0's l2: 2.31914e+06\n",
      "[12]\tvalid_0's l2: 4.78876e+06\n",
      "[69]\tvalid_0's l2: 2.30027e+06\n",
      "[16]\tvalid_0's l2: 3.73539e+06\n",
      "[85]\tvalid_0's l2: 2.28536e+06\n",
      "[97]\tvalid_0's l2: 2.26391e+06\n",
      "[11]\tvalid_0's l2: 5.18845e+06\n",
      "[62]\tvalid_0's l2: 2.31705e+06\n",
      "[70]\tvalid_0's l2: 2.29798e+06\n",
      "[13]\tvalid_0's l2: 4.45288e+06\n",
      "[86]\tvalid_0's l2: 2.28374e+06\n",
      "[98]\tvalid_0's l2: 2.2631e+06\n",
      "[12]\tvalid_0's l2: 4.78811e+06\n",
      "[99]\tvalid_0's l2: 2.26208e+06\n",
      "[63]\tvalid_0's l2: 2.31318e+06\n",
      "[71]\tvalid_0's l2: 2.29621e+06\n",
      "[50]\tvalid_0's l2: 2.40027e+06\n",
      "[14]\tvalid_0's l2: 4.17204e+06\n",
      "[87]\tvalid_0's l2: 2.28231e+06\n",
      "[17]\tvalid_0's l2: 3.5688e+06\n",
      "[13]\tvalid_0's l2: 4.45734e+06\n",
      "[72]\tvalid_0's l2: 2.29404e+06\n",
      "[64]\tvalid_0's l2: 2.31004e+06\n",
      "[100]\tvalid_0's l2: 2.26081e+06\n",
      "[88]\tvalid_0's l2: 2.2793e+06\n",
      "[18]\tvalid_0's l2: 3.42332e+06\n",
      "[51]\tvalid_0's l2: 2.39629e+06\n",
      "[73]\tvalid_0's l2: 2.29285e+06\n",
      "[14]\tvalid_0's l2: 4.17336e+06\n",
      "[65]\tvalid_0's l2: 2.3074e+06\n",
      "[15]\tvalid_0's l2: 3.93501e+06\n",
      "[74]\tvalid_0's l2: 2.29112e+06\n",
      "[89]\tvalid_0's l2: 2.27763e+06\n",
      "[19]\tvalid_0's l2: 3.30286e+06\n",
      "[52]\tvalid_0's l2: 2.39086e+06\n",
      "[75]\tvalid_0's l2: 2.28947e+06\n",
      "[66]\tvalid_0's l2: 2.30474e+06\n",
      "[53]\tvalid_0's l2: 2.38628e+06\n",
      "[15]\tvalid_0's l2: 3.9336e+06\n",
      "[76]\tvalid_0's l2: 2.28823e+06\n",
      "[90]\tvalid_0's l2: 2.27627e+06\n",
      "[16]\tvalid_0's l2: 3.73794e+06[20]\tvalid_0's l2: 3.19648e+06\n",
      "\n",
      "[67]\tvalid_0's l2: 2.30096e+06\n",
      "[77]\tvalid_0's l2: 2.28558e+06\n",
      "[17]\tvalid_0's l2: 3.56955e+06\n",
      "[91]\tvalid_0's l2: 2.27504e+06\n",
      "[21]\tvalid_0's l2: 3.10417e+06\n"
     ]
    },
    {
     "name": "stderr",
     "output_type": "stream",
     "text": [
      "[I 2023-06-29 19:58:27,575] Trial 22 finished with value: 1503.6005819164309 and parameters: {'num_leaves': 100, 'min_child_samples': 50}. Best is trial 3 with value: 1501.8447203415867.\n"
     ]
    },
    {
     "name": "stdout",
     "output_type": "stream",
     "text": [
      "[16]\tvalid_0's l2: 3.72917e+06\n",
      "[54]\tvalid_0's l2: 2.38099e+06\n",
      "[68]\tvalid_0's l2: 2.29823e+06\n",
      "[78]\tvalid_0's l2: 2.28419e+06\n",
      "[92]\tvalid_0's l2: 2.27339e+06\n",
      "[69]\tvalid_0's l2: 2.29648e+06\n",
      "[22]\tvalid_0's l2: 3.02555e+06\n",
      "[17]\tvalid_0's l2: 3.56354e+06\n",
      "[55]\tvalid_0's l2: 2.3773e+06\n",
      "[79]\tvalid_0's l2: 2.28286e+06\n",
      "[70]\tvalid_0's l2: 2.29437e+06\n",
      "[23]\tvalid_0's l2: 2.95479e+06\n",
      "[56]\tvalid_0's l2: 2.37363e+06\n",
      "[18]\tvalid_0's l2: 3.42354e+06\n",
      "[80]\tvalid_0's l2: 2.28184e+06\n",
      "[93]\tvalid_0's l2: 2.27265e+06\n",
      "[18]\tvalid_0's l2: 3.42088e+06\n",
      "[24]\tvalid_0's l2: 2.89525e+06\n",
      "[81]\tvalid_0's l2: 2.28035e+06\n",
      "[71]\tvalid_0's l2: 2.29251e+06\n",
      "[94]\tvalid_0's l2: 2.2705e+06\n",
      "[19]\tvalid_0's l2: 3.30015e+06\n",
      "[57]\tvalid_0's l2: 2.36974e+06\n",
      "[19]\tvalid_0's l2: 3.29968e+06\n",
      "[25]\tvalid_0's l2: 2.8443e+06\n",
      "[82]\tvalid_0's l2: 2.2799e+06\n",
      "[72]\tvalid_0's l2: 2.29057e+06\n",
      "[1]\tvalid_0's l2: 1.78239e+07\n",
      "[95]\tvalid_0's l2: 2.26846e+06\n",
      "[58]\tvalid_0's l2: 2.36592e+06\n",
      "[20]\tvalid_0's l2: 3.19545e+06\n",
      "[26]\tvalid_0's l2: 2.79632e+06\n",
      "[73]\tvalid_0's l2: 2.2886e+06\n",
      "[59]\tvalid_0's l2: 2.36239e+06\n",
      "[2]\tvalid_0's l2: 1.52372e+07\n",
      "[83]\tvalid_0's l2: 2.27924e+06\n",
      "[20]\tvalid_0's l2: 3.19249e+06\n",
      "[60]\tvalid_0's l2: 2.35936e+06\n",
      "[96]\tvalid_0's l2: 2.26811e+06\n",
      "[84]\tvalid_0's l2: 2.27719e+06\n",
      "[27]\tvalid_0's l2: 2.75376e+06\n",
      "[74]\tvalid_0's l2: 2.28673e+06\n",
      "[3]\tvalid_0's l2: 1.31111e+07\n",
      "[21]\tvalid_0's l2: 3.10479e+06\n",
      "[21]\tvalid_0's l2: 3.10027e+06\n",
      "[61]\tvalid_0's l2: 2.35599e+06\n",
      "[85]\tvalid_0's l2: 2.2761e+06\n",
      "[75]\tvalid_0's l2: 2.28426e+06\n",
      "[97]\tvalid_0's l2: 2.26821e+06\n",
      "[62]\tvalid_0's l2: 2.3529e+06\n",
      "[4]\tvalid_0's l2: 1.13665e+07\n",
      "[22]\tvalid_0's l2: 3.02386e+06\n",
      "[86]\tvalid_0's l2: 2.27464e+06\n",
      "[28]\tvalid_0's l2: 2.72016e+06\n",
      "[76]\tvalid_0's l2: 2.28182e+06\n",
      "[22]\tvalid_0's l2: 3.0228e+06\n",
      "[5]\tvalid_0's l2: 9.9455e+06\n",
      "[98]\tvalid_0's l2: 2.26729e+06\n",
      "[63]\tvalid_0's l2: 2.35003e+06\n",
      "[23]\tvalid_0's l2: 2.95708e+06\n",
      "[87]\tvalid_0's l2: 2.27303e+06\n",
      "[77]\tvalid_0's l2: 2.28047e+06\n",
      "[29]\tvalid_0's l2: 2.68897e+06\n",
      "[6]\tvalid_0's l2: 8.74008e+06\n",
      "[99]\tvalid_0's l2: 2.26683e+06\n",
      "[23]\tvalid_0's l2: 2.95531e+06\n",
      "[88]\tvalid_0's l2: 2.27144e+06\n",
      "[24]\tvalid_0's l2: 2.89834e+06\n",
      "[64]\tvalid_0's l2: 2.34749e+06\n",
      "[78]\tvalid_0's l2: 2.27976e+06\n",
      "[7]\tvalid_0's l2: 7.73973e+06\n",
      "[89]\tvalid_0's l2: 2.26994e+06\n",
      "[65]\tvalid_0's l2: 2.34537e+06\n",
      "[30]\tvalid_0's l2: 2.65967e+06\n",
      "[79]\tvalid_0's l2: 2.2781e+06\n",
      "[24]\tvalid_0's l2: 2.89603e+06\n",
      "[8]\tvalid_0's l2: 6.92331e+06\n",
      "[25]\tvalid_0's l2: 2.84791e+06\n",
      "[100]\tvalid_0's l2: 2.26583e+06\n",
      "[25]\tvalid_0's l2: 2.84385e+06\n",
      "[80]\tvalid_0's l2: 2.27604e+06\n",
      "[31]\tvalid_0's l2: 2.63098e+06\n",
      "[66]\tvalid_0's l2: 2.34325e+06\n",
      "[9]\tvalid_0's l2: 6.23766e+06\n",
      "[32]\tvalid_0's l2: 2.60975e+06\n",
      "[90]\tvalid_0's l2: 2.2691e+06\n",
      "[67]\tvalid_0's l2: 2.34113e+06\n",
      "[26]\tvalid_0's l2: 2.80045e+06\n",
      "[81]\tvalid_0's l2: 2.27432e+06\n",
      "[33]\tvalid_0's l2: 2.58966e+06\n",
      "[10]\tvalid_0's l2: 5.67565e+06\n",
      "[91]\tvalid_0's l2: 2.26611e+06\n",
      "[68]\tvalid_0's l2: 2.33991e+06\n",
      "[26]\tvalid_0's l2: 2.79606e+06\n",
      "[82]\tvalid_0's l2: 2.27355e+06\n",
      "[27]\tvalid_0's l2: 2.75953e+06\n",
      "[11]\tvalid_0's l2: 5.19426e+06\n",
      "[34]\tvalid_0's l2: 2.56781e+06\n",
      "[92]\tvalid_0's l2: 2.26524e+06\n",
      "[28]\tvalid_0's l2: 2.72574e+06\n",
      "[69]\tvalid_0's l2: 2.33774e+06\n",
      "[12]\tvalid_0's l2: 4.78876e+06\n",
      "[93]\tvalid_0's l2: 2.26337e+06\n",
      "[27]\tvalid_0's l2: 2.7559e+06\n",
      "[83]\tvalid_0's l2: 2.27251e+06\n",
      "[29]\tvalid_0's l2: 2.69307e+06\n",
      "[13]\tvalid_0's l2: 4.45288e+06\n"
     ]
    },
    {
     "name": "stderr",
     "output_type": "stream",
     "text": [
      "[I 2023-06-29 19:58:39,087] Trial 21 finished with value: 1505.2680443752272 and parameters: {'num_leaves': 100, 'min_child_samples': 49}. Best is trial 3 with value: 1501.8447203415867.\n"
     ]
    },
    {
     "name": "stdout",
     "output_type": "stream",
     "text": [
      "[35]\tvalid_0's l2: 2.54985e+06\n",
      "[70]\tvalid_0's l2: 2.3355e+06\n",
      "[14]\tvalid_0's l2: 4.17204e+06\n",
      "[94]\tvalid_0's l2: 2.26225e+06\n",
      "[36]\tvalid_0's l2: 2.53694e+06\n",
      "[30]\tvalid_0's l2: 2.6647e+06\n",
      "[84]\tvalid_0's l2: 2.27074e+06\n",
      "[71]\tvalid_0's l2: 2.33427e+06\n",
      "[28]\tvalid_0's l2: 2.72039e+06\n",
      "[15]\tvalid_0's l2: 3.93501e+06\n",
      "[37]\tvalid_0's l2: 2.52078e+06\n",
      "[95]\tvalid_0's l2: 2.25945e+06\n",
      "[85]\tvalid_0's l2: 2.26961e+06\n",
      "[16]\tvalid_0's l2: 3.73794e+06\n",
      "[31]\tvalid_0's l2: 2.63974e+06\n",
      "[72]\tvalid_0's l2: 2.33282e+06\n",
      "[29]\tvalid_0's l2: 2.68894e+06\n",
      "[38]\tvalid_0's l2: 2.50872e+06\n",
      "[86]\tvalid_0's l2: 2.26754e+06\n",
      "[96]\tvalid_0's l2: 2.25827e+06\n",
      "[17]\tvalid_0's l2: 3.56955e+06\n",
      "[73]\tvalid_0's l2: 2.33075e+06\n",
      "[39]\tvalid_0's l2: 2.49535e+06\n",
      "[32]\tvalid_0's l2: 2.61871e+06\n",
      "[97]\tvalid_0's l2: 2.25687e+06\n",
      "[30]\tvalid_0's l2: 2.66212e+06\n",
      "[18]\tvalid_0's l2: 3.42354e+06\n",
      "[33]\tvalid_0's l2: 2.5954e+06\n",
      "[40]\tvalid_0's l2: 2.48639e+06\n",
      "[74]\tvalid_0's l2: 2.32831e+06\n",
      "[87]\tvalid_0's l2: 2.26586e+06\n",
      "[98]\tvalid_0's l2: 2.25615e+06\n",
      "[19]\tvalid_0's l2: 3.30015e+06\n",
      "[34]\tvalid_0's l2: 2.57773e+06\n",
      "[31]\tvalid_0's l2: 2.63714e+06\n",
      "[99]\tvalid_0's l2: 2.25534e+06\n",
      "[41]\tvalid_0's l2: 2.47314e+06\n",
      "[88]\tvalid_0's l2: 2.26468e+06\n",
      "[20]\tvalid_0's l2: 3.19545e+06\n",
      "[75]\tvalid_0's l2: 2.32709e+06\n",
      "[32]\tvalid_0's l2: 2.61382e+06\n",
      "[35]\tvalid_0's l2: 2.55616e+06\n",
      "[76]\tvalid_0's l2: 2.32522e+06\n",
      "[42]\tvalid_0's l2: 2.46213e+06\n",
      "[89]\tvalid_0's l2: 2.26298e+06\n",
      "[21]\tvalid_0's l2: 3.10479e+06\n",
      "[100]\tvalid_0's l2: 2.25442e+06\n",
      "[36]\tvalid_0's l2: 2.53983e+06\n",
      "[33]\tvalid_0's l2: 2.59452e+06\n",
      "[77]\tvalid_0's l2: 2.32316e+06\n",
      "[43]\tvalid_0's l2: 2.454e+06\n",
      "[90]\tvalid_0's l2: 2.26196e+06\n",
      "[78]\tvalid_0's l2: 2.32097e+06\n",
      "[37]\tvalid_0's l2: 2.52615e+06\n",
      "[22]\tvalid_0's l2: 3.02386e+06\n",
      "[44]\tvalid_0's l2: 2.4463e+06\n",
      "[91]\tvalid_0's l2: 2.26124e+06\n",
      "[79]\tvalid_0's l2: 2.32006e+06\n",
      "[45]\tvalid_0's l2: 2.43754e+06\n",
      "[92]\tvalid_0's l2: 2.26035e+06\n",
      "[34]\tvalid_0's l2: 2.5695e+06\n",
      "[38]\tvalid_0's l2: 2.51091e+06\n",
      "[80]\tvalid_0's l2: 2.31898e+06\n",
      "[23]\tvalid_0's l2: 2.95708e+06\n",
      "[35]\tvalid_0's l2: 2.55304e+06\n",
      "[93]\tvalid_0's l2: 2.2595e+06\n",
      "[81]\tvalid_0's l2: 2.31774e+06\n",
      "[46]\tvalid_0's l2: 2.43112e+06\n",
      "[36]\tvalid_0's l2: 2.53441e+06\n",
      "[94]\tvalid_0's l2: 2.25839e+06\n",
      "[24]\tvalid_0's l2: 2.89834e+06\n"
     ]
    },
    {
     "name": "stderr",
     "output_type": "stream",
     "text": [
      "[I 2023-06-29 19:58:46,375] Trial 23 finished with value: 1501.4725853390578 and parameters: {'num_leaves': 100, 'min_child_samples': 41}. Best is trial 23 with value: 1501.4725853390578.\n"
     ]
    },
    {
     "name": "stdout",
     "output_type": "stream",
     "text": [
      "[39]\tvalid_0's l2: 2.50106e+06\n",
      "[37]\tvalid_0's l2: 2.5211e+06\n",
      "[47]\tvalid_0's l2: 2.42297e+06\n",
      "[82]\tvalid_0's l2: 2.31635e+06\n",
      "[25]\tvalid_0's l2: 2.84791e+06\n",
      "[95]\tvalid_0's l2: 2.25751e+06\n",
      "[40]\tvalid_0's l2: 2.48987e+06\n",
      "[83]\tvalid_0's l2: 2.31416e+06\n",
      "[38]\tvalid_0's l2: 2.50453e+06\n",
      "[48]\tvalid_0's l2: 2.41668e+06\n",
      "[26]\tvalid_0's l2: 2.80045e+06\n",
      "[84]\tvalid_0's l2: 2.31166e+06\n",
      "[96]\tvalid_0's l2: 2.25502e+06\n",
      "[39]\tvalid_0's l2: 2.49348e+06\n",
      "[41]\tvalid_0's l2: 2.4768e+06\n",
      "[27]\tvalid_0's l2: 2.75953e+06\n",
      "[97]\tvalid_0's l2: 2.25426e+06\n",
      "[49]\tvalid_0's l2: 2.40934e+06\n",
      "[40]\tvalid_0's l2: 2.4826e+06\n",
      "[85]\tvalid_0's l2: 2.31109e+06\n",
      "[42]\tvalid_0's l2: 2.46521e+06\n",
      "[98]\tvalid_0's l2: 2.25345e+06\n",
      "[41]\tvalid_0's l2: 2.47271e+06\n",
      "[50]\tvalid_0's l2: 2.40526e+06\n",
      "[86]\tvalid_0's l2: 2.31062e+06\n",
      "[28]\tvalid_0's l2: 2.72574e+06\n",
      "[99]\tvalid_0's l2: 2.25093e+06\n",
      "[51]\tvalid_0's l2: 2.40108e+06\n",
      "[43]\tvalid_0's l2: 2.45684e+06\n",
      "[87]\tvalid_0's l2: 2.30938e+06\n",
      "[100]\tvalid_0's l2: 2.25031e+06\n",
      "[29]\tvalid_0's l2: 2.69307e+06\n",
      "[42]\tvalid_0's l2: 2.46241e+06\n",
      "[52]\tvalid_0's l2: 2.39649e+06\n",
      "[44]\tvalid_0's l2: 2.44796e+06\n",
      "[88]\tvalid_0's l2: 2.30775e+06\n",
      "[53]\tvalid_0's l2: 2.39111e+06\n",
      "[30]\tvalid_0's l2: 2.6647e+06\n",
      "[89]\tvalid_0's l2: 2.30715e+06\n",
      "[45]\tvalid_0's l2: 2.43973e+06\n",
      "[43]\tvalid_0's l2: 2.45453e+06\n",
      "[90]\tvalid_0's l2: 2.30638e+06\n"
     ]
    },
    {
     "name": "stderr",
     "output_type": "stream",
     "text": [
      "[I 2023-06-29 19:58:51,210] Trial 24 finished with value: 1500.1039089289877 and parameters: {'num_leaves': 100, 'min_child_samples': 40}. Best is trial 24 with value: 1500.1039089289877.\n"
     ]
    },
    {
     "name": "stdout",
     "output_type": "stream",
     "text": [
      "[31]\tvalid_0's l2: 2.63974e+06\n",
      "[54]\tvalid_0's l2: 2.38561e+06\n",
      "[91]\tvalid_0's l2: 2.30485e+06\n",
      "[44]\tvalid_0's l2: 2.44745e+06\n",
      "[32]\tvalid_0's l2: 2.61871e+06\n",
      "[46]\tvalid_0's l2: 2.43165e+06\n",
      "[45]\tvalid_0's l2: 2.43998e+06\n",
      "[33]\tvalid_0's l2: 2.5954e+06\n",
      "[55]\tvalid_0's l2: 2.38079e+06\n",
      "[46]\tvalid_0's l2: 2.43059e+06\n",
      "[92]\tvalid_0's l2: 2.30346e+06\n",
      "[34]\tvalid_0's l2: 2.57773e+06\n",
      "[47]\tvalid_0's l2: 2.42542e+06\n",
      "[56]\tvalid_0's l2: 2.37715e+06\n",
      "[47]\tvalid_0's l2: 2.42393e+06\n",
      "[93]\tvalid_0's l2: 2.30158e+06\n",
      "[94]\tvalid_0's l2: 2.30047e+06\n",
      "[35]\tvalid_0's l2: 2.55616e+06\n",
      "[57]\tvalid_0's l2: 2.3729e+06\n",
      "[48]\tvalid_0's l2: 2.41769e+06\n",
      "[48]\tvalid_0's l2: 2.41833e+06\n",
      "[36]\tvalid_0's l2: 2.53983e+06\n",
      "[95]\tvalid_0's l2: 2.29905e+06\n",
      "[49]\tvalid_0's l2: 2.41388e+06\n",
      "[58]\tvalid_0's l2: 2.36871e+06\n",
      "[49]\tvalid_0's l2: 2.41333e+06\n",
      "[37]\tvalid_0's l2: 2.52615e+06\n",
      "[96]\tvalid_0's l2: 2.29698e+06\n",
      "[59]\tvalid_0's l2: 2.36532e+06\n",
      "[50]\tvalid_0's l2: 2.4071e+06\n",
      "[97]\tvalid_0's l2: 2.29479e+06\n",
      "[50]\tvalid_0's l2: 2.40757e+06\n",
      "[60]\tvalid_0's l2: 2.36164e+06\n",
      "[38]\tvalid_0's l2: 2.51091e+06\n",
      "[98]\tvalid_0's l2: 2.29237e+06\n",
      "[51]\tvalid_0's l2: 2.40162e+06\n",
      "[51]\tvalid_0's l2: 2.40224e+06\n",
      "[61]\tvalid_0's l2: 2.35941e+06\n",
      "[39]\tvalid_0's l2: 2.50106e+06\n",
      "[99]\tvalid_0's l2: 2.2919e+06\n",
      "[40]\tvalid_0's l2: 2.48987e+06\n",
      "[52]\tvalid_0's l2: 2.39665e+06\n",
      "[100]\tvalid_0's l2: 2.29064e+06\n",
      "[52]\tvalid_0's l2: 2.39733e+06\n",
      "[62]\tvalid_0's l2: 2.3562e+06\n",
      "[53]\tvalid_0's l2: 2.3912e+06\n",
      "[53]\tvalid_0's l2: 2.39334e+06\n",
      "[63]\tvalid_0's l2: 2.35169e+06\n",
      "[41]\tvalid_0's l2: 2.4768e+06\n",
      "[54]\tvalid_0's l2: 2.38964e+06\n",
      "[54]\tvalid_0's l2: 2.38493e+06\n",
      "[64]\tvalid_0's l2: 2.34937e+06\n",
      "[42]\tvalid_0's l2: 2.46521e+06\n",
      "[55]\tvalid_0's l2: 2.38603e+06\n",
      "[55]\tvalid_0's l2: 2.3795e+06\n"
     ]
    },
    {
     "name": "stderr",
     "output_type": "stream",
     "text": [
      "[I 2023-06-29 19:58:57,111] Trial 25 finished with value: 1513.4849277531207 and parameters: {'num_leaves': 80, 'min_child_samples': 40}. Best is trial 24 with value: 1500.1039089289877.\n"
     ]
    },
    {
     "name": "stdout",
     "output_type": "stream",
     "text": [
      "[65]\tvalid_0's l2: 2.34698e+06\n",
      "[56]\tvalid_0's l2: 2.38262e+06\n",
      "[43]\tvalid_0's l2: 2.45684e+06\n",
      "[56]\tvalid_0's l2: 2.37619e+06\n",
      "[66]\tvalid_0's l2: 2.34427e+06\n",
      "[57]\tvalid_0's l2: 2.37823e+06\n",
      "[44]\tvalid_0's l2: 2.44796e+06\n",
      "[67]\tvalid_0's l2: 2.34273e+06\n",
      "[58]\tvalid_0's l2: 2.37475e+06\n",
      "[45]\tvalid_0's l2: 2.43973e+06\n",
      "[57]\tvalid_0's l2: 2.37248e+06\n",
      "[68]\tvalid_0's l2: 2.3405e+06\n",
      "[46]\tvalid_0's l2: 2.43165e+06\n",
      "[59]\tvalid_0's l2: 2.37196e+06\n",
      "[69]\tvalid_0's l2: 2.33859e+06\n",
      "[60]\tvalid_0's l2: 2.36782e+06\n",
      "[58]\tvalid_0's l2: 2.3684e+06\n",
      "[47]\tvalid_0's l2: 2.42542e+06\n",
      "[61]\tvalid_0's l2: 2.36491e+06\n",
      "[70]\tvalid_0's l2: 2.33696e+06\n",
      "[59]\tvalid_0's l2: 2.36679e+06\n",
      "[48]\tvalid_0's l2: 2.41769e+06\n",
      "[71]\tvalid_0's l2: 2.33469e+06\n",
      "[62]\tvalid_0's l2: 2.36141e+06\n",
      "[60]\tvalid_0's l2: 2.36279e+06\n",
      "[49]\tvalid_0's l2: 2.41388e+06\n",
      "[63]\tvalid_0's l2: 2.35816e+06\n",
      "[72]\tvalid_0's l2: 2.33362e+06\n",
      "[61]\tvalid_0's l2: 2.35859e+06\n",
      "[73]\tvalid_0's l2: 2.33146e+06\n",
      "[50]\tvalid_0's l2: 2.4071e+06\n",
      "[62]\tvalid_0's l2: 2.3562e+06\n",
      "[64]\tvalid_0's l2: 2.35622e+06\n",
      "[74]\tvalid_0's l2: 2.32911e+06\n",
      "[51]\tvalid_0's l2: 2.40162e+06\n",
      "[63]\tvalid_0's l2: 2.35342e+06\n",
      "[65]\tvalid_0's l2: 2.35355e+06\n",
      "[75]\tvalid_0's l2: 2.32706e+06\n",
      "[66]\tvalid_0's l2: 2.35143e+06\n",
      "[64]\tvalid_0's l2: 2.34995e+06\n",
      "[76]\tvalid_0's l2: 2.32582e+06\n",
      "[67]\tvalid_0's l2: 2.34873e+06\n",
      "[52]\tvalid_0's l2: 2.39665e+06\n",
      "[77]\tvalid_0's l2: 2.32326e+06\n",
      "[65]\tvalid_0's l2: 2.3468e+06\n",
      "[66]\tvalid_0's l2: 2.34441e+06\n",
      "[68]\tvalid_0's l2: 2.347e+06\n",
      "[53]\tvalid_0's l2: 2.3912e+06\n",
      "[78]\tvalid_0's l2: 2.32291e+06\n",
      "[69]\tvalid_0's l2: 2.34501e+06\n",
      "[67]\tvalid_0's l2: 2.34188e+06\n",
      "[54]\tvalid_0's l2: 2.38493e+06\n",
      "[68]\tvalid_0's l2: 2.33983e+06\n",
      "[79]\tvalid_0's l2: 2.32223e+06\n",
      "[80]\tvalid_0's l2: 2.32145e+06\n",
      "[69]\tvalid_0's l2: 2.33667e+06\n",
      "[55]\tvalid_0's l2: 2.3795e+06\n",
      "[70]\tvalid_0's l2: 2.34336e+06\n",
      "[81]\tvalid_0's l2: 2.32041e+06\n",
      "[71]\tvalid_0's l2: 2.34096e+06\n",
      "[56]\tvalid_0's l2: 2.37619e+06\n",
      "[70]\tvalid_0's l2: 2.33338e+06\n",
      "[82]\tvalid_0's l2: 2.31856e+06\n",
      "[57]\tvalid_0's l2: 2.37248e+06\n",
      "[72]\tvalid_0's l2: 2.33901e+06\n",
      "[71]\tvalid_0's l2: 2.33176e+06\n",
      "[58]\tvalid_0's l2: 2.3684e+06\n",
      "[83]\tvalid_0's l2: 2.31657e+06\n",
      "[73]\tvalid_0's l2: 2.33751e+06\n",
      "[59]\tvalid_0's l2: 2.36679e+06\n",
      "[84]\tvalid_0's l2: 2.3159e+06\n",
      "[72]\tvalid_0's l2: 2.33025e+06\n",
      "[74]\tvalid_0's l2: 2.33553e+06\n",
      "[60]\tvalid_0's l2: 2.36279e+06\n",
      "[85]\tvalid_0's l2: 2.31465e+06\n",
      "[73]\tvalid_0's l2: 2.32761e+06\n",
      "[75]\tvalid_0's l2: 2.3338e+06\n",
      "[86]\tvalid_0's l2: 2.31387e+06\n",
      "[61]\tvalid_0's l2: 2.35859e+06\n",
      "[74]\tvalid_0's l2: 2.32618e+06\n",
      "[62]\tvalid_0's l2: 2.3562e+06\n",
      "[76]\tvalid_0's l2: 2.33278e+06\n",
      "[87]\tvalid_0's l2: 2.31165e+06\n",
      "[88]\tvalid_0's l2: 2.31038e+06\n",
      "[77]\tvalid_0's l2: 2.33161e+06\n",
      "[75]\tvalid_0's l2: 2.32296e+06\n",
      "[89]\tvalid_0's l2: 2.30924e+06\n",
      "[63]\tvalid_0's l2: 2.35342e+06\n",
      "[78]\tvalid_0's l2: 2.32948e+06\n",
      "[76]\tvalid_0's l2: 2.32058e+06\n",
      "[64]\tvalid_0's l2: 2.34995e+06\n",
      "[90]\tvalid_0's l2: 2.30688e+06\n",
      "[77]\tvalid_0's l2: 2.31902e+06\n",
      "[79]\tvalid_0's l2: 2.32786e+06\n",
      "[65]\tvalid_0's l2: 2.3468e+06\n",
      "[91]\tvalid_0's l2: 2.30622e+06\n",
      "[80]\tvalid_0's l2: 2.32617e+06\n",
      "[78]\tvalid_0's l2: 2.31758e+06\n",
      "[66]\tvalid_0's l2: 2.34441e+06\n",
      "[92]\tvalid_0's l2: 2.30492e+06\n",
      "[81]\tvalid_0's l2: 2.32542e+06\n",
      "[79]\tvalid_0's l2: 2.31526e+06\n",
      "[67]\tvalid_0's l2: 2.34188e+06\n",
      "[93]\tvalid_0's l2: 2.30446e+06\n",
      "[82]\tvalid_0's l2: 2.32178e+06\n",
      "[68]\tvalid_0's l2: 2.33983e+06\n",
      "[80]\tvalid_0's l2: 2.31315e+06\n",
      "[83]\tvalid_0's l2: 2.31941e+06\n",
      "[94]\tvalid_0's l2: 2.30231e+06\n",
      "[69]\tvalid_0's l2: 2.33667e+06\n",
      "[81]\tvalid_0's l2: 2.3112e+06\n",
      "[84]\tvalid_0's l2: 2.31866e+06\n",
      "[70]\tvalid_0's l2: 2.33338e+06\n",
      "[95]\tvalid_0's l2: 2.30062e+06\n",
      "[85]\tvalid_0's l2: 2.31702e+06\n",
      "[96]\tvalid_0's l2: 2.29778e+06\n",
      "[82]\tvalid_0's l2: 2.30999e+06\n",
      "[71]\tvalid_0's l2: 2.33176e+06\n",
      "[97]\tvalid_0's l2: 2.29612e+06\n",
      "[98]\tvalid_0's l2: 2.29411e+06\n",
      "[83]\tvalid_0's l2: 2.30929e+06\n",
      "[72]\tvalid_0's l2: 2.33025e+06\n",
      "[86]\tvalid_0's l2: 2.3161e+06\n",
      "[99]\tvalid_0's l2: 2.29261e+06\n",
      "[73]\tvalid_0's l2: 2.32761e+06\n",
      "[87]\tvalid_0's l2: 2.31472e+06\n",
      "[84]\tvalid_0's l2: 2.30843e+06\n",
      "[100]\tvalid_0's l2: 2.29177e+06\n",
      "[74]\tvalid_0's l2: 2.32618e+06\n",
      "[75]\tvalid_0's l2: 2.32296e+06\n",
      "[85]\tvalid_0's l2: 2.30732e+06\n",
      "[88]\tvalid_0's l2: 2.3129e+06\n",
      "[86]\tvalid_0's l2: 2.30595e+06\n",
      "[76]\tvalid_0's l2: 2.32058e+06\n",
      "[89]\tvalid_0's l2: 2.31003e+06\n",
      "[87]\tvalid_0's l2: 2.30412e+06\n",
      "[77]\tvalid_0's l2: 2.31902e+06\n",
      "[90]\tvalid_0's l2: 2.30884e+06\n"
     ]
    },
    {
     "name": "stderr",
     "output_type": "stream",
     "text": [
      "[I 2023-06-29 19:59:10,087] Trial 26 finished with value: 1513.8596999715753 and parameters: {'num_leaves': 80, 'min_child_samples': 43}. Best is trial 24 with value: 1500.1039089289877.\n"
     ]
    },
    {
     "name": "stdout",
     "output_type": "stream",
     "text": [
      "[91]\tvalid_0's l2: 2.30669e+06\n",
      "[78]\tvalid_0's l2: 2.31758e+06\n",
      "[88]\tvalid_0's l2: 2.30257e+06\n",
      "[89]\tvalid_0's l2: 2.30166e+06\n",
      "[92]\tvalid_0's l2: 2.30565e+06\n",
      "[79]\tvalid_0's l2: 2.31526e+06\n",
      "[93]\tvalid_0's l2: 2.30215e+06\n",
      "[80]\tvalid_0's l2: 2.31315e+06\n",
      "[90]\tvalid_0's l2: 2.29992e+06\n",
      "[94]\tvalid_0's l2: 2.30058e+06\n",
      "[81]\tvalid_0's l2: 2.3112e+06\n",
      "[91]\tvalid_0's l2: 2.29925e+06\n",
      "[92]\tvalid_0's l2: 2.29791e+06\n",
      "[95]\tvalid_0's l2: 2.29945e+06\n",
      "[82]\tvalid_0's l2: 2.30999e+06\n",
      "[83]\tvalid_0's l2: 2.30929e+06\n",
      "[93]\tvalid_0's l2: 2.2967e+06\n",
      "[84]\tvalid_0's l2: 2.30843e+06\n",
      "[94]\tvalid_0's l2: 2.29514e+06\n",
      "[96]\tvalid_0's l2: 2.2978e+06\n",
      "[85]\tvalid_0's l2: 2.30732e+06\n",
      "[97]\tvalid_0's l2: 2.29629e+06\n",
      "[95]\tvalid_0's l2: 2.29305e+06\n",
      "[86]\tvalid_0's l2: 2.30595e+06\n",
      "[98]\tvalid_0's l2: 2.29503e+06\n",
      "[87]\tvalid_0's l2: 2.30412e+06\n",
      "[96]\tvalid_0's l2: 2.29162e+06\n",
      "[88]\tvalid_0's l2: 2.30257e+06\n",
      "[97]\tvalid_0's l2: 2.29101e+06\n",
      "[99]\tvalid_0's l2: 2.29451e+06\n",
      "[98]\tvalid_0's l2: 2.29045e+06\n",
      "[89]\tvalid_0's l2: 2.30166e+06\n",
      "[100]\tvalid_0's l2: 2.29289e+06\n",
      "[99]\tvalid_0's l2: 2.28821e+06\n",
      "[90]\tvalid_0's l2: 2.29992e+06\n",
      "[100]\tvalid_0's l2: 2.2867e+06\n",
      "[91]\tvalid_0's l2: 2.29925e+06\n",
      "[92]\tvalid_0's l2: 2.29791e+06\n",
      "[93]\tvalid_0's l2: 2.2967e+06\n",
      "[94]\tvalid_0's l2: 2.29514e+06\n"
     ]
    },
    {
     "name": "stderr",
     "output_type": "stream",
     "text": [
      "[I 2023-06-29 19:59:14,559] Trial 28 finished with value: 1514.2289463022553 and parameters: {'num_leaves': 79, 'min_child_samples': 41}. Best is trial 24 with value: 1500.1039089289877.\n"
     ]
    },
    {
     "name": "stdout",
     "output_type": "stream",
     "text": [
      "[95]\tvalid_0's l2: 2.29305e+06\n",
      "[96]\tvalid_0's l2: 2.29162e+06\n"
     ]
    },
    {
     "name": "stderr",
     "output_type": "stream",
     "text": [
      "[I 2023-06-29 19:59:15,101] Trial 27 finished with value: 1512.1826015321135 and parameters: {'num_leaves': 78, 'min_child_samples': 41}. Best is trial 24 with value: 1500.1039089289877.\n"
     ]
    },
    {
     "name": "stdout",
     "output_type": "stream",
     "text": [
      "[97]\tvalid_0's l2: 2.29101e+06\n",
      "[98]\tvalid_0's l2: 2.29045e+06\n",
      "[99]\tvalid_0's l2: 2.28821e+06\n",
      "[100]\tvalid_0's l2: 2.2867e+06\n"
     ]
    },
    {
     "name": "stderr",
     "output_type": "stream",
     "text": [
      "[I 2023-06-29 19:59:49,107] Trial 29 finished with value: 1512.1826015321135 and parameters: {'num_leaves': 78, 'min_child_samples': 41}. Best is trial 24 with value: 1500.1039089289877.\n"
     ]
    },
    {
     "name": "stdout",
     "output_type": "stream",
     "text": [
      "Время обучения и предсказания 305 секунд\n"
     ]
    }
   ],
   "source": [
    "st=time.time()\n",
    "## Обучение модели с определенными гиперпараметрами\n",
    "study = optuna.create_study(direction='minimize')\n",
    "study.optimize(trial, n_trials=30,n_jobs=-1)\n",
    "et=time.time()\n",
    "print('Время обучения и предсказания',round(et-st),'секунд')"
   ]
  },
  {
   "cell_type": "code",
   "execution_count": 53,
   "metadata": {},
   "outputs": [
    {
     "name": "stdout",
     "output_type": "stream",
     "text": [
      "{'num_leaves': 100, 'min_child_samples': 40}\n",
      "Метрика RMSE на лучших гиперпараметрах: 1500.1039089289877\n"
     ]
    }
   ],
   "source": [
    "best_params = study.best_params\n",
    "print(best_params)\n",
    "best_mse = study.best_value\n",
    "print('Метрика RMSE на лучших гиперпараметрах:', best_mse)"
   ]
  },
  {
   "cell_type": "markdown",
   "metadata": {},
   "source": [
    "## Анализ моделей"
   ]
  },
  {
   "cell_type": "markdown",
   "metadata": {},
   "source": [
    "*** Итак,нами было обучено 4 модели и получено 4 метрики значения RMSE ***"
   ]
  },
  {
   "cell_type": "code",
   "execution_count": 54,
   "metadata": {},
   "outputs": [
    {
     "name": "stdout",
     "output_type": "stream",
     "text": [
      "                        RMSE  Время обучения модели  Время предсказания модели\n",
      "Линейная регрессия      2754                     20                          0\n",
      "RandomForrestRegressor  2334                     96                          0\n",
      "CatBoostRegressor       1741                     96                          4\n",
      "LGBMRegressor           1499                    358                          0\n"
     ]
    }
   ],
   "source": [
    "#Выведем результате в удобоваримой таблице\n",
    "index = ['Линейная регрессия ',\n",
    "         'RandomForrestRegressor',\n",
    "         'CatBoostRegressor',\n",
    "         'LGBMRegressor'\n",
    "        ]\n",
    "\n",
    "data = {'RMSE':[2754,2334,1741,1500],\n",
    "        \n",
    "        'Время обучения модели':[20,96,96,305],\n",
    "        \n",
    "        'Время предсказания модели':[0,0,4,0]\n",
    "       }\n",
    "print(pd.DataFrame(data=data, index=index))"
   ]
  },
  {
   "cell_type": "markdown",
   "metadata": {},
   "source": [
    "***Итак, модель линейной регрессии не проходит по условиям заказчика,т.к. метрика RMSE больше требуемой 2500. Модель RandomForrestRegressor имеет одинаковое время обучения с CatBoostRegressor, но метрики моделей сильно различаются в пользу CatBoostRegressor,хотя обе RMSE удовлетворяют условиям заказчиков.***\n",
    "\n",
    "***Остаются 2 градиентные модели. У которых заметны разницы в требуемых заказчиком критериях. CatBoostRegressor быстрее обучается, но у LGBMRegressor выше точность предсказания.***\n",
    "\n",
    "***Моей рекомендацией заказчику будет модель LGBMRegressor,которая обучалась на большем количестве гиперпараметров, Catboost при таком же количестве ГП не сумел провести расчеты.***\n",
    "***Также хотелось бы напомнить ,что диапазон таргетных цен был  до 20 000. На мой взгляд в данном случае метрика RMSE важнее скорости расчета.***"
   ]
  },
  {
   "cell_type": "markdown",
   "metadata": {},
   "source": [
    "## Тестирование лучшей модели"
   ]
  },
  {
   "cell_type": "markdown",
   "metadata": {},
   "source": [
    "***Таким образом лучшей моделью стала lGB c гиперпараметрами 'num_leaves': 100, 'min_child_samples': 40. Проведем итоговое тестирование.***"
   ]
  },
  {
   "cell_type": "code",
   "execution_count": 70,
   "metadata": {},
   "outputs": [
    {
     "name": "stdout",
     "output_type": "stream",
     "text": [
      "Метрика RMSE на тестовой выборке 1520.5965445772936\n"
     ]
    }
   ],
   "source": [
    "###Обучим модель на трейне и проверим RMSE на валидационной выборке.\n",
    "# Создание модели LightGBM\n",
    "model = lgb.LGBMRegressor(objective='regression',num_leaves=100,min_child_samples=40,categorical_feature=cat_list)\n",
    "# Обучение модели\n",
    "model.fit(X_train,y_train,categorical_feature=cat_list)\n",
    "pred_test=model.predict(X_test)\n",
    "RMSE=mse(y_test,pred_test)**0.5\n",
    "print('Метрика RMSE на тестовой выборке',RMSE)"
   ]
  },
  {
   "cell_type": "markdown",
   "metadata": {},
   "source": [
    "***RMSE на тестовой выборке некритично отличается от валидационного. Модель тестирование прошла***"
   ]
  },
  {
   "cell_type": "markdown",
   "metadata": {},
   "source": [
    "## Итоги"
   ]
  },
  {
   "cell_type": "markdown",
   "metadata": {},
   "source": [
    "***В ходе нашего исследования была изучена база данных по продажам автомобилей и обучены несколько моделей для прогнозирования их цены.***\n",
    "\n",
    "***На этапе преобработки были удалены дубликаты,аномальные и ошибочные значения,заполнены пропуски ***\n",
    "\n",
    "***Было подготовлены и обучены 4 модели: линейная регрессия , модель случайного леса , catboost , lgblight. Метрикой качества модели была метрика RMSE и время обучения.***\n",
    "\n",
    "***Найбольшую точность показала модель LGBlight , однако и время обучения у нее также было самым высоким.***"
   ]
  }
 ],
 "metadata": {
  "ExecuteTimeLog": [
   {
    "duration": 381,
    "start_time": "2023-06-23T18:10:43.744Z"
   },
   {
    "duration": 952,
    "start_time": "2023-06-23T18:11:48.254Z"
   },
   {
    "duration": 923,
    "start_time": "2023-06-23T18:12:21.487Z"
   },
   {
    "duration": 795,
    "start_time": "2023-06-23T18:26:36.122Z"
   },
   {
    "duration": 963,
    "start_time": "2023-06-23T18:26:53.780Z"
   },
   {
    "duration": 78,
    "start_time": "2023-06-23T18:44:55.762Z"
   },
   {
    "duration": 34,
    "start_time": "2023-06-23T18:45:07.707Z"
   },
   {
    "duration": 441,
    "start_time": "2023-06-23T18:45:21.853Z"
   },
   {
    "duration": 1025,
    "start_time": "2023-06-23T18:45:22.296Z"
   },
   {
    "duration": 103,
    "start_time": "2023-06-23T18:45:23.322Z"
   },
   {
    "duration": 8,
    "start_time": "2023-06-23T18:45:59.659Z"
   },
   {
    "duration": 56,
    "start_time": "2023-06-23T18:46:59.824Z"
   },
   {
    "duration": 10,
    "start_time": "2023-06-23T18:48:07.634Z"
   },
   {
    "duration": 10,
    "start_time": "2023-06-23T18:48:49.243Z"
   },
   {
    "duration": 11,
    "start_time": "2023-06-23T18:49:07.027Z"
   },
   {
    "duration": 4,
    "start_time": "2023-06-23T18:50:30.558Z"
   },
   {
    "duration": 972,
    "start_time": "2023-06-23T18:50:41.648Z"
   },
   {
    "duration": 402,
    "start_time": "2023-06-23T18:50:51.977Z"
   },
   {
    "duration": 1000,
    "start_time": "2023-06-23T18:50:52.382Z"
   },
   {
    "duration": 4,
    "start_time": "2023-06-23T18:50:53.385Z"
   },
   {
    "duration": 1064,
    "start_time": "2023-06-23T18:52:14.545Z"
   },
   {
    "duration": 938,
    "start_time": "2023-06-23T18:52:40.016Z"
   },
   {
    "duration": 3,
    "start_time": "2023-06-23T19:04:00.762Z"
   },
   {
    "duration": 73,
    "start_time": "2023-06-23T19:04:25.660Z"
   },
   {
    "duration": 12,
    "start_time": "2023-06-23T19:04:39.710Z"
   },
   {
    "duration": 36,
    "start_time": "2023-06-23T19:06:43.941Z"
   },
   {
    "duration": 46,
    "start_time": "2023-06-23T19:07:03.807Z"
   },
   {
    "duration": 146,
    "start_time": "2023-06-23T19:07:36.002Z"
   },
   {
    "duration": 141,
    "start_time": "2023-06-23T19:08:50.434Z"
   },
   {
    "duration": 140,
    "start_time": "2023-06-23T19:09:51.209Z"
   },
   {
    "duration": 6,
    "start_time": "2023-06-23T19:12:36.712Z"
   },
   {
    "duration": 14,
    "start_time": "2023-06-23T19:13:00.707Z"
   },
   {
    "duration": 15,
    "start_time": "2023-06-23T19:13:08.367Z"
   },
   {
    "duration": 127,
    "start_time": "2023-06-23T19:25:54.009Z"
   },
   {
    "duration": 0,
    "start_time": "2023-06-23T19:25:54.138Z"
   },
   {
    "duration": 0,
    "start_time": "2023-06-23T19:25:54.144Z"
   },
   {
    "duration": 0,
    "start_time": "2023-06-23T19:25:54.145Z"
   },
   {
    "duration": 0,
    "start_time": "2023-06-23T19:25:54.147Z"
   },
   {
    "duration": 17253,
    "start_time": "2023-06-23T19:26:22.797Z"
   },
   {
    "duration": 129,
    "start_time": "2023-06-23T19:26:53.758Z"
   },
   {
    "duration": 3902,
    "start_time": "2023-06-23T19:27:52.950Z"
   },
   {
    "duration": 2595,
    "start_time": "2023-06-23T19:28:00.962Z"
   },
   {
    "duration": 1927,
    "start_time": "2023-06-23T19:28:03.559Z"
   },
   {
    "duration": 1042,
    "start_time": "2023-06-23T19:28:05.492Z"
   },
   {
    "duration": 12,
    "start_time": "2023-06-23T19:28:06.536Z"
   },
   {
    "duration": 171,
    "start_time": "2023-06-23T19:28:06.549Z"
   },
   {
    "duration": 26461,
    "start_time": "2023-06-23T19:28:06.721Z"
   },
   {
    "duration": 3047,
    "start_time": "2023-06-23T19:32:00.063Z"
   },
   {
    "duration": 2415,
    "start_time": "2023-06-23T19:32:03.128Z"
   },
   {
    "duration": 1340,
    "start_time": "2023-06-23T19:32:05.544Z"
   },
   {
    "duration": 20,
    "start_time": "2023-06-23T19:32:06.887Z"
   },
   {
    "duration": 241,
    "start_time": "2023-06-23T19:32:06.914Z"
   },
   {
    "duration": 32195,
    "start_time": "2023-06-23T19:32:07.160Z"
   },
   {
    "duration": 25222,
    "start_time": "2023-06-23T19:34:06.029Z"
   },
   {
    "duration": 32798,
    "start_time": "2023-06-23T19:34:46.329Z"
   },
   {
    "duration": 1987,
    "start_time": "2023-06-23T19:37:48.136Z"
   },
   {
    "duration": 1144,
    "start_time": "2023-06-23T19:37:50.125Z"
   },
   {
    "duration": 23,
    "start_time": "2023-06-23T19:37:51.276Z"
   },
   {
    "duration": 169,
    "start_time": "2023-06-23T19:37:51.304Z"
   },
   {
    "duration": 41975,
    "start_time": "2023-06-23T19:37:51.475Z"
   },
   {
    "duration": 248,
    "start_time": "2023-06-23T19:44:53.103Z"
   },
   {
    "duration": 29,
    "start_time": "2023-06-23T19:45:07.901Z"
   },
   {
    "duration": 19,
    "start_time": "2023-06-23T19:46:56.329Z"
   },
   {
    "duration": 55,
    "start_time": "2023-06-23T19:47:26.898Z"
   },
   {
    "duration": 49,
    "start_time": "2023-06-23T19:48:20.144Z"
   },
   {
    "duration": 54,
    "start_time": "2023-06-23T19:48:35.743Z"
   },
   {
    "duration": 35,
    "start_time": "2023-06-23T19:49:57.814Z"
   },
   {
    "duration": 40,
    "start_time": "2023-06-23T19:50:18.606Z"
   },
   {
    "duration": 53,
    "start_time": "2023-06-23T20:00:08.105Z"
   },
   {
    "duration": 74,
    "start_time": "2023-06-23T20:00:16.372Z"
   },
   {
    "duration": 26,
    "start_time": "2023-06-23T20:00:37.640Z"
   },
   {
    "duration": 98,
    "start_time": "2023-06-23T20:04:16.439Z"
   },
   {
    "duration": 4148,
    "start_time": "2023-06-23T20:05:06.010Z"
   },
   {
    "duration": 68,
    "start_time": "2023-06-23T20:06:23.762Z"
   },
   {
    "duration": 60,
    "start_time": "2023-06-23T20:06:54.323Z"
   },
   {
    "duration": 229,
    "start_time": "2023-06-23T20:07:39.963Z"
   },
   {
    "duration": 41,
    "start_time": "2023-06-23T20:07:46.401Z"
   },
   {
    "duration": 31,
    "start_time": "2023-06-23T20:07:50.531Z"
   },
   {
    "duration": 41,
    "start_time": "2023-06-23T20:08:38.012Z"
   },
   {
    "duration": 2282,
    "start_time": "2023-06-23T20:08:49.561Z"
   },
   {
    "duration": 1311,
    "start_time": "2023-06-23T20:08:51.844Z"
   },
   {
    "duration": 14,
    "start_time": "2023-06-23T20:08:53.157Z"
   },
   {
    "duration": 220,
    "start_time": "2023-06-23T20:08:53.174Z"
   },
   {
    "duration": 56,
    "start_time": "2023-06-23T20:08:53.396Z"
   },
   {
    "duration": 54,
    "start_time": "2023-06-23T20:08:53.453Z"
   },
   {
    "duration": 42,
    "start_time": "2023-06-23T20:08:53.513Z"
   },
   {
    "duration": 3,
    "start_time": "2023-06-23T20:08:53.557Z"
   },
   {
    "duration": 81,
    "start_time": "2023-06-23T20:09:58.548Z"
   },
   {
    "duration": 24,
    "start_time": "2023-06-23T20:10:49.549Z"
   },
   {
    "duration": 2078,
    "start_time": "2023-06-23T20:11:16.363Z"
   },
   {
    "duration": 1196,
    "start_time": "2023-06-23T20:11:18.443Z"
   },
   {
    "duration": 11,
    "start_time": "2023-06-23T20:11:19.641Z"
   },
   {
    "duration": 204,
    "start_time": "2023-06-23T20:11:19.655Z"
   },
   {
    "duration": 66,
    "start_time": "2023-06-23T20:11:19.861Z"
   },
   {
    "duration": 19,
    "start_time": "2023-06-23T20:11:19.932Z"
   },
   {
    "duration": 66,
    "start_time": "2023-06-23T20:11:19.953Z"
   },
   {
    "duration": 37,
    "start_time": "2023-06-23T20:11:20.026Z"
   },
   {
    "duration": 56,
    "start_time": "2023-06-23T20:11:20.065Z"
   },
   {
    "duration": 161,
    "start_time": "2023-06-23T20:11:20.123Z"
   },
   {
    "duration": 40,
    "start_time": "2023-06-23T20:12:38.326Z"
   },
   {
    "duration": 61,
    "start_time": "2023-06-23T20:13:11.059Z"
   },
   {
    "duration": 2305,
    "start_time": "2023-06-23T20:13:19.623Z"
   },
   {
    "duration": 1526,
    "start_time": "2023-06-23T20:13:21.937Z"
   },
   {
    "duration": 29,
    "start_time": "2023-06-23T20:13:23.465Z"
   },
   {
    "duration": 263,
    "start_time": "2023-06-23T20:13:23.509Z"
   },
   {
    "duration": 76,
    "start_time": "2023-06-23T20:13:23.775Z"
   },
   {
    "duration": 30,
    "start_time": "2023-06-23T20:13:23.852Z"
   },
   {
    "duration": 68,
    "start_time": "2023-06-23T20:13:23.884Z"
   },
   {
    "duration": 72,
    "start_time": "2023-06-23T20:13:23.954Z"
   },
   {
    "duration": 57,
    "start_time": "2023-06-23T20:13:24.028Z"
   },
   {
    "duration": 108,
    "start_time": "2023-06-23T20:13:24.094Z"
   },
   {
    "duration": 62,
    "start_time": "2023-06-23T20:13:24.215Z"
   },
   {
    "duration": 266,
    "start_time": "2023-06-23T20:13:24.279Z"
   },
   {
    "duration": 2404,
    "start_time": "2023-06-23T20:43:14.800Z"
   },
   {
    "duration": 1388,
    "start_time": "2023-06-23T20:43:17.210Z"
   },
   {
    "duration": 15,
    "start_time": "2023-06-23T20:43:18.600Z"
   },
   {
    "duration": 242,
    "start_time": "2023-06-23T20:43:18.621Z"
   },
   {
    "duration": 71,
    "start_time": "2023-06-23T20:43:18.866Z"
   },
   {
    "duration": 44,
    "start_time": "2023-06-23T20:43:18.940Z"
   },
   {
    "duration": 70,
    "start_time": "2023-06-23T20:43:18.991Z"
   },
   {
    "duration": 59,
    "start_time": "2023-06-23T20:43:19.063Z"
   },
   {
    "duration": 46,
    "start_time": "2023-06-23T20:43:19.124Z"
   },
   {
    "duration": 60,
    "start_time": "2023-06-23T20:43:19.184Z"
   },
   {
    "duration": 71,
    "start_time": "2023-06-23T20:43:19.245Z"
   },
   {
    "duration": 37,
    "start_time": "2023-06-23T20:43:19.320Z"
   },
   {
    "duration": 195,
    "start_time": "2023-06-23T20:43:19.359Z"
   },
   {
    "duration": 34,
    "start_time": "2023-06-23T20:45:06.835Z"
   },
   {
    "duration": 66,
    "start_time": "2023-06-23T20:45:39.946Z"
   },
   {
    "duration": 2749,
    "start_time": "2023-06-23T20:45:47.059Z"
   },
   {
    "duration": 1464,
    "start_time": "2023-06-23T20:45:49.811Z"
   },
   {
    "duration": 15,
    "start_time": "2023-06-23T20:45:51.276Z"
   },
   {
    "duration": 228,
    "start_time": "2023-06-23T20:45:51.292Z"
   },
   {
    "duration": 67,
    "start_time": "2023-06-23T20:45:51.523Z"
   },
   {
    "duration": 44,
    "start_time": "2023-06-23T20:45:51.592Z"
   },
   {
    "duration": 76,
    "start_time": "2023-06-23T20:45:51.644Z"
   },
   {
    "duration": 30,
    "start_time": "2023-06-23T20:45:51.725Z"
   },
   {
    "duration": 73,
    "start_time": "2023-06-23T20:45:51.757Z"
   },
   {
    "duration": 33,
    "start_time": "2023-06-23T20:45:51.832Z"
   },
   {
    "duration": 82,
    "start_time": "2023-06-23T20:45:51.867Z"
   },
   {
    "duration": 56,
    "start_time": "2023-06-23T20:45:51.951Z"
   },
   {
    "duration": 85,
    "start_time": "2023-06-23T20:45:52.013Z"
   },
   {
    "duration": 45,
    "start_time": "2023-06-23T20:45:52.106Z"
   },
   {
    "duration": 220,
    "start_time": "2023-06-23T20:45:52.155Z"
   },
   {
    "duration": 227,
    "start_time": "2023-06-23T20:49:07.216Z"
   },
   {
    "duration": 3,
    "start_time": "2023-06-23T21:07:17.727Z"
   },
   {
    "duration": 398,
    "start_time": "2023-06-23T21:08:54.543Z"
   },
   {
    "duration": 1284,
    "start_time": "2023-06-23T21:08:54.943Z"
   },
   {
    "duration": 15,
    "start_time": "2023-06-23T21:08:56.229Z"
   },
   {
    "duration": 60,
    "start_time": "2023-06-23T21:08:56.246Z"
   },
   {
    "duration": 184,
    "start_time": "2023-06-23T21:08:56.309Z"
   },
   {
    "duration": 70,
    "start_time": "2023-06-23T21:08:56.497Z"
   },
   {
    "duration": 59,
    "start_time": "2023-06-23T21:08:56.583Z"
   },
   {
    "duration": 68,
    "start_time": "2023-06-23T21:08:56.644Z"
   },
   {
    "duration": 55,
    "start_time": "2023-06-23T21:08:56.714Z"
   },
   {
    "duration": 66,
    "start_time": "2023-06-23T21:08:56.771Z"
   },
   {
    "duration": 40,
    "start_time": "2023-06-23T21:08:56.839Z"
   },
   {
    "duration": 69,
    "start_time": "2023-06-23T21:08:56.882Z"
   },
   {
    "duration": 40,
    "start_time": "2023-06-23T21:08:56.954Z"
   },
   {
    "duration": 58,
    "start_time": "2023-06-23T21:08:56.997Z"
   },
   {
    "duration": 64,
    "start_time": "2023-06-23T21:08:57.057Z"
   },
   {
    "duration": 218,
    "start_time": "2023-06-23T21:08:57.129Z"
   },
   {
    "duration": 767,
    "start_time": "2023-06-23T21:12:18.697Z"
   },
   {
    "duration": 1348,
    "start_time": "2023-06-23T21:12:19.466Z"
   },
   {
    "duration": 27,
    "start_time": "2023-06-23T21:12:20.821Z"
   },
   {
    "duration": 90,
    "start_time": "2023-06-23T21:12:20.850Z"
   },
   {
    "duration": 269,
    "start_time": "2023-06-23T21:12:20.943Z"
   },
   {
    "duration": 78,
    "start_time": "2023-06-23T21:12:21.224Z"
   },
   {
    "duration": 42,
    "start_time": "2023-06-23T21:12:21.312Z"
   },
   {
    "duration": 84,
    "start_time": "2023-06-23T21:12:21.356Z"
   },
   {
    "duration": 32,
    "start_time": "2023-06-23T21:12:21.442Z"
   },
   {
    "duration": 73,
    "start_time": "2023-06-23T21:12:21.485Z"
   },
   {
    "duration": 74,
    "start_time": "2023-06-23T21:12:21.560Z"
   },
   {
    "duration": 61,
    "start_time": "2023-06-23T21:12:21.638Z"
   },
   {
    "duration": 52,
    "start_time": "2023-06-23T21:12:21.705Z"
   },
   {
    "duration": 84,
    "start_time": "2023-06-23T21:12:21.760Z"
   },
   {
    "duration": 29,
    "start_time": "2023-06-23T21:12:21.847Z"
   },
   {
    "duration": 223,
    "start_time": "2023-06-23T21:12:21.878Z"
   },
   {
    "duration": 733,
    "start_time": "2023-06-23T21:15:28.011Z"
   },
   {
    "duration": 1239,
    "start_time": "2023-06-23T21:15:28.746Z"
   },
   {
    "duration": 16,
    "start_time": "2023-06-23T21:15:29.986Z"
   },
   {
    "duration": 101,
    "start_time": "2023-06-23T21:15:30.006Z"
   },
   {
    "duration": 147,
    "start_time": "2023-06-23T21:15:30.115Z"
   },
   {
    "duration": 61,
    "start_time": "2023-06-23T21:15:30.270Z"
   },
   {
    "duration": 21,
    "start_time": "2023-06-23T21:15:30.333Z"
   },
   {
    "duration": 86,
    "start_time": "2023-06-23T21:15:30.356Z"
   },
   {
    "duration": 21,
    "start_time": "2023-06-23T21:15:30.444Z"
   },
   {
    "duration": 65,
    "start_time": "2023-06-23T21:15:30.467Z"
   },
   {
    "duration": 19,
    "start_time": "2023-06-23T21:15:30.534Z"
   },
   {
    "duration": 78,
    "start_time": "2023-06-23T21:15:30.555Z"
   },
   {
    "duration": 31,
    "start_time": "2023-06-23T21:15:30.635Z"
   },
   {
    "duration": 75,
    "start_time": "2023-06-23T21:15:30.668Z"
   },
   {
    "duration": 88,
    "start_time": "2023-06-23T21:15:30.745Z"
   },
   {
    "duration": 221,
    "start_time": "2023-06-23T21:15:30.835Z"
   },
   {
    "duration": 622,
    "start_time": "2023-06-23T21:15:31.058Z"
   },
   {
    "duration": 509,
    "start_time": "2023-06-23T21:17:51.503Z"
   },
   {
    "duration": 213,
    "start_time": "2023-06-23T21:19:39.598Z"
   },
   {
    "duration": 163,
    "start_time": "2023-06-23T21:19:53.364Z"
   },
   {
    "duration": 509,
    "start_time": "2023-06-23T21:20:10.920Z"
   },
   {
    "duration": 197,
    "start_time": "2023-06-23T21:20:21.418Z"
   },
   {
    "duration": 412,
    "start_time": "2023-06-23T21:21:29.737Z"
   },
   {
    "duration": 532,
    "start_time": "2023-06-23T21:24:24.607Z"
   },
   {
    "duration": 207,
    "start_time": "2023-06-23T21:25:57.631Z"
   },
   {
    "duration": 441,
    "start_time": "2023-06-23T21:29:51.389Z"
   },
   {
    "duration": 350,
    "start_time": "2023-06-23T21:30:10.202Z"
   },
   {
    "duration": 353,
    "start_time": "2023-06-23T21:30:25.756Z"
   },
   {
    "duration": 358,
    "start_time": "2023-06-23T21:30:50.064Z"
   },
   {
    "duration": 199,
    "start_time": "2023-06-23T21:52:06.605Z"
   },
   {
    "duration": 9,
    "start_time": "2023-06-23T21:57:06.017Z"
   },
   {
    "duration": 9,
    "start_time": "2023-06-23T21:58:16.924Z"
   },
   {
    "duration": 4,
    "start_time": "2023-06-23T21:59:18.934Z"
   },
   {
    "duration": 3,
    "start_time": "2023-06-23T22:04:34.784Z"
   },
   {
    "duration": 41,
    "start_time": "2023-06-23T22:04:40.515Z"
   },
   {
    "duration": 60,
    "start_time": "2023-06-23T22:04:55.299Z"
   },
   {
    "duration": 50,
    "start_time": "2023-06-23T22:04:59.803Z"
   },
   {
    "duration": 614,
    "start_time": "2023-06-23T22:09:26.793Z"
   },
   {
    "duration": 915,
    "start_time": "2023-06-23T22:09:27.409Z"
   },
   {
    "duration": 10,
    "start_time": "2023-06-23T22:09:28.326Z"
   },
   {
    "duration": 37,
    "start_time": "2023-06-23T22:09:28.338Z"
   },
   {
    "duration": 116,
    "start_time": "2023-06-23T22:09:28.377Z"
   },
   {
    "duration": 31,
    "start_time": "2023-06-23T22:09:28.495Z"
   },
   {
    "duration": 19,
    "start_time": "2023-06-23T22:09:28.528Z"
   },
   {
    "duration": 48,
    "start_time": "2023-06-23T22:09:28.549Z"
   },
   {
    "duration": 21,
    "start_time": "2023-06-23T22:09:28.598Z"
   },
   {
    "duration": 48,
    "start_time": "2023-06-23T22:09:28.621Z"
   },
   {
    "duration": 19,
    "start_time": "2023-06-23T22:09:28.670Z"
   },
   {
    "duration": 43,
    "start_time": "2023-06-23T22:09:28.690Z"
   },
   {
    "duration": 23,
    "start_time": "2023-06-23T22:09:28.735Z"
   },
   {
    "duration": 37,
    "start_time": "2023-06-23T22:09:28.759Z"
   },
   {
    "duration": 19,
    "start_time": "2023-06-23T22:09:28.797Z"
   },
   {
    "duration": 120,
    "start_time": "2023-06-23T22:09:28.818Z"
   },
   {
    "duration": 456,
    "start_time": "2023-06-23T22:09:28.939Z"
   },
   {
    "duration": 50,
    "start_time": "2023-06-23T22:09:29.396Z"
   },
   {
    "duration": 21,
    "start_time": "2023-06-23T22:09:29.447Z"
   },
   {
    "duration": 314,
    "start_time": "2023-06-23T22:09:29.470Z"
   },
   {
    "duration": 419,
    "start_time": "2023-06-23T22:09:29.785Z"
   },
   {
    "duration": 26,
    "start_time": "2023-06-23T22:14:08.504Z"
   },
   {
    "duration": 627,
    "start_time": "2023-06-23T22:19:24.311Z"
   },
   {
    "duration": 919,
    "start_time": "2023-06-23T22:19:24.939Z"
   },
   {
    "duration": 17,
    "start_time": "2023-06-23T22:19:25.860Z"
   },
   {
    "duration": 34,
    "start_time": "2023-06-23T22:19:25.879Z"
   },
   {
    "duration": 123,
    "start_time": "2023-06-23T22:19:25.914Z"
   },
   {
    "duration": 37,
    "start_time": "2023-06-23T22:19:26.038Z"
   },
   {
    "duration": 28,
    "start_time": "2023-06-23T22:19:26.076Z"
   },
   {
    "duration": 32,
    "start_time": "2023-06-23T22:19:26.106Z"
   },
   {
    "duration": 36,
    "start_time": "2023-06-23T22:19:26.139Z"
   },
   {
    "duration": 32,
    "start_time": "2023-06-23T22:19:26.178Z"
   },
   {
    "duration": 22,
    "start_time": "2023-06-23T22:19:26.211Z"
   },
   {
    "duration": 48,
    "start_time": "2023-06-23T22:19:26.235Z"
   },
   {
    "duration": 21,
    "start_time": "2023-06-23T22:19:26.284Z"
   },
   {
    "duration": 32,
    "start_time": "2023-06-23T22:19:26.307Z"
   },
   {
    "duration": 43,
    "start_time": "2023-06-23T22:19:26.340Z"
   },
   {
    "duration": 105,
    "start_time": "2023-06-23T22:19:26.385Z"
   },
   {
    "duration": 431,
    "start_time": "2023-06-23T22:19:26.492Z"
   },
   {
    "duration": 58,
    "start_time": "2023-06-23T22:19:26.925Z"
   },
   {
    "duration": 5,
    "start_time": "2023-06-23T22:19:26.985Z"
   },
   {
    "duration": 25,
    "start_time": "2023-06-23T22:19:26.991Z"
   },
   {
    "duration": 333,
    "start_time": "2023-06-23T22:19:27.017Z"
   },
   {
    "duration": 407,
    "start_time": "2023-06-23T22:19:27.352Z"
   },
   {
    "duration": 9,
    "start_time": "2023-06-25T10:54:34.803Z"
   },
   {
    "duration": 212,
    "start_time": "2023-06-25T10:54:57.249Z"
   },
   {
    "duration": 207,
    "start_time": "2023-06-25T10:58:55.971Z"
   },
   {
    "duration": 45,
    "start_time": "2023-06-25T11:08:16.301Z"
   },
   {
    "duration": 211,
    "start_time": "2023-06-25T11:09:00.937Z"
   },
   {
    "duration": 31,
    "start_time": "2023-06-25T11:10:46.056Z"
   },
   {
    "duration": 664,
    "start_time": "2023-06-25T11:12:31.991Z"
   },
   {
    "duration": 927,
    "start_time": "2023-06-25T11:12:32.657Z"
   },
   {
    "duration": 17,
    "start_time": "2023-06-25T11:12:33.586Z"
   },
   {
    "duration": 44,
    "start_time": "2023-06-25T11:12:33.605Z"
   },
   {
    "duration": 107,
    "start_time": "2023-06-25T11:12:33.651Z"
   },
   {
    "duration": 43,
    "start_time": "2023-06-25T11:12:33.759Z"
   },
   {
    "duration": 22,
    "start_time": "2023-06-25T11:12:33.804Z"
   },
   {
    "duration": 66,
    "start_time": "2023-06-25T11:12:33.828Z"
   },
   {
    "duration": 35,
    "start_time": "2023-06-25T11:12:33.896Z"
   },
   {
    "duration": 35,
    "start_time": "2023-06-25T11:12:33.934Z"
   },
   {
    "duration": 31,
    "start_time": "2023-06-25T11:12:33.971Z"
   },
   {
    "duration": 29,
    "start_time": "2023-06-25T11:12:34.004Z"
   },
   {
    "duration": 40,
    "start_time": "2023-06-25T11:12:34.035Z"
   },
   {
    "duration": 36,
    "start_time": "2023-06-25T11:12:34.076Z"
   },
   {
    "duration": 27,
    "start_time": "2023-06-25T11:12:34.114Z"
   },
   {
    "duration": 100,
    "start_time": "2023-06-25T11:12:34.143Z"
   },
   {
    "duration": 472,
    "start_time": "2023-06-25T11:12:34.245Z"
   },
   {
    "duration": 53,
    "start_time": "2023-06-25T11:12:34.719Z"
   },
   {
    "duration": 6,
    "start_time": "2023-06-25T11:12:34.773Z"
   },
   {
    "duration": 43,
    "start_time": "2023-06-25T11:12:34.781Z"
   },
   {
    "duration": 56,
    "start_time": "2023-06-25T11:12:34.826Z"
   },
   {
    "duration": 324,
    "start_time": "2023-06-25T11:12:34.884Z"
   },
   {
    "duration": 417,
    "start_time": "2023-06-25T11:12:35.209Z"
   },
   {
    "duration": 170,
    "start_time": "2023-06-25T11:15:51.605Z"
   },
   {
    "duration": 202,
    "start_time": "2023-06-25T11:17:28.439Z"
   },
   {
    "duration": 148,
    "start_time": "2023-06-25T11:18:30.984Z"
   },
   {
    "duration": 1831,
    "start_time": "2023-06-25T11:19:03.659Z"
   },
   {
    "duration": 1884,
    "start_time": "2023-06-25T11:19:31.069Z"
   },
   {
    "duration": 78,
    "start_time": "2023-06-25T11:24:28.002Z"
   },
   {
    "duration": 85,
    "start_time": "2023-06-25T11:24:46.817Z"
   },
   {
    "duration": 33,
    "start_time": "2023-06-25T11:24:52.785Z"
   },
   {
    "duration": 635,
    "start_time": "2023-06-25T11:25:17.936Z"
   },
   {
    "duration": 943,
    "start_time": "2023-06-25T11:25:18.573Z"
   },
   {
    "duration": 13,
    "start_time": "2023-06-25T11:25:19.517Z"
   },
   {
    "duration": 46,
    "start_time": "2023-06-25T11:25:19.532Z"
   },
   {
    "duration": 109,
    "start_time": "2023-06-25T11:25:19.580Z"
   },
   {
    "duration": 57,
    "start_time": "2023-06-25T11:25:19.691Z"
   },
   {
    "duration": 41,
    "start_time": "2023-06-25T11:25:19.749Z"
   },
   {
    "duration": 33,
    "start_time": "2023-06-25T11:25:19.792Z"
   },
   {
    "duration": 25,
    "start_time": "2023-06-25T11:25:19.826Z"
   },
   {
    "duration": 40,
    "start_time": "2023-06-25T11:25:19.854Z"
   },
   {
    "duration": 22,
    "start_time": "2023-06-25T11:25:19.896Z"
   },
   {
    "duration": 32,
    "start_time": "2023-06-25T11:25:19.919Z"
   },
   {
    "duration": 24,
    "start_time": "2023-06-25T11:25:19.952Z"
   },
   {
    "duration": 46,
    "start_time": "2023-06-25T11:25:19.978Z"
   },
   {
    "duration": 19,
    "start_time": "2023-06-25T11:25:20.025Z"
   },
   {
    "duration": 109,
    "start_time": "2023-06-25T11:25:20.046Z"
   },
   {
    "duration": 525,
    "start_time": "2023-06-25T11:25:20.157Z"
   },
   {
    "duration": 65,
    "start_time": "2023-06-25T11:25:20.684Z"
   },
   {
    "duration": 5,
    "start_time": "2023-06-25T11:25:20.750Z"
   },
   {
    "duration": 46,
    "start_time": "2023-06-25T11:25:20.756Z"
   },
   {
    "duration": 33,
    "start_time": "2023-06-25T11:25:20.804Z"
   },
   {
    "duration": 1420,
    "start_time": "2023-06-25T11:25:20.838Z"
   },
   {
    "duration": 193,
    "start_time": "2023-06-25T11:25:22.260Z"
   },
   {
    "duration": 218,
    "start_time": "2023-06-25T11:25:22.454Z"
   },
   {
    "duration": 121,
    "start_time": "2023-06-25T11:27:24.759Z"
   },
   {
    "duration": 11,
    "start_time": "2023-06-25T11:32:38.774Z"
   },
   {
    "duration": 8,
    "start_time": "2023-06-25T11:33:23.493Z"
   },
   {
    "duration": 636,
    "start_time": "2023-06-25T11:33:52.241Z"
   },
   {
    "duration": 983,
    "start_time": "2023-06-25T11:33:52.879Z"
   },
   {
    "duration": 14,
    "start_time": "2023-06-25T11:33:53.864Z"
   },
   {
    "duration": 69,
    "start_time": "2023-06-25T11:33:53.881Z"
   },
   {
    "duration": 120,
    "start_time": "2023-06-25T11:33:53.952Z"
   },
   {
    "duration": 33,
    "start_time": "2023-06-25T11:33:54.074Z"
   },
   {
    "duration": 28,
    "start_time": "2023-06-25T11:33:54.110Z"
   },
   {
    "duration": 29,
    "start_time": "2023-06-25T11:33:54.140Z"
   },
   {
    "duration": 42,
    "start_time": "2023-06-25T11:33:54.171Z"
   },
   {
    "duration": 32,
    "start_time": "2023-06-25T11:33:54.217Z"
   },
   {
    "duration": 29,
    "start_time": "2023-06-25T11:33:54.251Z"
   },
   {
    "duration": 41,
    "start_time": "2023-06-25T11:33:54.281Z"
   },
   {
    "duration": 30,
    "start_time": "2023-06-25T11:33:54.324Z"
   },
   {
    "duration": 31,
    "start_time": "2023-06-25T11:33:54.356Z"
   },
   {
    "duration": 33,
    "start_time": "2023-06-25T11:33:54.389Z"
   },
   {
    "duration": 110,
    "start_time": "2023-06-25T11:33:54.424Z"
   },
   {
    "duration": 455,
    "start_time": "2023-06-25T11:33:54.536Z"
   },
   {
    "duration": 60,
    "start_time": "2023-06-25T11:33:54.993Z"
   },
   {
    "duration": 5,
    "start_time": "2023-06-25T11:33:55.054Z"
   },
   {
    "duration": 141,
    "start_time": "2023-06-25T11:33:55.061Z"
   },
   {
    "duration": 137,
    "start_time": "2023-06-25T11:33:55.203Z"
   },
   {
    "duration": 96,
    "start_time": "2023-06-25T11:33:55.342Z"
   },
   {
    "duration": 0,
    "start_time": "2023-06-25T11:33:55.440Z"
   },
   {
    "duration": 0,
    "start_time": "2023-06-25T11:33:55.441Z"
   },
   {
    "duration": 10,
    "start_time": "2023-06-25T11:34:57.190Z"
   },
   {
    "duration": 8,
    "start_time": "2023-06-25T11:35:24.535Z"
   },
   {
    "duration": 638,
    "start_time": "2023-06-25T11:35:38.536Z"
   },
   {
    "duration": 1037,
    "start_time": "2023-06-25T11:35:39.176Z"
   },
   {
    "duration": 14,
    "start_time": "2023-06-25T11:35:40.214Z"
   },
   {
    "duration": 34,
    "start_time": "2023-06-25T11:35:40.231Z"
   },
   {
    "duration": 148,
    "start_time": "2023-06-25T11:35:40.267Z"
   },
   {
    "duration": 39,
    "start_time": "2023-06-25T11:35:40.416Z"
   },
   {
    "duration": 44,
    "start_time": "2023-06-25T11:35:40.458Z"
   },
   {
    "duration": 50,
    "start_time": "2023-06-25T11:35:40.504Z"
   },
   {
    "duration": 48,
    "start_time": "2023-06-25T11:35:40.556Z"
   },
   {
    "duration": 44,
    "start_time": "2023-06-25T11:35:40.608Z"
   },
   {
    "duration": 24,
    "start_time": "2023-06-25T11:35:40.655Z"
   },
   {
    "duration": 54,
    "start_time": "2023-06-25T11:35:40.681Z"
   },
   {
    "duration": 26,
    "start_time": "2023-06-25T11:35:40.737Z"
   },
   {
    "duration": 40,
    "start_time": "2023-06-25T11:35:40.765Z"
   },
   {
    "duration": 32,
    "start_time": "2023-06-25T11:35:40.807Z"
   },
   {
    "duration": 102,
    "start_time": "2023-06-25T11:35:40.841Z"
   },
   {
    "duration": 445,
    "start_time": "2023-06-25T11:35:40.945Z"
   },
   {
    "duration": 60,
    "start_time": "2023-06-25T11:35:41.392Z"
   },
   {
    "duration": 6,
    "start_time": "2023-06-25T11:35:41.454Z"
   },
   {
    "duration": 42,
    "start_time": "2023-06-25T11:35:41.462Z"
   },
   {
    "duration": 29,
    "start_time": "2023-06-25T11:35:41.506Z"
   },
   {
    "duration": 152,
    "start_time": "2023-06-25T11:35:41.536Z"
   },
   {
    "duration": 134,
    "start_time": "2023-06-25T11:35:41.690Z"
   },
   {
    "duration": 129,
    "start_time": "2023-06-25T11:35:41.827Z"
   },
   {
    "duration": 9,
    "start_time": "2023-06-25T11:36:25.447Z"
   },
   {
    "duration": 668,
    "start_time": "2023-06-25T11:36:36.816Z"
   },
   {
    "duration": 962,
    "start_time": "2023-06-25T11:36:37.486Z"
   },
   {
    "duration": 11,
    "start_time": "2023-06-25T11:36:38.450Z"
   },
   {
    "duration": 43,
    "start_time": "2023-06-25T11:36:38.463Z"
   },
   {
    "duration": 109,
    "start_time": "2023-06-25T11:36:38.509Z"
   },
   {
    "duration": 35,
    "start_time": "2023-06-25T11:36:38.620Z"
   },
   {
    "duration": 44,
    "start_time": "2023-06-25T11:36:38.657Z"
   },
   {
    "duration": 39,
    "start_time": "2023-06-25T11:36:38.704Z"
   },
   {
    "duration": 25,
    "start_time": "2023-06-25T11:36:38.745Z"
   },
   {
    "duration": 50,
    "start_time": "2023-06-25T11:36:38.772Z"
   },
   {
    "duration": 26,
    "start_time": "2023-06-25T11:36:38.824Z"
   },
   {
    "duration": 32,
    "start_time": "2023-06-25T11:36:38.852Z"
   },
   {
    "duration": 35,
    "start_time": "2023-06-25T11:36:38.886Z"
   },
   {
    "duration": 31,
    "start_time": "2023-06-25T11:36:38.924Z"
   },
   {
    "duration": 46,
    "start_time": "2023-06-25T11:36:38.956Z"
   },
   {
    "duration": 105,
    "start_time": "2023-06-25T11:36:39.004Z"
   },
   {
    "duration": 445,
    "start_time": "2023-06-25T11:36:39.111Z"
   },
   {
    "duration": 64,
    "start_time": "2023-06-25T11:36:39.558Z"
   },
   {
    "duration": 9,
    "start_time": "2023-06-25T11:36:39.624Z"
   },
   {
    "duration": 31,
    "start_time": "2023-06-25T11:36:39.635Z"
   },
   {
    "duration": 67,
    "start_time": "2023-06-25T11:36:39.668Z"
   },
   {
    "duration": 1654,
    "start_time": "2023-06-25T11:36:39.737Z"
   },
   {
    "duration": 294,
    "start_time": "2023-06-25T11:36:41.393Z"
   },
   {
    "duration": 403,
    "start_time": "2023-06-25T11:36:41.701Z"
   },
   {
    "duration": 47,
    "start_time": "2023-06-25T11:43:21.863Z"
   },
   {
    "duration": 50,
    "start_time": "2023-06-25T11:43:38.921Z"
   },
   {
    "duration": 655,
    "start_time": "2023-06-25T11:43:46.121Z"
   },
   {
    "duration": 1006,
    "start_time": "2023-06-25T11:43:46.778Z"
   },
   {
    "duration": 22,
    "start_time": "2023-06-25T11:43:47.786Z"
   },
   {
    "duration": 46,
    "start_time": "2023-06-25T11:43:47.810Z"
   },
   {
    "duration": 104,
    "start_time": "2023-06-25T11:43:47.858Z"
   },
   {
    "duration": 38,
    "start_time": "2023-06-25T11:43:47.964Z"
   },
   {
    "duration": 20,
    "start_time": "2023-06-25T11:43:48.003Z"
   },
   {
    "duration": 46,
    "start_time": "2023-06-25T11:43:48.025Z"
   },
   {
    "duration": 29,
    "start_time": "2023-06-25T11:43:48.073Z"
   },
   {
    "duration": 33,
    "start_time": "2023-06-25T11:43:48.105Z"
   },
   {
    "duration": 52,
    "start_time": "2023-06-25T11:43:48.140Z"
   },
   {
    "duration": 36,
    "start_time": "2023-06-25T11:43:48.194Z"
   },
   {
    "duration": 41,
    "start_time": "2023-06-25T11:43:48.233Z"
   },
   {
    "duration": 47,
    "start_time": "2023-06-25T11:43:48.277Z"
   },
   {
    "duration": 31,
    "start_time": "2023-06-25T11:43:48.326Z"
   },
   {
    "duration": 98,
    "start_time": "2023-06-25T11:43:48.359Z"
   },
   {
    "duration": 464,
    "start_time": "2023-06-25T11:43:48.459Z"
   },
   {
    "duration": 54,
    "start_time": "2023-06-25T11:43:48.925Z"
   },
   {
    "duration": 23,
    "start_time": "2023-06-25T11:43:48.981Z"
   },
   {
    "duration": 47,
    "start_time": "2023-06-25T11:43:49.007Z"
   },
   {
    "duration": 78,
    "start_time": "2023-06-25T11:43:49.056Z"
   },
   {
    "duration": 1613,
    "start_time": "2023-06-25T11:43:49.136Z"
   },
   {
    "duration": 47,
    "start_time": "2023-06-25T11:43:50.751Z"
   },
   {
    "duration": 0,
    "start_time": "2023-06-25T11:43:50.801Z"
   },
   {
    "duration": 0,
    "start_time": "2023-06-25T11:43:50.803Z"
   },
   {
    "duration": 68,
    "start_time": "2023-06-25T11:44:16.949Z"
   },
   {
    "duration": 47,
    "start_time": "2023-06-25T11:44:49.822Z"
   },
   {
    "duration": 691,
    "start_time": "2023-06-25T11:45:32.803Z"
   },
   {
    "duration": 1007,
    "start_time": "2023-06-25T11:45:33.497Z"
   },
   {
    "duration": 14,
    "start_time": "2023-06-25T11:45:34.506Z"
   },
   {
    "duration": 46,
    "start_time": "2023-06-25T11:45:34.522Z"
   },
   {
    "duration": 143,
    "start_time": "2023-06-25T11:45:34.570Z"
   },
   {
    "duration": 34,
    "start_time": "2023-06-25T11:45:34.715Z"
   },
   {
    "duration": 33,
    "start_time": "2023-06-25T11:45:34.751Z"
   },
   {
    "duration": 44,
    "start_time": "2023-06-25T11:45:34.786Z"
   },
   {
    "duration": 39,
    "start_time": "2023-06-25T11:45:34.832Z"
   },
   {
    "duration": 35,
    "start_time": "2023-06-25T11:45:34.873Z"
   },
   {
    "duration": 27,
    "start_time": "2023-06-25T11:45:34.910Z"
   },
   {
    "duration": 40,
    "start_time": "2023-06-25T11:45:34.940Z"
   },
   {
    "duration": 32,
    "start_time": "2023-06-25T11:45:34.983Z"
   },
   {
    "duration": 50,
    "start_time": "2023-06-25T11:45:35.018Z"
   },
   {
    "duration": 64,
    "start_time": "2023-06-25T11:45:35.070Z"
   },
   {
    "duration": 109,
    "start_time": "2023-06-25T11:45:35.137Z"
   },
   {
    "duration": 446,
    "start_time": "2023-06-25T11:45:35.248Z"
   },
   {
    "duration": 62,
    "start_time": "2023-06-25T11:45:35.696Z"
   },
   {
    "duration": 7,
    "start_time": "2023-06-25T11:45:35.760Z"
   },
   {
    "duration": 70,
    "start_time": "2023-06-25T11:45:35.770Z"
   },
   {
    "duration": 1969,
    "start_time": "2023-06-25T11:45:35.842Z"
   },
   {
    "duration": 54,
    "start_time": "2023-06-25T11:45:37.813Z"
   },
   {
    "duration": 97,
    "start_time": "2023-06-25T11:45:37.868Z"
   },
   {
    "duration": 0,
    "start_time": "2023-06-25T11:45:37.967Z"
   },
   {
    "duration": 0,
    "start_time": "2023-06-25T11:45:37.968Z"
   },
   {
    "duration": 612,
    "start_time": "2023-06-25T11:46:12.658Z"
   },
   {
    "duration": 1009,
    "start_time": "2023-06-25T11:46:13.273Z"
   },
   {
    "duration": 20,
    "start_time": "2023-06-25T11:46:14.283Z"
   },
   {
    "duration": 39,
    "start_time": "2023-06-25T11:46:14.305Z"
   },
   {
    "duration": 107,
    "start_time": "2023-06-25T11:46:14.345Z"
   },
   {
    "duration": 32,
    "start_time": "2023-06-25T11:46:14.455Z"
   },
   {
    "duration": 22,
    "start_time": "2023-06-25T11:46:14.502Z"
   },
   {
    "duration": 30,
    "start_time": "2023-06-25T11:46:14.526Z"
   },
   {
    "duration": 49,
    "start_time": "2023-06-25T11:46:14.558Z"
   },
   {
    "duration": 44,
    "start_time": "2023-06-25T11:46:14.611Z"
   },
   {
    "duration": 34,
    "start_time": "2023-06-25T11:46:14.657Z"
   },
   {
    "duration": 34,
    "start_time": "2023-06-25T11:46:14.702Z"
   },
   {
    "duration": 29,
    "start_time": "2023-06-25T11:46:14.738Z"
   },
   {
    "duration": 49,
    "start_time": "2023-06-25T11:46:14.769Z"
   },
   {
    "duration": 24,
    "start_time": "2023-06-25T11:46:14.821Z"
   },
   {
    "duration": 115,
    "start_time": "2023-06-25T11:46:14.847Z"
   },
   {
    "duration": 469,
    "start_time": "2023-06-25T11:46:14.964Z"
   },
   {
    "duration": 55,
    "start_time": "2023-06-25T11:46:15.435Z"
   },
   {
    "duration": 6,
    "start_time": "2023-06-25T11:46:15.502Z"
   },
   {
    "duration": 30,
    "start_time": "2023-06-25T11:46:15.509Z"
   },
   {
    "duration": 2027,
    "start_time": "2023-06-25T11:46:15.541Z"
   },
   {
    "duration": 62,
    "start_time": "2023-06-25T11:46:17.570Z"
   },
   {
    "duration": 309,
    "start_time": "2023-06-25T11:46:17.634Z"
   },
   {
    "duration": 403,
    "start_time": "2023-06-25T11:46:17.945Z"
   },
   {
    "duration": 56,
    "start_time": "2023-06-25T12:17:19.901Z"
   },
   {
    "duration": 715,
    "start_time": "2023-06-25T12:17:33.240Z"
   },
   {
    "duration": 985,
    "start_time": "2023-06-25T12:17:33.957Z"
   },
   {
    "duration": 17,
    "start_time": "2023-06-25T12:17:34.943Z"
   },
   {
    "duration": 52,
    "start_time": "2023-06-25T12:17:34.964Z"
   },
   {
    "duration": 147,
    "start_time": "2023-06-25T12:17:35.019Z"
   },
   {
    "duration": 47,
    "start_time": "2023-06-25T12:17:35.168Z"
   },
   {
    "duration": 21,
    "start_time": "2023-06-25T12:17:35.217Z"
   },
   {
    "duration": 41,
    "start_time": "2023-06-25T12:17:35.239Z"
   },
   {
    "duration": 45,
    "start_time": "2023-06-25T12:17:35.283Z"
   },
   {
    "duration": 60,
    "start_time": "2023-06-25T12:17:35.331Z"
   },
   {
    "duration": 37,
    "start_time": "2023-06-25T12:17:35.394Z"
   },
   {
    "duration": 69,
    "start_time": "2023-06-25T12:17:35.436Z"
   },
   {
    "duration": 63,
    "start_time": "2023-06-25T12:17:35.507Z"
   },
   {
    "duration": 60,
    "start_time": "2023-06-25T12:17:35.572Z"
   },
   {
    "duration": 44,
    "start_time": "2023-06-25T12:17:35.634Z"
   },
   {
    "duration": 112,
    "start_time": "2023-06-25T12:17:35.680Z"
   },
   {
    "duration": 501,
    "start_time": "2023-06-25T12:17:35.801Z"
   },
   {
    "duration": 59,
    "start_time": "2023-06-25T12:17:36.303Z"
   },
   {
    "duration": 6,
    "start_time": "2023-06-25T12:17:36.364Z"
   },
   {
    "duration": 79,
    "start_time": "2023-06-25T12:17:36.372Z"
   },
   {
    "duration": 2144,
    "start_time": "2023-06-25T12:17:36.454Z"
   },
   {
    "duration": 53,
    "start_time": "2023-06-25T12:17:38.607Z"
   },
   {
    "duration": 322,
    "start_time": "2023-06-25T12:17:38.662Z"
   },
   {
    "duration": 61,
    "start_time": "2023-06-25T12:17:38.986Z"
   },
   {
    "duration": 505,
    "start_time": "2023-06-25T12:17:39.050Z"
   },
   {
    "duration": 38,
    "start_time": "2023-06-25T12:19:17.992Z"
   },
   {
    "duration": 41,
    "start_time": "2023-06-25T12:19:30.918Z"
   },
   {
    "duration": 39,
    "start_time": "2023-06-25T12:19:50.109Z"
   },
   {
    "duration": 53,
    "start_time": "2023-06-25T12:19:55.870Z"
   },
   {
    "duration": 349,
    "start_time": "2023-06-25T12:20:07.963Z"
   },
   {
    "duration": 629,
    "start_time": "2023-06-25T12:20:36.532Z"
   },
   {
    "duration": 996,
    "start_time": "2023-06-25T12:20:37.163Z"
   },
   {
    "duration": 14,
    "start_time": "2023-06-25T12:20:38.161Z"
   },
   {
    "duration": 55,
    "start_time": "2023-06-25T12:20:38.177Z"
   },
   {
    "duration": 112,
    "start_time": "2023-06-25T12:20:38.234Z"
   },
   {
    "duration": 40,
    "start_time": "2023-06-25T12:20:38.348Z"
   },
   {
    "duration": 36,
    "start_time": "2023-06-25T12:20:38.390Z"
   },
   {
    "duration": 43,
    "start_time": "2023-06-25T12:20:38.428Z"
   },
   {
    "duration": 35,
    "start_time": "2023-06-25T12:20:38.473Z"
   },
   {
    "duration": 58,
    "start_time": "2023-06-25T12:20:38.512Z"
   },
   {
    "duration": 22,
    "start_time": "2023-06-25T12:20:38.572Z"
   },
   {
    "duration": 41,
    "start_time": "2023-06-25T12:20:38.596Z"
   },
   {
    "duration": 21,
    "start_time": "2023-06-25T12:20:38.639Z"
   },
   {
    "duration": 41,
    "start_time": "2023-06-25T12:20:38.662Z"
   },
   {
    "duration": 53,
    "start_time": "2023-06-25T12:20:38.705Z"
   },
   {
    "duration": 105,
    "start_time": "2023-06-25T12:20:38.759Z"
   },
   {
    "duration": 458,
    "start_time": "2023-06-25T12:20:38.866Z"
   },
   {
    "duration": 57,
    "start_time": "2023-06-25T12:20:39.326Z"
   },
   {
    "duration": 6,
    "start_time": "2023-06-25T12:20:39.402Z"
   },
   {
    "duration": 37,
    "start_time": "2023-06-25T12:20:39.410Z"
   },
   {
    "duration": 2165,
    "start_time": "2023-06-25T12:20:39.448Z"
   },
   {
    "duration": 56,
    "start_time": "2023-06-25T12:20:41.616Z"
   },
   {
    "duration": 345,
    "start_time": "2023-06-25T12:20:41.675Z"
   },
   {
    "duration": 47,
    "start_time": "2023-06-25T12:20:42.022Z"
   },
   {
    "duration": 404,
    "start_time": "2023-06-25T12:20:42.071Z"
   },
   {
    "duration": 105,
    "start_time": "2023-06-25T12:31:23.020Z"
   },
   {
    "duration": 15,
    "start_time": "2023-06-25T12:31:43.659Z"
   },
   {
    "duration": 14,
    "start_time": "2023-06-25T12:31:49.737Z"
   },
   {
    "duration": 49,
    "start_time": "2023-06-25T12:32:03.203Z"
   },
   {
    "duration": 671,
    "start_time": "2023-06-25T12:32:47.471Z"
   },
   {
    "duration": 1021,
    "start_time": "2023-06-25T12:32:48.144Z"
   },
   {
    "duration": 35,
    "start_time": "2023-06-25T12:32:49.167Z"
   },
   {
    "duration": 44,
    "start_time": "2023-06-25T12:32:49.207Z"
   },
   {
    "duration": 112,
    "start_time": "2023-06-25T12:32:49.253Z"
   },
   {
    "duration": 43,
    "start_time": "2023-06-25T12:32:49.367Z"
   },
   {
    "duration": 31,
    "start_time": "2023-06-25T12:32:49.412Z"
   },
   {
    "duration": 32,
    "start_time": "2023-06-25T12:32:49.446Z"
   },
   {
    "duration": 34,
    "start_time": "2023-06-25T12:32:49.480Z"
   },
   {
    "duration": 42,
    "start_time": "2023-06-25T12:32:49.518Z"
   },
   {
    "duration": 22,
    "start_time": "2023-06-25T12:32:49.563Z"
   },
   {
    "duration": 47,
    "start_time": "2023-06-25T12:32:49.587Z"
   },
   {
    "duration": 23,
    "start_time": "2023-06-25T12:32:49.636Z"
   },
   {
    "duration": 53,
    "start_time": "2023-06-25T12:32:49.661Z"
   },
   {
    "duration": 34,
    "start_time": "2023-06-25T12:32:49.715Z"
   },
   {
    "duration": 142,
    "start_time": "2023-06-25T12:32:49.751Z"
   },
   {
    "duration": 492,
    "start_time": "2023-06-25T12:32:49.895Z"
   },
   {
    "duration": 93,
    "start_time": "2023-06-25T12:32:50.389Z"
   },
   {
    "duration": 17,
    "start_time": "2023-06-25T12:32:50.485Z"
   },
   {
    "duration": 78,
    "start_time": "2023-06-25T12:32:50.505Z"
   },
   {
    "duration": 2008,
    "start_time": "2023-06-25T12:32:50.586Z"
   },
   {
    "duration": 53,
    "start_time": "2023-06-25T12:32:52.601Z"
   },
   {
    "duration": 339,
    "start_time": "2023-06-25T12:32:52.657Z"
   },
   {
    "duration": 48,
    "start_time": "2023-06-25T12:32:53.002Z"
   },
   {
    "duration": 408,
    "start_time": "2023-06-25T12:32:53.052Z"
   },
   {
    "duration": 53,
    "start_time": "2023-06-25T12:32:53.462Z"
   },
   {
    "duration": 52,
    "start_time": "2023-06-25T12:39:33.936Z"
   },
   {
    "duration": 681,
    "start_time": "2023-06-25T12:39:40.462Z"
   },
   {
    "duration": 1018,
    "start_time": "2023-06-25T12:39:41.145Z"
   },
   {
    "duration": 14,
    "start_time": "2023-06-25T12:39:42.165Z"
   },
   {
    "duration": 49,
    "start_time": "2023-06-25T12:39:42.183Z"
   },
   {
    "duration": 112,
    "start_time": "2023-06-25T12:39:42.234Z"
   },
   {
    "duration": 73,
    "start_time": "2023-06-25T12:39:42.348Z"
   },
   {
    "duration": 38,
    "start_time": "2023-06-25T12:39:42.423Z"
   },
   {
    "duration": 43,
    "start_time": "2023-06-25T12:39:42.463Z"
   },
   {
    "duration": 27,
    "start_time": "2023-06-25T12:39:42.508Z"
   },
   {
    "duration": 35,
    "start_time": "2023-06-25T12:39:42.539Z"
   },
   {
    "duration": 60,
    "start_time": "2023-06-25T12:39:42.577Z"
   },
   {
    "duration": 35,
    "start_time": "2023-06-25T12:39:42.639Z"
   },
   {
    "duration": 36,
    "start_time": "2023-06-25T12:39:42.676Z"
   },
   {
    "duration": 30,
    "start_time": "2023-06-25T12:39:42.714Z"
   },
   {
    "duration": 29,
    "start_time": "2023-06-25T12:39:42.746Z"
   },
   {
    "duration": 114,
    "start_time": "2023-06-25T12:39:42.777Z"
   },
   {
    "duration": 583,
    "start_time": "2023-06-25T12:39:42.892Z"
   },
   {
    "duration": 70,
    "start_time": "2023-06-25T12:39:43.477Z"
   },
   {
    "duration": 6,
    "start_time": "2023-06-25T12:39:43.549Z"
   },
   {
    "duration": 48,
    "start_time": "2023-06-25T12:39:43.557Z"
   },
   {
    "duration": 2069,
    "start_time": "2023-06-25T12:39:43.607Z"
   },
   {
    "duration": 65,
    "start_time": "2023-06-25T12:39:45.677Z"
   },
   {
    "duration": 331,
    "start_time": "2023-06-25T12:39:45.744Z"
   },
   {
    "duration": 60,
    "start_time": "2023-06-25T12:39:46.077Z"
   },
   {
    "duration": 373,
    "start_time": "2023-06-25T12:39:46.139Z"
   },
   {
    "duration": 39,
    "start_time": "2023-06-25T12:39:46.515Z"
   },
   {
    "duration": 82,
    "start_time": "2023-06-25T12:39:46.556Z"
   },
   {
    "duration": 707,
    "start_time": "2023-06-25T12:40:15.031Z"
   },
   {
    "duration": 997,
    "start_time": "2023-06-25T12:40:15.741Z"
   },
   {
    "duration": 13,
    "start_time": "2023-06-25T12:40:16.741Z"
   },
   {
    "duration": 51,
    "start_time": "2023-06-25T12:40:16.755Z"
   },
   {
    "duration": 107,
    "start_time": "2023-06-25T12:40:16.809Z"
   },
   {
    "duration": 30,
    "start_time": "2023-06-25T12:40:16.918Z"
   },
   {
    "duration": 24,
    "start_time": "2023-06-25T12:40:16.950Z"
   },
   {
    "duration": 51,
    "start_time": "2023-06-25T12:40:16.976Z"
   },
   {
    "duration": 19,
    "start_time": "2023-06-25T12:40:17.029Z"
   },
   {
    "duration": 53,
    "start_time": "2023-06-25T12:40:17.049Z"
   },
   {
    "duration": 26,
    "start_time": "2023-06-25T12:40:17.104Z"
   },
   {
    "duration": 32,
    "start_time": "2023-06-25T12:40:17.132Z"
   },
   {
    "duration": 53,
    "start_time": "2023-06-25T12:40:17.167Z"
   },
   {
    "duration": 36,
    "start_time": "2023-06-25T12:40:17.224Z"
   },
   {
    "duration": 22,
    "start_time": "2023-06-25T12:40:17.262Z"
   },
   {
    "duration": 116,
    "start_time": "2023-06-25T12:40:17.287Z"
   },
   {
    "duration": 470,
    "start_time": "2023-06-25T12:40:17.404Z"
   },
   {
    "duration": 68,
    "start_time": "2023-06-25T12:40:17.876Z"
   },
   {
    "duration": 5,
    "start_time": "2023-06-25T12:40:17.945Z"
   },
   {
    "duration": 28,
    "start_time": "2023-06-25T12:40:17.952Z"
   },
   {
    "duration": 1996,
    "start_time": "2023-06-25T12:40:17.982Z"
   },
   {
    "duration": 68,
    "start_time": "2023-06-25T12:40:19.980Z"
   },
   {
    "duration": 336,
    "start_time": "2023-06-25T12:40:20.050Z"
   },
   {
    "duration": 69,
    "start_time": "2023-06-25T12:40:20.390Z"
   },
   {
    "duration": 456,
    "start_time": "2023-06-25T12:40:20.462Z"
   },
   {
    "duration": 41,
    "start_time": "2023-06-25T12:40:20.920Z"
   },
   {
    "duration": 84,
    "start_time": "2023-06-25T12:40:20.963Z"
   },
   {
    "duration": 43,
    "start_time": "2023-06-25T12:40:53.067Z"
   },
   {
    "duration": 29,
    "start_time": "2023-06-25T12:47:57.639Z"
   },
   {
    "duration": 862,
    "start_time": "2023-06-25T12:48:27.503Z"
   },
   {
    "duration": 1233,
    "start_time": "2023-06-25T12:48:28.367Z"
   },
   {
    "duration": 39,
    "start_time": "2023-06-25T12:48:29.610Z"
   },
   {
    "duration": 128,
    "start_time": "2023-06-25T12:48:29.653Z"
   },
   {
    "duration": 0,
    "start_time": "2023-06-25T12:48:29.789Z"
   },
   {
    "duration": 0,
    "start_time": "2023-06-25T12:48:29.791Z"
   },
   {
    "duration": 0,
    "start_time": "2023-06-25T12:48:29.794Z"
   },
   {
    "duration": 0,
    "start_time": "2023-06-25T12:48:29.796Z"
   },
   {
    "duration": 0,
    "start_time": "2023-06-25T12:48:29.798Z"
   },
   {
    "duration": 0,
    "start_time": "2023-06-25T12:48:29.799Z"
   },
   {
    "duration": 0,
    "start_time": "2023-06-25T12:48:29.805Z"
   },
   {
    "duration": 0,
    "start_time": "2023-06-25T12:48:29.808Z"
   },
   {
    "duration": 0,
    "start_time": "2023-06-25T12:48:29.810Z"
   },
   {
    "duration": 0,
    "start_time": "2023-06-25T12:48:29.811Z"
   },
   {
    "duration": 0,
    "start_time": "2023-06-25T12:48:29.813Z"
   },
   {
    "duration": 0,
    "start_time": "2023-06-25T12:48:29.815Z"
   },
   {
    "duration": 0,
    "start_time": "2023-06-25T12:48:29.816Z"
   },
   {
    "duration": 0,
    "start_time": "2023-06-25T12:48:29.819Z"
   },
   {
    "duration": 0,
    "start_time": "2023-06-25T12:48:29.820Z"
   },
   {
    "duration": 0,
    "start_time": "2023-06-25T12:48:29.822Z"
   },
   {
    "duration": 0,
    "start_time": "2023-06-25T12:48:29.823Z"
   },
   {
    "duration": 0,
    "start_time": "2023-06-25T12:48:29.825Z"
   },
   {
    "duration": 0,
    "start_time": "2023-06-25T12:48:29.826Z"
   },
   {
    "duration": 0,
    "start_time": "2023-06-25T12:48:29.828Z"
   },
   {
    "duration": 0,
    "start_time": "2023-06-25T12:48:29.830Z"
   },
   {
    "duration": 0,
    "start_time": "2023-06-25T12:48:29.832Z"
   },
   {
    "duration": 0,
    "start_time": "2023-06-25T12:48:29.833Z"
   },
   {
    "duration": 705,
    "start_time": "2023-06-25T12:49:34.983Z"
   },
   {
    "duration": 981,
    "start_time": "2023-06-25T12:49:35.691Z"
   },
   {
    "duration": 12,
    "start_time": "2023-06-25T12:49:36.674Z"
   },
   {
    "duration": 2,
    "start_time": "2023-06-25T12:49:36.703Z"
   },
   {
    "duration": 34,
    "start_time": "2023-06-25T12:49:36.707Z"
   },
   {
    "duration": 19,
    "start_time": "2023-06-25T12:49:36.743Z"
   },
   {
    "duration": 56,
    "start_time": "2023-06-25T12:49:36.764Z"
   },
   {
    "duration": 18,
    "start_time": "2023-06-25T12:49:36.822Z"
   },
   {
    "duration": 34,
    "start_time": "2023-06-25T12:49:36.842Z"
   },
   {
    "duration": 19,
    "start_time": "2023-06-25T12:49:36.901Z"
   },
   {
    "duration": 36,
    "start_time": "2023-06-25T12:49:36.922Z"
   },
   {
    "duration": 44,
    "start_time": "2023-06-25T12:49:36.960Z"
   },
   {
    "duration": 34,
    "start_time": "2023-06-25T12:49:37.007Z"
   },
   {
    "duration": 25,
    "start_time": "2023-06-25T12:49:37.044Z"
   },
   {
    "duration": 144,
    "start_time": "2023-06-25T12:49:37.071Z"
   },
   {
    "duration": 492,
    "start_time": "2023-06-25T12:49:37.217Z"
   },
   {
    "duration": 56,
    "start_time": "2023-06-25T12:49:37.711Z"
   },
   {
    "duration": 6,
    "start_time": "2023-06-25T12:49:37.769Z"
   },
   {
    "duration": 51,
    "start_time": "2023-06-25T12:49:37.776Z"
   },
   {
    "duration": 2021,
    "start_time": "2023-06-25T12:49:37.829Z"
   },
   {
    "duration": 74,
    "start_time": "2023-06-25T12:49:39.852Z"
   },
   {
    "duration": 321,
    "start_time": "2023-06-25T12:49:39.928Z"
   },
   {
    "duration": 73,
    "start_time": "2023-06-25T12:49:40.251Z"
   },
   {
    "duration": 456,
    "start_time": "2023-06-25T12:49:40.325Z"
   },
   {
    "duration": 83,
    "start_time": "2023-06-25T12:49:40.783Z"
   },
   {
    "duration": 0,
    "start_time": "2023-06-25T12:49:40.869Z"
   },
   {
    "duration": 0,
    "start_time": "2023-06-25T12:49:40.871Z"
   },
   {
    "duration": 662,
    "start_time": "2023-06-25T12:50:47.842Z"
   },
   {
    "duration": 971,
    "start_time": "2023-06-25T12:50:48.506Z"
   },
   {
    "duration": 32,
    "start_time": "2023-06-25T12:50:49.479Z"
   },
   {
    "duration": 5,
    "start_time": "2023-06-25T12:50:49.515Z"
   },
   {
    "duration": 83,
    "start_time": "2023-06-25T12:50:49.523Z"
   },
   {
    "duration": 42,
    "start_time": "2023-06-25T12:50:49.608Z"
   },
   {
    "duration": 46,
    "start_time": "2023-06-25T12:50:49.652Z"
   },
   {
    "duration": 52,
    "start_time": "2023-06-25T12:50:49.701Z"
   },
   {
    "duration": 33,
    "start_time": "2023-06-25T12:50:49.756Z"
   },
   {
    "duration": 25,
    "start_time": "2023-06-25T12:50:49.791Z"
   },
   {
    "duration": 34,
    "start_time": "2023-06-25T12:50:49.817Z"
   },
   {
    "duration": 110,
    "start_time": "2023-06-25T12:50:49.853Z"
   },
   {
    "duration": 31,
    "start_time": "2023-06-25T12:50:49.965Z"
   },
   {
    "duration": 33,
    "start_time": "2023-06-25T12:50:49.998Z"
   },
   {
    "duration": 138,
    "start_time": "2023-06-25T12:50:50.033Z"
   },
   {
    "duration": 569,
    "start_time": "2023-06-25T12:50:50.173Z"
   },
   {
    "duration": 83,
    "start_time": "2023-06-25T12:50:50.745Z"
   },
   {
    "duration": 7,
    "start_time": "2023-06-25T12:50:50.830Z"
   },
   {
    "duration": 70,
    "start_time": "2023-06-25T12:50:50.840Z"
   },
   {
    "duration": 2089,
    "start_time": "2023-06-25T12:50:50.913Z"
   },
   {
    "duration": 74,
    "start_time": "2023-06-25T12:50:53.004Z"
   },
   {
    "duration": 348,
    "start_time": "2023-06-25T12:50:53.080Z"
   },
   {
    "duration": 74,
    "start_time": "2023-06-25T12:50:53.429Z"
   },
   {
    "duration": 468,
    "start_time": "2023-06-25T12:50:53.505Z"
   },
   {
    "duration": 83,
    "start_time": "2023-06-25T12:50:53.975Z"
   },
   {
    "duration": 74,
    "start_time": "2023-06-25T12:50:54.061Z"
   },
   {
    "duration": 85,
    "start_time": "2023-06-25T12:51:26.916Z"
   },
   {
    "duration": 845,
    "start_time": "2023-06-25T12:51:43.304Z"
   },
   {
    "duration": 1001,
    "start_time": "2023-06-25T12:51:44.151Z"
   },
   {
    "duration": 24,
    "start_time": "2023-06-25T12:51:45.155Z"
   },
   {
    "duration": 32,
    "start_time": "2023-06-25T12:51:45.183Z"
   },
   {
    "duration": 37,
    "start_time": "2023-06-25T12:51:45.217Z"
   },
   {
    "duration": 20,
    "start_time": "2023-06-25T12:51:45.256Z"
   },
   {
    "duration": 36,
    "start_time": "2023-06-25T12:51:45.279Z"
   },
   {
    "duration": 19,
    "start_time": "2023-06-25T12:51:45.316Z"
   },
   {
    "duration": 36,
    "start_time": "2023-06-25T12:51:45.336Z"
   },
   {
    "duration": 39,
    "start_time": "2023-06-25T12:51:45.375Z"
   },
   {
    "duration": 39,
    "start_time": "2023-06-25T12:51:45.416Z"
   },
   {
    "duration": 27,
    "start_time": "2023-06-25T12:51:45.458Z"
   },
   {
    "duration": 49,
    "start_time": "2023-06-25T12:51:45.486Z"
   },
   {
    "duration": 23,
    "start_time": "2023-06-25T12:51:45.537Z"
   },
   {
    "duration": 117,
    "start_time": "2023-06-25T12:51:45.562Z"
   },
   {
    "duration": 501,
    "start_time": "2023-06-25T12:51:45.681Z"
   },
   {
    "duration": 64,
    "start_time": "2023-06-25T12:51:46.184Z"
   },
   {
    "duration": 6,
    "start_time": "2023-06-25T12:51:46.250Z"
   },
   {
    "duration": 33,
    "start_time": "2023-06-25T12:51:46.258Z"
   },
   {
    "duration": 1961,
    "start_time": "2023-06-25T12:51:46.302Z"
   },
   {
    "duration": 77,
    "start_time": "2023-06-25T12:51:48.265Z"
   },
   {
    "duration": 323,
    "start_time": "2023-06-25T12:51:48.344Z"
   },
   {
    "duration": 92,
    "start_time": "2023-06-25T12:51:48.670Z"
   },
   {
    "duration": 443,
    "start_time": "2023-06-25T12:51:48.765Z"
   },
   {
    "duration": 48,
    "start_time": "2023-06-25T12:51:49.210Z"
   },
   {
    "duration": 51,
    "start_time": "2023-06-25T12:51:49.260Z"
   },
   {
    "duration": 89,
    "start_time": "2023-06-25T12:52:08.995Z"
   },
   {
    "duration": 725,
    "start_time": "2023-06-25T12:52:15.148Z"
   },
   {
    "duration": 981,
    "start_time": "2023-06-25T12:52:15.875Z"
   },
   {
    "duration": 13,
    "start_time": "2023-06-25T12:52:16.857Z"
   },
   {
    "duration": 7,
    "start_time": "2023-06-25T12:52:16.872Z"
   },
   {
    "duration": 52,
    "start_time": "2023-06-25T12:52:16.880Z"
   },
   {
    "duration": 27,
    "start_time": "2023-06-25T12:52:16.933Z"
   },
   {
    "duration": 51,
    "start_time": "2023-06-25T12:52:16.962Z"
   },
   {
    "duration": 22,
    "start_time": "2023-06-25T12:52:17.016Z"
   },
   {
    "duration": 32,
    "start_time": "2023-06-25T12:52:17.041Z"
   },
   {
    "duration": 41,
    "start_time": "2023-06-25T12:52:17.076Z"
   },
   {
    "duration": 31,
    "start_time": "2023-06-25T12:52:17.118Z"
   },
   {
    "duration": 23,
    "start_time": "2023-06-25T12:52:17.151Z"
   },
   {
    "duration": 64,
    "start_time": "2023-06-25T12:52:17.176Z"
   },
   {
    "duration": 23,
    "start_time": "2023-06-25T12:52:17.242Z"
   },
   {
    "duration": 136,
    "start_time": "2023-06-25T12:52:17.267Z"
   },
   {
    "duration": 471,
    "start_time": "2023-06-25T12:52:17.404Z"
   },
   {
    "duration": 70,
    "start_time": "2023-06-25T12:52:17.877Z"
   },
   {
    "duration": 6,
    "start_time": "2023-06-25T12:52:17.949Z"
   },
   {
    "duration": 72,
    "start_time": "2023-06-25T12:52:17.958Z"
   },
   {
    "duration": 2003,
    "start_time": "2023-06-25T12:52:18.032Z"
   },
   {
    "duration": 84,
    "start_time": "2023-06-25T12:52:20.037Z"
   },
   {
    "duration": 350,
    "start_time": "2023-06-25T12:52:20.122Z"
   },
   {
    "duration": 88,
    "start_time": "2023-06-25T12:52:20.475Z"
   },
   {
    "duration": 436,
    "start_time": "2023-06-25T12:52:20.566Z"
   },
   {
    "duration": 45,
    "start_time": "2023-06-25T12:52:21.004Z"
   },
   {
    "duration": 52,
    "start_time": "2023-06-25T12:52:21.051Z"
   },
   {
    "duration": 110,
    "start_time": "2023-06-25T12:59:42.159Z"
   },
   {
    "duration": 891,
    "start_time": "2023-06-25T12:59:49.837Z"
   },
   {
    "duration": 1309,
    "start_time": "2023-06-25T12:59:50.733Z"
   },
   {
    "duration": 24,
    "start_time": "2023-06-25T12:59:52.045Z"
   },
   {
    "duration": 56,
    "start_time": "2023-06-25T12:59:52.071Z"
   },
   {
    "duration": 97,
    "start_time": "2023-06-25T12:59:52.132Z"
   },
   {
    "duration": 34,
    "start_time": "2023-06-25T12:59:52.232Z"
   },
   {
    "duration": 81,
    "start_time": "2023-06-25T12:59:52.269Z"
   },
   {
    "duration": 77,
    "start_time": "2023-06-25T12:59:52.352Z"
   },
   {
    "duration": 48,
    "start_time": "2023-06-25T12:59:52.439Z"
   },
   {
    "duration": 49,
    "start_time": "2023-06-25T12:59:52.490Z"
   },
   {
    "duration": 54,
    "start_time": "2023-06-25T12:59:52.542Z"
   },
   {
    "duration": 77,
    "start_time": "2023-06-25T12:59:52.599Z"
   },
   {
    "duration": 115,
    "start_time": "2023-06-25T12:59:52.679Z"
   },
   {
    "duration": 69,
    "start_time": "2023-06-25T12:59:52.798Z"
   },
   {
    "duration": 170,
    "start_time": "2023-06-25T12:59:52.870Z"
   },
   {
    "duration": 631,
    "start_time": "2023-06-25T12:59:53.043Z"
   },
   {
    "duration": 78,
    "start_time": "2023-06-25T12:59:53.676Z"
   },
   {
    "duration": 6,
    "start_time": "2023-06-25T12:59:53.756Z"
   },
   {
    "duration": 60,
    "start_time": "2023-06-25T12:59:53.764Z"
   },
   {
    "duration": 2159,
    "start_time": "2023-06-25T12:59:53.827Z"
   },
   {
    "duration": 88,
    "start_time": "2023-06-25T12:59:55.988Z"
   },
   {
    "duration": 361,
    "start_time": "2023-06-25T12:59:56.079Z"
   },
   {
    "duration": 76,
    "start_time": "2023-06-25T12:59:56.442Z"
   },
   {
    "duration": 416,
    "start_time": "2023-06-25T12:59:56.520Z"
   },
   {
    "duration": 42,
    "start_time": "2023-06-25T12:59:56.939Z"
   },
   {
    "duration": 54,
    "start_time": "2023-06-25T12:59:56.983Z"
   },
   {
    "duration": 109,
    "start_time": "2023-06-25T13:11:34.447Z"
   },
   {
    "duration": 677,
    "start_time": "2023-06-25T13:12:12.708Z"
   },
   {
    "duration": 1010,
    "start_time": "2023-06-25T13:12:13.388Z"
   },
   {
    "duration": 13,
    "start_time": "2023-06-25T13:12:14.400Z"
   },
   {
    "duration": 19,
    "start_time": "2023-06-25T13:12:14.417Z"
   },
   {
    "duration": 76,
    "start_time": "2023-06-25T13:12:14.439Z"
   },
   {
    "duration": 35,
    "start_time": "2023-06-25T13:12:14.518Z"
   },
   {
    "duration": 61,
    "start_time": "2023-06-25T13:12:14.556Z"
   },
   {
    "duration": 39,
    "start_time": "2023-06-25T13:12:14.619Z"
   },
   {
    "duration": 71,
    "start_time": "2023-06-25T13:12:14.662Z"
   },
   {
    "duration": 37,
    "start_time": "2023-06-25T13:12:14.738Z"
   },
   {
    "duration": 54,
    "start_time": "2023-06-25T13:12:14.777Z"
   },
   {
    "duration": 38,
    "start_time": "2023-06-25T13:12:14.833Z"
   },
   {
    "duration": 61,
    "start_time": "2023-06-25T13:12:14.873Z"
   },
   {
    "duration": 38,
    "start_time": "2023-06-25T13:12:14.937Z"
   },
   {
    "duration": 194,
    "start_time": "2023-06-25T13:12:14.979Z"
   },
   {
    "duration": 577,
    "start_time": "2023-06-25T13:12:15.176Z"
   },
   {
    "duration": 73,
    "start_time": "2023-06-25T13:12:15.755Z"
   },
   {
    "duration": 7,
    "start_time": "2023-06-25T13:12:15.830Z"
   },
   {
    "duration": 47,
    "start_time": "2023-06-25T13:12:15.839Z"
   },
   {
    "duration": 2056,
    "start_time": "2023-06-25T13:12:15.888Z"
   },
   {
    "duration": 85,
    "start_time": "2023-06-25T13:12:17.946Z"
   },
   {
    "duration": 342,
    "start_time": "2023-06-25T13:12:18.032Z"
   },
   {
    "duration": 95,
    "start_time": "2023-06-25T13:12:18.377Z"
   },
   {
    "duration": 540,
    "start_time": "2023-06-25T13:12:18.474Z"
   },
   {
    "duration": 43,
    "start_time": "2023-06-25T13:12:19.016Z"
   },
   {
    "duration": 104,
    "start_time": "2023-06-25T13:12:19.061Z"
   },
   {
    "duration": 0,
    "start_time": "2023-06-25T13:12:19.168Z"
   },
   {
    "duration": 0,
    "start_time": "2023-06-25T13:12:19.170Z"
   },
   {
    "duration": 160,
    "start_time": "2023-06-25T13:12:43.848Z"
   },
   {
    "duration": 6,
    "start_time": "2023-06-25T13:16:33.505Z"
   },
   {
    "duration": 734,
    "start_time": "2023-06-25T13:16:39.668Z"
   },
   {
    "duration": 1113,
    "start_time": "2023-06-25T13:16:40.404Z"
   },
   {
    "duration": 15,
    "start_time": "2023-06-25T13:16:41.519Z"
   },
   {
    "duration": 4,
    "start_time": "2023-06-25T13:16:41.538Z"
   },
   {
    "duration": 85,
    "start_time": "2023-06-25T13:16:41.544Z"
   },
   {
    "duration": 47,
    "start_time": "2023-06-25T13:16:41.632Z"
   },
   {
    "duration": 51,
    "start_time": "2023-06-25T13:16:41.681Z"
   },
   {
    "duration": 25,
    "start_time": "2023-06-25T13:16:41.734Z"
   },
   {
    "duration": 53,
    "start_time": "2023-06-25T13:16:41.761Z"
   },
   {
    "duration": 18,
    "start_time": "2023-06-25T13:16:41.818Z"
   },
   {
    "duration": 65,
    "start_time": "2023-06-25T13:16:41.839Z"
   },
   {
    "duration": 40,
    "start_time": "2023-06-25T13:16:41.907Z"
   },
   {
    "duration": 48,
    "start_time": "2023-06-25T13:16:41.949Z"
   },
   {
    "duration": 41,
    "start_time": "2023-06-25T13:16:41.999Z"
   },
   {
    "duration": 119,
    "start_time": "2023-06-25T13:16:42.042Z"
   },
   {
    "duration": 477,
    "start_time": "2023-06-25T13:16:42.164Z"
   },
   {
    "duration": 67,
    "start_time": "2023-06-25T13:16:42.644Z"
   },
   {
    "duration": 8,
    "start_time": "2023-06-25T13:16:42.713Z"
   },
   {
    "duration": 46,
    "start_time": "2023-06-25T13:16:42.723Z"
   },
   {
    "duration": 2065,
    "start_time": "2023-06-25T13:16:42.772Z"
   },
   {
    "duration": 92,
    "start_time": "2023-06-25T13:16:44.840Z"
   },
   {
    "duration": 393,
    "start_time": "2023-06-25T13:16:44.935Z"
   },
   {
    "duration": 99,
    "start_time": "2023-06-25T13:16:45.330Z"
   },
   {
    "duration": 414,
    "start_time": "2023-06-25T13:16:45.431Z"
   },
   {
    "duration": 55,
    "start_time": "2023-06-25T13:16:45.848Z"
   },
   {
    "duration": 25,
    "start_time": "2023-06-25T13:16:45.906Z"
   },
   {
    "duration": 72,
    "start_time": "2023-06-25T13:16:45.934Z"
   },
   {
    "duration": 79,
    "start_time": "2023-06-25T13:16:46.010Z"
   },
   {
    "duration": 162,
    "start_time": "2023-06-25T13:20:36.475Z"
   },
   {
    "duration": 220,
    "start_time": "2023-06-25T13:21:44.328Z"
   },
   {
    "duration": 745,
    "start_time": "2023-06-25T13:21:56.362Z"
   },
   {
    "duration": 1128,
    "start_time": "2023-06-25T13:21:57.112Z"
   },
   {
    "duration": 12,
    "start_time": "2023-06-25T13:21:58.242Z"
   },
   {
    "duration": 10,
    "start_time": "2023-06-25T13:21:58.256Z"
   },
   {
    "duration": 70,
    "start_time": "2023-06-25T13:21:58.269Z"
   },
   {
    "duration": 19,
    "start_time": "2023-06-25T13:21:58.341Z"
   },
   {
    "duration": 35,
    "start_time": "2023-06-25T13:21:58.361Z"
   },
   {
    "duration": 43,
    "start_time": "2023-06-25T13:21:58.401Z"
   },
   {
    "duration": 36,
    "start_time": "2023-06-25T13:21:58.446Z"
   },
   {
    "duration": 34,
    "start_time": "2023-06-25T13:21:58.485Z"
   },
   {
    "duration": 56,
    "start_time": "2023-06-25T13:21:58.520Z"
   },
   {
    "duration": 37,
    "start_time": "2023-06-25T13:21:58.579Z"
   },
   {
    "duration": 56,
    "start_time": "2023-06-25T13:21:58.619Z"
   },
   {
    "duration": 21,
    "start_time": "2023-06-25T13:21:58.678Z"
   },
   {
    "duration": 144,
    "start_time": "2023-06-25T13:21:58.700Z"
   },
   {
    "duration": 532,
    "start_time": "2023-06-25T13:21:58.846Z"
   },
   {
    "duration": 80,
    "start_time": "2023-06-25T13:21:59.380Z"
   },
   {
    "duration": 8,
    "start_time": "2023-06-25T13:21:59.462Z"
   },
   {
    "duration": 60,
    "start_time": "2023-06-25T13:21:59.471Z"
   },
   {
    "duration": 2323,
    "start_time": "2023-06-25T13:21:59.534Z"
   },
   {
    "duration": 84,
    "start_time": "2023-06-25T13:22:01.858Z"
   },
   {
    "duration": 410,
    "start_time": "2023-06-25T13:22:01.944Z"
   },
   {
    "duration": 92,
    "start_time": "2023-06-25T13:22:02.356Z"
   },
   {
    "duration": 485,
    "start_time": "2023-06-25T13:22:02.451Z"
   },
   {
    "duration": 51,
    "start_time": "2023-06-25T13:22:02.938Z"
   },
   {
    "duration": 178,
    "start_time": "2023-06-25T13:22:02.991Z"
   },
   {
    "duration": 173,
    "start_time": "2023-06-25T13:22:03.173Z"
   },
   {
    "duration": 29,
    "start_time": "2023-06-25T13:22:03.347Z"
   },
   {
    "duration": 692,
    "start_time": "2023-06-25T13:24:26.452Z"
   },
   {
    "duration": 1105,
    "start_time": "2023-06-25T13:24:27.147Z"
   },
   {
    "duration": 13,
    "start_time": "2023-06-25T13:24:28.254Z"
   },
   {
    "duration": 588,
    "start_time": "2023-06-25T13:24:28.270Z"
   },
   {
    "duration": 3,
    "start_time": "2023-06-25T13:24:28.861Z"
   },
   {
    "duration": 58,
    "start_time": "2023-06-25T13:24:28.867Z"
   },
   {
    "duration": 40,
    "start_time": "2023-06-25T13:24:28.927Z"
   },
   {
    "duration": 44,
    "start_time": "2023-06-25T13:24:28.969Z"
   },
   {
    "duration": 28,
    "start_time": "2023-06-25T13:24:29.016Z"
   },
   {
    "duration": 34,
    "start_time": "2023-06-25T13:24:29.048Z"
   },
   {
    "duration": 68,
    "start_time": "2023-06-25T13:24:29.084Z"
   },
   {
    "duration": 42,
    "start_time": "2023-06-25T13:24:29.154Z"
   },
   {
    "duration": 87,
    "start_time": "2023-06-25T13:24:29.199Z"
   },
   {
    "duration": 96,
    "start_time": "2023-06-25T13:24:29.289Z"
   },
   {
    "duration": 38,
    "start_time": "2023-06-25T13:24:29.388Z"
   },
   {
    "duration": 158,
    "start_time": "2023-06-25T13:24:29.427Z"
   },
   {
    "duration": 525,
    "start_time": "2023-06-25T13:24:29.587Z"
   },
   {
    "duration": 59,
    "start_time": "2023-06-25T13:24:30.114Z"
   },
   {
    "duration": 7,
    "start_time": "2023-06-25T13:24:30.175Z"
   },
   {
    "duration": 70,
    "start_time": "2023-06-25T13:24:30.184Z"
   },
   {
    "duration": 2474,
    "start_time": "2023-06-25T13:24:30.257Z"
   },
   {
    "duration": 78,
    "start_time": "2023-06-25T13:24:32.734Z"
   },
   {
    "duration": 401,
    "start_time": "2023-06-25T13:24:32.814Z"
   },
   {
    "duration": 70,
    "start_time": "2023-06-25T13:24:33.218Z"
   },
   {
    "duration": 467,
    "start_time": "2023-06-25T13:24:33.291Z"
   },
   {
    "duration": 73,
    "start_time": "2023-06-25T13:24:33.761Z"
   },
   {
    "duration": 187,
    "start_time": "2023-06-25T13:24:33.837Z"
   },
   {
    "duration": 172,
    "start_time": "2023-06-25T13:24:34.027Z"
   },
   {
    "duration": 34,
    "start_time": "2023-06-25T13:24:34.202Z"
   },
   {
    "duration": 706,
    "start_time": "2023-06-25T13:26:23.866Z"
   },
   {
    "duration": 1184,
    "start_time": "2023-06-25T13:26:24.574Z"
   },
   {
    "duration": 43,
    "start_time": "2023-06-25T13:26:25.760Z"
   },
   {
    "duration": 595,
    "start_time": "2023-06-25T13:26:25.805Z"
   },
   {
    "duration": 622,
    "start_time": "2023-06-25T13:26:26.402Z"
   },
   {
    "duration": 37,
    "start_time": "2023-06-25T13:26:27.031Z"
   },
   {
    "duration": 41,
    "start_time": "2023-06-25T13:26:27.070Z"
   },
   {
    "duration": 46,
    "start_time": "2023-06-25T13:26:27.118Z"
   },
   {
    "duration": 29,
    "start_time": "2023-06-25T13:26:27.166Z"
   },
   {
    "duration": 79,
    "start_time": "2023-06-25T13:26:27.199Z"
   },
   {
    "duration": 57,
    "start_time": "2023-06-25T13:26:27.280Z"
   },
   {
    "duration": 70,
    "start_time": "2023-06-25T13:26:27.340Z"
   },
   {
    "duration": 69,
    "start_time": "2023-06-25T13:26:27.412Z"
   },
   {
    "duration": 66,
    "start_time": "2023-06-25T13:26:27.483Z"
   },
   {
    "duration": 41,
    "start_time": "2023-06-25T13:26:27.551Z"
   },
   {
    "duration": 172,
    "start_time": "2023-06-25T13:26:27.594Z"
   },
   {
    "duration": 537,
    "start_time": "2023-06-25T13:26:27.767Z"
   },
   {
    "duration": 74,
    "start_time": "2023-06-25T13:26:28.305Z"
   },
   {
    "duration": 30,
    "start_time": "2023-06-25T13:26:28.381Z"
   },
   {
    "duration": 38,
    "start_time": "2023-06-25T13:26:28.418Z"
   },
   {
    "duration": 2230,
    "start_time": "2023-06-25T13:26:28.457Z"
   },
   {
    "duration": 95,
    "start_time": "2023-06-25T13:26:30.690Z"
   },
   {
    "duration": 524,
    "start_time": "2023-06-25T13:26:30.788Z"
   },
   {
    "duration": 76,
    "start_time": "2023-06-25T13:26:31.314Z"
   },
   {
    "duration": 538,
    "start_time": "2023-06-25T13:26:31.393Z"
   },
   {
    "duration": 59,
    "start_time": "2023-06-25T13:26:31.933Z"
   },
   {
    "duration": 58,
    "start_time": "2023-06-25T13:26:31.994Z"
   },
   {
    "duration": 714,
    "start_time": "2023-06-25T13:29:49.277Z"
   },
   {
    "duration": 1169,
    "start_time": "2023-06-25T13:29:49.993Z"
   },
   {
    "duration": 15,
    "start_time": "2023-06-25T13:29:51.165Z"
   },
   {
    "duration": 556,
    "start_time": "2023-06-25T13:29:51.184Z"
   },
   {
    "duration": 591,
    "start_time": "2023-06-25T13:29:51.742Z"
   },
   {
    "duration": 31,
    "start_time": "2023-06-25T13:29:52.335Z"
   },
   {
    "duration": 44,
    "start_time": "2023-06-25T13:29:52.368Z"
   },
   {
    "duration": 43,
    "start_time": "2023-06-25T13:29:52.413Z"
   },
   {
    "duration": 38,
    "start_time": "2023-06-25T13:29:52.458Z"
   },
   {
    "duration": 55,
    "start_time": "2023-06-25T13:29:52.499Z"
   },
   {
    "duration": 25,
    "start_time": "2023-06-25T13:29:52.556Z"
   },
   {
    "duration": 53,
    "start_time": "2023-06-25T13:29:52.583Z"
   },
   {
    "duration": 21,
    "start_time": "2023-06-25T13:29:52.638Z"
   },
   {
    "duration": 56,
    "start_time": "2023-06-25T13:29:52.661Z"
   },
   {
    "duration": 30,
    "start_time": "2023-06-25T13:29:52.720Z"
   },
   {
    "duration": 170,
    "start_time": "2023-06-25T13:29:52.752Z"
   },
   {
    "duration": 532,
    "start_time": "2023-06-25T13:29:52.924Z"
   },
   {
    "duration": 69,
    "start_time": "2023-06-25T13:29:53.458Z"
   },
   {
    "duration": 6,
    "start_time": "2023-06-25T13:29:53.528Z"
   },
   {
    "duration": 33,
    "start_time": "2023-06-25T13:29:53.535Z"
   },
   {
    "duration": 2270,
    "start_time": "2023-06-25T13:29:53.570Z"
   },
   {
    "duration": 81,
    "start_time": "2023-06-25T13:29:55.842Z"
   },
   {
    "duration": 368,
    "start_time": "2023-06-25T13:29:55.925Z"
   },
   {
    "duration": 62,
    "start_time": "2023-06-25T13:29:56.304Z"
   },
   {
    "duration": 419,
    "start_time": "2023-06-25T13:29:56.367Z"
   },
   {
    "duration": 56,
    "start_time": "2023-06-25T13:29:56.788Z"
   },
   {
    "duration": 28,
    "start_time": "2023-06-25T13:29:56.846Z"
   },
   {
    "duration": 141,
    "start_time": "2023-06-25T13:31:54.862Z"
   },
   {
    "duration": 42,
    "start_time": "2023-06-26T07:12:06.862Z"
   },
   {
    "duration": 1560,
    "start_time": "2023-06-26T07:12:12.900Z"
   },
   {
    "duration": 1297,
    "start_time": "2023-06-26T07:12:14.462Z"
   },
   {
    "duration": 11,
    "start_time": "2023-06-26T07:12:15.761Z"
   },
   {
    "duration": 514,
    "start_time": "2023-06-26T07:12:15.774Z"
   },
   {
    "duration": 548,
    "start_time": "2023-06-26T07:12:16.290Z"
   },
   {
    "duration": 32,
    "start_time": "2023-06-26T07:12:16.840Z"
   },
   {
    "duration": 98,
    "start_time": "2023-06-26T07:12:16.874Z"
   },
   {
    "duration": 103,
    "start_time": "2023-06-26T07:12:16.974Z"
   },
   {
    "duration": 41,
    "start_time": "2023-06-26T07:12:17.078Z"
   },
   {
    "duration": 40,
    "start_time": "2023-06-26T07:12:17.121Z"
   },
   {
    "duration": 41,
    "start_time": "2023-06-26T07:12:17.162Z"
   },
   {
    "duration": 42,
    "start_time": "2023-06-26T07:12:17.205Z"
   },
   {
    "duration": 43,
    "start_time": "2023-06-26T07:12:17.249Z"
   },
   {
    "duration": 49,
    "start_time": "2023-06-26T07:12:17.294Z"
   },
   {
    "duration": 40,
    "start_time": "2023-06-26T07:12:17.344Z"
   },
   {
    "duration": 153,
    "start_time": "2023-06-26T07:12:17.385Z"
   },
   {
    "duration": 484,
    "start_time": "2023-06-26T07:12:17.539Z"
   },
   {
    "duration": 54,
    "start_time": "2023-06-26T07:12:18.025Z"
   },
   {
    "duration": 5,
    "start_time": "2023-06-26T07:12:18.080Z"
   },
   {
    "duration": 56,
    "start_time": "2023-06-26T07:12:18.086Z"
   },
   {
    "duration": 1873,
    "start_time": "2023-06-26T07:12:18.144Z"
   },
   {
    "duration": 66,
    "start_time": "2023-06-26T07:12:20.018Z"
   },
   {
    "duration": 321,
    "start_time": "2023-06-26T07:12:20.086Z"
   },
   {
    "duration": 67,
    "start_time": "2023-06-26T07:12:20.408Z"
   },
   {
    "duration": 372,
    "start_time": "2023-06-26T07:12:20.477Z"
   },
   {
    "duration": 36,
    "start_time": "2023-06-26T07:12:20.851Z"
   },
   {
    "duration": 104,
    "start_time": "2023-06-26T07:12:20.889Z"
   },
   {
    "duration": 13,
    "start_time": "2023-06-26T07:12:20.995Z"
   },
   {
    "duration": 71,
    "start_time": "2023-06-26T07:35:11.720Z"
   },
   {
    "duration": 77,
    "start_time": "2023-06-26T07:36:04.472Z"
   },
   {
    "duration": 66,
    "start_time": "2023-06-26T07:36:32.122Z"
   },
   {
    "duration": 67,
    "start_time": "2023-06-26T08:44:18.514Z"
   },
   {
    "duration": 130,
    "start_time": "2023-06-26T09:08:04.721Z"
   },
   {
    "duration": 1873,
    "start_time": "2023-06-26T09:08:14.401Z"
   },
   {
    "duration": 964,
    "start_time": "2023-06-26T09:08:16.276Z"
   },
   {
    "duration": 14,
    "start_time": "2023-06-26T09:08:17.243Z"
   },
   {
    "duration": 501,
    "start_time": "2023-06-26T09:08:17.258Z"
   },
   {
    "duration": 520,
    "start_time": "2023-06-26T09:08:17.762Z"
   },
   {
    "duration": 32,
    "start_time": "2023-06-26T09:08:18.283Z"
   },
   {
    "duration": 38,
    "start_time": "2023-06-26T09:08:18.316Z"
   },
   {
    "duration": 33,
    "start_time": "2023-06-26T09:08:18.356Z"
   },
   {
    "duration": 19,
    "start_time": "2023-06-26T09:08:18.390Z"
   },
   {
    "duration": 57,
    "start_time": "2023-06-26T09:08:18.411Z"
   },
   {
    "duration": 23,
    "start_time": "2023-06-26T09:08:18.470Z"
   },
   {
    "duration": 49,
    "start_time": "2023-06-26T09:08:18.495Z"
   },
   {
    "duration": 21,
    "start_time": "2023-06-26T09:08:18.546Z"
   },
   {
    "duration": 32,
    "start_time": "2023-06-26T09:08:18.570Z"
   },
   {
    "duration": 45,
    "start_time": "2023-06-26T09:08:18.604Z"
   },
   {
    "duration": 131,
    "start_time": "2023-06-26T09:08:18.650Z"
   },
   {
    "duration": 456,
    "start_time": "2023-06-26T09:08:18.783Z"
   },
   {
    "duration": 50,
    "start_time": "2023-06-26T09:08:19.241Z"
   },
   {
    "duration": 5,
    "start_time": "2023-06-26T09:08:19.293Z"
   },
   {
    "duration": 47,
    "start_time": "2023-06-26T09:08:19.299Z"
   },
   {
    "duration": 2069,
    "start_time": "2023-06-26T09:08:19.348Z"
   },
   {
    "duration": 72,
    "start_time": "2023-06-26T09:08:21.418Z"
   },
   {
    "duration": 402,
    "start_time": "2023-06-26T09:08:21.492Z"
   },
   {
    "duration": 69,
    "start_time": "2023-06-26T09:08:21.896Z"
   },
   {
    "duration": 388,
    "start_time": "2023-06-26T09:08:21.966Z"
   },
   {
    "duration": 38,
    "start_time": "2023-06-26T09:08:22.355Z"
   },
   {
    "duration": 112,
    "start_time": "2023-06-26T09:08:22.394Z"
   },
   {
    "duration": 13,
    "start_time": "2023-06-26T09:08:22.508Z"
   },
   {
    "duration": 62,
    "start_time": "2023-06-26T09:08:22.539Z"
   },
   {
    "duration": 449,
    "start_time": "2023-06-26T09:08:22.603Z"
   },
   {
    "duration": 3,
    "start_time": "2023-06-26T09:11:15.123Z"
   },
   {
    "duration": 1806,
    "start_time": "2023-06-26T09:11:31.219Z"
   },
   {
    "duration": 1056,
    "start_time": "2023-06-26T09:11:33.027Z"
   },
   {
    "duration": 11,
    "start_time": "2023-06-26T09:11:34.085Z"
   },
   {
    "duration": 501,
    "start_time": "2023-06-26T09:11:34.097Z"
   },
   {
    "duration": 541,
    "start_time": "2023-06-26T09:11:34.600Z"
   },
   {
    "duration": 43,
    "start_time": "2023-06-26T09:11:35.143Z"
   },
   {
    "duration": 22,
    "start_time": "2023-06-26T09:11:35.187Z"
   },
   {
    "duration": 52,
    "start_time": "2023-06-26T09:11:35.231Z"
   },
   {
    "duration": 29,
    "start_time": "2023-06-26T09:11:35.285Z"
   },
   {
    "duration": 50,
    "start_time": "2023-06-26T09:11:35.316Z"
   },
   {
    "duration": 24,
    "start_time": "2023-06-26T09:11:35.367Z"
   },
   {
    "duration": 37,
    "start_time": "2023-06-26T09:11:35.393Z"
   },
   {
    "duration": 38,
    "start_time": "2023-06-26T09:11:35.432Z"
   },
   {
    "duration": 32,
    "start_time": "2023-06-26T09:11:35.472Z"
   },
   {
    "duration": 27,
    "start_time": "2023-06-26T09:11:35.505Z"
   },
   {
    "duration": 143,
    "start_time": "2023-06-26T09:11:35.534Z"
   },
   {
    "duration": 477,
    "start_time": "2023-06-26T09:11:35.679Z"
   },
   {
    "duration": 50,
    "start_time": "2023-06-26T09:11:36.157Z"
   },
   {
    "duration": 5,
    "start_time": "2023-06-26T09:11:36.209Z"
   },
   {
    "duration": 49,
    "start_time": "2023-06-26T09:11:36.215Z"
   },
   {
    "duration": 1942,
    "start_time": "2023-06-26T09:11:36.265Z"
   },
   {
    "duration": 69,
    "start_time": "2023-06-26T09:11:38.208Z"
   },
   {
    "duration": 355,
    "start_time": "2023-06-26T09:11:38.278Z"
   },
   {
    "duration": 58,
    "start_time": "2023-06-26T09:11:38.635Z"
   },
   {
    "duration": 416,
    "start_time": "2023-06-26T09:11:38.695Z"
   },
   {
    "duration": 51,
    "start_time": "2023-06-26T09:11:39.112Z"
   },
   {
    "duration": 105,
    "start_time": "2023-06-26T09:11:39.164Z"
   },
   {
    "duration": 12,
    "start_time": "2023-06-26T09:11:39.272Z"
   },
   {
    "duration": 79,
    "start_time": "2023-06-26T09:11:39.286Z"
   },
   {
    "duration": 573,
    "start_time": "2023-06-26T09:11:39.366Z"
   },
   {
    "duration": 3,
    "start_time": "2023-06-26T09:11:39.941Z"
   },
   {
    "duration": 3,
    "start_time": "2023-06-26T09:14:23.419Z"
   },
   {
    "duration": 515,
    "start_time": "2023-06-26T09:15:42.650Z"
   },
   {
    "duration": 1662,
    "start_time": "2023-06-26T09:15:54.649Z"
   },
   {
    "duration": 972,
    "start_time": "2023-06-26T09:15:56.313Z"
   },
   {
    "duration": 11,
    "start_time": "2023-06-26T09:15:57.287Z"
   },
   {
    "duration": 534,
    "start_time": "2023-06-26T09:15:57.300Z"
   },
   {
    "duration": 543,
    "start_time": "2023-06-26T09:15:57.837Z"
   },
   {
    "duration": 32,
    "start_time": "2023-06-26T09:15:58.382Z"
   },
   {
    "duration": 50,
    "start_time": "2023-06-26T09:15:58.416Z"
   },
   {
    "duration": 43,
    "start_time": "2023-06-26T09:15:58.467Z"
   },
   {
    "duration": 23,
    "start_time": "2023-06-26T09:15:58.512Z"
   },
   {
    "duration": 46,
    "start_time": "2023-06-26T09:15:58.537Z"
   },
   {
    "duration": 42,
    "start_time": "2023-06-26T09:15:58.584Z"
   },
   {
    "duration": 43,
    "start_time": "2023-06-26T09:15:58.628Z"
   },
   {
    "duration": 35,
    "start_time": "2023-06-26T09:15:58.672Z"
   },
   {
    "duration": 34,
    "start_time": "2023-06-26T09:15:58.709Z"
   },
   {
    "duration": 46,
    "start_time": "2023-06-26T09:15:58.746Z"
   },
   {
    "duration": 135,
    "start_time": "2023-06-26T09:15:58.793Z"
   },
   {
    "duration": 453,
    "start_time": "2023-06-26T09:15:58.930Z"
   },
   {
    "duration": 67,
    "start_time": "2023-06-26T09:15:59.384Z"
   },
   {
    "duration": 5,
    "start_time": "2023-06-26T09:15:59.452Z"
   },
   {
    "duration": 29,
    "start_time": "2023-06-26T09:15:59.459Z"
   },
   {
    "duration": 1939,
    "start_time": "2023-06-26T09:15:59.490Z"
   },
   {
    "duration": 67,
    "start_time": "2023-06-26T09:16:01.431Z"
   },
   {
    "duration": 363,
    "start_time": "2023-06-26T09:16:01.499Z"
   },
   {
    "duration": 56,
    "start_time": "2023-06-26T09:16:01.863Z"
   },
   {
    "duration": 411,
    "start_time": "2023-06-26T09:16:01.932Z"
   },
   {
    "duration": 40,
    "start_time": "2023-06-26T09:16:02.344Z"
   },
   {
    "duration": 128,
    "start_time": "2023-06-26T09:16:02.386Z"
   },
   {
    "duration": 246,
    "start_time": "2023-06-26T09:16:02.517Z"
   },
   {
    "duration": 364,
    "start_time": "2023-06-26T09:16:02.765Z"
   },
   {
    "duration": 548,
    "start_time": "2023-06-26T09:16:03.131Z"
   },
   {
    "duration": 4,
    "start_time": "2023-06-26T09:16:03.681Z"
   },
   {
    "duration": 0,
    "start_time": "2023-06-26T09:16:03.686Z"
   },
   {
    "duration": 100,
    "start_time": "2023-06-26T09:17:06.256Z"
   },
   {
    "duration": 1522,
    "start_time": "2023-06-26T09:17:16.042Z"
   },
   {
    "duration": 930,
    "start_time": "2023-06-26T09:17:17.566Z"
   },
   {
    "duration": 12,
    "start_time": "2023-06-26T09:17:18.498Z"
   },
   {
    "duration": 461,
    "start_time": "2023-06-26T09:17:18.511Z"
   },
   {
    "duration": 516,
    "start_time": "2023-06-26T09:17:18.975Z"
   },
   {
    "duration": 51,
    "start_time": "2023-06-26T09:17:19.493Z"
   },
   {
    "duration": 54,
    "start_time": "2023-06-26T09:17:19.546Z"
   },
   {
    "duration": 31,
    "start_time": "2023-06-26T09:17:19.602Z"
   },
   {
    "duration": 51,
    "start_time": "2023-06-26T09:17:19.635Z"
   },
   {
    "duration": 46,
    "start_time": "2023-06-26T09:17:19.688Z"
   },
   {
    "duration": 26,
    "start_time": "2023-06-26T09:17:19.736Z"
   },
   {
    "duration": 38,
    "start_time": "2023-06-26T09:17:19.764Z"
   },
   {
    "duration": 41,
    "start_time": "2023-06-26T09:17:19.804Z"
   },
   {
    "duration": 32,
    "start_time": "2023-06-26T09:17:19.848Z"
   },
   {
    "duration": 32,
    "start_time": "2023-06-26T09:17:19.882Z"
   },
   {
    "duration": 137,
    "start_time": "2023-06-26T09:17:19.916Z"
   },
   {
    "duration": 454,
    "start_time": "2023-06-26T09:17:20.055Z"
   },
   {
    "duration": 61,
    "start_time": "2023-06-26T09:17:20.510Z"
   },
   {
    "duration": 5,
    "start_time": "2023-06-26T09:17:20.573Z"
   },
   {
    "duration": 52,
    "start_time": "2023-06-26T09:17:20.580Z"
   },
   {
    "duration": 2030,
    "start_time": "2023-06-26T09:17:20.634Z"
   },
   {
    "duration": 69,
    "start_time": "2023-06-26T09:17:22.666Z"
   },
   {
    "duration": 325,
    "start_time": "2023-06-26T09:17:22.737Z"
   },
   {
    "duration": 56,
    "start_time": "2023-06-26T09:17:23.063Z"
   },
   {
    "duration": 382,
    "start_time": "2023-06-26T09:17:23.132Z"
   },
   {
    "duration": 43,
    "start_time": "2023-06-26T09:17:23.515Z"
   },
   {
    "duration": 96,
    "start_time": "2023-06-26T09:17:23.559Z"
   },
   {
    "duration": 14,
    "start_time": "2023-06-26T09:17:23.657Z"
   },
   {
    "duration": 79,
    "start_time": "2023-06-26T09:17:23.673Z"
   },
   {
    "duration": 538,
    "start_time": "2023-06-26T09:17:23.754Z"
   },
   {
    "duration": 4,
    "start_time": "2023-06-26T09:17:24.293Z"
   },
   {
    "duration": 0,
    "start_time": "2023-06-26T09:17:24.298Z"
   },
   {
    "duration": 0,
    "start_time": "2023-06-26T09:17:24.300Z"
   },
   {
    "duration": 108,
    "start_time": "2023-06-26T09:17:36.708Z"
   },
   {
    "duration": 10,
    "start_time": "2023-06-26T09:17:58.165Z"
   },
   {
    "duration": 1500,
    "start_time": "2023-06-26T09:18:10.264Z"
   },
   {
    "duration": 909,
    "start_time": "2023-06-26T09:18:11.766Z"
   },
   {
    "duration": 12,
    "start_time": "2023-06-26T09:18:12.677Z"
   },
   {
    "duration": 457,
    "start_time": "2023-06-26T09:18:12.691Z"
   },
   {
    "duration": 520,
    "start_time": "2023-06-26T09:18:13.150Z"
   },
   {
    "duration": 37,
    "start_time": "2023-06-26T09:18:13.672Z"
   },
   {
    "duration": 44,
    "start_time": "2023-06-26T09:18:13.711Z"
   },
   {
    "duration": 33,
    "start_time": "2023-06-26T09:18:13.757Z"
   },
   {
    "duration": 40,
    "start_time": "2023-06-26T09:18:13.792Z"
   },
   {
    "duration": 33,
    "start_time": "2023-06-26T09:18:13.835Z"
   },
   {
    "duration": 35,
    "start_time": "2023-06-26T09:18:13.870Z"
   },
   {
    "duration": 35,
    "start_time": "2023-06-26T09:18:13.907Z"
   },
   {
    "duration": 26,
    "start_time": "2023-06-26T09:18:13.944Z"
   },
   {
    "duration": 36,
    "start_time": "2023-06-26T09:18:13.972Z"
   },
   {
    "duration": 54,
    "start_time": "2023-06-26T09:18:14.010Z"
   },
   {
    "duration": 121,
    "start_time": "2023-06-26T09:18:14.066Z"
   },
   {
    "duration": 445,
    "start_time": "2023-06-26T09:18:14.189Z"
   },
   {
    "duration": 61,
    "start_time": "2023-06-26T09:18:14.636Z"
   },
   {
    "duration": 7,
    "start_time": "2023-06-26T09:18:14.698Z"
   },
   {
    "duration": 65,
    "start_time": "2023-06-26T09:18:14.706Z"
   },
   {
    "duration": 1829,
    "start_time": "2023-06-26T09:18:14.773Z"
   },
   {
    "duration": 69,
    "start_time": "2023-06-26T09:18:16.603Z"
   },
   {
    "duration": 333,
    "start_time": "2023-06-26T09:18:16.674Z"
   },
   {
    "duration": 64,
    "start_time": "2023-06-26T09:18:17.008Z"
   },
   {
    "duration": 374,
    "start_time": "2023-06-26T09:18:17.073Z"
   },
   {
    "duration": 37,
    "start_time": "2023-06-26T09:18:17.448Z"
   },
   {
    "duration": 110,
    "start_time": "2023-06-26T09:18:17.487Z"
   },
   {
    "duration": 13,
    "start_time": "2023-06-26T09:18:17.600Z"
   },
   {
    "duration": 75,
    "start_time": "2023-06-26T09:18:17.614Z"
   },
   {
    "duration": 569,
    "start_time": "2023-06-26T09:18:17.691Z"
   },
   {
    "duration": 3,
    "start_time": "2023-06-26T09:18:18.262Z"
   },
   {
    "duration": 0,
    "start_time": "2023-06-26T09:18:18.267Z"
   },
   {
    "duration": 0,
    "start_time": "2023-06-26T09:18:18.268Z"
   },
   {
    "duration": 1543,
    "start_time": "2023-06-26T09:20:19.415Z"
   },
   {
    "duration": 1049,
    "start_time": "2023-06-26T09:20:20.960Z"
   },
   {
    "duration": 12,
    "start_time": "2023-06-26T09:20:22.010Z"
   },
   {
    "duration": 476,
    "start_time": "2023-06-26T09:20:22.023Z"
   },
   {
    "duration": 511,
    "start_time": "2023-06-26T09:20:22.501Z"
   },
   {
    "duration": 39,
    "start_time": "2023-06-26T09:20:23.014Z"
   },
   {
    "duration": 29,
    "start_time": "2023-06-26T09:20:23.055Z"
   },
   {
    "duration": 47,
    "start_time": "2023-06-26T09:20:23.085Z"
   },
   {
    "duration": 23,
    "start_time": "2023-06-26T09:20:23.134Z"
   },
   {
    "duration": 32,
    "start_time": "2023-06-26T09:20:23.158Z"
   },
   {
    "duration": 41,
    "start_time": "2023-06-26T09:20:23.191Z"
   },
   {
    "duration": 31,
    "start_time": "2023-06-26T09:20:23.234Z"
   },
   {
    "duration": 30,
    "start_time": "2023-06-26T09:20:23.266Z"
   },
   {
    "duration": 49,
    "start_time": "2023-06-26T09:20:23.299Z"
   },
   {
    "duration": 36,
    "start_time": "2023-06-26T09:20:23.350Z"
   },
   {
    "duration": 134,
    "start_time": "2023-06-26T09:20:23.388Z"
   },
   {
    "duration": 445,
    "start_time": "2023-06-26T09:20:23.523Z"
   },
   {
    "duration": 49,
    "start_time": "2023-06-26T09:20:23.970Z"
   },
   {
    "duration": 4,
    "start_time": "2023-06-26T09:20:24.032Z"
   },
   {
    "duration": 28,
    "start_time": "2023-06-26T09:20:24.038Z"
   },
   {
    "duration": 1844,
    "start_time": "2023-06-26T09:20:24.067Z"
   },
   {
    "duration": 74,
    "start_time": "2023-06-26T09:20:25.912Z"
   },
   {
    "duration": 344,
    "start_time": "2023-06-26T09:20:25.987Z"
   },
   {
    "duration": 57,
    "start_time": "2023-06-26T09:20:26.333Z"
   },
   {
    "duration": 407,
    "start_time": "2023-06-26T09:20:26.391Z"
   },
   {
    "duration": 49,
    "start_time": "2023-06-26T09:20:26.799Z"
   },
   {
    "duration": 109,
    "start_time": "2023-06-26T09:20:26.849Z"
   },
   {
    "duration": 13,
    "start_time": "2023-06-26T09:20:26.959Z"
   },
   {
    "duration": 72,
    "start_time": "2023-06-26T09:20:26.974Z"
   },
   {
    "duration": 551,
    "start_time": "2023-06-26T09:20:27.048Z"
   },
   {
    "duration": 3,
    "start_time": "2023-06-26T09:20:27.601Z"
   },
   {
    "duration": 1,
    "start_time": "2023-06-26T09:20:27.605Z"
   },
   {
    "duration": 0,
    "start_time": "2023-06-26T09:20:27.607Z"
   },
   {
    "duration": 1906,
    "start_time": "2023-06-26T09:21:37.625Z"
   },
   {
    "duration": 913,
    "start_time": "2023-06-26T09:21:39.533Z"
   },
   {
    "duration": 12,
    "start_time": "2023-06-26T09:21:40.448Z"
   },
   {
    "duration": 490,
    "start_time": "2023-06-26T09:21:40.461Z"
   },
   {
    "duration": 547,
    "start_time": "2023-06-26T09:21:40.953Z"
   },
   {
    "duration": 45,
    "start_time": "2023-06-26T09:21:41.502Z"
   },
   {
    "duration": 47,
    "start_time": "2023-06-26T09:21:41.549Z"
   },
   {
    "duration": 47,
    "start_time": "2023-06-26T09:21:41.598Z"
   },
   {
    "duration": 48,
    "start_time": "2023-06-26T09:21:41.646Z"
   },
   {
    "duration": 45,
    "start_time": "2023-06-26T09:21:41.696Z"
   },
   {
    "duration": 81,
    "start_time": "2023-06-26T09:21:41.743Z"
   },
   {
    "duration": 44,
    "start_time": "2023-06-26T09:21:41.826Z"
   },
   {
    "duration": 35,
    "start_time": "2023-06-26T09:21:41.872Z"
   },
   {
    "duration": 92,
    "start_time": "2023-06-26T09:21:41.911Z"
   },
   {
    "duration": 24,
    "start_time": "2023-06-26T09:21:42.005Z"
   },
   {
    "duration": 157,
    "start_time": "2023-06-26T09:21:42.030Z"
   },
   {
    "duration": 498,
    "start_time": "2023-06-26T09:21:42.189Z"
   },
   {
    "duration": 61,
    "start_time": "2023-06-26T09:21:42.688Z"
   },
   {
    "duration": 5,
    "start_time": "2023-06-26T09:21:42.751Z"
   },
   {
    "duration": 35,
    "start_time": "2023-06-26T09:21:42.758Z"
   },
   {
    "duration": 2114,
    "start_time": "2023-06-26T09:21:42.795Z"
   },
   {
    "duration": 76,
    "start_time": "2023-06-26T09:21:44.911Z"
   },
   {
    "duration": 350,
    "start_time": "2023-06-26T09:21:44.989Z"
   },
   {
    "duration": 55,
    "start_time": "2023-06-26T09:21:45.341Z"
   },
   {
    "duration": 392,
    "start_time": "2023-06-26T09:21:45.397Z"
   },
   {
    "duration": 46,
    "start_time": "2023-06-26T09:21:45.791Z"
   },
   {
    "duration": 96,
    "start_time": "2023-06-26T09:21:45.838Z"
   },
   {
    "duration": 12,
    "start_time": "2023-06-26T09:21:45.936Z"
   },
   {
    "duration": 76,
    "start_time": "2023-06-26T09:21:45.950Z"
   },
   {
    "duration": 527,
    "start_time": "2023-06-26T09:21:46.027Z"
   },
   {
    "duration": 3,
    "start_time": "2023-06-26T09:21:46.556Z"
   },
   {
    "duration": 0,
    "start_time": "2023-06-26T09:21:46.561Z"
   },
   {
    "duration": 0,
    "start_time": "2023-06-26T09:21:46.562Z"
   },
   {
    "duration": 1772,
    "start_time": "2023-06-26T09:30:58.298Z"
   },
   {
    "duration": 959,
    "start_time": "2023-06-26T09:31:00.073Z"
   },
   {
    "duration": 12,
    "start_time": "2023-06-26T09:31:01.033Z"
   },
   {
    "duration": 513,
    "start_time": "2023-06-26T09:31:01.046Z"
   },
   {
    "duration": 530,
    "start_time": "2023-06-26T09:31:01.561Z"
   },
   {
    "duration": 32,
    "start_time": "2023-06-26T09:31:02.093Z"
   },
   {
    "duration": 91,
    "start_time": "2023-06-26T09:31:02.132Z"
   },
   {
    "duration": 92,
    "start_time": "2023-06-26T09:31:02.225Z"
   },
   {
    "duration": 65,
    "start_time": "2023-06-26T09:31:02.319Z"
   },
   {
    "duration": 43,
    "start_time": "2023-06-26T09:31:02.386Z"
   },
   {
    "duration": 33,
    "start_time": "2023-06-26T09:31:02.431Z"
   },
   {
    "duration": 71,
    "start_time": "2023-06-26T09:31:02.466Z"
   },
   {
    "duration": 33,
    "start_time": "2023-06-26T09:31:02.539Z"
   },
   {
    "duration": 45,
    "start_time": "2023-06-26T09:31:02.575Z"
   },
   {
    "duration": 51,
    "start_time": "2023-06-26T09:31:02.622Z"
   },
   {
    "duration": 129,
    "start_time": "2023-06-26T09:31:02.675Z"
   },
   {
    "duration": 430,
    "start_time": "2023-06-26T09:31:02.806Z"
   },
   {
    "duration": 48,
    "start_time": "2023-06-26T09:31:03.238Z"
   },
   {
    "duration": 6,
    "start_time": "2023-06-26T09:31:03.288Z"
   },
   {
    "duration": 49,
    "start_time": "2023-06-26T09:31:03.295Z"
   },
   {
    "duration": 1921,
    "start_time": "2023-06-26T09:31:03.346Z"
   },
   {
    "duration": 68,
    "start_time": "2023-06-26T09:31:05.269Z"
   },
   {
    "duration": 319,
    "start_time": "2023-06-26T09:31:05.339Z"
   },
   {
    "duration": 55,
    "start_time": "2023-06-26T09:31:05.659Z"
   },
   {
    "duration": 372,
    "start_time": "2023-06-26T09:31:05.715Z"
   },
   {
    "duration": 45,
    "start_time": "2023-06-26T09:31:06.089Z"
   },
   {
    "duration": 101,
    "start_time": "2023-06-26T09:31:06.136Z"
   },
   {
    "duration": 12,
    "start_time": "2023-06-26T09:31:06.239Z"
   },
   {
    "duration": 83,
    "start_time": "2023-06-26T09:31:06.252Z"
   },
   {
    "duration": 515,
    "start_time": "2023-06-26T09:31:06.337Z"
   },
   {
    "duration": 4,
    "start_time": "2023-06-26T09:31:06.853Z"
   },
   {
    "duration": 0,
    "start_time": "2023-06-26T09:31:06.858Z"
   },
   {
    "duration": 0,
    "start_time": "2023-06-26T09:31:06.860Z"
   },
   {
    "duration": 1442,
    "start_time": "2023-06-26T09:32:21.447Z"
   },
   {
    "duration": 929,
    "start_time": "2023-06-26T09:32:22.891Z"
   },
   {
    "duration": 21,
    "start_time": "2023-06-26T09:32:23.822Z"
   },
   {
    "duration": 468,
    "start_time": "2023-06-26T09:32:23.845Z"
   },
   {
    "duration": 590,
    "start_time": "2023-06-26T09:32:24.314Z"
   },
   {
    "duration": 37,
    "start_time": "2023-06-26T09:32:24.905Z"
   },
   {
    "duration": 33,
    "start_time": "2023-06-26T09:32:24.943Z"
   },
   {
    "duration": 32,
    "start_time": "2023-06-26T09:32:24.977Z"
   },
   {
    "duration": 52,
    "start_time": "2023-06-26T09:32:25.010Z"
   },
   {
    "duration": 51,
    "start_time": "2023-06-26T09:32:25.065Z"
   },
   {
    "duration": 40,
    "start_time": "2023-06-26T09:32:25.118Z"
   },
   {
    "duration": 47,
    "start_time": "2023-06-26T09:32:25.160Z"
   },
   {
    "duration": 60,
    "start_time": "2023-06-26T09:32:25.209Z"
   },
   {
    "duration": 60,
    "start_time": "2023-06-26T09:32:25.270Z"
   },
   {
    "duration": 29,
    "start_time": "2023-06-26T09:32:25.332Z"
   },
   {
    "duration": 127,
    "start_time": "2023-06-26T09:32:25.362Z"
   },
   {
    "duration": 440,
    "start_time": "2023-06-26T09:32:25.491Z"
   },
   {
    "duration": 51,
    "start_time": "2023-06-26T09:32:25.933Z"
   },
   {
    "duration": 5,
    "start_time": "2023-06-26T09:32:25.985Z"
   },
   {
    "duration": 51,
    "start_time": "2023-06-26T09:32:25.991Z"
   },
   {
    "duration": 1834,
    "start_time": "2023-06-26T09:32:26.043Z"
   },
   {
    "duration": 69,
    "start_time": "2023-06-26T09:32:27.879Z"
   },
   {
    "duration": 317,
    "start_time": "2023-06-26T09:32:27.950Z"
   },
   {
    "duration": 67,
    "start_time": "2023-06-26T09:32:28.269Z"
   },
   {
    "duration": 368,
    "start_time": "2023-06-26T09:32:28.338Z"
   },
   {
    "duration": 47,
    "start_time": "2023-06-26T09:32:28.707Z"
   },
   {
    "duration": 156,
    "start_time": "2023-06-26T09:32:28.755Z"
   },
   {
    "duration": 18,
    "start_time": "2023-06-26T09:32:28.914Z"
   },
   {
    "duration": 98,
    "start_time": "2023-06-26T09:32:28.934Z"
   },
   {
    "duration": 518,
    "start_time": "2023-06-26T09:32:29.034Z"
   },
   {
    "duration": 4,
    "start_time": "2023-06-26T09:32:29.553Z"
   },
   {
    "duration": 0,
    "start_time": "2023-06-26T09:32:29.558Z"
   },
   {
    "duration": 0,
    "start_time": "2023-06-26T09:32:29.559Z"
   },
   {
    "duration": 641,
    "start_time": "2023-06-26T09:32:58.971Z"
   },
   {
    "duration": 2036,
    "start_time": "2023-06-26T09:33:15.310Z"
   },
   {
    "duration": 969,
    "start_time": "2023-06-26T09:33:17.348Z"
   },
   {
    "duration": 17,
    "start_time": "2023-06-26T09:33:18.319Z"
   },
   {
    "duration": 472,
    "start_time": "2023-06-26T09:33:18.338Z"
   },
   {
    "duration": 506,
    "start_time": "2023-06-26T09:33:18.812Z"
   },
   {
    "duration": 41,
    "start_time": "2023-06-26T09:33:19.319Z"
   },
   {
    "duration": 29,
    "start_time": "2023-06-26T09:33:19.362Z"
   },
   {
    "duration": 40,
    "start_time": "2023-06-26T09:33:19.393Z"
   },
   {
    "duration": 26,
    "start_time": "2023-06-26T09:33:19.435Z"
   },
   {
    "duration": 33,
    "start_time": "2023-06-26T09:33:19.463Z"
   },
   {
    "duration": 41,
    "start_time": "2023-06-26T09:33:19.498Z"
   },
   {
    "duration": 45,
    "start_time": "2023-06-26T09:33:19.541Z"
   },
   {
    "duration": 27,
    "start_time": "2023-06-26T09:33:19.588Z"
   },
   {
    "duration": 32,
    "start_time": "2023-06-26T09:33:19.633Z"
   },
   {
    "duration": 33,
    "start_time": "2023-06-26T09:33:19.667Z"
   },
   {
    "duration": 134,
    "start_time": "2023-06-26T09:33:19.702Z"
   },
   {
    "duration": 442,
    "start_time": "2023-06-26T09:33:19.838Z"
   },
   {
    "duration": 60,
    "start_time": "2023-06-26T09:33:20.282Z"
   },
   {
    "duration": 7,
    "start_time": "2023-06-26T09:33:20.344Z"
   },
   {
    "duration": 75,
    "start_time": "2023-06-26T09:33:20.353Z"
   },
   {
    "duration": 1930,
    "start_time": "2023-06-26T09:33:20.430Z"
   },
   {
    "duration": 71,
    "start_time": "2023-06-26T09:33:22.361Z"
   },
   {
    "duration": 324,
    "start_time": "2023-06-26T09:33:22.434Z"
   },
   {
    "duration": 56,
    "start_time": "2023-06-26T09:33:22.759Z"
   },
   {
    "duration": 379,
    "start_time": "2023-06-26T09:33:22.817Z"
   },
   {
    "duration": 49,
    "start_time": "2023-06-26T09:33:23.198Z"
   },
   {
    "duration": 94,
    "start_time": "2023-06-26T09:33:23.248Z"
   },
   {
    "duration": 13,
    "start_time": "2023-06-26T09:33:23.343Z"
   },
   {
    "duration": 76,
    "start_time": "2023-06-26T09:33:23.358Z"
   },
   {
    "duration": 542,
    "start_time": "2023-06-26T09:33:23.436Z"
   },
   {
    "duration": 4,
    "start_time": "2023-06-26T09:33:23.980Z"
   },
   {
    "duration": 0,
    "start_time": "2023-06-26T09:33:23.986Z"
   },
   {
    "duration": 0,
    "start_time": "2023-06-26T09:33:23.987Z"
   },
   {
    "duration": 241,
    "start_time": "2023-06-26T09:33:56.056Z"
   },
   {
    "duration": 1531,
    "start_time": "2023-06-26T09:34:02.210Z"
   },
   {
    "duration": 924,
    "start_time": "2023-06-26T09:34:03.743Z"
   },
   {
    "duration": 16,
    "start_time": "2023-06-26T09:34:04.669Z"
   },
   {
    "duration": 509,
    "start_time": "2023-06-26T09:34:04.687Z"
   },
   {
    "duration": 532,
    "start_time": "2023-06-26T09:34:05.199Z"
   },
   {
    "duration": 30,
    "start_time": "2023-06-26T09:34:05.733Z"
   },
   {
    "duration": 28,
    "start_time": "2023-06-26T09:34:05.765Z"
   },
   {
    "duration": 42,
    "start_time": "2023-06-26T09:34:05.795Z"
   },
   {
    "duration": 29,
    "start_time": "2023-06-26T09:34:05.838Z"
   },
   {
    "duration": 44,
    "start_time": "2023-06-26T09:34:05.868Z"
   },
   {
    "duration": 42,
    "start_time": "2023-06-26T09:34:05.914Z"
   },
   {
    "duration": 32,
    "start_time": "2023-06-26T09:34:05.957Z"
   },
   {
    "duration": 33,
    "start_time": "2023-06-26T09:34:05.990Z"
   },
   {
    "duration": 35,
    "start_time": "2023-06-26T09:34:06.025Z"
   },
   {
    "duration": 26,
    "start_time": "2023-06-26T09:34:06.061Z"
   },
   {
    "duration": 127,
    "start_time": "2023-06-26T09:34:06.089Z"
   },
   {
    "duration": 425,
    "start_time": "2023-06-26T09:34:06.218Z"
   },
   {
    "duration": 50,
    "start_time": "2023-06-26T09:34:06.644Z"
   },
   {
    "duration": 158,
    "start_time": "2023-06-26T09:34:06.696Z"
   },
   {
    "duration": 33,
    "start_time": "2023-06-26T09:34:06.856Z"
   },
   {
    "duration": 1842,
    "start_time": "2023-06-26T09:34:06.891Z"
   },
   {
    "duration": 65,
    "start_time": "2023-06-26T09:34:08.735Z"
   },
   {
    "duration": 344,
    "start_time": "2023-06-26T09:34:08.802Z"
   },
   {
    "duration": 59,
    "start_time": "2023-06-26T09:34:09.147Z"
   },
   {
    "duration": 389,
    "start_time": "2023-06-26T09:34:09.208Z"
   },
   {
    "duration": 54,
    "start_time": "2023-06-26T09:34:09.598Z"
   },
   {
    "duration": 91,
    "start_time": "2023-06-26T09:34:09.654Z"
   },
   {
    "duration": 12,
    "start_time": "2023-06-26T09:34:09.747Z"
   },
   {
    "duration": 74,
    "start_time": "2023-06-26T09:34:09.761Z"
   },
   {
    "duration": 525,
    "start_time": "2023-06-26T09:34:09.837Z"
   },
   {
    "duration": 4,
    "start_time": "2023-06-26T09:34:10.363Z"
   },
   {
    "duration": 0,
    "start_time": "2023-06-26T09:34:10.368Z"
   },
   {
    "duration": 0,
    "start_time": "2023-06-26T09:34:10.370Z"
   },
   {
    "duration": 542,
    "start_time": "2023-06-26T09:35:34.661Z"
   },
   {
    "duration": 1535,
    "start_time": "2023-06-26T09:37:41.126Z"
   },
   {
    "duration": 959,
    "start_time": "2023-06-26T09:37:42.663Z"
   },
   {
    "duration": 18,
    "start_time": "2023-06-26T09:37:43.624Z"
   },
   {
    "duration": 504,
    "start_time": "2023-06-26T09:37:43.644Z"
   },
   {
    "duration": 523,
    "start_time": "2023-06-26T09:37:44.151Z"
   },
   {
    "duration": 40,
    "start_time": "2023-06-26T09:37:44.676Z"
   },
   {
    "duration": 56,
    "start_time": "2023-06-26T09:37:44.718Z"
   },
   {
    "duration": 51,
    "start_time": "2023-06-26T09:37:44.776Z"
   },
   {
    "duration": 23,
    "start_time": "2023-06-26T09:37:44.829Z"
   },
   {
    "duration": 34,
    "start_time": "2023-06-26T09:37:44.853Z"
   },
   {
    "duration": 25,
    "start_time": "2023-06-26T09:37:44.888Z"
   },
   {
    "duration": 41,
    "start_time": "2023-06-26T09:37:44.915Z"
   },
   {
    "duration": 22,
    "start_time": "2023-06-26T09:37:44.957Z"
   },
   {
    "duration": 52,
    "start_time": "2023-06-26T09:37:44.982Z"
   },
   {
    "duration": 148,
    "start_time": "2023-06-26T09:37:45.036Z"
   },
   {
    "duration": 121,
    "start_time": "2023-06-26T09:37:45.186Z"
   },
   {
    "duration": 441,
    "start_time": "2023-06-26T09:37:45.309Z"
   },
   {
    "duration": 51,
    "start_time": "2023-06-26T09:37:45.751Z"
   },
   {
    "duration": 28,
    "start_time": "2023-06-26T09:37:45.804Z"
   },
   {
    "duration": 24,
    "start_time": "2023-06-26T09:37:45.834Z"
   },
   {
    "duration": 1840,
    "start_time": "2023-06-26T09:37:45.860Z"
   },
   {
    "duration": 63,
    "start_time": "2023-06-26T09:37:47.701Z"
   },
   {
    "duration": 327,
    "start_time": "2023-06-26T09:37:47.766Z"
   },
   {
    "duration": 63,
    "start_time": "2023-06-26T09:37:48.094Z"
   },
   {
    "duration": 356,
    "start_time": "2023-06-26T09:37:48.159Z"
   },
   {
    "duration": 44,
    "start_time": "2023-06-26T09:37:48.517Z"
   },
   {
    "duration": 114,
    "start_time": "2023-06-26T09:37:48.562Z"
   },
   {
    "duration": 12,
    "start_time": "2023-06-26T09:37:48.677Z"
   },
   {
    "duration": 82,
    "start_time": "2023-06-26T09:37:48.691Z"
   },
   {
    "duration": 529,
    "start_time": "2023-06-26T09:37:48.775Z"
   },
   {
    "duration": 3,
    "start_time": "2023-06-26T09:37:49.306Z"
   },
   {
    "duration": 1,
    "start_time": "2023-06-26T09:37:49.310Z"
   },
   {
    "duration": 0,
    "start_time": "2023-06-26T09:37:49.311Z"
   },
   {
    "duration": 1309,
    "start_time": "2023-06-26T09:39:38.472Z"
   },
   {
    "duration": 912,
    "start_time": "2023-06-26T09:39:39.782Z"
   },
   {
    "duration": 11,
    "start_time": "2023-06-26T09:39:40.696Z"
   },
   {
    "duration": 462,
    "start_time": "2023-06-26T09:39:40.708Z"
   },
   {
    "duration": 550,
    "start_time": "2023-06-26T09:39:41.172Z"
   },
   {
    "duration": 38,
    "start_time": "2023-06-26T09:39:41.723Z"
   },
   {
    "duration": 36,
    "start_time": "2023-06-26T09:39:41.763Z"
   },
   {
    "duration": 37,
    "start_time": "2023-06-26T09:39:41.800Z"
   },
   {
    "duration": 26,
    "start_time": "2023-06-26T09:39:41.839Z"
   },
   {
    "duration": 36,
    "start_time": "2023-06-26T09:39:41.867Z"
   },
   {
    "duration": 43,
    "start_time": "2023-06-26T09:39:41.904Z"
   },
   {
    "duration": 34,
    "start_time": "2023-06-26T09:39:41.949Z"
   },
   {
    "duration": 34,
    "start_time": "2023-06-26T09:39:41.985Z"
   },
   {
    "duration": 36,
    "start_time": "2023-06-26T09:39:42.032Z"
   },
   {
    "duration": 24,
    "start_time": "2023-06-26T09:39:42.070Z"
   },
   {
    "duration": 152,
    "start_time": "2023-06-26T09:39:42.096Z"
   },
   {
    "duration": 455,
    "start_time": "2023-06-26T09:39:42.249Z"
   },
   {
    "duration": 56,
    "start_time": "2023-06-26T09:39:42.706Z"
   },
   {
    "duration": 4,
    "start_time": "2023-06-26T09:39:42.764Z"
   },
   {
    "duration": 26,
    "start_time": "2023-06-26T09:39:42.770Z"
   },
   {
    "duration": 1786,
    "start_time": "2023-06-26T09:39:42.797Z"
   },
   {
    "duration": 69,
    "start_time": "2023-06-26T09:39:44.585Z"
   },
   {
    "duration": 392,
    "start_time": "2023-06-26T09:39:44.656Z"
   },
   {
    "duration": 60,
    "start_time": "2023-06-26T09:39:45.050Z"
   },
   {
    "duration": 399,
    "start_time": "2023-06-26T09:39:45.111Z"
   },
   {
    "duration": 42,
    "start_time": "2023-06-26T09:39:45.511Z"
   },
   {
    "duration": 94,
    "start_time": "2023-06-26T09:39:45.554Z"
   },
   {
    "duration": 12,
    "start_time": "2023-06-26T09:39:45.651Z"
   },
   {
    "duration": 72,
    "start_time": "2023-06-26T09:39:45.664Z"
   },
   {
    "duration": 502,
    "start_time": "2023-06-26T09:39:45.738Z"
   },
   {
    "duration": 101,
    "start_time": "2023-06-26T09:39:46.242Z"
   },
   {
    "duration": 0,
    "start_time": "2023-06-26T09:39:46.344Z"
   },
   {
    "duration": 0,
    "start_time": "2023-06-26T09:39:46.345Z"
   },
   {
    "duration": 1472,
    "start_time": "2023-06-26T09:41:08.613Z"
   },
   {
    "duration": 888,
    "start_time": "2023-06-26T09:41:10.087Z"
   },
   {
    "duration": 11,
    "start_time": "2023-06-26T09:41:10.976Z"
   },
   {
    "duration": 464,
    "start_time": "2023-06-26T09:41:10.988Z"
   },
   {
    "duration": 503,
    "start_time": "2023-06-26T09:41:11.455Z"
   },
   {
    "duration": 30,
    "start_time": "2023-06-26T09:41:11.960Z"
   },
   {
    "duration": 41,
    "start_time": "2023-06-26T09:41:11.991Z"
   },
   {
    "duration": 29,
    "start_time": "2023-06-26T09:41:12.034Z"
   },
   {
    "duration": 31,
    "start_time": "2023-06-26T09:41:12.065Z"
   },
   {
    "duration": 36,
    "start_time": "2023-06-26T09:41:12.097Z"
   },
   {
    "duration": 21,
    "start_time": "2023-06-26T09:41:12.135Z"
   },
   {
    "duration": 31,
    "start_time": "2023-06-26T09:41:12.157Z"
   },
   {
    "duration": 42,
    "start_time": "2023-06-26T09:41:12.190Z"
   },
   {
    "duration": 32,
    "start_time": "2023-06-26T09:41:12.235Z"
   },
   {
    "duration": 37,
    "start_time": "2023-06-26T09:41:12.268Z"
   },
   {
    "duration": 125,
    "start_time": "2023-06-26T09:41:12.306Z"
   },
   {
    "duration": 419,
    "start_time": "2023-06-26T09:41:12.433Z"
   },
   {
    "duration": 49,
    "start_time": "2023-06-26T09:41:12.853Z"
   },
   {
    "duration": 4,
    "start_time": "2023-06-26T09:41:12.904Z"
   },
   {
    "duration": 40,
    "start_time": "2023-06-26T09:41:12.910Z"
   },
   {
    "duration": 1842,
    "start_time": "2023-06-26T09:41:12.952Z"
   },
   {
    "duration": 63,
    "start_time": "2023-06-26T09:41:14.796Z"
   },
   {
    "duration": 326,
    "start_time": "2023-06-26T09:41:14.861Z"
   },
   {
    "duration": 62,
    "start_time": "2023-06-26T09:41:15.189Z"
   },
   {
    "duration": 357,
    "start_time": "2023-06-26T09:41:15.253Z"
   },
   {
    "duration": 44,
    "start_time": "2023-06-26T09:41:15.611Z"
   },
   {
    "duration": 111,
    "start_time": "2023-06-26T09:41:15.657Z"
   },
   {
    "duration": 13,
    "start_time": "2023-06-26T09:41:15.769Z"
   },
   {
    "duration": 85,
    "start_time": "2023-06-26T09:41:15.783Z"
   },
   {
    "duration": 547,
    "start_time": "2023-06-26T09:41:15.870Z"
   },
   {
    "duration": 19414,
    "start_time": "2023-06-26T09:41:16.418Z"
   },
   {
    "duration": 479,
    "start_time": "2023-06-26T09:41:35.834Z"
   },
   {
    "duration": 0,
    "start_time": "2023-06-26T09:41:36.314Z"
   },
   {
    "duration": 1469,
    "start_time": "2023-06-26T09:42:01.326Z"
   },
   {
    "duration": 919,
    "start_time": "2023-06-26T09:42:02.797Z"
   },
   {
    "duration": 18,
    "start_time": "2023-06-26T09:42:03.718Z"
   },
   {
    "duration": 594,
    "start_time": "2023-06-26T09:42:03.737Z"
   },
   {
    "duration": 545,
    "start_time": "2023-06-26T09:42:04.333Z"
   },
   {
    "duration": 31,
    "start_time": "2023-06-26T09:42:04.880Z"
   },
   {
    "duration": 37,
    "start_time": "2023-06-26T09:42:04.912Z"
   },
   {
    "duration": 63,
    "start_time": "2023-06-26T09:42:04.951Z"
   },
   {
    "duration": 27,
    "start_time": "2023-06-26T09:42:05.015Z"
   },
   {
    "duration": 50,
    "start_time": "2023-06-26T09:42:05.043Z"
   },
   {
    "duration": 42,
    "start_time": "2023-06-26T09:42:05.094Z"
   },
   {
    "duration": 30,
    "start_time": "2023-06-26T09:42:05.138Z"
   },
   {
    "duration": 46,
    "start_time": "2023-06-26T09:42:05.170Z"
   },
   {
    "duration": 38,
    "start_time": "2023-06-26T09:42:05.219Z"
   },
   {
    "duration": 52,
    "start_time": "2023-06-26T09:42:05.259Z"
   },
   {
    "duration": 120,
    "start_time": "2023-06-26T09:42:05.313Z"
   },
   {
    "duration": 426,
    "start_time": "2023-06-26T09:42:05.435Z"
   },
   {
    "duration": 50,
    "start_time": "2023-06-26T09:42:05.862Z"
   },
   {
    "duration": 18,
    "start_time": "2023-06-26T09:42:05.913Z"
   },
   {
    "duration": 24,
    "start_time": "2023-06-26T09:42:05.933Z"
   },
   {
    "duration": 1749,
    "start_time": "2023-06-26T09:42:05.958Z"
   },
   {
    "duration": 71,
    "start_time": "2023-06-26T09:42:07.709Z"
   },
   {
    "duration": 317,
    "start_time": "2023-06-26T09:42:07.782Z"
   },
   {
    "duration": 63,
    "start_time": "2023-06-26T09:42:08.101Z"
   },
   {
    "duration": 367,
    "start_time": "2023-06-26T09:42:08.166Z"
   },
   {
    "duration": 37,
    "start_time": "2023-06-26T09:42:08.535Z"
   },
   {
    "duration": 100,
    "start_time": "2023-06-26T09:42:08.573Z"
   },
   {
    "duration": 11,
    "start_time": "2023-06-26T09:42:08.675Z"
   },
   {
    "duration": 94,
    "start_time": "2023-06-26T09:42:08.688Z"
   },
   {
    "duration": 542,
    "start_time": "2023-06-26T09:42:08.784Z"
   },
   {
    "duration": 18312,
    "start_time": "2023-06-26T09:42:09.327Z"
   },
   {
    "duration": 298,
    "start_time": "2023-06-26T09:42:27.642Z"
   },
   {
    "duration": 201,
    "start_time": "2023-06-26T09:42:28.033Z"
   },
   {
    "duration": 4,
    "start_time": "2023-06-26T09:43:29.196Z"
   },
   {
    "duration": 4,
    "start_time": "2023-06-26T09:44:47.111Z"
   },
   {
    "duration": 3,
    "start_time": "2023-06-26T09:44:51.466Z"
   },
   {
    "duration": 10,
    "start_time": "2023-06-26T09:52:59.064Z"
   },
   {
    "duration": 10,
    "start_time": "2023-06-26T09:53:45.750Z"
   },
   {
    "duration": 125,
    "start_time": "2023-06-26T09:54:06.709Z"
   },
   {
    "duration": 1356,
    "start_time": "2023-06-26T09:54:12.437Z"
   },
   {
    "duration": 913,
    "start_time": "2023-06-26T09:54:13.795Z"
   },
   {
    "duration": 12,
    "start_time": "2023-06-26T09:54:14.710Z"
   },
   {
    "duration": 483,
    "start_time": "2023-06-26T09:54:14.731Z"
   },
   {
    "duration": 481,
    "start_time": "2023-06-26T09:54:15.217Z"
   },
   {
    "duration": 34,
    "start_time": "2023-06-26T09:54:15.700Z"
   },
   {
    "duration": 53,
    "start_time": "2023-06-26T09:54:15.736Z"
   },
   {
    "duration": 41,
    "start_time": "2023-06-26T09:54:15.791Z"
   },
   {
    "duration": 53,
    "start_time": "2023-06-26T09:54:15.834Z"
   },
   {
    "duration": 55,
    "start_time": "2023-06-26T09:54:15.889Z"
   },
   {
    "duration": 30,
    "start_time": "2023-06-26T09:54:15.946Z"
   },
   {
    "duration": 50,
    "start_time": "2023-06-26T09:54:15.978Z"
   },
   {
    "duration": 31,
    "start_time": "2023-06-26T09:54:16.029Z"
   },
   {
    "duration": 35,
    "start_time": "2023-06-26T09:54:16.063Z"
   },
   {
    "duration": 49,
    "start_time": "2023-06-26T09:54:16.099Z"
   },
   {
    "duration": 118,
    "start_time": "2023-06-26T09:54:16.150Z"
   },
   {
    "duration": 424,
    "start_time": "2023-06-26T09:54:16.270Z"
   },
   {
    "duration": 58,
    "start_time": "2023-06-26T09:54:16.695Z"
   },
   {
    "duration": 5,
    "start_time": "2023-06-26T09:54:16.754Z"
   },
   {
    "duration": 35,
    "start_time": "2023-06-26T09:54:16.761Z"
   },
   {
    "duration": 1808,
    "start_time": "2023-06-26T09:54:16.798Z"
   },
   {
    "duration": 69,
    "start_time": "2023-06-26T09:54:18.607Z"
   },
   {
    "duration": 311,
    "start_time": "2023-06-26T09:54:18.678Z"
   },
   {
    "duration": 65,
    "start_time": "2023-06-26T09:54:18.991Z"
   },
   {
    "duration": 383,
    "start_time": "2023-06-26T09:54:19.057Z"
   },
   {
    "duration": 36,
    "start_time": "2023-06-26T09:54:19.441Z"
   },
   {
    "duration": 99,
    "start_time": "2023-06-26T09:54:19.478Z"
   },
   {
    "duration": 13,
    "start_time": "2023-06-26T09:54:19.579Z"
   },
   {
    "duration": 68,
    "start_time": "2023-06-26T09:54:19.593Z"
   },
   {
    "duration": 540,
    "start_time": "2023-06-26T09:54:19.663Z"
   },
   {
    "duration": 191,
    "start_time": "2023-06-26T09:54:20.204Z"
   },
   {
    "duration": 4,
    "start_time": "2023-06-26T09:54:20.397Z"
   },
   {
    "duration": 0,
    "start_time": "2023-06-26T09:54:20.402Z"
   },
   {
    "duration": 0,
    "start_time": "2023-06-26T09:54:20.404Z"
   },
   {
    "duration": 1458,
    "start_time": "2023-06-26T09:54:42.350Z"
   },
   {
    "duration": 1051,
    "start_time": "2023-06-26T09:54:43.810Z"
   },
   {
    "duration": 13,
    "start_time": "2023-06-26T09:54:44.862Z"
   },
   {
    "duration": 480,
    "start_time": "2023-06-26T09:54:44.877Z"
   },
   {
    "duration": 507,
    "start_time": "2023-06-26T09:54:45.359Z"
   },
   {
    "duration": 29,
    "start_time": "2023-06-26T09:54:45.868Z"
   },
   {
    "duration": 37,
    "start_time": "2023-06-26T09:54:45.899Z"
   },
   {
    "duration": 45,
    "start_time": "2023-06-26T09:54:45.938Z"
   },
   {
    "duration": 31,
    "start_time": "2023-06-26T09:54:45.985Z"
   },
   {
    "duration": 35,
    "start_time": "2023-06-26T09:54:46.019Z"
   },
   {
    "duration": 27,
    "start_time": "2023-06-26T09:54:46.056Z"
   },
   {
    "duration": 36,
    "start_time": "2023-06-26T09:54:46.085Z"
   },
   {
    "duration": 26,
    "start_time": "2023-06-26T09:54:46.123Z"
   },
   {
    "duration": 30,
    "start_time": "2023-06-26T09:54:46.151Z"
   },
   {
    "duration": 31,
    "start_time": "2023-06-26T09:54:46.183Z"
   },
   {
    "duration": 126,
    "start_time": "2023-06-26T09:54:46.215Z"
   },
   {
    "duration": 420,
    "start_time": "2023-06-26T09:54:46.343Z"
   },
   {
    "duration": 50,
    "start_time": "2023-06-26T09:54:46.765Z"
   },
   {
    "duration": 18,
    "start_time": "2023-06-26T09:54:46.817Z"
   },
   {
    "duration": 32,
    "start_time": "2023-06-26T09:54:46.836Z"
   },
   {
    "duration": 1815,
    "start_time": "2023-06-26T09:54:46.869Z"
   },
   {
    "duration": 69,
    "start_time": "2023-06-26T09:54:48.685Z"
   },
   {
    "duration": 337,
    "start_time": "2023-06-26T09:54:48.756Z"
   },
   {
    "duration": 63,
    "start_time": "2023-06-26T09:54:49.095Z"
   },
   {
    "duration": 356,
    "start_time": "2023-06-26T09:54:49.160Z"
   },
   {
    "duration": 41,
    "start_time": "2023-06-26T09:54:49.517Z"
   },
   {
    "duration": 141,
    "start_time": "2023-06-26T09:54:49.559Z"
   },
   {
    "duration": 12,
    "start_time": "2023-06-26T09:54:49.704Z"
   },
   {
    "duration": 67,
    "start_time": "2023-06-26T09:54:49.717Z"
   },
   {
    "duration": 550,
    "start_time": "2023-06-26T09:54:49.786Z"
   },
   {
    "duration": 194,
    "start_time": "2023-06-26T09:54:50.338Z"
   },
   {
    "duration": 18901,
    "start_time": "2023-06-26T09:54:50.533Z"
   },
   {
    "duration": 129,
    "start_time": "2023-06-26T09:55:09.435Z"
   },
   {
    "duration": 5,
    "start_time": "2023-06-26T09:55:09.634Z"
   },
   {
    "duration": 1286,
    "start_time": "2023-06-26T09:58:54.769Z"
   },
   {
    "duration": 888,
    "start_time": "2023-06-26T09:58:56.057Z"
   },
   {
    "duration": 11,
    "start_time": "2023-06-26T09:58:56.946Z"
   },
   {
    "duration": 465,
    "start_time": "2023-06-26T09:58:56.959Z"
   },
   {
    "duration": 528,
    "start_time": "2023-06-26T09:58:57.426Z"
   },
   {
    "duration": 35,
    "start_time": "2023-06-26T09:58:57.955Z"
   },
   {
    "duration": 42,
    "start_time": "2023-06-26T09:58:57.992Z"
   },
   {
    "duration": 30,
    "start_time": "2023-06-26T09:58:58.035Z"
   },
   {
    "duration": 26,
    "start_time": "2023-06-26T09:58:58.066Z"
   },
   {
    "duration": 50,
    "start_time": "2023-06-26T09:58:58.095Z"
   },
   {
    "duration": 29,
    "start_time": "2023-06-26T09:58:58.147Z"
   },
   {
    "duration": 30,
    "start_time": "2023-06-26T09:58:58.177Z"
   },
   {
    "duration": 32,
    "start_time": "2023-06-26T09:58:58.208Z"
   },
   {
    "duration": 30,
    "start_time": "2023-06-26T09:58:58.244Z"
   },
   {
    "duration": 23,
    "start_time": "2023-06-26T09:58:58.276Z"
   },
   {
    "duration": 131,
    "start_time": "2023-06-26T09:58:58.301Z"
   },
   {
    "duration": 407,
    "start_time": "2023-06-26T09:58:58.433Z"
   },
   {
    "duration": 49,
    "start_time": "2023-06-26T09:58:58.841Z"
   },
   {
    "duration": 5,
    "start_time": "2023-06-26T09:58:58.892Z"
   },
   {
    "duration": 45,
    "start_time": "2023-06-26T09:58:58.898Z"
   },
   {
    "duration": 1761,
    "start_time": "2023-06-26T09:58:58.944Z"
   },
   {
    "duration": 69,
    "start_time": "2023-06-26T09:59:00.707Z"
   },
   {
    "duration": 319,
    "start_time": "2023-06-26T09:59:00.777Z"
   },
   {
    "duration": 65,
    "start_time": "2023-06-26T09:59:01.097Z"
   },
   {
    "duration": 356,
    "start_time": "2023-06-26T09:59:01.164Z"
   },
   {
    "duration": 37,
    "start_time": "2023-06-26T09:59:01.531Z"
   },
   {
    "duration": 107,
    "start_time": "2023-06-26T09:59:01.569Z"
   },
   {
    "duration": 13,
    "start_time": "2023-06-26T09:59:01.677Z"
   },
   {
    "duration": 69,
    "start_time": "2023-06-26T09:59:01.692Z"
   },
   {
    "duration": 528,
    "start_time": "2023-06-26T09:59:01.763Z"
   },
   {
    "duration": 210,
    "start_time": "2023-06-26T09:59:02.293Z"
   },
   {
    "duration": 19027,
    "start_time": "2023-06-26T09:59:02.505Z"
   },
   {
    "duration": 199,
    "start_time": "2023-06-26T09:59:21.534Z"
   },
   {
    "duration": 5,
    "start_time": "2023-06-26T09:59:21.736Z"
   },
   {
    "duration": 1392,
    "start_time": "2023-06-26T09:59:43.733Z"
   },
   {
    "duration": 898,
    "start_time": "2023-06-26T09:59:45.127Z"
   },
   {
    "duration": 12,
    "start_time": "2023-06-26T09:59:46.027Z"
   },
   {
    "duration": 455,
    "start_time": "2023-06-26T09:59:46.040Z"
   },
   {
    "duration": 514,
    "start_time": "2023-06-26T09:59:46.497Z"
   },
   {
    "duration": 35,
    "start_time": "2023-06-26T09:59:47.013Z"
   },
   {
    "duration": 31,
    "start_time": "2023-06-26T09:59:47.049Z"
   },
   {
    "duration": 31,
    "start_time": "2023-06-26T09:59:47.082Z"
   },
   {
    "duration": 30,
    "start_time": "2023-06-26T09:59:47.114Z"
   },
   {
    "duration": 32,
    "start_time": "2023-06-26T09:59:47.146Z"
   },
   {
    "duration": 32,
    "start_time": "2023-06-26T09:59:47.180Z"
   },
   {
    "duration": 43,
    "start_time": "2023-06-26T09:59:47.213Z"
   },
   {
    "duration": 23,
    "start_time": "2023-06-26T09:59:47.258Z"
   },
   {
    "duration": 38,
    "start_time": "2023-06-26T09:59:47.283Z"
   },
   {
    "duration": 32,
    "start_time": "2023-06-26T09:59:47.322Z"
   },
   {
    "duration": 139,
    "start_time": "2023-06-26T09:59:47.356Z"
   },
   {
    "duration": 441,
    "start_time": "2023-06-26T09:59:47.497Z"
   },
   {
    "duration": 53,
    "start_time": "2023-06-26T09:59:47.939Z"
   },
   {
    "duration": 7,
    "start_time": "2023-06-26T09:59:47.993Z"
   },
   {
    "duration": 50,
    "start_time": "2023-06-26T09:59:48.002Z"
   },
   {
    "duration": 1782,
    "start_time": "2023-06-26T09:59:48.054Z"
   },
   {
    "duration": 59,
    "start_time": "2023-06-26T09:59:49.837Z"
   },
   {
    "duration": 320,
    "start_time": "2023-06-26T09:59:49.898Z"
   },
   {
    "duration": 63,
    "start_time": "2023-06-26T09:59:50.220Z"
   },
   {
    "duration": 365,
    "start_time": "2023-06-26T09:59:50.285Z"
   },
   {
    "duration": 36,
    "start_time": "2023-06-26T09:59:50.651Z"
   },
   {
    "duration": 187,
    "start_time": "2023-06-26T09:59:50.689Z"
   },
   {
    "duration": 11,
    "start_time": "2023-06-26T09:59:50.878Z"
   },
   {
    "duration": 111,
    "start_time": "2023-06-26T09:59:50.891Z"
   },
   {
    "duration": 605,
    "start_time": "2023-06-26T09:59:51.004Z"
   },
   {
    "duration": 192,
    "start_time": "2023-06-26T09:59:51.611Z"
   },
   {
    "duration": 18128,
    "start_time": "2023-06-26T09:59:51.805Z"
   },
   {
    "duration": 199,
    "start_time": "2023-06-26T10:00:09.935Z"
   },
   {
    "duration": 96,
    "start_time": "2023-06-26T10:00:10.139Z"
   },
   {
    "duration": 1647,
    "start_time": "2023-06-26T10:00:59.323Z"
   },
   {
    "duration": 927,
    "start_time": "2023-06-26T10:01:00.972Z"
   },
   {
    "duration": 12,
    "start_time": "2023-06-26T10:01:01.900Z"
   },
   {
    "duration": 501,
    "start_time": "2023-06-26T10:01:01.913Z"
   },
   {
    "duration": 470,
    "start_time": "2023-06-26T10:01:02.416Z"
   },
   {
    "duration": 45,
    "start_time": "2023-06-26T10:01:02.887Z"
   },
   {
    "duration": 38,
    "start_time": "2023-06-26T10:01:02.934Z"
   },
   {
    "duration": 48,
    "start_time": "2023-06-26T10:01:02.974Z"
   },
   {
    "duration": 28,
    "start_time": "2023-06-26T10:01:03.023Z"
   },
   {
    "duration": 45,
    "start_time": "2023-06-26T10:01:03.053Z"
   },
   {
    "duration": 41,
    "start_time": "2023-06-26T10:01:03.100Z"
   },
   {
    "duration": 79,
    "start_time": "2023-06-26T10:01:03.143Z"
   },
   {
    "duration": 46,
    "start_time": "2023-06-26T10:01:03.223Z"
   },
   {
    "duration": 46,
    "start_time": "2023-06-26T10:01:03.271Z"
   },
   {
    "duration": 79,
    "start_time": "2023-06-26T10:01:03.318Z"
   },
   {
    "duration": 150,
    "start_time": "2023-06-26T10:01:03.398Z"
   },
   {
    "duration": 425,
    "start_time": "2023-06-26T10:01:03.549Z"
   },
   {
    "duration": 57,
    "start_time": "2023-06-26T10:01:03.975Z"
   },
   {
    "duration": 73,
    "start_time": "2023-06-26T10:01:04.034Z"
   },
   {
    "duration": 53,
    "start_time": "2023-06-26T10:01:04.108Z"
   },
   {
    "duration": 1768,
    "start_time": "2023-06-26T10:01:04.163Z"
   },
   {
    "duration": 62,
    "start_time": "2023-06-26T10:01:05.932Z"
   },
   {
    "duration": 320,
    "start_time": "2023-06-26T10:01:05.996Z"
   },
   {
    "duration": 67,
    "start_time": "2023-06-26T10:01:06.317Z"
   },
   {
    "duration": 509,
    "start_time": "2023-06-26T10:01:06.386Z"
   },
   {
    "duration": 43,
    "start_time": "2023-06-26T10:01:06.896Z"
   },
   {
    "duration": 94,
    "start_time": "2023-06-26T10:01:06.941Z"
   },
   {
    "duration": 12,
    "start_time": "2023-06-26T10:01:07.038Z"
   },
   {
    "duration": 63,
    "start_time": "2023-06-26T10:01:07.051Z"
   },
   {
    "duration": 505,
    "start_time": "2023-06-26T10:01:07.115Z"
   },
   {
    "duration": 216,
    "start_time": "2023-06-26T10:01:07.622Z"
   },
   {
    "duration": 1810,
    "start_time": "2023-06-26T16:25:34.673Z"
   },
   {
    "duration": 4230,
    "start_time": "2023-06-26T16:25:36.485Z"
   },
   {
    "duration": 17,
    "start_time": "2023-06-26T16:25:40.717Z"
   },
   {
    "duration": 656,
    "start_time": "2023-06-26T16:25:40.737Z"
   },
   {
    "duration": 629,
    "start_time": "2023-06-26T16:25:41.396Z"
   },
   {
    "duration": 37,
    "start_time": "2023-06-26T16:25:42.027Z"
   },
   {
    "duration": 52,
    "start_time": "2023-06-26T16:25:42.067Z"
   },
   {
    "duration": 38,
    "start_time": "2023-06-26T16:25:42.121Z"
   },
   {
    "duration": 31,
    "start_time": "2023-06-26T16:25:42.161Z"
   },
   {
    "duration": 64,
    "start_time": "2023-06-26T16:25:42.196Z"
   },
   {
    "duration": 31,
    "start_time": "2023-06-26T16:25:42.263Z"
   },
   {
    "duration": 62,
    "start_time": "2023-06-26T16:25:42.296Z"
   },
   {
    "duration": 32,
    "start_time": "2023-06-26T16:25:42.360Z"
   },
   {
    "duration": 57,
    "start_time": "2023-06-26T16:25:42.395Z"
   },
   {
    "duration": 23,
    "start_time": "2023-06-26T16:25:42.454Z"
   },
   {
    "duration": 206,
    "start_time": "2023-06-26T16:25:42.479Z"
   },
   {
    "duration": 554,
    "start_time": "2023-06-26T16:25:42.687Z"
   },
   {
    "duration": 74,
    "start_time": "2023-06-26T16:25:43.243Z"
   },
   {
    "duration": 14,
    "start_time": "2023-06-26T16:25:43.323Z"
   },
   {
    "duration": 53,
    "start_time": "2023-06-26T16:25:43.340Z"
   },
   {
    "duration": 2504,
    "start_time": "2023-06-26T16:25:43.396Z"
   },
   {
    "duration": 73,
    "start_time": "2023-06-26T16:25:45.902Z"
   },
   {
    "duration": 413,
    "start_time": "2023-06-26T16:25:45.977Z"
   },
   {
    "duration": 80,
    "start_time": "2023-06-26T16:25:46.392Z"
   },
   {
    "duration": 531,
    "start_time": "2023-06-26T16:25:46.474Z"
   },
   {
    "duration": 40,
    "start_time": "2023-06-26T16:25:47.013Z"
   },
   {
    "duration": 122,
    "start_time": "2023-06-26T16:25:47.055Z"
   },
   {
    "duration": 13,
    "start_time": "2023-06-26T16:25:47.180Z"
   },
   {
    "duration": 107,
    "start_time": "2023-06-26T16:25:47.195Z"
   },
   {
    "duration": 600,
    "start_time": "2023-06-26T16:25:47.304Z"
   },
   {
    "duration": 219,
    "start_time": "2023-06-26T16:25:47.906Z"
   },
   {
    "duration": 40604,
    "start_time": "2023-06-26T16:25:48.129Z"
   },
   {
    "duration": 356,
    "start_time": "2023-06-26T16:26:28.735Z"
   },
   {
    "duration": 133,
    "start_time": "2023-06-26T16:26:29.093Z"
   },
   {
    "duration": 1760,
    "start_time": "2023-06-26T16:29:02.929Z"
   },
   {
    "duration": 1172,
    "start_time": "2023-06-26T16:29:04.691Z"
   },
   {
    "duration": 20,
    "start_time": "2023-06-26T16:29:05.865Z"
   },
   {
    "duration": 559,
    "start_time": "2023-06-26T16:29:05.888Z"
   },
   {
    "duration": 615,
    "start_time": "2023-06-26T16:29:06.449Z"
   },
   {
    "duration": 32,
    "start_time": "2023-06-26T16:29:07.067Z"
   },
   {
    "duration": 48,
    "start_time": "2023-06-26T16:29:07.118Z"
   },
   {
    "duration": 32,
    "start_time": "2023-06-26T16:29:07.169Z"
   },
   {
    "duration": 48,
    "start_time": "2023-06-26T16:29:07.203Z"
   },
   {
    "duration": 44,
    "start_time": "2023-06-26T16:29:07.256Z"
   },
   {
    "duration": 73,
    "start_time": "2023-06-26T16:29:07.302Z"
   },
   {
    "duration": 64,
    "start_time": "2023-06-26T16:29:07.378Z"
   },
   {
    "duration": 24,
    "start_time": "2023-06-26T16:29:07.444Z"
   },
   {
    "duration": 38,
    "start_time": "2023-06-26T16:29:07.471Z"
   },
   {
    "duration": 36,
    "start_time": "2023-06-26T16:29:07.518Z"
   },
   {
    "duration": 130,
    "start_time": "2023-06-26T16:29:07.556Z"
   },
   {
    "duration": 592,
    "start_time": "2023-06-26T16:29:07.688Z"
   },
   {
    "duration": 67,
    "start_time": "2023-06-26T16:29:08.282Z"
   },
   {
    "duration": 6,
    "start_time": "2023-06-26T16:29:08.351Z"
   },
   {
    "duration": 28,
    "start_time": "2023-06-26T16:29:08.358Z"
   },
   {
    "duration": 2253,
    "start_time": "2023-06-26T16:29:08.388Z"
   },
   {
    "duration": 79,
    "start_time": "2023-06-26T16:29:10.643Z"
   },
   {
    "duration": 361,
    "start_time": "2023-06-26T16:29:10.725Z"
   },
   {
    "duration": 71,
    "start_time": "2023-06-26T16:29:11.088Z"
   },
   {
    "duration": 405,
    "start_time": "2023-06-26T16:29:11.161Z"
   },
   {
    "duration": 53,
    "start_time": "2023-06-26T16:29:11.568Z"
   },
   {
    "duration": 112,
    "start_time": "2023-06-26T16:29:11.623Z"
   },
   {
    "duration": 17,
    "start_time": "2023-06-26T16:29:11.740Z"
   },
   {
    "duration": 81,
    "start_time": "2023-06-26T16:29:11.760Z"
   },
   {
    "duration": 606,
    "start_time": "2023-06-26T16:29:11.842Z"
   },
   {
    "duration": 230,
    "start_time": "2023-06-26T16:29:12.450Z"
   },
   {
    "duration": 45945,
    "start_time": "2023-06-26T16:29:12.682Z"
   },
   {
    "duration": 204,
    "start_time": "2023-06-26T16:29:58.633Z"
   },
   {
    "duration": 81,
    "start_time": "2023-06-26T16:29:58.841Z"
   },
   {
    "duration": 6,
    "start_time": "2023-06-27T04:09:10.252Z"
   },
   {
    "duration": 48,
    "start_time": "2023-06-27T04:20:02.903Z"
   },
   {
    "duration": 1827,
    "start_time": "2023-06-27T04:20:08.729Z"
   },
   {
    "duration": 1416,
    "start_time": "2023-06-27T04:20:10.559Z"
   },
   {
    "duration": 12,
    "start_time": "2023-06-27T04:20:11.977Z"
   },
   {
    "duration": 518,
    "start_time": "2023-06-27T04:20:12.001Z"
   },
   {
    "duration": 584,
    "start_time": "2023-06-27T04:20:12.522Z"
   },
   {
    "duration": 40,
    "start_time": "2023-06-27T04:20:13.108Z"
   },
   {
    "duration": 41,
    "start_time": "2023-06-27T04:20:13.150Z"
   },
   {
    "duration": 35,
    "start_time": "2023-06-27T04:20:13.193Z"
   },
   {
    "duration": 34,
    "start_time": "2023-06-27T04:20:13.230Z"
   },
   {
    "duration": 80,
    "start_time": "2023-06-27T04:20:13.266Z"
   },
   {
    "duration": 51,
    "start_time": "2023-06-27T04:20:13.349Z"
   },
   {
    "duration": 61,
    "start_time": "2023-06-27T04:20:13.402Z"
   },
   {
    "duration": 56,
    "start_time": "2023-06-27T04:20:13.466Z"
   },
   {
    "duration": 71,
    "start_time": "2023-06-27T04:20:13.527Z"
   },
   {
    "duration": 57,
    "start_time": "2023-06-27T04:20:13.600Z"
   },
   {
    "duration": 237,
    "start_time": "2023-06-27T04:20:13.659Z"
   },
   {
    "duration": 542,
    "start_time": "2023-06-27T04:20:13.906Z"
   },
   {
    "duration": 66,
    "start_time": "2023-06-27T04:20:14.450Z"
   },
   {
    "duration": 8,
    "start_time": "2023-06-27T04:20:14.519Z"
   },
   {
    "duration": 37,
    "start_time": "2023-06-27T04:20:14.529Z"
   },
   {
    "duration": 2135,
    "start_time": "2023-06-27T04:20:14.568Z"
   },
   {
    "duration": 75,
    "start_time": "2023-06-27T04:20:16.705Z"
   },
   {
    "duration": 363,
    "start_time": "2023-06-27T04:20:16.782Z"
   },
   {
    "duration": 76,
    "start_time": "2023-06-27T04:20:17.147Z"
   },
   {
    "duration": 412,
    "start_time": "2023-06-27T04:20:17.225Z"
   },
   {
    "duration": 45,
    "start_time": "2023-06-27T04:20:17.638Z"
   },
   {
    "duration": 98,
    "start_time": "2023-06-27T04:20:17.684Z"
   },
   {
    "duration": 29,
    "start_time": "2023-06-27T04:20:17.784Z"
   },
   {
    "duration": 74,
    "start_time": "2023-06-27T04:20:17.815Z"
   },
   {
    "duration": 616,
    "start_time": "2023-06-27T04:20:17.891Z"
   },
   {
    "duration": 219,
    "start_time": "2023-06-27T04:20:18.509Z"
   },
   {
    "duration": 1617,
    "start_time": "2023-06-27T04:20:24.609Z"
   },
   {
    "duration": 951,
    "start_time": "2023-06-27T04:20:26.228Z"
   },
   {
    "duration": 25,
    "start_time": "2023-06-27T04:20:27.181Z"
   },
   {
    "duration": 514,
    "start_time": "2023-06-27T04:20:27.209Z"
   },
   {
    "duration": 555,
    "start_time": "2023-06-27T04:20:27.725Z"
   },
   {
    "duration": 35,
    "start_time": "2023-06-27T04:20:28.281Z"
   },
   {
    "duration": 33,
    "start_time": "2023-06-27T04:20:28.318Z"
   },
   {
    "duration": 30,
    "start_time": "2023-06-27T04:20:28.353Z"
   },
   {
    "duration": 31,
    "start_time": "2023-06-27T04:20:28.386Z"
   },
   {
    "duration": 31,
    "start_time": "2023-06-27T04:20:28.420Z"
   },
   {
    "duration": 22,
    "start_time": "2023-06-27T04:20:28.453Z"
   },
   {
    "duration": 48,
    "start_time": "2023-06-27T04:20:28.476Z"
   },
   {
    "duration": 24,
    "start_time": "2023-06-27T04:20:28.525Z"
   },
   {
    "duration": 52,
    "start_time": "2023-06-27T04:20:28.551Z"
   },
   {
    "duration": 22,
    "start_time": "2023-06-27T04:20:28.606Z"
   },
   {
    "duration": 127,
    "start_time": "2023-06-27T04:20:28.629Z"
   },
   {
    "duration": 480,
    "start_time": "2023-06-27T04:20:28.758Z"
   },
   {
    "duration": 63,
    "start_time": "2023-06-27T04:20:29.240Z"
   },
   {
    "duration": 11,
    "start_time": "2023-06-27T04:20:29.304Z"
   },
   {
    "duration": 25,
    "start_time": "2023-06-27T04:20:29.318Z"
   },
   {
    "duration": 2124,
    "start_time": "2023-06-27T04:20:29.344Z"
   },
   {
    "duration": 75,
    "start_time": "2023-06-27T04:20:31.470Z"
   },
   {
    "duration": 337,
    "start_time": "2023-06-27T04:20:31.547Z"
   },
   {
    "duration": 71,
    "start_time": "2023-06-27T04:20:31.885Z"
   },
   {
    "duration": 426,
    "start_time": "2023-06-27T04:20:31.958Z"
   },
   {
    "duration": 51,
    "start_time": "2023-06-27T04:20:32.387Z"
   },
   {
    "duration": 95,
    "start_time": "2023-06-27T04:20:32.439Z"
   },
   {
    "duration": 13,
    "start_time": "2023-06-27T04:20:32.537Z"
   },
   {
    "duration": 83,
    "start_time": "2023-06-27T04:20:32.552Z"
   },
   {
    "duration": 622,
    "start_time": "2023-06-27T04:20:32.637Z"
   },
   {
    "duration": 215,
    "start_time": "2023-06-27T04:20:33.261Z"
   },
   {
    "duration": 27828,
    "start_time": "2023-06-27T04:20:33.477Z"
   },
   {
    "duration": 203,
    "start_time": "2023-06-27T04:21:01.307Z"
   },
   {
    "duration": 91,
    "start_time": "2023-06-27T04:21:01.514Z"
   },
   {
    "duration": 47,
    "start_time": "2023-06-27T04:21:01.607Z"
   },
   {
    "duration": 99,
    "start_time": "2023-06-27T04:21:01.657Z"
   },
   {
    "duration": 516,
    "start_time": "2023-06-27T04:31:23.915Z"
   },
   {
    "duration": 405,
    "start_time": "2023-06-27T04:31:33.787Z"
   },
   {
    "duration": 424,
    "start_time": "2023-06-27T04:31:59.186Z"
   },
   {
    "duration": 562,
    "start_time": "2023-06-27T04:37:35.515Z"
   },
   {
    "duration": 594,
    "start_time": "2023-06-27T04:37:53.520Z"
   },
   {
    "duration": 671,
    "start_time": "2023-06-27T04:39:45.895Z"
   },
   {
    "duration": 414,
    "start_time": "2023-06-27T04:39:58.906Z"
   },
   {
    "duration": 417,
    "start_time": "2023-06-27T04:40:15.653Z"
   },
   {
    "duration": 1568,
    "start_time": "2023-06-27T04:52:25.034Z"
   },
   {
    "duration": 1029,
    "start_time": "2023-06-27T04:52:26.607Z"
   },
   {
    "duration": 13,
    "start_time": "2023-06-27T04:52:27.638Z"
   },
   {
    "duration": 622,
    "start_time": "2023-06-27T04:52:27.653Z"
   },
   {
    "duration": 542,
    "start_time": "2023-06-27T04:52:28.277Z"
   },
   {
    "duration": 34,
    "start_time": "2023-06-27T04:52:28.821Z"
   },
   {
    "duration": 19,
    "start_time": "2023-06-27T04:52:28.857Z"
   },
   {
    "duration": 59,
    "start_time": "2023-06-27T04:52:28.877Z"
   },
   {
    "duration": 20,
    "start_time": "2023-06-27T04:52:28.938Z"
   },
   {
    "duration": 54,
    "start_time": "2023-06-27T04:52:28.962Z"
   },
   {
    "duration": 27,
    "start_time": "2023-06-27T04:52:29.018Z"
   },
   {
    "duration": 32,
    "start_time": "2023-06-27T04:52:29.047Z"
   },
   {
    "duration": 35,
    "start_time": "2023-06-27T04:52:29.081Z"
   },
   {
    "duration": 35,
    "start_time": "2023-06-27T04:52:29.118Z"
   },
   {
    "duration": 18,
    "start_time": "2023-06-27T04:52:29.155Z"
   },
   {
    "duration": 145,
    "start_time": "2023-06-27T04:52:29.175Z"
   },
   {
    "duration": 456,
    "start_time": "2023-06-27T04:52:29.322Z"
   },
   {
    "duration": 66,
    "start_time": "2023-06-27T04:52:29.780Z"
   },
   {
    "duration": 5,
    "start_time": "2023-06-27T04:52:29.848Z"
   },
   {
    "duration": 27,
    "start_time": "2023-06-27T04:52:29.855Z"
   },
   {
    "duration": 2298,
    "start_time": "2023-06-27T04:52:29.884Z"
   },
   {
    "duration": 74,
    "start_time": "2023-06-27T04:52:32.184Z"
   },
   {
    "duration": 333,
    "start_time": "2023-06-27T04:52:32.260Z"
   },
   {
    "duration": 66,
    "start_time": "2023-06-27T04:52:32.595Z"
   },
   {
    "duration": 442,
    "start_time": "2023-06-27T04:52:32.663Z"
   },
   {
    "duration": 42,
    "start_time": "2023-06-27T04:52:33.108Z"
   },
   {
    "duration": 130,
    "start_time": "2023-06-27T04:52:33.152Z"
   },
   {
    "duration": 23,
    "start_time": "2023-06-27T04:52:33.285Z"
   },
   {
    "duration": 83,
    "start_time": "2023-06-27T04:52:33.310Z"
   },
   {
    "duration": 623,
    "start_time": "2023-06-27T04:52:33.395Z"
   },
   {
    "duration": 217,
    "start_time": "2023-06-27T04:52:34.020Z"
   },
   {
    "duration": 24267,
    "start_time": "2023-06-27T04:52:34.239Z"
   },
   {
    "duration": 191,
    "start_time": "2023-06-27T04:52:58.511Z"
   },
   {
    "duration": 6,
    "start_time": "2023-06-27T04:52:58.705Z"
   },
   {
    "duration": 137,
    "start_time": "2023-06-27T04:52:58.713Z"
   },
   {
    "duration": 64,
    "start_time": "2023-06-27T04:52:58.852Z"
   },
   {
    "duration": 3198,
    "start_time": "2023-06-27T04:52:58.918Z"
   },
   {
    "duration": 2604,
    "start_time": "2023-06-27T04:53:34.785Z"
   },
   {
    "duration": 340,
    "start_time": "2023-06-27T04:55:40.531Z"
   },
   {
    "duration": 318,
    "start_time": "2023-06-27T04:56:06.461Z"
   },
   {
    "duration": 312,
    "start_time": "2023-06-27T04:56:29.171Z"
   },
   {
    "duration": 327,
    "start_time": "2023-06-27T04:56:35.187Z"
   },
   {
    "duration": 390,
    "start_time": "2023-06-27T04:56:40.280Z"
   },
   {
    "duration": 313,
    "start_time": "2023-06-27T04:57:13.921Z"
   },
   {
    "duration": 354,
    "start_time": "2023-06-27T04:58:40.095Z"
   },
   {
    "duration": 409,
    "start_time": "2023-06-27T04:58:52.300Z"
   },
   {
    "duration": 417,
    "start_time": "2023-06-27T04:59:50.706Z"
   },
   {
    "duration": 473,
    "start_time": "2023-06-27T05:01:41.854Z"
   },
   {
    "duration": 433,
    "start_time": "2023-06-27T05:03:31.639Z"
   },
   {
    "duration": 12,
    "start_time": "2023-06-27T05:27:09.529Z"
   },
   {
    "duration": 11,
    "start_time": "2023-06-27T05:27:35.198Z"
   },
   {
    "duration": 1522,
    "start_time": "2023-06-27T05:28:14.307Z"
   },
   {
    "duration": 994,
    "start_time": "2023-06-27T05:28:15.831Z"
   },
   {
    "duration": 14,
    "start_time": "2023-06-27T05:28:16.827Z"
   },
   {
    "duration": 550,
    "start_time": "2023-06-27T05:28:16.844Z"
   },
   {
    "duration": 554,
    "start_time": "2023-06-27T05:28:17.396Z"
   },
   {
    "duration": 55,
    "start_time": "2023-06-27T05:28:17.954Z"
   },
   {
    "duration": 40,
    "start_time": "2023-06-27T05:28:18.011Z"
   },
   {
    "duration": 31,
    "start_time": "2023-06-27T05:28:18.054Z"
   },
   {
    "duration": 28,
    "start_time": "2023-06-27T05:28:18.087Z"
   },
   {
    "duration": 33,
    "start_time": "2023-06-27T05:28:18.118Z"
   },
   {
    "duration": 23,
    "start_time": "2023-06-27T05:28:18.153Z"
   },
   {
    "duration": 44,
    "start_time": "2023-06-27T05:28:18.177Z"
   },
   {
    "duration": 22,
    "start_time": "2023-06-27T05:28:18.223Z"
   },
   {
    "duration": 33,
    "start_time": "2023-06-27T05:28:18.246Z"
   },
   {
    "duration": 21,
    "start_time": "2023-06-27T05:28:18.302Z"
   },
   {
    "duration": 118,
    "start_time": "2023-06-27T05:28:18.324Z"
   },
   {
    "duration": 469,
    "start_time": "2023-06-27T05:28:18.444Z"
   },
   {
    "duration": 55,
    "start_time": "2023-06-27T05:28:18.915Z"
   },
   {
    "duration": 5,
    "start_time": "2023-06-27T05:28:18.972Z"
   },
   {
    "duration": 43,
    "start_time": "2023-06-27T05:28:18.979Z"
   },
   {
    "duration": 2067,
    "start_time": "2023-06-27T05:28:19.024Z"
   },
   {
    "duration": 69,
    "start_time": "2023-06-27T05:28:21.093Z"
   },
   {
    "duration": 328,
    "start_time": "2023-06-27T05:28:21.164Z"
   },
   {
    "duration": 60,
    "start_time": "2023-06-27T05:28:21.502Z"
   },
   {
    "duration": 378,
    "start_time": "2023-06-27T05:28:21.564Z"
   },
   {
    "duration": 38,
    "start_time": "2023-06-27T05:28:21.944Z"
   },
   {
    "duration": 81,
    "start_time": "2023-06-27T05:28:22.001Z"
   },
   {
    "duration": 26,
    "start_time": "2023-06-27T05:28:22.086Z"
   },
   {
    "duration": 66,
    "start_time": "2023-06-27T05:28:22.114Z"
   },
   {
    "duration": 574,
    "start_time": "2023-06-27T05:28:22.182Z"
   },
   {
    "duration": 212,
    "start_time": "2023-06-27T05:28:22.758Z"
   },
   {
    "duration": 26443,
    "start_time": "2023-06-27T05:28:22.972Z"
   },
   {
    "duration": 187,
    "start_time": "2023-06-27T05:28:49.417Z"
   },
   {
    "duration": 6,
    "start_time": "2023-06-27T05:28:49.606Z"
   },
   {
    "duration": 115,
    "start_time": "2023-06-27T05:28:49.614Z"
   },
   {
    "duration": 71,
    "start_time": "2023-06-27T05:28:49.731Z"
   },
   {
    "duration": 414,
    "start_time": "2023-06-27T05:28:49.804Z"
   },
   {
    "duration": 124,
    "start_time": "2023-06-27T05:28:50.220Z"
   },
   {
    "duration": 30,
    "start_time": "2023-06-27T05:29:26.490Z"
   },
   {
    "duration": 1556,
    "start_time": "2023-06-27T05:29:44.420Z"
   },
   {
    "duration": 970,
    "start_time": "2023-06-27T05:29:45.978Z"
   },
   {
    "duration": 13,
    "start_time": "2023-06-27T05:29:46.950Z"
   },
   {
    "duration": 542,
    "start_time": "2023-06-27T05:29:46.965Z"
   },
   {
    "duration": 550,
    "start_time": "2023-06-27T05:29:47.510Z"
   },
   {
    "duration": 41,
    "start_time": "2023-06-27T05:29:48.062Z"
   },
   {
    "duration": 35,
    "start_time": "2023-06-27T05:29:48.105Z"
   },
   {
    "duration": 48,
    "start_time": "2023-06-27T05:29:48.142Z"
   },
   {
    "duration": 45,
    "start_time": "2023-06-27T05:29:48.192Z"
   },
   {
    "duration": 38,
    "start_time": "2023-06-27T05:29:48.239Z"
   },
   {
    "duration": 23,
    "start_time": "2023-06-27T05:29:48.279Z"
   },
   {
    "duration": 36,
    "start_time": "2023-06-27T05:29:48.304Z"
   },
   {
    "duration": 37,
    "start_time": "2023-06-27T05:29:48.342Z"
   },
   {
    "duration": 38,
    "start_time": "2023-06-27T05:29:48.382Z"
   },
   {
    "duration": 46,
    "start_time": "2023-06-27T05:29:48.421Z"
   },
   {
    "duration": 149,
    "start_time": "2023-06-27T05:29:48.468Z"
   },
   {
    "duration": 458,
    "start_time": "2023-06-27T05:29:48.619Z"
   },
   {
    "duration": 65,
    "start_time": "2023-06-27T05:29:49.079Z"
   },
   {
    "duration": 6,
    "start_time": "2023-06-27T05:29:49.145Z"
   },
   {
    "duration": 27,
    "start_time": "2023-06-27T05:29:49.152Z"
   },
   {
    "duration": 2018,
    "start_time": "2023-06-27T05:29:49.201Z"
   },
   {
    "duration": 82,
    "start_time": "2023-06-27T05:29:51.221Z"
   },
   {
    "duration": 347,
    "start_time": "2023-06-27T05:29:51.305Z"
   },
   {
    "duration": 71,
    "start_time": "2023-06-27T05:29:51.654Z"
   },
   {
    "duration": 370,
    "start_time": "2023-06-27T05:29:51.727Z"
   },
   {
    "duration": 55,
    "start_time": "2023-06-27T05:29:52.102Z"
   },
   {
    "duration": 93,
    "start_time": "2023-06-27T05:29:52.159Z"
   },
   {
    "duration": 14,
    "start_time": "2023-06-27T05:29:52.254Z"
   },
   {
    "duration": 79,
    "start_time": "2023-06-27T05:29:52.270Z"
   },
   {
    "duration": 587,
    "start_time": "2023-06-27T05:29:52.351Z"
   },
   {
    "duration": 219,
    "start_time": "2023-06-27T05:29:52.940Z"
   },
   {
    "duration": 1689,
    "start_time": "2023-06-27T05:30:11.122Z"
   },
   {
    "duration": 1008,
    "start_time": "2023-06-27T05:30:12.813Z"
   },
   {
    "duration": 16,
    "start_time": "2023-06-27T05:30:13.823Z"
   },
   {
    "duration": 611,
    "start_time": "2023-06-27T05:30:13.842Z"
   },
   {
    "duration": 570,
    "start_time": "2023-06-27T05:30:14.456Z"
   },
   {
    "duration": 32,
    "start_time": "2023-06-27T05:30:15.027Z"
   },
   {
    "duration": 48,
    "start_time": "2023-06-27T05:30:15.061Z"
   },
   {
    "duration": 33,
    "start_time": "2023-06-27T05:30:15.111Z"
   },
   {
    "duration": 36,
    "start_time": "2023-06-27T05:30:15.146Z"
   },
   {
    "duration": 40,
    "start_time": "2023-06-27T05:30:15.187Z"
   },
   {
    "duration": 28,
    "start_time": "2023-06-27T05:30:15.229Z"
   },
   {
    "duration": 33,
    "start_time": "2023-06-27T05:30:15.259Z"
   },
   {
    "duration": 20,
    "start_time": "2023-06-27T05:30:15.302Z"
   },
   {
    "duration": 32,
    "start_time": "2023-06-27T05:30:15.324Z"
   },
   {
    "duration": 45,
    "start_time": "2023-06-27T05:30:15.357Z"
   },
   {
    "duration": 126,
    "start_time": "2023-06-27T05:30:15.404Z"
   },
   {
    "duration": 484,
    "start_time": "2023-06-27T05:30:15.532Z"
   },
   {
    "duration": 60,
    "start_time": "2023-06-27T05:30:16.018Z"
   },
   {
    "duration": 24,
    "start_time": "2023-06-27T05:30:16.080Z"
   },
   {
    "duration": 34,
    "start_time": "2023-06-27T05:30:16.106Z"
   },
   {
    "duration": 1994,
    "start_time": "2023-06-27T05:30:16.143Z"
   },
   {
    "duration": 79,
    "start_time": "2023-06-27T05:30:18.139Z"
   },
   {
    "duration": 333,
    "start_time": "2023-06-27T05:30:18.220Z"
   },
   {
    "duration": 72,
    "start_time": "2023-06-27T05:30:18.555Z"
   },
   {
    "duration": 412,
    "start_time": "2023-06-27T05:30:18.629Z"
   },
   {
    "duration": 43,
    "start_time": "2023-06-27T05:30:19.043Z"
   },
   {
    "duration": 138,
    "start_time": "2023-06-27T05:30:19.103Z"
   },
   {
    "duration": 15,
    "start_time": "2023-06-27T05:30:19.245Z"
   },
   {
    "duration": 86,
    "start_time": "2023-06-27T05:30:19.262Z"
   },
   {
    "duration": 601,
    "start_time": "2023-06-27T05:30:19.350Z"
   },
   {
    "duration": 209,
    "start_time": "2023-06-27T05:30:19.953Z"
   },
   {
    "duration": 27945,
    "start_time": "2023-06-27T05:30:20.164Z"
   },
   {
    "duration": 196,
    "start_time": "2023-06-27T05:30:48.111Z"
   },
   {
    "duration": 95,
    "start_time": "2023-06-27T05:30:48.309Z"
   },
   {
    "duration": 24,
    "start_time": "2023-06-27T05:30:48.406Z"
   },
   {
    "duration": 105,
    "start_time": "2023-06-27T05:30:48.433Z"
   },
   {
    "duration": 455,
    "start_time": "2023-06-27T05:30:48.541Z"
   },
   {
    "duration": 90176,
    "start_time": "2023-06-27T05:30:48.998Z"
   },
   {
    "duration": 1706,
    "start_time": "2023-06-27T05:56:47.130Z"
   },
   {
    "duration": 1104,
    "start_time": "2023-06-27T05:56:48.838Z"
   },
   {
    "duration": 14,
    "start_time": "2023-06-27T05:56:49.943Z"
   },
   {
    "duration": 660,
    "start_time": "2023-06-27T05:56:49.959Z"
   },
   {
    "duration": 725,
    "start_time": "2023-06-27T05:56:50.623Z"
   },
   {
    "duration": 55,
    "start_time": "2023-06-27T05:56:51.351Z"
   },
   {
    "duration": 57,
    "start_time": "2023-06-27T05:56:51.408Z"
   },
   {
    "duration": 66,
    "start_time": "2023-06-27T05:56:51.466Z"
   },
   {
    "duration": 43,
    "start_time": "2023-06-27T05:56:51.534Z"
   },
   {
    "duration": 53,
    "start_time": "2023-06-27T05:56:51.579Z"
   },
   {
    "duration": 46,
    "start_time": "2023-06-27T05:56:51.637Z"
   },
   {
    "duration": 49,
    "start_time": "2023-06-27T05:56:51.685Z"
   },
   {
    "duration": 37,
    "start_time": "2023-06-27T05:56:51.736Z"
   },
   {
    "duration": 41,
    "start_time": "2023-06-27T05:56:51.777Z"
   },
   {
    "duration": 57,
    "start_time": "2023-06-27T05:56:51.820Z"
   },
   {
    "duration": 153,
    "start_time": "2023-06-27T05:56:51.878Z"
   },
   {
    "duration": 647,
    "start_time": "2023-06-27T05:56:52.035Z"
   },
   {
    "duration": 75,
    "start_time": "2023-06-27T05:56:52.684Z"
   },
   {
    "duration": 6,
    "start_time": "2023-06-27T05:56:52.762Z"
   },
   {
    "duration": 62,
    "start_time": "2023-06-27T05:56:52.770Z"
   },
   {
    "duration": 2370,
    "start_time": "2023-06-27T05:56:52.834Z"
   },
   {
    "duration": 82,
    "start_time": "2023-06-27T05:56:55.206Z"
   },
   {
    "duration": 434,
    "start_time": "2023-06-27T05:56:55.290Z"
   },
   {
    "duration": 85,
    "start_time": "2023-06-27T05:56:55.727Z"
   },
   {
    "duration": 484,
    "start_time": "2023-06-27T05:56:55.815Z"
   },
   {
    "duration": 59,
    "start_time": "2023-06-27T05:56:56.302Z"
   },
   {
    "duration": 122,
    "start_time": "2023-06-27T05:56:56.363Z"
   },
   {
    "duration": 15,
    "start_time": "2023-06-27T05:56:56.487Z"
   },
   {
    "duration": 100,
    "start_time": "2023-06-27T05:56:56.504Z"
   },
   {
    "duration": 760,
    "start_time": "2023-06-27T05:56:56.606Z"
   },
   {
    "duration": 271,
    "start_time": "2023-06-27T05:56:57.368Z"
   },
   {
    "duration": 36584,
    "start_time": "2023-06-27T05:56:57.642Z"
   },
   {
    "duration": 170,
    "start_time": "2023-06-27T05:57:34.235Z"
   },
   {
    "duration": 6,
    "start_time": "2023-06-27T05:57:34.408Z"
   },
   {
    "duration": 121,
    "start_time": "2023-06-27T05:57:34.417Z"
   },
   {
    "duration": 85,
    "start_time": "2023-06-27T05:57:34.540Z"
   },
   {
    "duration": 536,
    "start_time": "2023-06-27T05:57:34.627Z"
   },
   {
    "duration": 4,
    "start_time": "2023-06-27T05:57:35.166Z"
   },
   {
    "duration": 258,
    "start_time": "2023-06-27T05:57:35.172Z"
   },
   {
    "duration": 110,
    "start_time": "2023-06-27T05:57:35.432Z"
   },
   {
    "duration": 4,
    "start_time": "2023-06-27T05:59:11.192Z"
   },
   {
    "duration": 1913,
    "start_time": "2023-06-27T05:59:23.329Z"
   },
   {
    "duration": 1279,
    "start_time": "2023-06-27T05:59:25.246Z"
   },
   {
    "duration": 24,
    "start_time": "2023-06-27T05:59:26.531Z"
   },
   {
    "duration": 676,
    "start_time": "2023-06-27T05:59:26.558Z"
   },
   {
    "duration": 715,
    "start_time": "2023-06-27T05:59:27.237Z"
   },
   {
    "duration": 33,
    "start_time": "2023-06-27T05:59:27.954Z"
   },
   {
    "duration": 37,
    "start_time": "2023-06-27T05:59:28.005Z"
   },
   {
    "duration": 34,
    "start_time": "2023-06-27T05:59:28.044Z"
   },
   {
    "duration": 57,
    "start_time": "2023-06-27T05:59:28.080Z"
   },
   {
    "duration": 39,
    "start_time": "2023-06-27T05:59:28.140Z"
   },
   {
    "duration": 53,
    "start_time": "2023-06-27T05:59:28.182Z"
   },
   {
    "duration": 33,
    "start_time": "2023-06-27T05:59:28.236Z"
   },
   {
    "duration": 46,
    "start_time": "2023-06-27T05:59:28.271Z"
   },
   {
    "duration": 57,
    "start_time": "2023-06-27T05:59:28.322Z"
   },
   {
    "duration": 43,
    "start_time": "2023-06-27T05:59:28.381Z"
   },
   {
    "duration": 161,
    "start_time": "2023-06-27T05:59:28.427Z"
   },
   {
    "duration": 580,
    "start_time": "2023-06-27T05:59:28.604Z"
   },
   {
    "duration": 67,
    "start_time": "2023-06-27T05:59:29.187Z"
   },
   {
    "duration": 6,
    "start_time": "2023-06-27T05:59:29.256Z"
   },
   {
    "duration": 64,
    "start_time": "2023-06-27T05:59:29.264Z"
   },
   {
    "duration": 2354,
    "start_time": "2023-06-27T05:59:29.329Z"
   },
   {
    "duration": 85,
    "start_time": "2023-06-27T05:59:31.686Z"
   },
   {
    "duration": 404,
    "start_time": "2023-06-27T05:59:31.774Z"
   },
   {
    "duration": 85,
    "start_time": "2023-06-27T05:59:32.181Z"
   },
   {
    "duration": 495,
    "start_time": "2023-06-27T05:59:32.268Z"
   },
   {
    "duration": 65,
    "start_time": "2023-06-27T05:59:32.765Z"
   },
   {
    "duration": 98,
    "start_time": "2023-06-27T05:59:32.832Z"
   },
   {
    "duration": 15,
    "start_time": "2023-06-27T05:59:32.932Z"
   },
   {
    "duration": 106,
    "start_time": "2023-06-27T05:59:32.949Z"
   },
   {
    "duration": 734,
    "start_time": "2023-06-27T05:59:33.057Z"
   },
   {
    "duration": 258,
    "start_time": "2023-06-27T05:59:33.793Z"
   },
   {
    "duration": 70364,
    "start_time": "2023-06-27T05:59:34.053Z"
   },
   {
    "duration": 281,
    "start_time": "2023-06-27T06:00:44.420Z"
   },
   {
    "duration": 9,
    "start_time": "2023-06-27T06:00:44.704Z"
   },
   {
    "duration": 67,
    "start_time": "2023-06-27T06:00:44.716Z"
   },
   {
    "duration": 127,
    "start_time": "2023-06-27T06:00:44.786Z"
   },
   {
    "duration": 786,
    "start_time": "2023-06-27T06:00:44.916Z"
   },
   {
    "duration": 6,
    "start_time": "2023-06-27T06:00:45.710Z"
   },
   {
    "duration": 146442,
    "start_time": "2023-06-27T06:00:45.723Z"
   },
   {
    "duration": 777,
    "start_time": "2023-06-27T06:03:12.167Z"
   },
   {
    "duration": 341,
    "start_time": "2023-06-27T06:04:20.092Z"
   },
   {
    "duration": 1917,
    "start_time": "2023-06-27T06:06:13.643Z"
   },
   {
    "duration": 0,
    "start_time": "2023-06-27T06:06:15.563Z"
   },
   {
    "duration": 0,
    "start_time": "2023-06-27T06:06:15.564Z"
   },
   {
    "duration": 0,
    "start_time": "2023-06-27T06:06:15.566Z"
   },
   {
    "duration": 0,
    "start_time": "2023-06-27T06:06:15.567Z"
   },
   {
    "duration": 0,
    "start_time": "2023-06-27T06:06:15.568Z"
   },
   {
    "duration": 0,
    "start_time": "2023-06-27T06:06:15.569Z"
   },
   {
    "duration": 0,
    "start_time": "2023-06-27T06:06:15.571Z"
   },
   {
    "duration": 0,
    "start_time": "2023-06-27T06:06:15.573Z"
   },
   {
    "duration": 0,
    "start_time": "2023-06-27T06:06:15.574Z"
   },
   {
    "duration": 0,
    "start_time": "2023-06-27T06:06:15.575Z"
   },
   {
    "duration": 0,
    "start_time": "2023-06-27T06:06:15.577Z"
   },
   {
    "duration": 0,
    "start_time": "2023-06-27T06:06:15.602Z"
   },
   {
    "duration": 0,
    "start_time": "2023-06-27T06:06:15.603Z"
   },
   {
    "duration": 0,
    "start_time": "2023-06-27T06:06:15.605Z"
   },
   {
    "duration": 0,
    "start_time": "2023-06-27T06:06:15.606Z"
   },
   {
    "duration": 0,
    "start_time": "2023-06-27T06:06:15.607Z"
   },
   {
    "duration": 0,
    "start_time": "2023-06-27T06:06:15.608Z"
   },
   {
    "duration": 0,
    "start_time": "2023-06-27T06:06:15.610Z"
   },
   {
    "duration": 0,
    "start_time": "2023-06-27T06:06:15.611Z"
   },
   {
    "duration": 0,
    "start_time": "2023-06-27T06:06:15.612Z"
   },
   {
    "duration": 0,
    "start_time": "2023-06-27T06:06:15.613Z"
   },
   {
    "duration": 0,
    "start_time": "2023-06-27T06:06:15.614Z"
   },
   {
    "duration": 0,
    "start_time": "2023-06-27T06:06:15.615Z"
   },
   {
    "duration": 0,
    "start_time": "2023-06-27T06:06:15.617Z"
   },
   {
    "duration": 0,
    "start_time": "2023-06-27T06:06:15.618Z"
   },
   {
    "duration": 0,
    "start_time": "2023-06-27T06:06:15.619Z"
   },
   {
    "duration": 0,
    "start_time": "2023-06-27T06:06:15.620Z"
   },
   {
    "duration": 0,
    "start_time": "2023-06-27T06:06:15.622Z"
   },
   {
    "duration": 0,
    "start_time": "2023-06-27T06:06:15.623Z"
   },
   {
    "duration": 0,
    "start_time": "2023-06-27T06:06:15.624Z"
   },
   {
    "duration": 0,
    "start_time": "2023-06-27T06:06:15.628Z"
   },
   {
    "duration": 0,
    "start_time": "2023-06-27T06:06:15.629Z"
   },
   {
    "duration": 0,
    "start_time": "2023-06-27T06:06:15.630Z"
   },
   {
    "duration": 0,
    "start_time": "2023-06-27T06:06:15.631Z"
   },
   {
    "duration": 0,
    "start_time": "2023-06-27T06:06:15.632Z"
   },
   {
    "duration": 0,
    "start_time": "2023-06-27T06:06:15.634Z"
   },
   {
    "duration": 0,
    "start_time": "2023-06-27T06:06:15.635Z"
   },
   {
    "duration": 0,
    "start_time": "2023-06-27T06:06:15.636Z"
   },
   {
    "duration": 0,
    "start_time": "2023-06-27T06:06:15.638Z"
   },
   {
    "duration": 1816,
    "start_time": "2023-06-27T06:07:21.736Z"
   },
   {
    "duration": 1178,
    "start_time": "2023-06-27T06:07:23.555Z"
   },
   {
    "duration": 17,
    "start_time": "2023-06-27T06:07:24.740Z"
   },
   {
    "duration": 659,
    "start_time": "2023-06-27T06:07:24.759Z"
   },
   {
    "duration": 680,
    "start_time": "2023-06-27T06:07:25.422Z"
   },
   {
    "duration": 53,
    "start_time": "2023-06-27T06:07:26.103Z"
   },
   {
    "duration": 23,
    "start_time": "2023-06-27T06:07:26.157Z"
   },
   {
    "duration": 63,
    "start_time": "2023-06-27T06:07:26.182Z"
   },
   {
    "duration": 36,
    "start_time": "2023-06-27T06:07:26.251Z"
   },
   {
    "duration": 57,
    "start_time": "2023-06-27T06:07:26.289Z"
   },
   {
    "duration": 41,
    "start_time": "2023-06-27T06:07:26.347Z"
   },
   {
    "duration": 49,
    "start_time": "2023-06-27T06:07:26.390Z"
   },
   {
    "duration": 53,
    "start_time": "2023-06-27T06:07:26.441Z"
   },
   {
    "duration": 68,
    "start_time": "2023-06-27T06:07:26.497Z"
   },
   {
    "duration": 24,
    "start_time": "2023-06-27T06:07:26.567Z"
   },
   {
    "duration": 163,
    "start_time": "2023-06-27T06:07:26.592Z"
   },
   {
    "duration": 603,
    "start_time": "2023-06-27T06:07:26.757Z"
   },
   {
    "duration": 76,
    "start_time": "2023-06-27T06:07:27.363Z"
   },
   {
    "duration": 11,
    "start_time": "2023-06-27T06:07:27.440Z"
   },
   {
    "duration": 47,
    "start_time": "2023-06-27T06:07:27.452Z"
   },
   {
    "duration": 2354,
    "start_time": "2023-06-27T06:07:27.501Z"
   },
   {
    "duration": 97,
    "start_time": "2023-06-27T06:07:29.857Z"
   },
   {
    "duration": 394,
    "start_time": "2023-06-27T06:07:29.955Z"
   },
   {
    "duration": 77,
    "start_time": "2023-06-27T06:07:30.351Z"
   },
   {
    "duration": 572,
    "start_time": "2023-06-27T06:07:30.438Z"
   },
   {
    "duration": 51,
    "start_time": "2023-06-27T06:07:31.014Z"
   },
   {
    "duration": 177,
    "start_time": "2023-06-27T06:07:31.067Z"
   },
   {
    "duration": 18,
    "start_time": "2023-06-27T06:07:31.246Z"
   },
   {
    "duration": 146,
    "start_time": "2023-06-27T06:07:31.266Z"
   },
   {
    "duration": 642,
    "start_time": "2023-06-27T06:07:31.414Z"
   },
   {
    "duration": 251,
    "start_time": "2023-06-27T06:07:32.058Z"
   },
   {
    "duration": 80106,
    "start_time": "2023-06-27T06:07:32.312Z"
   },
   {
    "duration": 189,
    "start_time": "2023-06-27T06:08:52.420Z"
   },
   {
    "duration": 9,
    "start_time": "2023-06-27T06:08:52.611Z"
   },
   {
    "duration": 125,
    "start_time": "2023-06-27T06:08:52.622Z"
   },
   {
    "duration": 83,
    "start_time": "2023-06-27T06:08:52.749Z"
   },
   {
    "duration": 538,
    "start_time": "2023-06-27T06:08:52.834Z"
   },
   {
    "duration": 4,
    "start_time": "2023-06-27T06:08:53.374Z"
   },
   {
    "duration": 120664,
    "start_time": "2023-06-27T06:08:53.380Z"
   },
   {
    "duration": 311,
    "start_time": "2023-06-27T06:10:54.047Z"
   },
   {
    "duration": 2061,
    "start_time": "2023-06-27T16:19:05.547Z"
   },
   {
    "duration": 3026,
    "start_time": "2023-06-27T16:19:07.610Z"
   },
   {
    "duration": 12,
    "start_time": "2023-06-27T16:19:10.638Z"
   },
   {
    "duration": 506,
    "start_time": "2023-06-27T16:19:10.657Z"
   },
   {
    "duration": 560,
    "start_time": "2023-06-27T16:19:11.165Z"
   },
   {
    "duration": 40,
    "start_time": "2023-06-27T16:19:11.727Z"
   },
   {
    "duration": 23,
    "start_time": "2023-06-27T16:19:11.770Z"
   },
   {
    "duration": 34,
    "start_time": "2023-06-27T16:19:11.795Z"
   },
   {
    "duration": 47,
    "start_time": "2023-06-27T16:19:11.831Z"
   },
   {
    "duration": 34,
    "start_time": "2023-06-27T16:19:11.880Z"
   },
   {
    "duration": 47,
    "start_time": "2023-06-27T16:19:11.916Z"
   },
   {
    "duration": 33,
    "start_time": "2023-06-27T16:19:11.965Z"
   },
   {
    "duration": 27,
    "start_time": "2023-06-27T16:19:12.001Z"
   },
   {
    "duration": 52,
    "start_time": "2023-06-27T16:19:12.031Z"
   },
   {
    "duration": 23,
    "start_time": "2023-06-27T16:19:12.084Z"
   },
   {
    "duration": 121,
    "start_time": "2023-06-27T16:19:12.109Z"
   },
   {
    "duration": 488,
    "start_time": "2023-06-27T16:19:12.232Z"
   },
   {
    "duration": 59,
    "start_time": "2023-06-27T16:19:12.721Z"
   },
   {
    "duration": 5,
    "start_time": "2023-06-27T16:19:12.781Z"
   },
   {
    "duration": 26,
    "start_time": "2023-06-27T16:19:12.788Z"
   },
   {
    "duration": 1919,
    "start_time": "2023-06-27T16:19:12.816Z"
   },
   {
    "duration": 69,
    "start_time": "2023-06-27T16:19:14.737Z"
   },
   {
    "duration": 317,
    "start_time": "2023-06-27T16:19:14.808Z"
   },
   {
    "duration": 66,
    "start_time": "2023-06-27T16:19:15.127Z"
   },
   {
    "duration": 366,
    "start_time": "2023-06-27T16:19:15.195Z"
   },
   {
    "duration": 49,
    "start_time": "2023-06-27T16:19:15.562Z"
   },
   {
    "duration": 102,
    "start_time": "2023-06-27T16:19:15.612Z"
   },
   {
    "duration": 14,
    "start_time": "2023-06-27T16:19:15.716Z"
   },
   {
    "duration": 83,
    "start_time": "2023-06-27T16:19:15.732Z"
   },
   {
    "duration": 658,
    "start_time": "2023-06-27T16:19:15.817Z"
   },
   {
    "duration": 224,
    "start_time": "2023-06-27T16:19:16.477Z"
   },
   {
    "duration": 26955,
    "start_time": "2023-06-27T16:19:16.703Z"
   },
   {
    "duration": 201,
    "start_time": "2023-06-27T16:19:43.660Z"
   },
   {
    "duration": 6,
    "start_time": "2023-06-27T16:19:43.863Z"
   },
   {
    "duration": 104,
    "start_time": "2023-06-27T16:19:43.871Z"
   },
   {
    "duration": 142,
    "start_time": "2023-06-27T16:19:43.977Z"
   },
   {
    "duration": 456,
    "start_time": "2023-06-27T16:19:44.120Z"
   },
   {
    "duration": 3,
    "start_time": "2023-06-27T16:19:44.578Z"
   },
   {
    "duration": 120228,
    "start_time": "2023-06-27T16:19:44.583Z"
   },
   {
    "duration": 311,
    "start_time": "2023-06-27T16:21:44.813Z"
   },
   {
    "duration": 83,
    "start_time": "2023-06-27T16:21:45.128Z"
   },
   {
    "duration": 5,
    "start_time": "2023-06-27T16:22:06.047Z"
   },
   {
    "duration": 306,
    "start_time": "2023-06-27T16:22:47.647Z"
   },
   {
    "duration": 15,
    "start_time": "2023-06-27T16:51:35.863Z"
   },
   {
    "duration": 77,
    "start_time": "2023-06-27T16:52:45.160Z"
   },
   {
    "duration": 4,
    "start_time": "2023-06-27T17:38:58.113Z"
   },
   {
    "duration": 217,
    "start_time": "2023-06-27T17:42:54.676Z"
   },
   {
    "duration": 1739,
    "start_time": "2023-06-27T17:43:04.414Z"
   },
   {
    "duration": 0,
    "start_time": "2023-06-27T17:43:06.157Z"
   },
   {
    "duration": 0,
    "start_time": "2023-06-27T17:43:06.158Z"
   },
   {
    "duration": 0,
    "start_time": "2023-06-27T17:43:06.159Z"
   },
   {
    "duration": 0,
    "start_time": "2023-06-27T17:43:06.161Z"
   },
   {
    "duration": 1,
    "start_time": "2023-06-27T17:43:06.162Z"
   },
   {
    "duration": 0,
    "start_time": "2023-06-27T17:43:06.164Z"
   },
   {
    "duration": 0,
    "start_time": "2023-06-27T17:43:06.166Z"
   },
   {
    "duration": 0,
    "start_time": "2023-06-27T17:43:06.167Z"
   },
   {
    "duration": 0,
    "start_time": "2023-06-27T17:43:06.169Z"
   },
   {
    "duration": 0,
    "start_time": "2023-06-27T17:43:06.170Z"
   },
   {
    "duration": 0,
    "start_time": "2023-06-27T17:43:06.172Z"
   },
   {
    "duration": 0,
    "start_time": "2023-06-27T17:43:06.173Z"
   },
   {
    "duration": 0,
    "start_time": "2023-06-27T17:43:06.174Z"
   },
   {
    "duration": 0,
    "start_time": "2023-06-27T17:43:06.175Z"
   },
   {
    "duration": 0,
    "start_time": "2023-06-27T17:43:06.176Z"
   },
   {
    "duration": 0,
    "start_time": "2023-06-27T17:43:06.177Z"
   },
   {
    "duration": 0,
    "start_time": "2023-06-27T17:43:06.179Z"
   },
   {
    "duration": 0,
    "start_time": "2023-06-27T17:43:06.180Z"
   },
   {
    "duration": 0,
    "start_time": "2023-06-27T17:43:06.180Z"
   },
   {
    "duration": 0,
    "start_time": "2023-06-27T17:43:06.181Z"
   },
   {
    "duration": 0,
    "start_time": "2023-06-27T17:43:06.182Z"
   },
   {
    "duration": 0,
    "start_time": "2023-06-27T17:43:06.183Z"
   },
   {
    "duration": 0,
    "start_time": "2023-06-27T17:43:06.185Z"
   },
   {
    "duration": 0,
    "start_time": "2023-06-27T17:43:06.185Z"
   },
   {
    "duration": 0,
    "start_time": "2023-06-27T17:43:06.186Z"
   },
   {
    "duration": 0,
    "start_time": "2023-06-27T17:43:06.187Z"
   },
   {
    "duration": 0,
    "start_time": "2023-06-27T17:43:06.188Z"
   },
   {
    "duration": 0,
    "start_time": "2023-06-27T17:43:06.189Z"
   },
   {
    "duration": 0,
    "start_time": "2023-06-27T17:43:06.190Z"
   },
   {
    "duration": 0,
    "start_time": "2023-06-27T17:43:06.191Z"
   },
   {
    "duration": 0,
    "start_time": "2023-06-27T17:43:06.192Z"
   },
   {
    "duration": 0,
    "start_time": "2023-06-27T17:43:06.193Z"
   },
   {
    "duration": 0,
    "start_time": "2023-06-27T17:43:06.257Z"
   },
   {
    "duration": 0,
    "start_time": "2023-06-27T17:43:06.258Z"
   },
   {
    "duration": 0,
    "start_time": "2023-06-27T17:43:06.260Z"
   },
   {
    "duration": 0,
    "start_time": "2023-06-27T17:43:06.260Z"
   },
   {
    "duration": 0,
    "start_time": "2023-06-27T17:43:06.261Z"
   },
   {
    "duration": 0,
    "start_time": "2023-06-27T17:43:06.262Z"
   },
   {
    "duration": 0,
    "start_time": "2023-06-27T17:43:06.264Z"
   },
   {
    "duration": 0,
    "start_time": "2023-06-27T17:43:06.264Z"
   },
   {
    "duration": 0,
    "start_time": "2023-06-27T17:43:06.265Z"
   },
   {
    "duration": 0,
    "start_time": "2023-06-27T17:43:06.266Z"
   },
   {
    "duration": 0,
    "start_time": "2023-06-27T17:43:06.268Z"
   },
   {
    "duration": 0,
    "start_time": "2023-06-27T17:43:06.269Z"
   },
   {
    "duration": 107,
    "start_time": "2023-06-27T17:46:26.256Z"
   },
   {
    "duration": 108,
    "start_time": "2023-06-27T17:46:43.578Z"
   },
   {
    "duration": 4515,
    "start_time": "2023-06-27T17:47:44.132Z"
   },
   {
    "duration": 3973,
    "start_time": "2023-06-27T17:48:18.583Z"
   },
   {
    "duration": 930,
    "start_time": "2023-06-27T17:48:22.558Z"
   },
   {
    "duration": 13,
    "start_time": "2023-06-27T17:48:23.490Z"
   },
   {
    "duration": 482,
    "start_time": "2023-06-27T17:48:23.505Z"
   },
   {
    "duration": 518,
    "start_time": "2023-06-27T17:48:23.988Z"
   },
   {
    "duration": 31,
    "start_time": "2023-06-27T17:48:24.508Z"
   },
   {
    "duration": 27,
    "start_time": "2023-06-27T17:48:24.557Z"
   },
   {
    "duration": 30,
    "start_time": "2023-06-27T17:48:24.586Z"
   },
   {
    "duration": 44,
    "start_time": "2023-06-27T17:48:24.618Z"
   },
   {
    "duration": 29,
    "start_time": "2023-06-27T17:48:24.665Z"
   },
   {
    "duration": 24,
    "start_time": "2023-06-27T17:48:24.696Z"
   },
   {
    "duration": 44,
    "start_time": "2023-06-27T17:48:24.722Z"
   },
   {
    "duration": 88,
    "start_time": "2023-06-27T17:48:24.768Z"
   },
   {
    "duration": 59,
    "start_time": "2023-06-27T17:48:24.858Z"
   },
   {
    "duration": 22,
    "start_time": "2023-06-27T17:48:24.919Z"
   },
   {
    "duration": 113,
    "start_time": "2023-06-27T17:48:24.943Z"
   },
   {
    "duration": 462,
    "start_time": "2023-06-27T17:48:25.058Z"
   },
   {
    "duration": 64,
    "start_time": "2023-06-27T17:48:25.522Z"
   },
   {
    "duration": 5,
    "start_time": "2023-06-27T17:48:25.588Z"
   },
   {
    "duration": 23,
    "start_time": "2023-06-27T17:48:25.594Z"
   },
   {
    "duration": 1905,
    "start_time": "2023-06-27T17:48:25.619Z"
   },
   {
    "duration": 75,
    "start_time": "2023-06-27T17:48:27.525Z"
   },
   {
    "duration": 317,
    "start_time": "2023-06-27T17:48:27.603Z"
   },
   {
    "duration": 65,
    "start_time": "2023-06-27T17:48:27.922Z"
   },
   {
    "duration": 360,
    "start_time": "2023-06-27T17:48:27.988Z"
   },
   {
    "duration": 43,
    "start_time": "2023-06-27T17:48:28.350Z"
   },
   {
    "duration": 119,
    "start_time": "2023-06-27T17:48:28.396Z"
   },
   {
    "duration": 14,
    "start_time": "2023-06-27T17:48:28.519Z"
   },
   {
    "duration": 82,
    "start_time": "2023-06-27T17:48:28.535Z"
   },
   {
    "duration": 720,
    "start_time": "2023-06-27T17:48:28.619Z"
   },
   {
    "duration": 208,
    "start_time": "2023-06-27T17:48:29.341Z"
   },
   {
    "duration": 25875,
    "start_time": "2023-06-27T17:48:29.551Z"
   },
   {
    "duration": 132,
    "start_time": "2023-06-27T17:48:55.429Z"
   },
   {
    "duration": 95,
    "start_time": "2023-06-27T17:48:55.563Z"
   },
   {
    "duration": 102,
    "start_time": "2023-06-27T17:48:55.660Z"
   },
   {
    "duration": 68,
    "start_time": "2023-06-27T17:48:55.764Z"
   },
   {
    "duration": 443,
    "start_time": "2023-06-27T17:48:55.834Z"
   },
   {
    "duration": 4,
    "start_time": "2023-06-27T17:48:56.279Z"
   },
   {
    "duration": 109131,
    "start_time": "2023-06-27T17:48:56.285Z"
   },
   {
    "duration": 296,
    "start_time": "2023-06-27T17:50:45.418Z"
   },
   {
    "duration": 15,
    "start_time": "2023-06-27T17:50:45.716Z"
   },
   {
    "duration": 80,
    "start_time": "2023-06-27T17:50:45.732Z"
   },
   {
    "duration": 3,
    "start_time": "2023-06-27T17:50:45.814Z"
   },
   {
    "duration": 11,
    "start_time": "2023-06-27T17:50:45.819Z"
   },
   {
    "duration": 269244,
    "start_time": "2023-06-27T17:50:45.831Z"
   },
   {
    "duration": 4,
    "start_time": "2023-06-27T17:56:50.507Z"
   },
   {
    "duration": 4164,
    "start_time": "2023-06-27T17:57:17.117Z"
   },
   {
    "duration": 1038,
    "start_time": "2023-06-27T17:57:21.283Z"
   },
   {
    "duration": 14,
    "start_time": "2023-06-27T17:57:22.323Z"
   },
   {
    "duration": 531,
    "start_time": "2023-06-27T17:57:22.339Z"
   },
   {
    "duration": 576,
    "start_time": "2023-06-27T17:57:22.872Z"
   },
   {
    "duration": 35,
    "start_time": "2023-06-27T17:57:23.450Z"
   },
   {
    "duration": 23,
    "start_time": "2023-06-27T17:57:23.487Z"
   },
   {
    "duration": 56,
    "start_time": "2023-06-27T17:57:23.512Z"
   },
   {
    "duration": 22,
    "start_time": "2023-06-27T17:57:23.570Z"
   },
   {
    "duration": 34,
    "start_time": "2023-06-27T17:57:23.594Z"
   },
   {
    "duration": 58,
    "start_time": "2023-06-27T17:57:23.631Z"
   },
   {
    "duration": 33,
    "start_time": "2023-06-27T17:57:23.691Z"
   },
   {
    "duration": 54,
    "start_time": "2023-06-27T17:57:23.726Z"
   },
   {
    "duration": 33,
    "start_time": "2023-06-27T17:57:23.782Z"
   },
   {
    "duration": 56,
    "start_time": "2023-06-27T17:57:23.817Z"
   },
   {
    "duration": 118,
    "start_time": "2023-06-27T17:57:23.875Z"
   },
   {
    "duration": 500,
    "start_time": "2023-06-27T17:57:23.995Z"
   },
   {
    "duration": 65,
    "start_time": "2023-06-27T17:57:24.497Z"
   },
   {
    "duration": 5,
    "start_time": "2023-06-27T17:57:24.564Z"
   },
   {
    "duration": 39,
    "start_time": "2023-06-27T17:57:24.571Z"
   },
   {
    "duration": 1836,
    "start_time": "2023-06-27T17:57:24.612Z"
   },
   {
    "duration": 74,
    "start_time": "2023-06-27T17:57:26.449Z"
   },
   {
    "duration": 331,
    "start_time": "2023-06-27T17:57:26.525Z"
   },
   {
    "duration": 59,
    "start_time": "2023-06-27T17:57:26.859Z"
   },
   {
    "duration": 388,
    "start_time": "2023-06-27T17:57:26.920Z"
   },
   {
    "duration": 51,
    "start_time": "2023-06-27T17:57:27.310Z"
   },
   {
    "duration": 96,
    "start_time": "2023-06-27T17:57:27.363Z"
   },
   {
    "duration": 15,
    "start_time": "2023-06-27T17:57:27.463Z"
   },
   {
    "duration": 89,
    "start_time": "2023-06-27T17:57:27.479Z"
   },
   {
    "duration": 643,
    "start_time": "2023-06-27T17:57:27.570Z"
   },
   {
    "duration": 206,
    "start_time": "2023-06-27T17:57:28.215Z"
   },
   {
    "duration": 28490,
    "start_time": "2023-06-27T17:57:28.423Z"
   },
   {
    "duration": 151,
    "start_time": "2023-06-27T17:57:56.915Z"
   },
   {
    "duration": 91,
    "start_time": "2023-06-27T17:57:57.067Z"
   },
   {
    "duration": 31,
    "start_time": "2023-06-27T17:57:57.160Z"
   },
   {
    "duration": 112,
    "start_time": "2023-06-27T17:57:57.193Z"
   },
   {
    "duration": 516,
    "start_time": "2023-06-27T17:57:57.307Z"
   },
   {
    "duration": 4,
    "start_time": "2023-06-27T17:57:57.825Z"
   },
   {
    "duration": 108015,
    "start_time": "2023-06-27T17:57:57.830Z"
   },
   {
    "duration": 309,
    "start_time": "2023-06-27T17:59:45.847Z"
   },
   {
    "duration": 15,
    "start_time": "2023-06-27T17:59:46.158Z"
   },
   {
    "duration": 84,
    "start_time": "2023-06-27T17:59:46.175Z"
   },
   {
    "duration": 3,
    "start_time": "2023-06-27T17:59:46.260Z"
   },
   {
    "duration": 5,
    "start_time": "2023-06-27T17:59:46.265Z"
   },
   {
    "duration": 4191,
    "start_time": "2023-06-27T18:15:27.635Z"
   },
   {
    "duration": 1066,
    "start_time": "2023-06-27T18:15:31.828Z"
   },
   {
    "duration": 14,
    "start_time": "2023-06-27T18:15:32.896Z"
   },
   {
    "duration": 583,
    "start_time": "2023-06-27T18:15:32.912Z"
   },
   {
    "duration": 584,
    "start_time": "2023-06-27T18:15:33.497Z"
   },
   {
    "duration": 33,
    "start_time": "2023-06-27T18:15:34.083Z"
   },
   {
    "duration": 40,
    "start_time": "2023-06-27T18:15:34.117Z"
   },
   {
    "duration": 30,
    "start_time": "2023-06-27T18:15:34.159Z"
   },
   {
    "duration": 29,
    "start_time": "2023-06-27T18:15:34.191Z"
   },
   {
    "duration": 55,
    "start_time": "2023-06-27T18:15:34.222Z"
   },
   {
    "duration": 31,
    "start_time": "2023-06-27T18:15:34.280Z"
   },
   {
    "duration": 48,
    "start_time": "2023-06-27T18:15:34.313Z"
   },
   {
    "duration": 27,
    "start_time": "2023-06-27T18:15:34.363Z"
   },
   {
    "duration": 42,
    "start_time": "2023-06-27T18:15:34.393Z"
   },
   {
    "duration": 40,
    "start_time": "2023-06-27T18:15:34.438Z"
   },
   {
    "duration": 117,
    "start_time": "2023-06-27T18:15:34.481Z"
   },
   {
    "duration": 489,
    "start_time": "2023-06-27T18:15:34.600Z"
   },
   {
    "duration": 68,
    "start_time": "2023-06-27T18:15:35.091Z"
   },
   {
    "duration": 5,
    "start_time": "2023-06-27T18:15:35.161Z"
   },
   {
    "duration": 48,
    "start_time": "2023-06-27T18:15:35.168Z"
   },
   {
    "duration": 1892,
    "start_time": "2023-06-27T18:15:35.218Z"
   },
   {
    "duration": 81,
    "start_time": "2023-06-27T18:15:37.112Z"
   },
   {
    "duration": 354,
    "start_time": "2023-06-27T18:15:37.195Z"
   },
   {
    "duration": 63,
    "start_time": "2023-06-27T18:15:37.551Z"
   },
   {
    "duration": 413,
    "start_time": "2023-06-27T18:15:37.616Z"
   },
   {
    "duration": 53,
    "start_time": "2023-06-27T18:15:38.031Z"
   },
   {
    "duration": 88,
    "start_time": "2023-06-27T18:15:38.086Z"
   },
   {
    "duration": 15,
    "start_time": "2023-06-27T18:15:38.176Z"
   },
   {
    "duration": 85,
    "start_time": "2023-06-27T18:15:38.193Z"
   },
   {
    "duration": 814,
    "start_time": "2023-06-27T18:15:38.280Z"
   },
   {
    "duration": 242,
    "start_time": "2023-06-27T18:15:39.096Z"
   },
   {
    "duration": 27017,
    "start_time": "2023-06-27T18:15:39.341Z"
   },
   {
    "duration": 206,
    "start_time": "2023-06-27T18:16:06.361Z"
   },
   {
    "duration": 90,
    "start_time": "2023-06-27T18:16:06.570Z"
   },
   {
    "duration": 22,
    "start_time": "2023-06-27T18:16:06.662Z"
   },
   {
    "duration": 67,
    "start_time": "2023-06-27T18:16:06.755Z"
   },
   {
    "duration": 458,
    "start_time": "2023-06-27T18:16:06.824Z"
   },
   {
    "duration": 5,
    "start_time": "2023-06-27T18:16:07.284Z"
   },
   {
    "duration": 116118,
    "start_time": "2023-06-27T18:16:07.290Z"
   },
   {
    "duration": 322,
    "start_time": "2023-06-27T18:18:03.410Z"
   },
   {
    "duration": 29,
    "start_time": "2023-06-27T18:18:03.736Z"
   },
   {
    "duration": 73,
    "start_time": "2023-06-27T18:18:03.768Z"
   },
   {
    "duration": 14,
    "start_time": "2023-06-27T18:18:03.843Z"
   },
   {
    "duration": 8,
    "start_time": "2023-06-27T18:18:03.859Z"
   },
   {
    "duration": 4200,
    "start_time": "2023-06-27T18:22:29.395Z"
   },
   {
    "duration": 1028,
    "start_time": "2023-06-27T18:22:33.598Z"
   },
   {
    "duration": 14,
    "start_time": "2023-06-27T18:22:34.627Z"
   },
   {
    "duration": 518,
    "start_time": "2023-06-27T18:22:34.659Z"
   },
   {
    "duration": 626,
    "start_time": "2023-06-27T18:22:35.178Z"
   },
   {
    "duration": 52,
    "start_time": "2023-06-27T18:22:35.806Z"
   },
   {
    "duration": 23,
    "start_time": "2023-06-27T18:22:35.861Z"
   },
   {
    "duration": 30,
    "start_time": "2023-06-27T18:22:35.886Z"
   },
   {
    "duration": 49,
    "start_time": "2023-06-27T18:22:35.918Z"
   },
   {
    "duration": 33,
    "start_time": "2023-06-27T18:22:35.970Z"
   },
   {
    "duration": 25,
    "start_time": "2023-06-27T18:22:36.005Z"
   },
   {
    "duration": 52,
    "start_time": "2023-06-27T18:22:36.032Z"
   },
   {
    "duration": 26,
    "start_time": "2023-06-27T18:22:36.086Z"
   },
   {
    "duration": 56,
    "start_time": "2023-06-27T18:22:36.115Z"
   },
   {
    "duration": 24,
    "start_time": "2023-06-27T18:22:36.173Z"
   },
   {
    "duration": 131,
    "start_time": "2023-06-27T18:22:36.199Z"
   },
   {
    "duration": 493,
    "start_time": "2023-06-27T18:22:36.331Z"
   },
   {
    "duration": 67,
    "start_time": "2023-06-27T18:22:36.826Z"
   },
   {
    "duration": 5,
    "start_time": "2023-06-27T18:22:36.895Z"
   },
   {
    "duration": 27,
    "start_time": "2023-06-27T18:22:36.902Z"
   },
   {
    "duration": 2050,
    "start_time": "2023-06-27T18:22:36.931Z"
   },
   {
    "duration": 98,
    "start_time": "2023-06-27T18:22:38.984Z"
   },
   {
    "duration": 396,
    "start_time": "2023-06-27T18:22:39.084Z"
   },
   {
    "duration": 80,
    "start_time": "2023-06-27T18:22:39.482Z"
   },
   {
    "duration": 417,
    "start_time": "2023-06-27T18:22:39.563Z"
   },
   {
    "duration": 45,
    "start_time": "2023-06-27T18:22:39.982Z"
   },
   {
    "duration": 106,
    "start_time": "2023-06-27T18:22:40.029Z"
   },
   {
    "duration": 20,
    "start_time": "2023-06-27T18:22:40.138Z"
   },
   {
    "duration": 96,
    "start_time": "2023-06-27T18:22:40.160Z"
   },
   {
    "duration": 783,
    "start_time": "2023-06-27T18:22:40.258Z"
   },
   {
    "duration": 241,
    "start_time": "2023-06-27T18:22:41.043Z"
   },
   {
    "duration": 27149,
    "start_time": "2023-06-27T18:22:41.286Z"
   },
   {
    "duration": 125,
    "start_time": "2023-06-27T18:23:08.439Z"
   },
   {
    "duration": 93,
    "start_time": "2023-06-27T18:23:08.565Z"
   },
   {
    "duration": 102,
    "start_time": "2023-06-27T18:23:08.665Z"
   },
   {
    "duration": 70,
    "start_time": "2023-06-27T18:23:08.770Z"
   },
   {
    "duration": 551,
    "start_time": "2023-06-27T18:23:08.842Z"
   },
   {
    "duration": 5,
    "start_time": "2023-06-27T18:23:09.394Z"
   },
   {
    "duration": 109082,
    "start_time": "2023-06-27T18:23:09.401Z"
   },
   {
    "duration": 324,
    "start_time": "2023-06-27T18:24:58.485Z"
   },
   {
    "duration": 16,
    "start_time": "2023-06-27T18:24:58.811Z"
   },
   {
    "duration": 81,
    "start_time": "2023-06-27T18:24:58.829Z"
   },
   {
    "duration": 2,
    "start_time": "2023-06-27T18:24:58.912Z"
   },
   {
    "duration": 6,
    "start_time": "2023-06-27T18:24:58.916Z"
   },
   {
    "duration": 4015,
    "start_time": "2023-06-27T18:39:44.186Z"
   },
   {
    "duration": 1158,
    "start_time": "2023-06-27T18:39:48.203Z"
   },
   {
    "duration": 14,
    "start_time": "2023-06-27T18:39:49.362Z"
   },
   {
    "duration": 532,
    "start_time": "2023-06-27T18:39:49.378Z"
   },
   {
    "duration": 575,
    "start_time": "2023-06-27T18:39:49.913Z"
   },
   {
    "duration": 31,
    "start_time": "2023-06-27T18:39:50.490Z"
   },
   {
    "duration": 36,
    "start_time": "2023-06-27T18:39:50.523Z"
   },
   {
    "duration": 30,
    "start_time": "2023-06-27T18:39:50.561Z"
   },
   {
    "duration": 25,
    "start_time": "2023-06-27T18:39:50.593Z"
   },
   {
    "duration": 50,
    "start_time": "2023-06-27T18:39:50.620Z"
   },
   {
    "duration": 28,
    "start_time": "2023-06-27T18:39:50.671Z"
   },
   {
    "duration": 44,
    "start_time": "2023-06-27T18:39:50.702Z"
   },
   {
    "duration": 42,
    "start_time": "2023-06-27T18:39:50.748Z"
   },
   {
    "duration": 39,
    "start_time": "2023-06-27T18:39:50.794Z"
   },
   {
    "duration": 33,
    "start_time": "2023-06-27T18:39:50.835Z"
   },
   {
    "duration": 122,
    "start_time": "2023-06-27T18:39:50.870Z"
   },
   {
    "duration": 496,
    "start_time": "2023-06-27T18:39:50.995Z"
   },
   {
    "duration": 66,
    "start_time": "2023-06-27T18:39:51.493Z"
   },
   {
    "duration": 5,
    "start_time": "2023-06-27T18:39:51.561Z"
   },
   {
    "duration": 36,
    "start_time": "2023-06-27T18:39:51.568Z"
   },
   {
    "duration": 1921,
    "start_time": "2023-06-27T18:39:51.606Z"
   },
   {
    "duration": 82,
    "start_time": "2023-06-27T18:39:53.529Z"
   },
   {
    "duration": 334,
    "start_time": "2023-06-27T18:39:53.613Z"
   },
   {
    "duration": 67,
    "start_time": "2023-06-27T18:39:53.949Z"
   },
   {
    "duration": 422,
    "start_time": "2023-06-27T18:39:54.018Z"
   },
   {
    "duration": 56,
    "start_time": "2023-06-27T18:39:54.443Z"
   },
   {
    "duration": 108,
    "start_time": "2023-06-27T18:39:54.501Z"
   },
   {
    "duration": 15,
    "start_time": "2023-06-27T18:39:54.612Z"
   },
   {
    "duration": 86,
    "start_time": "2023-06-27T18:39:54.629Z"
   },
   {
    "duration": 869,
    "start_time": "2023-06-27T18:39:54.718Z"
   },
   {
    "duration": 238,
    "start_time": "2023-06-27T18:39:55.589Z"
   },
   {
    "duration": 28342,
    "start_time": "2023-06-27T18:39:55.829Z"
   },
   {
    "duration": 194,
    "start_time": "2023-06-27T18:40:24.173Z"
   },
   {
    "duration": 9,
    "start_time": "2023-06-27T18:40:24.457Z"
   },
   {
    "duration": 16,
    "start_time": "2023-06-27T18:40:24.558Z"
   },
   {
    "duration": 91,
    "start_time": "2023-06-27T18:40:24.576Z"
   },
   {
    "duration": 430,
    "start_time": "2023-06-27T18:40:24.669Z"
   },
   {
    "duration": 3,
    "start_time": "2023-06-27T18:40:25.101Z"
   },
   {
    "duration": 115985,
    "start_time": "2023-06-27T18:40:25.106Z"
   },
   {
    "duration": 304,
    "start_time": "2023-06-27T18:42:21.093Z"
   },
   {
    "duration": 16,
    "start_time": "2023-06-27T18:42:21.401Z"
   },
   {
    "duration": 88,
    "start_time": "2023-06-27T18:42:21.420Z"
   },
   {
    "duration": 3,
    "start_time": "2023-06-27T18:42:21.510Z"
   },
   {
    "duration": 79,
    "start_time": "2023-06-27T18:42:21.515Z"
   },
   {
    "duration": 4104,
    "start_time": "2023-06-27T18:45:42.140Z"
   },
   {
    "duration": 1117,
    "start_time": "2023-06-27T18:45:46.247Z"
   },
   {
    "duration": 20,
    "start_time": "2023-06-27T18:45:47.367Z"
   },
   {
    "duration": 537,
    "start_time": "2023-06-27T18:45:47.389Z"
   },
   {
    "duration": 629,
    "start_time": "2023-06-27T18:45:47.928Z"
   },
   {
    "duration": 30,
    "start_time": "2023-06-27T18:45:48.559Z"
   },
   {
    "duration": 31,
    "start_time": "2023-06-27T18:45:48.591Z"
   },
   {
    "duration": 55,
    "start_time": "2023-06-27T18:45:48.624Z"
   },
   {
    "duration": 25,
    "start_time": "2023-06-27T18:45:48.681Z"
   },
   {
    "duration": 31,
    "start_time": "2023-06-27T18:45:48.708Z"
   },
   {
    "duration": 20,
    "start_time": "2023-06-27T18:45:48.756Z"
   },
   {
    "duration": 42,
    "start_time": "2023-06-27T18:45:48.778Z"
   },
   {
    "duration": 35,
    "start_time": "2023-06-27T18:45:48.822Z"
   },
   {
    "duration": 31,
    "start_time": "2023-06-27T18:45:48.860Z"
   },
   {
    "duration": 20,
    "start_time": "2023-06-27T18:45:48.892Z"
   },
   {
    "duration": 164,
    "start_time": "2023-06-27T18:45:48.914Z"
   },
   {
    "duration": 547,
    "start_time": "2023-06-27T18:45:49.080Z"
   },
   {
    "duration": 71,
    "start_time": "2023-06-27T18:45:49.629Z"
   },
   {
    "duration": 6,
    "start_time": "2023-06-27T18:45:49.701Z"
   },
   {
    "duration": 27,
    "start_time": "2023-06-27T18:45:49.708Z"
   },
   {
    "duration": 1841,
    "start_time": "2023-06-27T18:45:49.737Z"
   },
   {
    "duration": 81,
    "start_time": "2023-06-27T18:45:51.579Z"
   },
   {
    "duration": 311,
    "start_time": "2023-06-27T18:45:51.662Z"
   },
   {
    "duration": 64,
    "start_time": "2023-06-27T18:45:51.975Z"
   },
   {
    "duration": 407,
    "start_time": "2023-06-27T18:45:52.057Z"
   },
   {
    "duration": 44,
    "start_time": "2023-06-27T18:45:52.466Z"
   },
   {
    "duration": 99,
    "start_time": "2023-06-27T18:45:52.512Z"
   },
   {
    "duration": 14,
    "start_time": "2023-06-27T18:45:52.613Z"
   },
   {
    "duration": 89,
    "start_time": "2023-06-27T18:45:52.629Z"
   },
   {
    "duration": 836,
    "start_time": "2023-06-27T18:45:52.720Z"
   },
   {
    "duration": 230,
    "start_time": "2023-06-27T18:45:53.559Z"
   },
   {
    "duration": 33571,
    "start_time": "2023-06-27T18:45:53.791Z"
   },
   {
    "duration": 195,
    "start_time": "2023-06-27T18:46:27.364Z"
   },
   {
    "duration": 8,
    "start_time": "2023-06-27T18:46:27.561Z"
   },
   {
    "duration": 97,
    "start_time": "2023-06-27T18:46:27.572Z"
   },
   {
    "duration": 96,
    "start_time": "2023-06-27T18:46:27.671Z"
   },
   {
    "duration": 461,
    "start_time": "2023-06-27T18:46:27.770Z"
   },
   {
    "duration": 4,
    "start_time": "2023-06-27T18:46:28.233Z"
   },
   {
    "duration": 123258,
    "start_time": "2023-06-27T18:46:28.239Z"
   },
   {
    "duration": 306,
    "start_time": "2023-06-27T18:48:31.498Z"
   },
   {
    "duration": 19,
    "start_time": "2023-06-27T18:48:31.810Z"
   },
   {
    "duration": 87,
    "start_time": "2023-06-27T18:48:31.831Z"
   },
   {
    "duration": 3,
    "start_time": "2023-06-27T18:48:31.920Z"
   },
   {
    "duration": 19,
    "start_time": "2023-06-27T18:48:31.925Z"
   },
   {
    "duration": 6393,
    "start_time": "2023-06-27T19:31:32.014Z"
   },
   {
    "duration": 1481,
    "start_time": "2023-06-27T19:31:38.409Z"
   },
   {
    "duration": 25,
    "start_time": "2023-06-27T19:31:39.891Z"
   },
   {
    "duration": 606,
    "start_time": "2023-06-27T19:31:39.919Z"
   },
   {
    "duration": 600,
    "start_time": "2023-06-27T19:31:40.527Z"
   },
   {
    "duration": 49,
    "start_time": "2023-06-27T19:31:41.129Z"
   },
   {
    "duration": 23,
    "start_time": "2023-06-27T19:31:41.185Z"
   },
   {
    "duration": 34,
    "start_time": "2023-06-27T19:31:41.210Z"
   },
   {
    "duration": 42,
    "start_time": "2023-06-27T19:31:41.262Z"
   },
   {
    "duration": 33,
    "start_time": "2023-06-27T19:31:41.307Z"
   },
   {
    "duration": 44,
    "start_time": "2023-06-27T19:31:41.342Z"
   },
   {
    "duration": 32,
    "start_time": "2023-06-27T19:31:41.388Z"
   },
   {
    "duration": 54,
    "start_time": "2023-06-27T19:31:41.422Z"
   },
   {
    "duration": 63,
    "start_time": "2023-06-27T19:31:41.478Z"
   },
   {
    "duration": 49,
    "start_time": "2023-06-27T19:31:41.542Z"
   },
   {
    "duration": 125,
    "start_time": "2023-06-27T19:31:41.593Z"
   },
   {
    "duration": 576,
    "start_time": "2023-06-27T19:31:41.719Z"
   },
   {
    "duration": 68,
    "start_time": "2023-06-27T19:31:42.297Z"
   },
   {
    "duration": 9,
    "start_time": "2023-06-27T19:31:42.377Z"
   },
   {
    "duration": 28,
    "start_time": "2023-06-27T19:31:42.388Z"
   },
   {
    "duration": 2131,
    "start_time": "2023-06-27T19:31:42.418Z"
   },
   {
    "duration": 79,
    "start_time": "2023-06-27T19:31:44.551Z"
   },
   {
    "duration": 369,
    "start_time": "2023-06-27T19:31:44.632Z"
   },
   {
    "duration": 85,
    "start_time": "2023-06-27T19:31:45.003Z"
   },
   {
    "duration": 444,
    "start_time": "2023-06-27T19:31:45.090Z"
   },
   {
    "duration": 59,
    "start_time": "2023-06-27T19:31:45.536Z"
   },
   {
    "duration": 119,
    "start_time": "2023-06-27T19:31:45.596Z"
   },
   {
    "duration": 14,
    "start_time": "2023-06-27T19:31:45.719Z"
   },
   {
    "duration": 94,
    "start_time": "2023-06-27T19:31:45.735Z"
   },
   {
    "duration": 683,
    "start_time": "2023-06-27T19:31:45.831Z"
   },
   {
    "duration": 228,
    "start_time": "2023-06-27T19:31:46.515Z"
   },
   {
    "duration": 54712,
    "start_time": "2023-06-27T19:31:46.745Z"
   },
   {
    "duration": 201,
    "start_time": "2023-06-27T19:32:41.460Z"
   },
   {
    "duration": 10,
    "start_time": "2023-06-27T19:32:41.664Z"
   },
   {
    "duration": 90,
    "start_time": "2023-06-27T19:32:41.677Z"
   },
   {
    "duration": 69,
    "start_time": "2023-06-27T19:32:41.770Z"
   },
   {
    "duration": 477,
    "start_time": "2023-06-27T19:32:41.841Z"
   },
   {
    "duration": 4,
    "start_time": "2023-06-27T19:32:42.320Z"
   },
   {
    "duration": 103220,
    "start_time": "2023-06-27T19:32:42.326Z"
   },
   {
    "duration": 289,
    "start_time": "2023-06-27T19:34:25.548Z"
   },
   {
    "duration": 23,
    "start_time": "2023-06-27T19:34:25.839Z"
   },
   {
    "duration": 65,
    "start_time": "2023-06-27T19:34:25.864Z"
   },
   {
    "duration": 3,
    "start_time": "2023-06-27T19:34:25.931Z"
   },
   {
    "duration": 21,
    "start_time": "2023-06-27T19:34:25.935Z"
   },
   {
    "duration": 4002,
    "start_time": "2023-06-27T19:35:03.823Z"
   },
   {
    "duration": 1019,
    "start_time": "2023-06-27T19:35:07.828Z"
   },
   {
    "duration": 22,
    "start_time": "2023-06-27T19:35:08.848Z"
   },
   {
    "duration": 647,
    "start_time": "2023-06-27T19:35:08.873Z"
   },
   {
    "duration": 578,
    "start_time": "2023-06-27T19:35:09.522Z"
   },
   {
    "duration": 29,
    "start_time": "2023-06-27T19:35:10.102Z"
   },
   {
    "duration": 47,
    "start_time": "2023-06-27T19:35:10.132Z"
   },
   {
    "duration": 28,
    "start_time": "2023-06-27T19:35:10.181Z"
   },
   {
    "duration": 22,
    "start_time": "2023-06-27T19:35:10.211Z"
   },
   {
    "duration": 53,
    "start_time": "2023-06-27T19:35:10.235Z"
   },
   {
    "duration": 23,
    "start_time": "2023-06-27T19:35:10.290Z"
   },
   {
    "duration": 53,
    "start_time": "2023-06-27T19:35:10.315Z"
   },
   {
    "duration": 36,
    "start_time": "2023-06-27T19:35:10.371Z"
   },
   {
    "duration": 50,
    "start_time": "2023-06-27T19:35:10.411Z"
   },
   {
    "duration": 24,
    "start_time": "2023-06-27T19:35:10.463Z"
   },
   {
    "duration": 142,
    "start_time": "2023-06-27T19:35:10.489Z"
   },
   {
    "duration": 528,
    "start_time": "2023-06-27T19:35:10.632Z"
   },
   {
    "duration": 59,
    "start_time": "2023-06-27T19:35:11.162Z"
   },
   {
    "duration": 6,
    "start_time": "2023-06-27T19:35:11.223Z"
   },
   {
    "duration": 63,
    "start_time": "2023-06-27T19:35:11.231Z"
   },
   {
    "duration": 2011,
    "start_time": "2023-06-27T19:35:11.298Z"
   },
   {
    "duration": 79,
    "start_time": "2023-06-27T19:35:13.312Z"
   },
   {
    "duration": 350,
    "start_time": "2023-06-27T19:35:13.393Z"
   },
   {
    "duration": 76,
    "start_time": "2023-06-27T19:35:13.745Z"
   },
   {
    "duration": 419,
    "start_time": "2023-06-27T19:35:13.822Z"
   },
   {
    "duration": 58,
    "start_time": "2023-06-27T19:35:14.243Z"
   },
   {
    "duration": 97,
    "start_time": "2023-06-27T19:35:14.303Z"
   },
   {
    "duration": 14,
    "start_time": "2023-06-27T19:35:14.402Z"
   },
   {
    "duration": 102,
    "start_time": "2023-06-27T19:35:14.418Z"
   },
   {
    "duration": 874,
    "start_time": "2023-06-27T19:35:14.522Z"
   },
   {
    "duration": 241,
    "start_time": "2023-06-27T19:35:15.398Z"
   },
   {
    "duration": 36525,
    "start_time": "2023-06-27T19:35:15.641Z"
   },
   {
    "duration": 198,
    "start_time": "2023-06-27T19:35:52.260Z"
   },
   {
    "duration": 11,
    "start_time": "2023-06-27T19:35:52.460Z"
   },
   {
    "duration": 95,
    "start_time": "2023-06-27T19:35:52.475Z"
   },
   {
    "duration": 68,
    "start_time": "2023-06-27T19:35:52.572Z"
   },
   {
    "duration": 499,
    "start_time": "2023-06-27T19:35:52.657Z"
   },
   {
    "duration": 9,
    "start_time": "2023-06-27T19:35:53.161Z"
   },
   {
    "duration": 117634,
    "start_time": "2023-06-27T19:35:53.173Z"
   },
   {
    "duration": 291,
    "start_time": "2023-06-27T19:37:50.809Z"
   },
   {
    "duration": 14,
    "start_time": "2023-06-27T19:37:51.103Z"
   },
   {
    "duration": 89,
    "start_time": "2023-06-27T19:37:51.119Z"
   },
   {
    "duration": 2,
    "start_time": "2023-06-27T19:37:51.211Z"
   },
   {
    "duration": 16,
    "start_time": "2023-06-27T19:37:51.215Z"
   },
   {
    "duration": 115797,
    "start_time": "2023-06-27T19:37:51.233Z"
   },
   {
    "duration": 4752,
    "start_time": "2023-06-27T19:39:47.057Z"
   },
   {
    "duration": 0,
    "start_time": "2023-06-27T19:39:51.811Z"
   },
   {
    "duration": 4459,
    "start_time": "2023-06-27T19:42:53.016Z"
   },
   {
    "duration": 4573,
    "start_time": "2023-06-27T19:47:13.187Z"
   },
   {
    "duration": 4,
    "start_time": "2023-06-27T20:02:41.986Z"
   },
   {
    "duration": 4523,
    "start_time": "2023-06-27T20:04:56.604Z"
   },
   {
    "duration": 9809,
    "start_time": "2023-06-27T20:07:34.330Z"
   },
   {
    "duration": 107470,
    "start_time": "2023-06-27T20:07:58.253Z"
   },
   {
    "duration": 3,
    "start_time": "2023-06-27T20:11:21.012Z"
   },
   {
    "duration": 4714,
    "start_time": "2023-06-27T20:11:40.184Z"
   },
   {
    "duration": 1191,
    "start_time": "2023-06-27T20:11:44.900Z"
   },
   {
    "duration": 22,
    "start_time": "2023-06-27T20:11:46.101Z"
   },
   {
    "duration": 598,
    "start_time": "2023-06-27T20:11:46.125Z"
   },
   {
    "duration": 668,
    "start_time": "2023-06-27T20:11:46.725Z"
   },
   {
    "duration": 33,
    "start_time": "2023-06-27T20:11:47.404Z"
   },
   {
    "duration": 58,
    "start_time": "2023-06-27T20:11:47.439Z"
   },
   {
    "duration": 31,
    "start_time": "2023-06-27T20:11:47.499Z"
   },
   {
    "duration": 33,
    "start_time": "2023-06-27T20:11:47.532Z"
   },
   {
    "duration": 53,
    "start_time": "2023-06-27T20:11:47.572Z"
   },
   {
    "duration": 32,
    "start_time": "2023-06-27T20:11:47.627Z"
   },
   {
    "duration": 46,
    "start_time": "2023-06-27T20:11:47.663Z"
   },
   {
    "duration": 24,
    "start_time": "2023-06-27T20:11:47.711Z"
   },
   {
    "duration": 65,
    "start_time": "2023-06-27T20:11:47.737Z"
   },
   {
    "duration": 29,
    "start_time": "2023-06-27T20:11:47.804Z"
   },
   {
    "duration": 157,
    "start_time": "2023-06-27T20:11:47.835Z"
   },
   {
    "duration": 602,
    "start_time": "2023-06-27T20:11:48.002Z"
   },
   {
    "duration": 73,
    "start_time": "2023-06-27T20:11:48.607Z"
   },
   {
    "duration": 7,
    "start_time": "2023-06-27T20:11:48.682Z"
   },
   {
    "duration": 36,
    "start_time": "2023-06-27T20:11:48.692Z"
   },
   {
    "duration": 2200,
    "start_time": "2023-06-27T20:11:48.730Z"
   },
   {
    "duration": 89,
    "start_time": "2023-06-27T20:11:50.932Z"
   },
   {
    "duration": 375,
    "start_time": "2023-06-27T20:11:51.023Z"
   },
   {
    "duration": 84,
    "start_time": "2023-06-27T20:11:51.401Z"
   },
   {
    "duration": 451,
    "start_time": "2023-06-27T20:11:51.492Z"
   },
   {
    "duration": 59,
    "start_time": "2023-06-27T20:11:51.945Z"
   },
   {
    "duration": 116,
    "start_time": "2023-06-27T20:11:52.006Z"
   },
   {
    "duration": 15,
    "start_time": "2023-06-27T20:11:52.127Z"
   },
   {
    "duration": 86,
    "start_time": "2023-06-27T20:11:52.144Z"
   },
   {
    "duration": 669,
    "start_time": "2023-06-27T20:11:52.231Z"
   },
   {
    "duration": 237,
    "start_time": "2023-06-27T20:11:52.902Z"
   },
   {
    "duration": 106547,
    "start_time": "2023-06-27T20:11:53.140Z"
   },
   {
    "duration": 199,
    "start_time": "2023-06-27T20:13:39.690Z"
   },
   {
    "duration": 59,
    "start_time": "2023-06-27T20:13:39.898Z"
   },
   {
    "duration": 112,
    "start_time": "2023-06-27T20:13:39.959Z"
   },
   {
    "duration": 79,
    "start_time": "2023-06-27T20:13:40.074Z"
   },
   {
    "duration": 552,
    "start_time": "2023-06-27T20:13:40.155Z"
   },
   {
    "duration": 5,
    "start_time": "2023-06-27T20:13:40.709Z"
   },
   {
    "duration": 126014,
    "start_time": "2023-06-27T20:13:40.716Z"
   },
   {
    "duration": 312,
    "start_time": "2023-06-27T20:15:46.732Z"
   },
   {
    "duration": 33,
    "start_time": "2023-06-27T20:15:47.046Z"
   },
   {
    "duration": 73,
    "start_time": "2023-06-27T20:15:47.084Z"
   },
   {
    "duration": 4,
    "start_time": "2023-06-27T20:15:47.159Z"
   },
   {
    "duration": 27,
    "start_time": "2023-06-27T20:15:47.164Z"
   },
   {
    "duration": 4848,
    "start_time": "2023-06-27T20:17:01.214Z"
   },
   {
    "duration": 1069,
    "start_time": "2023-06-27T20:17:06.064Z"
   },
   {
    "duration": 30,
    "start_time": "2023-06-27T20:17:07.134Z"
   },
   {
    "duration": 570,
    "start_time": "2023-06-27T20:17:07.167Z"
   },
   {
    "duration": 643,
    "start_time": "2023-06-27T20:17:07.739Z"
   },
   {
    "duration": 63,
    "start_time": "2023-06-27T20:17:08.388Z"
   },
   {
    "duration": 71,
    "start_time": "2023-06-27T20:17:08.454Z"
   },
   {
    "duration": 70,
    "start_time": "2023-06-27T20:17:08.529Z"
   },
   {
    "duration": 99,
    "start_time": "2023-06-27T20:17:08.607Z"
   },
   {
    "duration": 97,
    "start_time": "2023-06-27T20:17:08.710Z"
   },
   {
    "duration": 22,
    "start_time": "2023-06-27T20:17:08.810Z"
   },
   {
    "duration": 103,
    "start_time": "2023-06-27T20:17:08.835Z"
   },
   {
    "duration": 77,
    "start_time": "2023-06-27T20:17:08.940Z"
   },
   {
    "duration": 39,
    "start_time": "2023-06-27T20:17:09.019Z"
   },
   {
    "duration": 28,
    "start_time": "2023-06-27T20:17:09.060Z"
   },
   {
    "duration": 190,
    "start_time": "2023-06-27T20:17:09.091Z"
   },
   {
    "duration": 660,
    "start_time": "2023-06-27T20:17:09.283Z"
   },
   {
    "duration": 77,
    "start_time": "2023-06-27T20:17:09.945Z"
   },
   {
    "duration": 7,
    "start_time": "2023-06-27T20:17:10.025Z"
   },
   {
    "duration": 75,
    "start_time": "2023-06-27T20:17:10.034Z"
   },
   {
    "duration": 2249,
    "start_time": "2023-06-27T20:17:10.111Z"
   },
   {
    "duration": 107,
    "start_time": "2023-06-27T20:17:12.362Z"
   },
   {
    "duration": 425,
    "start_time": "2023-06-27T20:17:12.481Z"
   },
   {
    "duration": 97,
    "start_time": "2023-06-27T20:17:12.909Z"
   },
   {
    "duration": 622,
    "start_time": "2023-06-27T20:17:13.009Z"
   },
   {
    "duration": 50,
    "start_time": "2023-06-27T20:17:13.633Z"
   },
   {
    "duration": 114,
    "start_time": "2023-06-27T20:17:13.685Z"
   },
   {
    "duration": 16,
    "start_time": "2023-06-27T20:17:13.809Z"
   },
   {
    "duration": 96,
    "start_time": "2023-06-27T20:17:13.828Z"
   },
   {
    "duration": 722,
    "start_time": "2023-06-27T20:17:13.926Z"
   },
   {
    "duration": 255,
    "start_time": "2023-06-27T20:17:14.650Z"
   },
   {
    "duration": 94685,
    "start_time": "2023-06-27T20:17:14.907Z"
   },
   {
    "duration": 203,
    "start_time": "2023-06-27T20:18:49.657Z"
   },
   {
    "duration": 8,
    "start_time": "2023-06-27T20:18:49.874Z"
   },
   {
    "duration": 86,
    "start_time": "2023-06-27T20:18:49.888Z"
   },
   {
    "duration": 68,
    "start_time": "2023-06-27T20:18:49.980Z"
   },
   {
    "duration": 500,
    "start_time": "2023-06-27T20:18:50.050Z"
   },
   {
    "duration": 7,
    "start_time": "2023-06-27T20:18:50.555Z"
   },
   {
    "duration": 118265,
    "start_time": "2023-06-27T20:18:50.565Z"
   },
   {
    "duration": 335,
    "start_time": "2023-06-27T20:20:48.840Z"
   },
   {
    "duration": 25,
    "start_time": "2023-06-27T20:20:49.183Z"
   },
   {
    "duration": 108,
    "start_time": "2023-06-27T20:20:49.211Z"
   },
   {
    "duration": 4,
    "start_time": "2023-06-27T20:20:49.323Z"
   },
   {
    "duration": 17,
    "start_time": "2023-06-27T20:20:49.329Z"
   },
   {
    "duration": 112966,
    "start_time": "2023-06-27T20:20:49.349Z"
   },
   {
    "duration": 4,
    "start_time": "2023-06-27T20:22:42.317Z"
   },
   {
    "duration": 103010,
    "start_time": "2023-06-27T20:22:42.323Z"
   },
   {
    "duration": 104623,
    "start_time": "2023-06-27T20:24:51.296Z"
   },
   {
    "duration": 3899,
    "start_time": "2023-06-28T06:59:23.897Z"
   },
   {
    "duration": 926,
    "start_time": "2023-06-28T06:59:27.798Z"
   },
   {
    "duration": 12,
    "start_time": "2023-06-28T06:59:28.726Z"
   },
   {
    "duration": 471,
    "start_time": "2023-06-28T06:59:28.741Z"
   },
   {
    "duration": 509,
    "start_time": "2023-06-28T06:59:29.214Z"
   },
   {
    "duration": 36,
    "start_time": "2023-06-28T06:59:29.725Z"
   },
   {
    "duration": 26,
    "start_time": "2023-06-28T06:59:29.762Z"
   },
   {
    "duration": 27,
    "start_time": "2023-06-28T06:59:29.790Z"
   },
   {
    "duration": 22,
    "start_time": "2023-06-28T06:59:29.819Z"
   },
   {
    "duration": 30,
    "start_time": "2023-06-28T06:59:29.860Z"
   },
   {
    "duration": 21,
    "start_time": "2023-06-28T06:59:29.892Z"
   },
   {
    "duration": 46,
    "start_time": "2023-06-28T06:59:29.915Z"
   },
   {
    "duration": 23,
    "start_time": "2023-06-28T06:59:29.962Z"
   },
   {
    "duration": 33,
    "start_time": "2023-06-28T06:59:29.987Z"
   },
   {
    "duration": 48,
    "start_time": "2023-06-28T06:59:30.021Z"
   },
   {
    "duration": 137,
    "start_time": "2023-06-28T06:59:30.071Z"
   },
   {
    "duration": 486,
    "start_time": "2023-06-28T06:59:30.211Z"
   },
   {
    "duration": 61,
    "start_time": "2023-06-28T06:59:30.699Z"
   },
   {
    "duration": 140,
    "start_time": "2023-06-28T06:59:30.762Z"
   },
   {
    "duration": 182,
    "start_time": "2023-06-28T06:59:30.904Z"
   },
   {
    "duration": 1934,
    "start_time": "2023-06-28T06:59:31.088Z"
   },
   {
    "duration": 70,
    "start_time": "2023-06-28T06:59:33.029Z"
   },
   {
    "duration": 323,
    "start_time": "2023-06-28T06:59:33.101Z"
   },
   {
    "duration": 73,
    "start_time": "2023-06-28T06:59:33.425Z"
   },
   {
    "duration": 359,
    "start_time": "2023-06-28T06:59:33.501Z"
   },
   {
    "duration": 41,
    "start_time": "2023-06-28T06:59:33.862Z"
   },
   {
    "duration": 98,
    "start_time": "2023-06-28T06:59:33.904Z"
   },
   {
    "duration": 15,
    "start_time": "2023-06-28T06:59:34.006Z"
   },
   {
    "duration": 105,
    "start_time": "2023-06-28T06:59:34.023Z"
   },
   {
    "duration": 604,
    "start_time": "2023-06-28T06:59:34.131Z"
   },
   {
    "duration": 200,
    "start_time": "2023-06-28T06:59:34.737Z"
   },
   {
    "duration": 22420,
    "start_time": "2023-06-28T06:59:34.939Z"
   },
   {
    "duration": 201,
    "start_time": "2023-06-28T06:59:57.361Z"
   },
   {
    "duration": 6,
    "start_time": "2023-06-28T06:59:57.563Z"
   },
   {
    "duration": 111,
    "start_time": "2023-06-28T06:59:57.570Z"
   },
   {
    "duration": 59,
    "start_time": "2023-06-28T06:59:57.682Z"
   },
   {
    "duration": 431,
    "start_time": "2023-06-28T06:59:57.743Z"
   },
   {
    "duration": 4,
    "start_time": "2023-06-28T06:59:58.176Z"
   },
   {
    "duration": 96261,
    "start_time": "2023-06-28T06:59:58.182Z"
   },
   {
    "duration": 284,
    "start_time": "2023-06-28T07:01:34.444Z"
   },
   {
    "duration": 14,
    "start_time": "2023-06-28T07:01:34.730Z"
   },
   {
    "duration": 73,
    "start_time": "2023-06-28T07:01:34.746Z"
   },
   {
    "duration": 3,
    "start_time": "2023-06-28T07:01:34.821Z"
   },
   {
    "duration": 15,
    "start_time": "2023-06-28T07:01:34.825Z"
   },
   {
    "duration": 103847,
    "start_time": "2023-06-28T07:01:34.842Z"
   },
   {
    "duration": 4,
    "start_time": "2023-06-28T07:03:18.690Z"
   },
   {
    "duration": 90240,
    "start_time": "2023-06-28T07:03:18.695Z"
   },
   {
    "duration": 2332,
    "start_time": "2023-06-28T08:07:13.666Z"
   },
   {
    "duration": 2044,
    "start_time": "2023-06-28T08:07:18.412Z"
   },
   {
    "duration": 21,
    "start_time": "2023-06-28T08:08:09.207Z"
   },
   {
    "duration": 3,
    "start_time": "2023-06-28T08:09:55.564Z"
   },
   {
    "duration": 95,
    "start_time": "2023-06-28T08:14:42.895Z"
   },
   {
    "duration": 54,
    "start_time": "2023-06-28T08:14:58.468Z"
   },
   {
    "duration": 248,
    "start_time": "2023-06-28T08:15:17.607Z"
   },
   {
    "duration": 2485,
    "start_time": "2023-06-28T08:16:38.053Z"
   },
   {
    "duration": 5,
    "start_time": "2023-06-28T08:16:40.975Z"
   },
   {
    "duration": 141,
    "start_time": "2023-06-28T08:16:44.111Z"
   },
   {
    "duration": 2009,
    "start_time": "2023-06-28T08:19:21.612Z"
   },
   {
    "duration": 9,
    "start_time": "2023-06-28T08:20:04.455Z"
   },
   {
    "duration": 199,
    "start_time": "2023-06-28T08:20:25.869Z"
   },
   {
    "duration": 20,
    "start_time": "2023-06-28T08:22:20.540Z"
   },
   {
    "duration": 274,
    "start_time": "2023-06-28T08:26:52.212Z"
   },
   {
    "duration": 6,
    "start_time": "2023-06-28T08:50:07.204Z"
   },
   {
    "duration": 5,
    "start_time": "2023-06-28T08:53:30.991Z"
   },
   {
    "duration": 115,
    "start_time": "2023-06-28T08:53:36.324Z"
   },
   {
    "duration": 5,
    "start_time": "2023-06-28T08:53:43.749Z"
   },
   {
    "duration": 131,
    "start_time": "2023-06-28T08:54:31.119Z"
   },
   {
    "duration": 5,
    "start_time": "2023-06-28T08:55:32.264Z"
   },
   {
    "duration": 139,
    "start_time": "2023-06-28T08:55:34.749Z"
   },
   {
    "duration": 5,
    "start_time": "2023-06-28T08:56:20.845Z"
   },
   {
    "duration": 144,
    "start_time": "2023-06-28T08:56:23.637Z"
   },
   {
    "duration": 13,
    "start_time": "2023-06-28T09:00:20.033Z"
   },
   {
    "duration": 5,
    "start_time": "2023-06-28T09:00:40.319Z"
   },
   {
    "duration": 187,
    "start_time": "2023-06-28T09:00:43.076Z"
   },
   {
    "duration": 4,
    "start_time": "2023-06-28T09:04:41.155Z"
   },
   {
    "duration": 259,
    "start_time": "2023-06-28T09:04:42.466Z"
   },
   {
    "duration": 3985,
    "start_time": "2023-06-28T09:05:34.342Z"
   },
   {
    "duration": 919,
    "start_time": "2023-06-28T09:05:38.329Z"
   },
   {
    "duration": 11,
    "start_time": "2023-06-28T09:05:39.250Z"
   },
   {
    "duration": 485,
    "start_time": "2023-06-28T09:05:39.263Z"
   },
   {
    "duration": 505,
    "start_time": "2023-06-28T09:05:39.750Z"
   },
   {
    "duration": 32,
    "start_time": "2023-06-28T09:05:40.256Z"
   },
   {
    "duration": 36,
    "start_time": "2023-06-28T09:05:40.289Z"
   },
   {
    "duration": 41,
    "start_time": "2023-06-28T09:05:40.327Z"
   },
   {
    "duration": 23,
    "start_time": "2023-06-28T09:05:40.370Z"
   },
   {
    "duration": 31,
    "start_time": "2023-06-28T09:05:40.397Z"
   },
   {
    "duration": 39,
    "start_time": "2023-06-28T09:05:40.430Z"
   },
   {
    "duration": 32,
    "start_time": "2023-06-28T09:05:40.471Z"
   },
   {
    "duration": 42,
    "start_time": "2023-06-28T09:05:40.505Z"
   },
   {
    "duration": 31,
    "start_time": "2023-06-28T09:05:40.549Z"
   },
   {
    "duration": 21,
    "start_time": "2023-06-28T09:05:40.582Z"
   },
   {
    "duration": 118,
    "start_time": "2023-06-28T09:05:40.605Z"
   },
   {
    "duration": 443,
    "start_time": "2023-06-28T09:05:40.724Z"
   },
   {
    "duration": 53,
    "start_time": "2023-06-28T09:05:41.168Z"
   },
   {
    "duration": 5,
    "start_time": "2023-06-28T09:05:41.222Z"
   },
   {
    "duration": 45,
    "start_time": "2023-06-28T09:05:41.228Z"
   },
   {
    "duration": 1797,
    "start_time": "2023-06-28T09:05:41.275Z"
   },
   {
    "duration": 64,
    "start_time": "2023-06-28T09:05:43.073Z"
   },
   {
    "duration": 310,
    "start_time": "2023-06-28T09:05:43.139Z"
   },
   {
    "duration": 65,
    "start_time": "2023-06-28T09:05:43.458Z"
   },
   {
    "duration": 363,
    "start_time": "2023-06-28T09:05:43.525Z"
   },
   {
    "duration": 40,
    "start_time": "2023-06-28T09:05:43.891Z"
   },
   {
    "duration": 100,
    "start_time": "2023-06-28T09:05:43.933Z"
   },
   {
    "duration": 26,
    "start_time": "2023-06-28T09:05:44.038Z"
   },
   {
    "duration": 97,
    "start_time": "2023-06-28T09:05:44.067Z"
   },
   {
    "duration": 714,
    "start_time": "2023-06-28T09:05:44.167Z"
   },
   {
    "duration": 209,
    "start_time": "2023-06-28T09:05:44.882Z"
   },
   {
    "duration": 20676,
    "start_time": "2023-06-28T09:05:45.093Z"
   },
   {
    "duration": 202,
    "start_time": "2023-06-28T09:06:05.860Z"
   },
   {
    "duration": 5,
    "start_time": "2023-06-28T09:06:06.066Z"
   },
   {
    "duration": 35,
    "start_time": "2023-06-28T09:06:06.158Z"
   },
   {
    "duration": 67,
    "start_time": "2023-06-28T09:06:06.194Z"
   },
   {
    "duration": 452,
    "start_time": "2023-06-28T09:06:06.263Z"
   },
   {
    "duration": 4,
    "start_time": "2023-06-28T09:06:06.717Z"
   },
   {
    "duration": 92572,
    "start_time": "2023-06-28T09:06:06.722Z"
   },
   {
    "duration": 279,
    "start_time": "2023-06-28T09:07:39.297Z"
   },
   {
    "duration": 13,
    "start_time": "2023-06-28T09:07:39.578Z"
   },
   {
    "duration": 74,
    "start_time": "2023-06-28T09:07:39.593Z"
   },
   {
    "duration": 3,
    "start_time": "2023-06-28T09:07:39.669Z"
   },
   {
    "duration": 10,
    "start_time": "2023-06-28T09:07:39.673Z"
   },
   {
    "duration": 104001,
    "start_time": "2023-06-28T09:07:39.684Z"
   },
   {
    "duration": 4,
    "start_time": "2023-06-28T09:09:23.687Z"
   },
   {
    "duration": 90413,
    "start_time": "2023-06-28T09:09:23.692Z"
   },
   {
    "duration": 19,
    "start_time": "2023-06-28T09:10:54.108Z"
   },
   {
    "duration": 99,
    "start_time": "2023-06-28T09:10:54.129Z"
   },
   {
    "duration": 14,
    "start_time": "2023-06-28T09:10:54.230Z"
   },
   {
    "duration": 14,
    "start_time": "2023-06-28T09:10:54.246Z"
   },
   {
    "duration": 259,
    "start_time": "2023-06-28T09:10:54.263Z"
   },
   {
    "duration": 21,
    "start_time": "2023-06-28T09:28:22.319Z"
   },
   {
    "duration": 301,
    "start_time": "2023-06-28T09:31:29.930Z"
   },
   {
    "duration": 60,
    "start_time": "2023-06-28T09:31:37.002Z"
   },
   {
    "duration": 5,
    "start_time": "2023-06-28T09:31:55.170Z"
   },
   {
    "duration": 153,
    "start_time": "2023-06-28T09:31:57.367Z"
   },
   {
    "duration": 163,
    "start_time": "2023-06-28T09:32:31.235Z"
   },
   {
    "duration": 34,
    "start_time": "2023-06-28T09:32:32.474Z"
   },
   {
    "duration": 10,
    "start_time": "2023-06-28T09:32:33.624Z"
   },
   {
    "duration": 3830,
    "start_time": "2023-06-28T09:39:31.530Z"
   },
   {
    "duration": 887,
    "start_time": "2023-06-28T09:39:35.363Z"
   },
   {
    "duration": 14,
    "start_time": "2023-06-28T09:39:36.252Z"
   },
   {
    "duration": 473,
    "start_time": "2023-06-28T09:39:36.268Z"
   },
   {
    "duration": 488,
    "start_time": "2023-06-28T09:39:36.743Z"
   },
   {
    "duration": 32,
    "start_time": "2023-06-28T09:39:37.232Z"
   },
   {
    "duration": 20,
    "start_time": "2023-06-28T09:39:37.265Z"
   },
   {
    "duration": 27,
    "start_time": "2023-06-28T09:39:37.287Z"
   },
   {
    "duration": 19,
    "start_time": "2023-06-28T09:39:37.315Z"
   },
   {
    "duration": 45,
    "start_time": "2023-06-28T09:39:37.337Z"
   },
   {
    "duration": 18,
    "start_time": "2023-06-28T09:39:37.384Z"
   },
   {
    "duration": 30,
    "start_time": "2023-06-28T09:39:37.403Z"
   },
   {
    "duration": 20,
    "start_time": "2023-06-28T09:39:37.459Z"
   },
   {
    "duration": 29,
    "start_time": "2023-06-28T09:39:37.481Z"
   },
   {
    "duration": 20,
    "start_time": "2023-06-28T09:39:37.512Z"
   },
   {
    "duration": 126,
    "start_time": "2023-06-28T09:39:37.533Z"
   },
   {
    "duration": 420,
    "start_time": "2023-06-28T09:39:37.661Z"
   },
   {
    "duration": 50,
    "start_time": "2023-06-28T09:39:38.083Z"
   },
   {
    "duration": 15,
    "start_time": "2023-06-28T09:39:38.135Z"
   },
   {
    "duration": 25,
    "start_time": "2023-06-28T09:39:38.158Z"
   },
   {
    "duration": 1800,
    "start_time": "2023-06-28T09:39:38.185Z"
   },
   {
    "duration": 73,
    "start_time": "2023-06-28T09:39:39.987Z"
   },
   {
    "duration": 305,
    "start_time": "2023-06-28T09:39:40.062Z"
   },
   {
    "duration": 58,
    "start_time": "2023-06-28T09:39:40.369Z"
   },
   {
    "duration": 360,
    "start_time": "2023-06-28T09:39:40.429Z"
   },
   {
    "duration": 37,
    "start_time": "2023-06-28T09:39:40.790Z"
   },
   {
    "duration": 94,
    "start_time": "2023-06-28T09:39:40.829Z"
   },
   {
    "duration": 13,
    "start_time": "2023-06-28T09:39:40.926Z"
   },
   {
    "duration": 73,
    "start_time": "2023-06-28T09:39:40.941Z"
   },
   {
    "duration": 678,
    "start_time": "2023-06-28T09:39:41.016Z"
   },
   {
    "duration": 203,
    "start_time": "2023-06-28T09:39:41.696Z"
   },
   {
    "duration": 20560,
    "start_time": "2023-06-28T09:39:41.901Z"
   },
   {
    "duration": 197,
    "start_time": "2023-06-28T09:40:02.463Z"
   },
   {
    "duration": 5,
    "start_time": "2023-06-28T09:40:02.662Z"
   },
   {
    "duration": 38,
    "start_time": "2023-06-28T09:40:02.758Z"
   },
   {
    "duration": 80,
    "start_time": "2023-06-28T09:40:02.798Z"
   },
   {
    "duration": 453,
    "start_time": "2023-06-28T09:40:02.880Z"
   },
   {
    "duration": 4,
    "start_time": "2023-06-28T09:40:03.335Z"
   },
   {
    "duration": 92408,
    "start_time": "2023-06-28T09:40:03.340Z"
   },
   {
    "duration": 283,
    "start_time": "2023-06-28T09:41:35.750Z"
   },
   {
    "duration": 25,
    "start_time": "2023-06-28T09:41:36.034Z"
   },
   {
    "duration": 68,
    "start_time": "2023-06-28T09:41:36.061Z"
   },
   {
    "duration": 3,
    "start_time": "2023-06-28T09:41:36.131Z"
   },
   {
    "duration": 24,
    "start_time": "2023-06-28T09:41:36.136Z"
   },
   {
    "duration": 102543,
    "start_time": "2023-06-28T09:41:36.162Z"
   },
   {
    "duration": 3,
    "start_time": "2023-06-28T09:43:18.707Z"
   },
   {
    "duration": 89509,
    "start_time": "2023-06-28T09:43:18.712Z"
   },
   {
    "duration": 156,
    "start_time": "2023-06-28T09:44:48.223Z"
   },
   {
    "duration": 33,
    "start_time": "2023-06-28T09:44:48.381Z"
   },
   {
    "duration": 4,
    "start_time": "2023-06-28T09:44:48.416Z"
   },
   {
    "duration": 3874,
    "start_time": "2023-06-28T09:57:39.220Z"
   },
   {
    "duration": 939,
    "start_time": "2023-06-28T09:57:43.096Z"
   },
   {
    "duration": 29,
    "start_time": "2023-06-28T09:57:44.037Z"
   },
   {
    "duration": 502,
    "start_time": "2023-06-28T09:57:44.069Z"
   },
   {
    "duration": 525,
    "start_time": "2023-06-28T09:57:44.574Z"
   },
   {
    "duration": 29,
    "start_time": "2023-06-28T09:57:45.101Z"
   },
   {
    "duration": 38,
    "start_time": "2023-06-28T09:57:45.131Z"
   },
   {
    "duration": 27,
    "start_time": "2023-06-28T09:57:45.171Z"
   },
   {
    "duration": 36,
    "start_time": "2023-06-28T09:57:45.200Z"
   },
   {
    "duration": 30,
    "start_time": "2023-06-28T09:57:45.238Z"
   },
   {
    "duration": 22,
    "start_time": "2023-06-28T09:57:45.270Z"
   },
   {
    "duration": 31,
    "start_time": "2023-06-28T09:57:45.293Z"
   },
   {
    "duration": 40,
    "start_time": "2023-06-28T09:57:45.326Z"
   },
   {
    "duration": 32,
    "start_time": "2023-06-28T09:57:45.367Z"
   },
   {
    "duration": 20,
    "start_time": "2023-06-28T09:57:45.401Z"
   },
   {
    "duration": 137,
    "start_time": "2023-06-28T09:57:45.423Z"
   },
   {
    "duration": 461,
    "start_time": "2023-06-28T09:57:45.562Z"
   },
   {
    "duration": 65,
    "start_time": "2023-06-28T09:57:46.025Z"
   },
   {
    "duration": 5,
    "start_time": "2023-06-28T09:57:46.093Z"
   },
   {
    "duration": 32,
    "start_time": "2023-06-28T09:57:46.100Z"
   },
   {
    "duration": 1817,
    "start_time": "2023-06-28T09:57:46.134Z"
   },
   {
    "duration": 67,
    "start_time": "2023-06-28T09:57:47.952Z"
   },
   {
    "duration": 302,
    "start_time": "2023-06-28T09:57:48.020Z"
   },
   {
    "duration": 63,
    "start_time": "2023-06-28T09:57:48.324Z"
   },
   {
    "duration": 347,
    "start_time": "2023-06-28T09:57:48.389Z"
   },
   {
    "duration": 42,
    "start_time": "2023-06-28T09:57:48.738Z"
   },
   {
    "duration": 89,
    "start_time": "2023-06-28T09:57:48.781Z"
   },
   {
    "duration": 14,
    "start_time": "2023-06-28T09:57:48.874Z"
   },
   {
    "duration": 79,
    "start_time": "2023-06-28T09:57:48.890Z"
   },
   {
    "duration": 695,
    "start_time": "2023-06-28T09:57:48.971Z"
   },
   {
    "duration": 204,
    "start_time": "2023-06-28T09:57:49.667Z"
   },
   {
    "duration": 27196,
    "start_time": "2023-06-28T09:57:49.873Z"
   },
   {
    "duration": 202,
    "start_time": "2023-06-28T09:58:17.160Z"
   },
   {
    "duration": 6,
    "start_time": "2023-06-28T09:58:17.363Z"
   },
   {
    "duration": 101,
    "start_time": "2023-06-28T09:58:17.370Z"
   },
   {
    "duration": 79,
    "start_time": "2023-06-28T09:58:17.473Z"
   },
   {
    "duration": 431,
    "start_time": "2023-06-28T09:58:17.554Z"
   },
   {
    "duration": 5,
    "start_time": "2023-06-28T09:58:17.987Z"
   },
   {
    "duration": 91856,
    "start_time": "2023-06-28T09:58:17.994Z"
   },
   {
    "duration": 275,
    "start_time": "2023-06-28T09:59:49.852Z"
   },
   {
    "duration": 13,
    "start_time": "2023-06-28T09:59:50.129Z"
   },
   {
    "duration": 91,
    "start_time": "2023-06-28T09:59:50.144Z"
   },
   {
    "duration": 3,
    "start_time": "2023-06-28T09:59:50.237Z"
   },
   {
    "duration": 15,
    "start_time": "2023-06-28T09:59:50.241Z"
   },
   {
    "duration": 107955,
    "start_time": "2023-06-28T09:59:50.258Z"
   },
   {
    "duration": 4,
    "start_time": "2023-06-28T10:01:38.215Z"
   },
   {
    "duration": 91934,
    "start_time": "2023-06-28T10:01:38.221Z"
   },
   {
    "duration": 149,
    "start_time": "2023-06-28T10:03:10.159Z"
   },
   {
    "duration": 30,
    "start_time": "2023-06-28T10:03:10.310Z"
   },
   {
    "duration": 4,
    "start_time": "2023-06-28T10:03:10.342Z"
   },
   {
    "duration": 304914,
    "start_time": "2023-06-28T10:03:10.347Z"
   },
   {
    "duration": 4,
    "start_time": "2023-06-28T10:08:15.262Z"
   },
   {
    "duration": 3897,
    "start_time": "2023-06-28T10:10:32.051Z"
   },
   {
    "duration": 919,
    "start_time": "2023-06-28T10:10:35.951Z"
   },
   {
    "duration": 13,
    "start_time": "2023-06-28T10:10:36.871Z"
   },
   {
    "duration": 462,
    "start_time": "2023-06-28T10:10:36.885Z"
   },
   {
    "duration": 519,
    "start_time": "2023-06-28T10:10:37.349Z"
   },
   {
    "duration": 32,
    "start_time": "2023-06-28T10:10:37.869Z"
   },
   {
    "duration": 20,
    "start_time": "2023-06-28T10:10:37.902Z"
   },
   {
    "duration": 44,
    "start_time": "2023-06-28T10:10:37.923Z"
   },
   {
    "duration": 32,
    "start_time": "2023-06-28T10:10:37.969Z"
   },
   {
    "duration": 46,
    "start_time": "2023-06-28T10:10:38.002Z"
   },
   {
    "duration": 21,
    "start_time": "2023-06-28T10:10:38.050Z"
   },
   {
    "duration": 31,
    "start_time": "2023-06-28T10:10:38.073Z"
   },
   {
    "duration": 26,
    "start_time": "2023-06-28T10:10:38.105Z"
   },
   {
    "duration": 39,
    "start_time": "2023-06-28T10:10:38.134Z"
   },
   {
    "duration": 19,
    "start_time": "2023-06-28T10:10:38.174Z"
   },
   {
    "duration": 125,
    "start_time": "2023-06-28T10:10:38.195Z"
   },
   {
    "duration": 418,
    "start_time": "2023-06-28T10:10:38.322Z"
   },
   {
    "duration": 59,
    "start_time": "2023-06-28T10:10:38.742Z"
   },
   {
    "duration": 5,
    "start_time": "2023-06-28T10:10:38.803Z"
   },
   {
    "duration": 29,
    "start_time": "2023-06-28T10:10:38.810Z"
   },
   {
    "duration": 1830,
    "start_time": "2023-06-28T10:10:38.840Z"
   },
   {
    "duration": 61,
    "start_time": "2023-06-28T10:10:40.672Z"
   },
   {
    "duration": 303,
    "start_time": "2023-06-28T10:10:40.735Z"
   },
   {
    "duration": 75,
    "start_time": "2023-06-28T10:10:41.040Z"
   },
   {
    "duration": 346,
    "start_time": "2023-06-28T10:10:41.117Z"
   },
   {
    "duration": 39,
    "start_time": "2023-06-28T10:10:41.465Z"
   },
   {
    "duration": 101,
    "start_time": "2023-06-28T10:10:41.506Z"
   },
   {
    "duration": 13,
    "start_time": "2023-06-28T10:10:41.609Z"
   },
   {
    "duration": 80,
    "start_time": "2023-06-28T10:10:41.624Z"
   },
   {
    "duration": 655,
    "start_time": "2023-06-28T10:10:41.706Z"
   },
   {
    "duration": 214,
    "start_time": "2023-06-28T10:10:42.362Z"
   },
   {
    "duration": 24589,
    "start_time": "2023-06-28T10:10:42.577Z"
   },
   {
    "duration": 197,
    "start_time": "2023-06-28T10:11:07.168Z"
   },
   {
    "duration": 98,
    "start_time": "2023-06-28T10:11:07.369Z"
   },
   {
    "duration": 100,
    "start_time": "2023-06-28T10:11:07.469Z"
   },
   {
    "duration": 57,
    "start_time": "2023-06-28T10:11:07.571Z"
   },
   {
    "duration": 448,
    "start_time": "2023-06-28T10:11:07.629Z"
   },
   {
    "duration": 4,
    "start_time": "2023-06-28T10:11:08.078Z"
   },
   {
    "duration": 95624,
    "start_time": "2023-06-28T10:11:08.084Z"
   },
   {
    "duration": 277,
    "start_time": "2023-06-28T10:12:43.710Z"
   },
   {
    "duration": 14,
    "start_time": "2023-06-28T10:12:43.991Z"
   },
   {
    "duration": 91,
    "start_time": "2023-06-28T10:12:44.007Z"
   },
   {
    "duration": 3,
    "start_time": "2023-06-28T10:12:44.101Z"
   },
   {
    "duration": 23,
    "start_time": "2023-06-28T10:12:44.106Z"
   },
   {
    "duration": 102578,
    "start_time": "2023-06-28T10:12:44.131Z"
   },
   {
    "duration": 3,
    "start_time": "2023-06-28T10:14:26.711Z"
   },
   {
    "duration": 91250,
    "start_time": "2023-06-28T10:14:26.716Z"
   },
   {
    "duration": 157,
    "start_time": "2023-06-28T10:15:57.968Z"
   },
   {
    "duration": 44,
    "start_time": "2023-06-28T10:15:58.127Z"
   },
   {
    "duration": 4,
    "start_time": "2023-06-28T10:15:58.173Z"
   },
   {
    "duration": 334998,
    "start_time": "2023-06-28T10:15:58.179Z"
   },
   {
    "duration": 4,
    "start_time": "2023-06-28T10:21:33.178Z"
   },
   {
    "duration": 132,
    "start_time": "2023-06-28T10:35:15.941Z"
   },
   {
    "duration": 163,
    "start_time": "2023-06-28T10:36:43.782Z"
   },
   {
    "duration": 4,
    "start_time": "2023-06-28T10:46:39.698Z"
   },
   {
    "duration": 20937,
    "start_time": "2023-06-28T11:06:02.177Z"
   },
   {
    "duration": 22451,
    "start_time": "2023-06-28T11:06:55.609Z"
   },
   {
    "duration": 26275,
    "start_time": "2023-06-28T11:08:18.386Z"
   },
   {
    "duration": 27009,
    "start_time": "2023-06-28T11:09:49.952Z"
   },
   {
    "duration": 120,
    "start_time": "2023-06-28T11:11:44.245Z"
   },
   {
    "duration": 5,
    "start_time": "2023-06-28T11:11:58.158Z"
   },
   {
    "duration": 96071,
    "start_time": "2023-06-28T11:12:49.986Z"
   },
   {
    "duration": 271,
    "start_time": "2023-06-28T11:15:22.157Z"
   },
   {
    "duration": 98663,
    "start_time": "2023-06-28T11:18:37.658Z"
   },
   {
    "duration": 99519,
    "start_time": "2023-06-28T11:20:55.954Z"
   },
   {
    "duration": 95414,
    "start_time": "2023-06-28T11:24:30.074Z"
   },
   {
    "duration": 307505,
    "start_time": "2023-06-28T11:31:01.508Z"
   },
   {
    "duration": 3831,
    "start_time": "2023-06-28T11:53:01.755Z"
   },
   {
    "duration": 95690,
    "start_time": "2023-06-28T11:56:32.624Z"
   },
   {
    "duration": 7,
    "start_time": "2023-06-28T12:28:51.209Z"
   },
   {
    "duration": 7,
    "start_time": "2023-06-28T12:29:30.809Z"
   },
   {
    "duration": 8,
    "start_time": "2023-06-28T12:30:06.973Z"
   },
   {
    "duration": 8,
    "start_time": "2023-06-28T12:30:37.215Z"
   },
   {
    "duration": 8473,
    "start_time": "2023-06-28T13:07:12.992Z"
   },
   {
    "duration": 46,
    "start_time": "2023-06-29T05:29:11.326Z"
   },
   {
    "duration": 5866,
    "start_time": "2023-06-29T05:29:17.764Z"
   },
   {
    "duration": 1228,
    "start_time": "2023-06-29T05:29:23.632Z"
   },
   {
    "duration": 16,
    "start_time": "2023-06-29T05:29:24.862Z"
   },
   {
    "duration": 503,
    "start_time": "2023-06-29T05:29:24.880Z"
   },
   {
    "duration": 564,
    "start_time": "2023-06-29T05:29:25.386Z"
   },
   {
    "duration": 41,
    "start_time": "2023-06-29T05:29:25.952Z"
   },
   {
    "duration": 69,
    "start_time": "2023-06-29T05:29:25.995Z"
   },
   {
    "duration": 49,
    "start_time": "2023-06-29T05:29:26.066Z"
   },
   {
    "duration": 44,
    "start_time": "2023-06-29T05:29:26.116Z"
   },
   {
    "duration": 37,
    "start_time": "2023-06-29T05:29:26.162Z"
   },
   {
    "duration": 41,
    "start_time": "2023-06-29T05:29:26.201Z"
   },
   {
    "duration": 59,
    "start_time": "2023-06-29T05:29:26.244Z"
   },
   {
    "duration": 43,
    "start_time": "2023-06-29T05:29:26.305Z"
   },
   {
    "duration": 35,
    "start_time": "2023-06-29T05:29:26.351Z"
   },
   {
    "duration": 24,
    "start_time": "2023-06-29T05:29:26.388Z"
   },
   {
    "duration": 134,
    "start_time": "2023-06-29T05:29:26.414Z"
   },
   {
    "duration": 474,
    "start_time": "2023-06-29T05:29:26.550Z"
   },
   {
    "duration": 57,
    "start_time": "2023-06-29T05:29:27.025Z"
   },
   {
    "duration": 5,
    "start_time": "2023-06-29T05:29:27.083Z"
   },
   {
    "duration": 36,
    "start_time": "2023-06-29T05:29:27.090Z"
   },
   {
    "duration": 1941,
    "start_time": "2023-06-29T05:29:27.128Z"
   },
   {
    "duration": 61,
    "start_time": "2023-06-29T05:29:29.074Z"
   },
   {
    "duration": 324,
    "start_time": "2023-06-29T05:29:29.136Z"
   },
   {
    "duration": 65,
    "start_time": "2023-06-29T05:29:29.462Z"
   },
   {
    "duration": 369,
    "start_time": "2023-06-29T05:29:29.529Z"
   },
   {
    "duration": 37,
    "start_time": "2023-06-29T05:29:29.900Z"
   },
   {
    "duration": 114,
    "start_time": "2023-06-29T05:29:29.939Z"
   },
   {
    "duration": 25,
    "start_time": "2023-06-29T05:29:30.055Z"
   },
   {
    "duration": 72,
    "start_time": "2023-06-29T05:29:30.082Z"
   },
   {
    "duration": 656,
    "start_time": "2023-06-29T05:29:30.156Z"
   },
   {
    "duration": 212,
    "start_time": "2023-06-29T05:29:30.814Z"
   },
   {
    "duration": 21353,
    "start_time": "2023-06-29T05:29:31.028Z"
   },
   {
    "duration": 198,
    "start_time": "2023-06-29T05:29:52.383Z"
   },
   {
    "duration": 94,
    "start_time": "2023-06-29T05:29:52.584Z"
   },
   {
    "duration": 19,
    "start_time": "2023-06-29T05:29:52.680Z"
   },
   {
    "duration": 58,
    "start_time": "2023-06-29T05:29:52.701Z"
   },
   {
    "duration": 444,
    "start_time": "2023-06-29T05:29:52.761Z"
   },
   {
    "duration": 3,
    "start_time": "2023-06-29T05:29:53.208Z"
   },
   {
    "duration": 100189,
    "start_time": "2023-06-29T05:29:53.213Z"
   },
   {
    "duration": 279,
    "start_time": "2023-06-29T05:31:33.404Z"
   },
   {
    "duration": 13,
    "start_time": "2023-06-29T05:31:33.687Z"
   },
   {
    "duration": 54,
    "start_time": "2023-06-29T05:31:33.702Z"
   },
   {
    "duration": 4,
    "start_time": "2023-06-29T05:31:33.774Z"
   },
   {
    "duration": 5,
    "start_time": "2023-06-29T05:31:33.780Z"
   },
   {
    "duration": 103759,
    "start_time": "2023-06-29T05:31:33.786Z"
   },
   {
    "duration": 3,
    "start_time": "2023-06-29T05:33:17.546Z"
   },
   {
    "duration": 3940,
    "start_time": "2023-06-29T05:33:17.551Z"
   },
   {
    "duration": 156,
    "start_time": "2023-06-29T05:33:21.493Z"
   },
   {
    "duration": 35,
    "start_time": "2023-06-29T05:33:21.651Z"
   },
   {
    "duration": 4,
    "start_time": "2023-06-29T05:33:21.687Z"
   },
   {
    "duration": 333893,
    "start_time": "2023-06-29T05:33:21.692Z"
   },
   {
    "duration": 4,
    "start_time": "2023-06-29T05:38:55.586Z"
   },
   {
    "duration": 8,
    "start_time": "2023-06-29T05:38:55.592Z"
   },
   {
    "duration": 835,
    "start_time": "2023-06-29T14:08:09.479Z"
   },
   {
    "duration": 117,
    "start_time": "2023-06-29T17:15:03.176Z"
   },
   {
    "duration": 9864,
    "start_time": "2023-06-29T17:15:11.503Z"
   },
   {
    "duration": 6133,
    "start_time": "2023-06-29T17:15:21.370Z"
   },
   {
    "duration": 21,
    "start_time": "2023-06-29T17:15:27.505Z"
   },
   {
    "duration": 828,
    "start_time": "2023-06-29T17:15:27.529Z"
   },
   {
    "duration": 902,
    "start_time": "2023-06-29T17:15:28.361Z"
   },
   {
    "duration": 79,
    "start_time": "2023-06-29T17:15:29.266Z"
   },
   {
    "duration": 54,
    "start_time": "2023-06-29T17:15:29.347Z"
   },
   {
    "duration": 89,
    "start_time": "2023-06-29T17:15:29.408Z"
   },
   {
    "duration": 37,
    "start_time": "2023-06-29T17:15:29.502Z"
   },
   {
    "duration": 87,
    "start_time": "2023-06-29T17:15:29.542Z"
   },
   {
    "duration": 32,
    "start_time": "2023-06-29T17:15:29.634Z"
   },
   {
    "duration": 75,
    "start_time": "2023-06-29T17:15:29.674Z"
   },
   {
    "duration": 63,
    "start_time": "2023-06-29T17:15:29.752Z"
   },
   {
    "duration": 78,
    "start_time": "2023-06-29T17:15:29.825Z"
   },
   {
    "duration": 32,
    "start_time": "2023-06-29T17:15:29.914Z"
   },
   {
    "duration": 275,
    "start_time": "2023-06-29T17:15:29.949Z"
   },
   {
    "duration": 910,
    "start_time": "2023-06-29T17:15:30.228Z"
   },
   {
    "duration": 81,
    "start_time": "2023-06-29T17:15:31.140Z"
   },
   {
    "duration": 9,
    "start_time": "2023-06-29T17:15:31.223Z"
   },
   {
    "duration": 86,
    "start_time": "2023-06-29T17:15:31.233Z"
   },
   {
    "duration": 2898,
    "start_time": "2023-06-29T17:15:31.323Z"
   },
   {
    "duration": 90,
    "start_time": "2023-06-29T17:15:34.225Z"
   },
   {
    "duration": 610,
    "start_time": "2023-06-29T17:15:34.325Z"
   },
   {
    "duration": 81,
    "start_time": "2023-06-29T17:15:34.940Z"
   },
   {
    "duration": 742,
    "start_time": "2023-06-29T17:15:35.027Z"
   },
   {
    "duration": 74,
    "start_time": "2023-06-29T17:15:35.779Z"
   },
   {
    "duration": 179,
    "start_time": "2023-06-29T17:15:35.865Z"
   },
   {
    "duration": 22,
    "start_time": "2023-06-29T17:15:36.046Z"
   },
   {
    "duration": 101,
    "start_time": "2023-06-29T17:15:36.073Z"
   },
   {
    "duration": 942,
    "start_time": "2023-06-29T17:15:36.176Z"
   },
   {
    "duration": 314,
    "start_time": "2023-06-29T17:15:37.124Z"
   },
   {
    "duration": 66473,
    "start_time": "2023-06-29T17:15:37.440Z"
   },
   {
    "duration": 303,
    "start_time": "2023-06-29T17:16:43.970Z"
   },
   {
    "duration": 12,
    "start_time": "2023-06-29T17:16:44.300Z"
   },
   {
    "duration": 21,
    "start_time": "2023-06-29T17:16:44.317Z"
   },
   {
    "duration": 110,
    "start_time": "2023-06-29T17:16:44.339Z"
   },
   {
    "duration": 959,
    "start_time": "2023-06-29T17:16:44.451Z"
   },
   {
    "duration": 9,
    "start_time": "2023-06-29T17:16:45.412Z"
   },
   {
    "duration": 164777,
    "start_time": "2023-06-29T17:16:45.423Z"
   },
   {
    "duration": 421,
    "start_time": "2023-06-29T17:19:30.205Z"
   },
   {
    "duration": 25,
    "start_time": "2023-06-29T17:19:30.631Z"
   },
   {
    "duration": 120,
    "start_time": "2023-06-29T17:19:30.665Z"
   },
   {
    "duration": 9,
    "start_time": "2023-06-29T17:19:30.792Z"
   },
   {
    "duration": 34,
    "start_time": "2023-06-29T17:19:30.805Z"
   },
   {
    "duration": 138684,
    "start_time": "2023-06-29T17:19:30.842Z"
   },
   {
    "duration": 14,
    "start_time": "2023-06-29T17:21:49.528Z"
   },
   {
    "duration": 6266,
    "start_time": "2023-06-29T17:21:49.547Z"
   },
   {
    "duration": 250,
    "start_time": "2023-06-29T17:21:55.815Z"
   },
   {
    "duration": 72,
    "start_time": "2023-06-29T17:21:56.068Z"
   },
   {
    "duration": 6,
    "start_time": "2023-06-29T17:21:56.142Z"
   },
   {
    "duration": 309181,
    "start_time": "2023-06-29T17:21:56.150Z"
   },
   {
    "duration": 6,
    "start_time": "2023-06-29T17:27:05.334Z"
   },
   {
    "duration": 71,
    "start_time": "2023-06-29T17:27:05.344Z"
   },
   {
    "duration": 170,
    "start_time": "2023-06-29T17:43:26.642Z"
   },
   {
    "duration": 122,
    "start_time": "2023-06-29T17:43:45.347Z"
   },
   {
    "duration": 288,
    "start_time": "2023-06-29T17:45:34.698Z"
   },
   {
    "duration": 91,
    "start_time": "2023-06-29T17:45:45.076Z"
   },
   {
    "duration": 132,
    "start_time": "2023-06-29T17:47:02.581Z"
   },
   {
    "duration": 81,
    "start_time": "2023-06-29T17:47:13.244Z"
   },
   {
    "duration": 180,
    "start_time": "2023-06-29T17:56:29.620Z"
   },
   {
    "duration": 202,
    "start_time": "2023-06-29T17:56:56.083Z"
   },
   {
    "duration": 162,
    "start_time": "2023-06-29T17:57:15.383Z"
   },
   {
    "duration": 6275,
    "start_time": "2023-06-29T18:04:32.890Z"
   },
   {
    "duration": 1745,
    "start_time": "2023-06-29T18:04:39.168Z"
   },
   {
    "duration": 21,
    "start_time": "2023-06-29T18:04:40.915Z"
   },
   {
    "duration": 813,
    "start_time": "2023-06-29T18:04:40.938Z"
   },
   {
    "duration": 908,
    "start_time": "2023-06-29T18:04:41.762Z"
   },
   {
    "duration": 73,
    "start_time": "2023-06-29T18:04:42.672Z"
   },
   {
    "duration": 49,
    "start_time": "2023-06-29T18:04:42.748Z"
   },
   {
    "duration": 62,
    "start_time": "2023-06-29T18:04:42.799Z"
   },
   {
    "duration": 52,
    "start_time": "2023-06-29T18:04:42.864Z"
   },
   {
    "duration": 92,
    "start_time": "2023-06-29T18:04:42.918Z"
   },
   {
    "duration": 31,
    "start_time": "2023-06-29T18:04:43.019Z"
   },
   {
    "duration": 87,
    "start_time": "2023-06-29T18:04:43.052Z"
   },
   {
    "duration": 43,
    "start_time": "2023-06-29T18:04:43.141Z"
   },
   {
    "duration": 80,
    "start_time": "2023-06-29T18:04:43.194Z"
   },
   {
    "duration": 48,
    "start_time": "2023-06-29T18:04:43.279Z"
   },
   {
    "duration": 292,
    "start_time": "2023-06-29T18:04:43.329Z"
   },
   {
    "duration": 923,
    "start_time": "2023-06-29T18:04:43.633Z"
   },
   {
    "duration": 96,
    "start_time": "2023-06-29T18:04:44.562Z"
   },
   {
    "duration": 8,
    "start_time": "2023-06-29T18:04:44.663Z"
   },
   {
    "duration": 65,
    "start_time": "2023-06-29T18:04:44.674Z"
   },
   {
    "duration": 3050,
    "start_time": "2023-06-29T18:04:44.741Z"
   },
   {
    "duration": 130,
    "start_time": "2023-06-29T18:04:47.795Z"
   },
   {
    "duration": 720,
    "start_time": "2023-06-29T18:04:47.928Z"
   },
   {
    "duration": 97,
    "start_time": "2023-06-29T18:04:48.651Z"
   },
   {
    "duration": 778,
    "start_time": "2023-06-29T18:04:48.752Z"
   },
   {
    "duration": 76,
    "start_time": "2023-06-29T18:04:49.536Z"
   },
   {
    "duration": 213,
    "start_time": "2023-06-29T18:04:49.618Z"
   },
   {
    "duration": 22,
    "start_time": "2023-06-29T18:04:49.833Z"
   },
   {
    "duration": 93,
    "start_time": "2023-06-29T18:04:49.857Z"
   },
   {
    "duration": 939,
    "start_time": "2023-06-29T18:04:49.952Z"
   },
   {
    "duration": 331,
    "start_time": "2023-06-29T18:04:50.893Z"
   },
   {
    "duration": 51035,
    "start_time": "2023-06-29T18:04:51.228Z"
   },
   {
    "duration": 194,
    "start_time": "2023-06-29T18:05:42.283Z"
   },
   {
    "duration": 56,
    "start_time": "2023-06-29T18:05:42.536Z"
   },
   {
    "duration": 34,
    "start_time": "2023-06-29T18:05:42.610Z"
   },
   {
    "duration": 108,
    "start_time": "2023-06-29T18:05:42.647Z"
   },
   {
    "duration": 917,
    "start_time": "2023-06-29T18:05:42.757Z"
   },
   {
    "duration": 5,
    "start_time": "2023-06-29T18:05:43.688Z"
   },
   {
    "duration": 168626,
    "start_time": "2023-06-29T18:05:43.695Z"
   },
   {
    "duration": 394,
    "start_time": "2023-06-29T18:08:32.324Z"
   },
   {
    "duration": 14,
    "start_time": "2023-06-29T18:08:32.725Z"
   },
   {
    "duration": 103,
    "start_time": "2023-06-29T18:08:32.741Z"
   },
   {
    "duration": 3,
    "start_time": "2023-06-29T18:08:32.846Z"
   },
   {
    "duration": 15,
    "start_time": "2023-06-29T18:08:32.851Z"
   },
   {
    "duration": 138323,
    "start_time": "2023-06-29T18:08:32.869Z"
   },
   {
    "duration": 4,
    "start_time": "2023-06-29T18:10:51.194Z"
   },
   {
    "duration": 4128,
    "start_time": "2023-06-29T18:10:51.199Z"
   },
   {
    "duration": 236,
    "start_time": "2023-06-29T18:10:55.329Z"
   },
   {
    "duration": 45,
    "start_time": "2023-06-29T18:10:55.575Z"
   },
   {
    "duration": 6,
    "start_time": "2023-06-29T18:10:55.622Z"
   },
   {
    "duration": 322634,
    "start_time": "2023-06-29T18:10:55.630Z"
   },
   {
    "duration": 8,
    "start_time": "2023-06-29T18:16:18.267Z"
   },
   {
    "duration": 20,
    "start_time": "2023-06-29T18:16:18.278Z"
   },
   {
    "duration": 123,
    "start_time": "2023-06-29T18:16:18.302Z"
   },
   {
    "duration": 5046,
    "start_time": "2023-06-29T18:31:02.940Z"
   },
   {
    "duration": 1263,
    "start_time": "2023-06-29T18:31:07.989Z"
   },
   {
    "duration": 24,
    "start_time": "2023-06-29T18:31:09.254Z"
   },
   {
    "duration": 623,
    "start_time": "2023-06-29T18:31:09.280Z"
   },
   {
    "duration": 724,
    "start_time": "2023-06-29T18:31:09.905Z"
   },
   {
    "duration": 69,
    "start_time": "2023-06-29T18:31:10.631Z"
   },
   {
    "duration": 40,
    "start_time": "2023-06-29T18:31:10.703Z"
   },
   {
    "duration": 55,
    "start_time": "2023-06-29T18:31:10.745Z"
   },
   {
    "duration": 29,
    "start_time": "2023-06-29T18:31:10.801Z"
   },
   {
    "duration": 78,
    "start_time": "2023-06-29T18:31:10.833Z"
   },
   {
    "duration": 21,
    "start_time": "2023-06-29T18:31:10.913Z"
   },
   {
    "duration": 59,
    "start_time": "2023-06-29T18:31:10.954Z"
   },
   {
    "duration": 25,
    "start_time": "2023-06-29T18:31:11.014Z"
   },
   {
    "duration": 74,
    "start_time": "2023-06-29T18:31:11.041Z"
   },
   {
    "duration": 39,
    "start_time": "2023-06-29T18:31:11.118Z"
   },
   {
    "duration": 196,
    "start_time": "2023-06-29T18:31:11.158Z"
   },
   {
    "duration": 668,
    "start_time": "2023-06-29T18:31:11.356Z"
   },
   {
    "duration": 82,
    "start_time": "2023-06-29T18:31:12.026Z"
   },
   {
    "duration": 6,
    "start_time": "2023-06-29T18:31:12.111Z"
   },
   {
    "duration": 51,
    "start_time": "2023-06-29T18:31:12.118Z"
   },
   {
    "duration": 2434,
    "start_time": "2023-06-29T18:31:12.177Z"
   },
   {
    "duration": 118,
    "start_time": "2023-06-29T18:31:14.613Z"
   },
   {
    "duration": 478,
    "start_time": "2023-06-29T18:31:14.733Z"
   },
   {
    "duration": 117,
    "start_time": "2023-06-29T18:31:15.214Z"
   },
   {
    "duration": 562,
    "start_time": "2023-06-29T18:31:15.333Z"
   },
   {
    "duration": 41,
    "start_time": "2023-06-29T18:31:15.898Z"
   },
   {
    "duration": 158,
    "start_time": "2023-06-29T18:31:15.955Z"
   },
   {
    "duration": 15,
    "start_time": "2023-06-29T18:31:16.117Z"
   },
   {
    "duration": 95,
    "start_time": "2023-06-29T18:31:16.133Z"
   },
   {
    "duration": 872,
    "start_time": "2023-06-29T18:31:16.230Z"
   },
   {
    "duration": 275,
    "start_time": "2023-06-29T18:31:17.104Z"
   },
   {
    "duration": 50316,
    "start_time": "2023-06-29T18:31:17.381Z"
   },
   {
    "duration": 204,
    "start_time": "2023-06-29T18:32:07.700Z"
   },
   {
    "duration": 15,
    "start_time": "2023-06-29T18:32:07.955Z"
   },
   {
    "duration": 84,
    "start_time": "2023-06-29T18:32:07.973Z"
   },
   {
    "duration": 72,
    "start_time": "2023-06-29T18:32:08.064Z"
   },
   {
    "duration": 588,
    "start_time": "2023-06-29T18:32:08.138Z"
   },
   {
    "duration": 5,
    "start_time": "2023-06-29T18:32:08.728Z"
   },
   {
    "duration": 136921,
    "start_time": "2023-06-29T18:32:08.736Z"
   },
   {
    "duration": 347,
    "start_time": "2023-06-29T18:34:25.659Z"
   },
   {
    "duration": 14,
    "start_time": "2023-06-29T18:34:26.008Z"
   },
   {
    "duration": 90,
    "start_time": "2023-06-29T18:34:26.024Z"
   },
   {
    "duration": 3,
    "start_time": "2023-06-29T18:34:26.116Z"
   },
   {
    "duration": 5,
    "start_time": "2023-06-29T18:34:26.120Z"
   },
   {
    "duration": 141598,
    "start_time": "2023-06-29T18:34:26.126Z"
   },
   {
    "duration": 33,
    "start_time": "2023-06-29T18:36:47.726Z"
   },
   {
    "duration": 4623,
    "start_time": "2023-06-29T18:36:47.762Z"
   },
   {
    "duration": 245,
    "start_time": "2023-06-29T18:36:52.391Z"
   },
   {
    "duration": 73,
    "start_time": "2023-06-29T18:36:52.638Z"
   },
   {
    "duration": 7,
    "start_time": "2023-06-29T18:36:52.714Z"
   },
   {
    "duration": 482049,
    "start_time": "2023-06-29T18:36:52.723Z"
   },
   {
    "duration": 23,
    "start_time": "2023-06-29T18:44:54.775Z"
   },
   {
    "duration": 18,
    "start_time": "2023-06-29T18:44:54.801Z"
   },
   {
    "duration": 121,
    "start_time": "2023-06-29T18:44:54.821Z"
   },
   {
    "duration": 293,
    "start_time": "2023-06-29T18:44:54.944Z"
   },
   {
    "duration": 35,
    "start_time": "2023-06-29T18:46:16.916Z"
   },
   {
    "duration": 7152,
    "start_time": "2023-06-29T18:47:00.569Z"
   },
   {
    "duration": 1898,
    "start_time": "2023-06-29T18:47:07.731Z"
   },
   {
    "duration": 37,
    "start_time": "2023-06-29T18:47:09.636Z"
   },
   {
    "duration": 873,
    "start_time": "2023-06-29T18:47:09.686Z"
   },
   {
    "duration": 1045,
    "start_time": "2023-06-29T18:47:10.568Z"
   },
   {
    "duration": 84,
    "start_time": "2023-06-29T18:47:11.621Z"
   },
   {
    "duration": 53,
    "start_time": "2023-06-29T18:47:11.712Z"
   },
   {
    "duration": 84,
    "start_time": "2023-06-29T18:47:11.773Z"
   },
   {
    "duration": 59,
    "start_time": "2023-06-29T18:47:11.866Z"
   },
   {
    "duration": 100,
    "start_time": "2023-06-29T18:47:11.927Z"
   },
   {
    "duration": 65,
    "start_time": "2023-06-29T18:47:12.029Z"
   },
   {
    "duration": 98,
    "start_time": "2023-06-29T18:47:12.100Z"
   },
   {
    "duration": 41,
    "start_time": "2023-06-29T18:47:12.211Z"
   },
   {
    "duration": 96,
    "start_time": "2023-06-29T18:47:12.262Z"
   },
   {
    "duration": 88,
    "start_time": "2023-06-29T18:47:12.363Z"
   },
   {
    "duration": 315,
    "start_time": "2023-06-29T18:47:12.454Z"
   },
   {
    "duration": 1033,
    "start_time": "2023-06-29T18:47:12.776Z"
   },
   {
    "duration": 116,
    "start_time": "2023-06-29T18:47:13.813Z"
   },
   {
    "duration": 22,
    "start_time": "2023-06-29T18:47:13.946Z"
   },
   {
    "duration": 66,
    "start_time": "2023-06-29T18:47:13.975Z"
   },
   {
    "duration": 3332,
    "start_time": "2023-06-29T18:47:14.049Z"
   },
   {
    "duration": 147,
    "start_time": "2023-06-29T18:47:17.384Z"
   },
   {
    "duration": 701,
    "start_time": "2023-06-29T18:47:17.539Z"
   },
   {
    "duration": 128,
    "start_time": "2023-06-29T18:47:18.249Z"
   },
   {
    "duration": 802,
    "start_time": "2023-06-29T18:47:18.386Z"
   },
   {
    "duration": 77,
    "start_time": "2023-06-29T18:47:19.195Z"
   },
   {
    "duration": 195,
    "start_time": "2023-06-29T18:47:19.280Z"
   },
   {
    "duration": 30,
    "start_time": "2023-06-29T18:47:19.483Z"
   },
   {
    "duration": 196,
    "start_time": "2023-06-29T18:47:19.523Z"
   },
   {
    "duration": 1343,
    "start_time": "2023-06-29T18:47:19.721Z"
   },
   {
    "duration": 385,
    "start_time": "2023-06-29T18:47:21.073Z"
   },
   {
    "duration": 53878,
    "start_time": "2023-06-29T18:47:21.466Z"
   },
   {
    "duration": 227,
    "start_time": "2023-06-29T18:48:15.356Z"
   },
   {
    "duration": 14,
    "start_time": "2023-06-29T18:48:15.590Z"
   },
   {
    "duration": 53,
    "start_time": "2023-06-29T18:48:15.615Z"
   },
   {
    "duration": 129,
    "start_time": "2023-06-29T18:48:15.675Z"
   },
   {
    "duration": 1176,
    "start_time": "2023-06-29T18:48:15.814Z"
   },
   {
    "duration": 6,
    "start_time": "2023-06-29T18:48:16.992Z"
   },
   {
    "duration": 196327,
    "start_time": "2023-06-29T18:48:17.001Z"
   },
   {
    "duration": 371,
    "start_time": "2023-06-29T18:51:33.330Z"
   },
   {
    "duration": 18,
    "start_time": "2023-06-29T18:51:33.707Z"
   },
   {
    "duration": 151,
    "start_time": "2023-06-29T18:51:33.727Z"
   },
   {
    "duration": 4,
    "start_time": "2023-06-29T18:51:33.885Z"
   },
   {
    "duration": 7,
    "start_time": "2023-06-29T18:51:33.892Z"
   },
   {
    "duration": 132739,
    "start_time": "2023-06-29T18:51:33.901Z"
   },
   {
    "duration": 17,
    "start_time": "2023-06-29T18:53:46.643Z"
   },
   {
    "duration": 5557,
    "start_time": "2023-06-29T18:53:46.663Z"
   },
   {
    "duration": 227,
    "start_time": "2023-06-29T18:53:52.222Z"
   },
   {
    "duration": 66,
    "start_time": "2023-06-29T18:53:52.457Z"
   },
   {
    "duration": 7,
    "start_time": "2023-06-29T18:53:52.526Z"
   },
   {
    "duration": 325797,
    "start_time": "2023-06-29T18:53:52.536Z"
   },
   {
    "duration": 25,
    "start_time": "2023-06-29T18:59:18.335Z"
   },
   {
    "duration": 42,
    "start_time": "2023-06-29T18:59:18.362Z"
   },
   {
    "duration": 122,
    "start_time": "2023-06-29T18:59:18.408Z"
   },
   {
    "duration": 6319,
    "start_time": "2023-06-29T19:12:12.734Z"
   },
   {
    "duration": 1362,
    "start_time": "2023-06-29T19:12:19.059Z"
   },
   {
    "duration": 21,
    "start_time": "2023-06-29T19:12:20.424Z"
   },
   {
    "duration": 725,
    "start_time": "2023-06-29T19:12:20.448Z"
   },
   {
    "duration": 806,
    "start_time": "2023-06-29T19:12:21.175Z"
   },
   {
    "duration": 43,
    "start_time": "2023-06-29T19:12:21.992Z"
   },
   {
    "duration": 46,
    "start_time": "2023-06-29T19:12:22.037Z"
   },
   {
    "duration": 53,
    "start_time": "2023-06-29T19:12:22.086Z"
   },
   {
    "duration": 48,
    "start_time": "2023-06-29T19:12:22.141Z"
   },
   {
    "duration": 85,
    "start_time": "2023-06-29T19:12:22.192Z"
   },
   {
    "duration": 131,
    "start_time": "2023-06-29T19:12:22.290Z"
   },
   {
    "duration": 82,
    "start_time": "2023-06-29T19:12:22.428Z"
   },
   {
    "duration": 51,
    "start_time": "2023-06-29T19:12:22.512Z"
   },
   {
    "duration": 66,
    "start_time": "2023-06-29T19:12:22.566Z"
   },
   {
    "duration": 26,
    "start_time": "2023-06-29T19:12:22.635Z"
   },
   {
    "duration": 201,
    "start_time": "2023-06-29T19:12:22.663Z"
   },
   {
    "duration": 835,
    "start_time": "2023-06-29T19:12:22.870Z"
   },
   {
    "duration": 73,
    "start_time": "2023-06-29T19:12:23.708Z"
   },
   {
    "duration": 13,
    "start_time": "2023-06-29T19:12:23.783Z"
   },
   {
    "duration": 34,
    "start_time": "2023-06-29T19:12:23.798Z"
   },
   {
    "duration": 3039,
    "start_time": "2023-06-29T19:12:23.835Z"
   },
   {
    "duration": 143,
    "start_time": "2023-06-29T19:12:26.876Z"
   },
   {
    "duration": 655,
    "start_time": "2023-06-29T19:12:27.022Z"
   },
   {
    "duration": 76,
    "start_time": "2023-06-29T19:12:27.680Z"
   },
   {
    "duration": 672,
    "start_time": "2023-06-29T19:12:27.758Z"
   },
   {
    "duration": 66,
    "start_time": "2023-06-29T19:12:28.433Z"
   },
   {
    "duration": 191,
    "start_time": "2023-06-29T19:12:28.505Z"
   },
   {
    "duration": 19,
    "start_time": "2023-06-29T19:12:28.704Z"
   },
   {
    "duration": 108,
    "start_time": "2023-06-29T19:12:28.726Z"
   },
   {
    "duration": 876,
    "start_time": "2023-06-29T19:12:28.836Z"
   },
   {
    "duration": 296,
    "start_time": "2023-06-29T19:12:29.714Z"
   },
   {
    "duration": 82465,
    "start_time": "2023-06-29T19:12:30.012Z"
   },
   {
    "duration": 175,
    "start_time": "2023-06-29T19:13:52.484Z"
   },
   {
    "duration": 12,
    "start_time": "2023-06-29T19:13:52.666Z"
   },
   {
    "duration": 94,
    "start_time": "2023-06-29T19:13:52.688Z"
   },
   {
    "duration": 117,
    "start_time": "2023-06-29T19:13:52.788Z"
   },
   {
    "duration": 627,
    "start_time": "2023-06-29T19:13:52.907Z"
   },
   {
    "duration": 4,
    "start_time": "2023-06-29T19:13:53.536Z"
   },
   {
    "duration": 148064,
    "start_time": "2023-06-29T19:13:53.542Z"
   },
   {
    "duration": 369,
    "start_time": "2023-06-29T19:16:21.608Z"
   },
   {
    "duration": 22,
    "start_time": "2023-06-29T19:16:21.980Z"
   },
   {
    "duration": 93,
    "start_time": "2023-06-29T19:16:22.007Z"
   },
   {
    "duration": 3,
    "start_time": "2023-06-29T19:16:22.102Z"
   },
   {
    "duration": 5,
    "start_time": "2023-06-29T19:16:22.107Z"
   },
   {
    "duration": 135304,
    "start_time": "2023-06-29T19:16:22.117Z"
   },
   {
    "duration": 5,
    "start_time": "2023-06-29T19:18:37.423Z"
   },
   {
    "duration": 4568,
    "start_time": "2023-06-29T19:18:37.457Z"
   },
   {
    "duration": 216,
    "start_time": "2023-06-29T19:18:42.028Z"
   },
   {
    "duration": 3,
    "start_time": "2023-06-29T19:18:42.246Z"
   },
   {
    "duration": 106,
    "start_time": "2023-06-29T19:18:42.257Z"
   },
   {
    "duration": 17,
    "start_time": "2023-06-29T19:18:42.370Z"
   },
   {
    "duration": 158084,
    "start_time": "2023-06-29T19:18:42.390Z"
   },
   {
    "duration": 0,
    "start_time": "2023-06-29T19:21:20.483Z"
   },
   {
    "duration": 0,
    "start_time": "2023-06-29T19:21:20.484Z"
   },
   {
    "duration": 0,
    "start_time": "2023-06-29T19:21:20.485Z"
   },
   {
    "duration": 0,
    "start_time": "2023-06-29T19:21:20.488Z"
   },
   {
    "duration": 13,
    "start_time": "2023-06-29T19:22:33.681Z"
   },
   {
    "duration": 357957,
    "start_time": "2023-06-29T19:22:37.337Z"
   },
   {
    "duration": 5,
    "start_time": "2023-06-29T19:29:59.589Z"
   },
   {
    "duration": 9,
    "start_time": "2023-06-29T19:30:03.480Z"
   },
   {
    "duration": 13,
    "start_time": "2023-06-29T19:30:34.947Z"
   },
   {
    "duration": 5,
    "start_time": "2023-06-29T19:33:25.460Z"
   },
   {
    "duration": 226,
    "start_time": "2023-06-29T19:38:27.550Z"
   },
   {
    "duration": 4906,
    "start_time": "2023-06-29T19:48:37.034Z"
   },
   {
    "duration": 1200,
    "start_time": "2023-06-29T19:48:41.943Z"
   },
   {
    "duration": 32,
    "start_time": "2023-06-29T19:48:43.145Z"
   },
   {
    "duration": 552,
    "start_time": "2023-06-29T19:48:43.180Z"
   },
   {
    "duration": 627,
    "start_time": "2023-06-29T19:48:43.734Z"
   },
   {
    "duration": 48,
    "start_time": "2023-06-29T19:48:44.370Z"
   },
   {
    "duration": 33,
    "start_time": "2023-06-29T19:48:44.420Z"
   },
   {
    "duration": 50,
    "start_time": "2023-06-29T19:48:44.457Z"
   },
   {
    "duration": 25,
    "start_time": "2023-06-29T19:48:44.509Z"
   },
   {
    "duration": 69,
    "start_time": "2023-06-29T19:48:44.537Z"
   },
   {
    "duration": 55,
    "start_time": "2023-06-29T19:48:44.610Z"
   },
   {
    "duration": 45,
    "start_time": "2023-06-29T19:48:44.667Z"
   },
   {
    "duration": 26,
    "start_time": "2023-06-29T19:48:44.714Z"
   },
   {
    "duration": 59,
    "start_time": "2023-06-29T19:48:44.742Z"
   },
   {
    "duration": 26,
    "start_time": "2023-06-29T19:48:44.802Z"
   },
   {
    "duration": 187,
    "start_time": "2023-06-29T19:48:44.829Z"
   },
   {
    "duration": 633,
    "start_time": "2023-06-29T19:48:45.018Z"
   },
   {
    "duration": 60,
    "start_time": "2023-06-29T19:48:45.653Z"
   },
   {
    "duration": 5,
    "start_time": "2023-06-29T19:48:45.715Z"
   },
   {
    "duration": 73,
    "start_time": "2023-06-29T19:48:45.722Z"
   },
   {
    "duration": 2275,
    "start_time": "2023-06-29T19:48:45.797Z"
   },
   {
    "duration": 88,
    "start_time": "2023-06-29T19:48:48.077Z"
   },
   {
    "duration": 557,
    "start_time": "2023-06-29T19:48:48.174Z"
   },
   {
    "duration": 79,
    "start_time": "2023-06-29T19:48:48.732Z"
   },
   {
    "duration": 535,
    "start_time": "2023-06-29T19:48:48.813Z"
   },
   {
    "duration": 49,
    "start_time": "2023-06-29T19:48:49.354Z"
   },
   {
    "duration": 127,
    "start_time": "2023-06-29T19:48:49.405Z"
   },
   {
    "duration": 29,
    "start_time": "2023-06-29T19:48:49.536Z"
   },
   {
    "duration": 73,
    "start_time": "2023-06-29T19:48:49.573Z"
   },
   {
    "duration": 765,
    "start_time": "2023-06-29T19:48:49.648Z"
   },
   {
    "duration": 253,
    "start_time": "2023-06-29T19:48:50.415Z"
   },
   {
    "duration": 83894,
    "start_time": "2023-06-29T19:48:50.670Z"
   },
   {
    "duration": 192,
    "start_time": "2023-06-29T19:50:14.567Z"
   },
   {
    "duration": 9,
    "start_time": "2023-06-29T19:50:14.764Z"
   },
   {
    "duration": 105,
    "start_time": "2023-06-29T19:50:14.780Z"
   },
   {
    "duration": 83,
    "start_time": "2023-06-29T19:50:14.887Z"
   },
   {
    "duration": 597,
    "start_time": "2023-06-29T19:50:14.972Z"
   },
   {
    "duration": 9,
    "start_time": "2023-06-29T19:50:15.572Z"
   },
   {
    "duration": 133026,
    "start_time": "2023-06-29T19:50:15.584Z"
   },
   {
    "duration": 380,
    "start_time": "2023-06-29T19:52:28.612Z"
   },
   {
    "duration": 16,
    "start_time": "2023-06-29T19:52:28.997Z"
   },
   {
    "duration": 105,
    "start_time": "2023-06-29T19:52:29.015Z"
   },
   {
    "duration": 3,
    "start_time": "2023-06-29T19:52:29.123Z"
   },
   {
    "duration": 20,
    "start_time": "2023-06-29T19:52:29.128Z"
   },
   {
    "duration": 131011,
    "start_time": "2023-06-29T19:52:29.151Z"
   },
   {
    "duration": 4,
    "start_time": "2023-06-29T19:54:40.163Z"
   },
   {
    "duration": 4059,
    "start_time": "2023-06-29T19:54:40.169Z"
   },
   {
    "duration": 209,
    "start_time": "2023-06-29T19:54:44.230Z"
   },
   {
    "duration": 2,
    "start_time": "2023-06-29T19:54:44.441Z"
   },
   {
    "duration": 90,
    "start_time": "2023-06-29T19:54:44.445Z"
   },
   {
    "duration": 4,
    "start_time": "2023-06-29T19:54:44.538Z"
   },
   {
    "duration": 304614,
    "start_time": "2023-06-29T19:54:44.544Z"
   },
   {
    "duration": 8,
    "start_time": "2023-06-29T19:59:49.160Z"
   },
   {
    "duration": 17,
    "start_time": "2023-06-29T19:59:49.169Z"
   },
   {
    "duration": 174,
    "start_time": "2023-06-29T19:59:49.189Z"
   },
   {
    "duration": 15,
    "start_time": "2023-06-29T20:03:15.105Z"
   },
   {
    "duration": 19,
    "start_time": "2023-06-29T20:03:54.923Z"
   },
   {
    "duration": 43,
    "start_time": "2023-06-29T20:04:03.991Z"
   },
   {
    "duration": 11,
    "start_time": "2023-06-30T02:17:17.869Z"
   },
   {
    "duration": 11,
    "start_time": "2023-06-30T02:19:11.599Z"
   },
   {
    "duration": 11,
    "start_time": "2023-06-30T02:20:56.364Z"
   },
   {
    "duration": 12,
    "start_time": "2023-06-30T02:28:42.329Z"
   },
   {
    "duration": 7388,
    "start_time": "2023-06-30T02:30:00.283Z"
   },
   {
    "duration": 8125,
    "start_time": "2023-06-30T02:33:19.652Z"
   },
   {
    "duration": 8172,
    "start_time": "2023-06-30T02:36:46.494Z"
   },
   {
    "duration": 8173,
    "start_time": "2023-06-30T02:37:03.001Z"
   },
   {
    "duration": 8758,
    "start_time": "2023-06-30T02:38:50.797Z"
   },
   {
    "duration": 8639,
    "start_time": "2023-06-30T02:48:37.827Z"
   },
   {
    "duration": 8851,
    "start_time": "2023-06-30T02:49:04.130Z"
   },
   {
    "duration": 8740,
    "start_time": "2023-06-30T02:57:34.523Z"
   }
  ],
  "kernelspec": {
   "display_name": "Python 3 (ipykernel)",
   "language": "python",
   "name": "python3"
  },
  "language_info": {
   "codemirror_mode": {
    "name": "ipython",
    "version": 3
   },
   "file_extension": ".py",
   "mimetype": "text/x-python",
   "name": "python",
   "nbconvert_exporter": "python",
   "pygments_lexer": "ipython3",
   "version": "3.9.5"
  },
  "toc": {
   "base_numbering": 1,
   "nav_menu": {},
   "number_sections": true,
   "sideBar": true,
   "skip_h1_title": true,
   "title_cell": "Table of Contents",
   "title_sidebar": "Contents",
   "toc_cell": false,
   "toc_position": {},
   "toc_section_display": true,
   "toc_window_display": false
  }
 },
 "nbformat": 4,
 "nbformat_minor": 2
}
